{
 "cells": [
  {
   "cell_type": "markdown",
   "metadata": {},
   "source": [
    "# Анализ рынка компьютерных игр"
   ]
  },
  {
   "cell_type": "markdown",
   "metadata": {},
   "source": [
    "## Вводная часть"
   ]
  },
  {
   "cell_type": "markdown",
   "metadata": {},
   "source": [
    "**Исходные данные:**"
   ]
  },
  {
   "cell_type": "markdown",
   "metadata": {},
   "source": [
    " Имеется датасет, собранный из открытых источников с историческими данные о продажах игр, оценках пользователей и экспертов, жанрах и платформаъы (например, Xbox или PlayStation). \n",
    "Нужно выявить определяющие успешность игры закономерности. \n",
    "Это позволит сделать ставку на потенциально популярный продукт и спланировать рекламные кампании."
   ]
  },
  {
   "cell_type": "markdown",
   "metadata": {},
   "source": [
    "**Цели проекта:** \n",
    "1. Провести общий анализ динамики рынка цифроых игр.\n",
    "2. Проанализировать общий состав участников рынка, выделив наиболее заметных игроков. \n",
    "3. Изучить особенности распределения доходов от игр\n",
    "4. Проанализировать различные платформы с точки зрения перспектив их доходности\n",
    "5. Проанализировать корреляцияю между доходами от игр с одной стороны и оценками пользователей/критиков с другой.\n",
    "6. Проанализировать региональные особенности в распространённости различных игровых платформ, а также популярности\n",
    "тех или иных жанров.\n",
    "7. Изучить взаимосвязь между рейтингом ESRB и продажами в отдельных регионах\n",
    "8. Проверить гипотезы о различиях в пользовательских рейтингах для платформ Xbox One и PC, а также жанров Action и Sports. "
   ]
  },
  {
   "cell_type": "markdown",
   "metadata": {},
   "source": [
    "## Общая информация о проекте"
   ]
  },
  {
   "cell_type": "code",
   "execution_count": 1,
   "metadata": {},
   "outputs": [],
   "source": [
    "#импортируем стандартные библиотеки\n",
    "import pandas as pd\n",
    "import numpy as np\n",
    "import matplotlib.pyplot as plt\n",
    "import seaborn as sns\n",
    "from scipy import stats as st"
   ]
  },
  {
   "cell_type": "code",
   "execution_count": 2,
   "metadata": {},
   "outputs": [],
   "source": [
    "#загружаем датасет\n",
    "data = pd.read_csv('/datasets/games.csv')"
   ]
  },
  {
   "cell_type": "markdown",
   "metadata": {},
   "source": [
    "Cоставим общее впечатление о датасете:"
   ]
  },
  {
   "cell_type": "code",
   "execution_count": 3,
   "metadata": {},
   "outputs": [
    {
     "name": "stdout",
     "output_type": "stream",
     "text": [
      "<class 'pandas.core.frame.DataFrame'>\n",
      "RangeIndex: 16715 entries, 0 to 16714\n",
      "Data columns (total 11 columns):\n",
      " #   Column           Non-Null Count  Dtype  \n",
      "---  ------           --------------  -----  \n",
      " 0   Name             16713 non-null  object \n",
      " 1   Platform         16715 non-null  object \n",
      " 2   Year_of_Release  16446 non-null  float64\n",
      " 3   Genre            16713 non-null  object \n",
      " 4   NA_sales         16715 non-null  float64\n",
      " 5   EU_sales         16715 non-null  float64\n",
      " 6   JP_sales         16715 non-null  float64\n",
      " 7   Other_sales      16715 non-null  float64\n",
      " 8   Critic_Score     8137 non-null   float64\n",
      " 9   User_Score       10014 non-null  object \n",
      " 10  Rating           9949 non-null   object \n",
      "dtypes: float64(6), object(5)\n",
      "memory usage: 1.4+ MB\n"
     ]
    },
    {
     "data": {
      "text/html": [
       "<div>\n",
       "<style scoped>\n",
       "    .dataframe tbody tr th:only-of-type {\n",
       "        vertical-align: middle;\n",
       "    }\n",
       "\n",
       "    .dataframe tbody tr th {\n",
       "        vertical-align: top;\n",
       "    }\n",
       "\n",
       "    .dataframe thead th {\n",
       "        text-align: right;\n",
       "    }\n",
       "</style>\n",
       "<table border=\"1\" class=\"dataframe\">\n",
       "  <thead>\n",
       "    <tr style=\"text-align: right;\">\n",
       "      <th></th>\n",
       "      <th>Year_of_Release</th>\n",
       "      <th>NA_sales</th>\n",
       "      <th>EU_sales</th>\n",
       "      <th>JP_sales</th>\n",
       "      <th>Other_sales</th>\n",
       "      <th>Critic_Score</th>\n",
       "    </tr>\n",
       "  </thead>\n",
       "  <tbody>\n",
       "    <tr>\n",
       "      <th>count</th>\n",
       "      <td>16446.000000</td>\n",
       "      <td>16715.000000</td>\n",
       "      <td>16715.000000</td>\n",
       "      <td>16715.000000</td>\n",
       "      <td>16715.000000</td>\n",
       "      <td>8137.000000</td>\n",
       "    </tr>\n",
       "    <tr>\n",
       "      <th>mean</th>\n",
       "      <td>2006.484616</td>\n",
       "      <td>0.263377</td>\n",
       "      <td>0.145060</td>\n",
       "      <td>0.077617</td>\n",
       "      <td>0.047342</td>\n",
       "      <td>68.967679</td>\n",
       "    </tr>\n",
       "    <tr>\n",
       "      <th>std</th>\n",
       "      <td>5.877050</td>\n",
       "      <td>0.813604</td>\n",
       "      <td>0.503339</td>\n",
       "      <td>0.308853</td>\n",
       "      <td>0.186731</td>\n",
       "      <td>13.938165</td>\n",
       "    </tr>\n",
       "    <tr>\n",
       "      <th>min</th>\n",
       "      <td>1980.000000</td>\n",
       "      <td>0.000000</td>\n",
       "      <td>0.000000</td>\n",
       "      <td>0.000000</td>\n",
       "      <td>0.000000</td>\n",
       "      <td>13.000000</td>\n",
       "    </tr>\n",
       "    <tr>\n",
       "      <th>25%</th>\n",
       "      <td>2003.000000</td>\n",
       "      <td>0.000000</td>\n",
       "      <td>0.000000</td>\n",
       "      <td>0.000000</td>\n",
       "      <td>0.000000</td>\n",
       "      <td>60.000000</td>\n",
       "    </tr>\n",
       "    <tr>\n",
       "      <th>50%</th>\n",
       "      <td>2007.000000</td>\n",
       "      <td>0.080000</td>\n",
       "      <td>0.020000</td>\n",
       "      <td>0.000000</td>\n",
       "      <td>0.010000</td>\n",
       "      <td>71.000000</td>\n",
       "    </tr>\n",
       "    <tr>\n",
       "      <th>75%</th>\n",
       "      <td>2010.000000</td>\n",
       "      <td>0.240000</td>\n",
       "      <td>0.110000</td>\n",
       "      <td>0.040000</td>\n",
       "      <td>0.030000</td>\n",
       "      <td>79.000000</td>\n",
       "    </tr>\n",
       "    <tr>\n",
       "      <th>max</th>\n",
       "      <td>2016.000000</td>\n",
       "      <td>41.360000</td>\n",
       "      <td>28.960000</td>\n",
       "      <td>10.220000</td>\n",
       "      <td>10.570000</td>\n",
       "      <td>98.000000</td>\n",
       "    </tr>\n",
       "  </tbody>\n",
       "</table>\n",
       "</div>"
      ],
      "text/plain": [
       "       Year_of_Release      NA_sales      EU_sales      JP_sales  \\\n",
       "count     16446.000000  16715.000000  16715.000000  16715.000000   \n",
       "mean       2006.484616      0.263377      0.145060      0.077617   \n",
       "std           5.877050      0.813604      0.503339      0.308853   \n",
       "min        1980.000000      0.000000      0.000000      0.000000   \n",
       "25%        2003.000000      0.000000      0.000000      0.000000   \n",
       "50%        2007.000000      0.080000      0.020000      0.000000   \n",
       "75%        2010.000000      0.240000      0.110000      0.040000   \n",
       "max        2016.000000     41.360000     28.960000     10.220000   \n",
       "\n",
       "        Other_sales  Critic_Score  \n",
       "count  16715.000000   8137.000000  \n",
       "mean       0.047342     68.967679  \n",
       "std        0.186731     13.938165  \n",
       "min        0.000000     13.000000  \n",
       "25%        0.000000     60.000000  \n",
       "50%        0.010000     71.000000  \n",
       "75%        0.030000     79.000000  \n",
       "max       10.570000     98.000000  "
      ]
     },
     "metadata": {},
     "output_type": "display_data"
    }
   ],
   "source": [
    "data.info();\n",
    "display(data.describe());"
   ]
  },
  {
   "cell_type": "code",
   "execution_count": 4,
   "metadata": {
    "scrolled": true
   },
   "outputs": [
    {
     "data": {
      "text/html": [
       "<div>\n",
       "<style scoped>\n",
       "    .dataframe tbody tr th:only-of-type {\n",
       "        vertical-align: middle;\n",
       "    }\n",
       "\n",
       "    .dataframe tbody tr th {\n",
       "        vertical-align: top;\n",
       "    }\n",
       "\n",
       "    .dataframe thead th {\n",
       "        text-align: right;\n",
       "    }\n",
       "</style>\n",
       "<table border=\"1\" class=\"dataframe\">\n",
       "  <thead>\n",
       "    <tr style=\"text-align: right;\">\n",
       "      <th></th>\n",
       "      <th>Name</th>\n",
       "      <th>Platform</th>\n",
       "      <th>Year_of_Release</th>\n",
       "      <th>Genre</th>\n",
       "      <th>NA_sales</th>\n",
       "      <th>EU_sales</th>\n",
       "      <th>JP_sales</th>\n",
       "      <th>Other_sales</th>\n",
       "      <th>Critic_Score</th>\n",
       "      <th>User_Score</th>\n",
       "      <th>Rating</th>\n",
       "    </tr>\n",
       "  </thead>\n",
       "  <tbody>\n",
       "    <tr>\n",
       "      <th>0</th>\n",
       "      <td>Wii Sports</td>\n",
       "      <td>Wii</td>\n",
       "      <td>2006.0</td>\n",
       "      <td>Sports</td>\n",
       "      <td>41.36</td>\n",
       "      <td>28.96</td>\n",
       "      <td>3.77</td>\n",
       "      <td>8.45</td>\n",
       "      <td>76.0</td>\n",
       "      <td>8</td>\n",
       "      <td>E</td>\n",
       "    </tr>\n",
       "    <tr>\n",
       "      <th>1</th>\n",
       "      <td>Super Mario Bros.</td>\n",
       "      <td>NES</td>\n",
       "      <td>1985.0</td>\n",
       "      <td>Platform</td>\n",
       "      <td>29.08</td>\n",
       "      <td>3.58</td>\n",
       "      <td>6.81</td>\n",
       "      <td>0.77</td>\n",
       "      <td>NaN</td>\n",
       "      <td>NaN</td>\n",
       "      <td>NaN</td>\n",
       "    </tr>\n",
       "    <tr>\n",
       "      <th>2</th>\n",
       "      <td>Mario Kart Wii</td>\n",
       "      <td>Wii</td>\n",
       "      <td>2008.0</td>\n",
       "      <td>Racing</td>\n",
       "      <td>15.68</td>\n",
       "      <td>12.76</td>\n",
       "      <td>3.79</td>\n",
       "      <td>3.29</td>\n",
       "      <td>82.0</td>\n",
       "      <td>8.3</td>\n",
       "      <td>E</td>\n",
       "    </tr>\n",
       "    <tr>\n",
       "      <th>3</th>\n",
       "      <td>Wii Sports Resort</td>\n",
       "      <td>Wii</td>\n",
       "      <td>2009.0</td>\n",
       "      <td>Sports</td>\n",
       "      <td>15.61</td>\n",
       "      <td>10.93</td>\n",
       "      <td>3.28</td>\n",
       "      <td>2.95</td>\n",
       "      <td>80.0</td>\n",
       "      <td>8</td>\n",
       "      <td>E</td>\n",
       "    </tr>\n",
       "    <tr>\n",
       "      <th>4</th>\n",
       "      <td>Pokemon Red/Pokemon Blue</td>\n",
       "      <td>GB</td>\n",
       "      <td>1996.0</td>\n",
       "      <td>Role-Playing</td>\n",
       "      <td>11.27</td>\n",
       "      <td>8.89</td>\n",
       "      <td>10.22</td>\n",
       "      <td>1.00</td>\n",
       "      <td>NaN</td>\n",
       "      <td>NaN</td>\n",
       "      <td>NaN</td>\n",
       "    </tr>\n",
       "    <tr>\n",
       "      <th>5</th>\n",
       "      <td>Tetris</td>\n",
       "      <td>GB</td>\n",
       "      <td>1989.0</td>\n",
       "      <td>Puzzle</td>\n",
       "      <td>23.20</td>\n",
       "      <td>2.26</td>\n",
       "      <td>4.22</td>\n",
       "      <td>0.58</td>\n",
       "      <td>NaN</td>\n",
       "      <td>NaN</td>\n",
       "      <td>NaN</td>\n",
       "    </tr>\n",
       "    <tr>\n",
       "      <th>6</th>\n",
       "      <td>New Super Mario Bros.</td>\n",
       "      <td>DS</td>\n",
       "      <td>2006.0</td>\n",
       "      <td>Platform</td>\n",
       "      <td>11.28</td>\n",
       "      <td>9.14</td>\n",
       "      <td>6.50</td>\n",
       "      <td>2.88</td>\n",
       "      <td>89.0</td>\n",
       "      <td>8.5</td>\n",
       "      <td>E</td>\n",
       "    </tr>\n",
       "    <tr>\n",
       "      <th>7</th>\n",
       "      <td>Wii Play</td>\n",
       "      <td>Wii</td>\n",
       "      <td>2006.0</td>\n",
       "      <td>Misc</td>\n",
       "      <td>13.96</td>\n",
       "      <td>9.18</td>\n",
       "      <td>2.93</td>\n",
       "      <td>2.84</td>\n",
       "      <td>58.0</td>\n",
       "      <td>6.6</td>\n",
       "      <td>E</td>\n",
       "    </tr>\n",
       "    <tr>\n",
       "      <th>8</th>\n",
       "      <td>New Super Mario Bros. Wii</td>\n",
       "      <td>Wii</td>\n",
       "      <td>2009.0</td>\n",
       "      <td>Platform</td>\n",
       "      <td>14.44</td>\n",
       "      <td>6.94</td>\n",
       "      <td>4.70</td>\n",
       "      <td>2.24</td>\n",
       "      <td>87.0</td>\n",
       "      <td>8.4</td>\n",
       "      <td>E</td>\n",
       "    </tr>\n",
       "    <tr>\n",
       "      <th>9</th>\n",
       "      <td>Duck Hunt</td>\n",
       "      <td>NES</td>\n",
       "      <td>1984.0</td>\n",
       "      <td>Shooter</td>\n",
       "      <td>26.93</td>\n",
       "      <td>0.63</td>\n",
       "      <td>0.28</td>\n",
       "      <td>0.47</td>\n",
       "      <td>NaN</td>\n",
       "      <td>NaN</td>\n",
       "      <td>NaN</td>\n",
       "    </tr>\n",
       "    <tr>\n",
       "      <th>10</th>\n",
       "      <td>Nintendogs</td>\n",
       "      <td>DS</td>\n",
       "      <td>2005.0</td>\n",
       "      <td>Simulation</td>\n",
       "      <td>9.05</td>\n",
       "      <td>10.95</td>\n",
       "      <td>1.93</td>\n",
       "      <td>2.74</td>\n",
       "      <td>NaN</td>\n",
       "      <td>NaN</td>\n",
       "      <td>NaN</td>\n",
       "    </tr>\n",
       "    <tr>\n",
       "      <th>11</th>\n",
       "      <td>Mario Kart DS</td>\n",
       "      <td>DS</td>\n",
       "      <td>2005.0</td>\n",
       "      <td>Racing</td>\n",
       "      <td>9.71</td>\n",
       "      <td>7.47</td>\n",
       "      <td>4.13</td>\n",
       "      <td>1.90</td>\n",
       "      <td>91.0</td>\n",
       "      <td>8.6</td>\n",
       "      <td>E</td>\n",
       "    </tr>\n",
       "    <tr>\n",
       "      <th>12</th>\n",
       "      <td>Pokemon Gold/Pokemon Silver</td>\n",
       "      <td>GB</td>\n",
       "      <td>1999.0</td>\n",
       "      <td>Role-Playing</td>\n",
       "      <td>9.00</td>\n",
       "      <td>6.18</td>\n",
       "      <td>7.20</td>\n",
       "      <td>0.71</td>\n",
       "      <td>NaN</td>\n",
       "      <td>NaN</td>\n",
       "      <td>NaN</td>\n",
       "    </tr>\n",
       "    <tr>\n",
       "      <th>13</th>\n",
       "      <td>Wii Fit</td>\n",
       "      <td>Wii</td>\n",
       "      <td>2007.0</td>\n",
       "      <td>Sports</td>\n",
       "      <td>8.92</td>\n",
       "      <td>8.03</td>\n",
       "      <td>3.60</td>\n",
       "      <td>2.15</td>\n",
       "      <td>80.0</td>\n",
       "      <td>7.7</td>\n",
       "      <td>E</td>\n",
       "    </tr>\n",
       "    <tr>\n",
       "      <th>14</th>\n",
       "      <td>Kinect Adventures!</td>\n",
       "      <td>X360</td>\n",
       "      <td>2010.0</td>\n",
       "      <td>Misc</td>\n",
       "      <td>15.00</td>\n",
       "      <td>4.89</td>\n",
       "      <td>0.24</td>\n",
       "      <td>1.69</td>\n",
       "      <td>61.0</td>\n",
       "      <td>6.3</td>\n",
       "      <td>E</td>\n",
       "    </tr>\n",
       "    <tr>\n",
       "      <th>15</th>\n",
       "      <td>Wii Fit Plus</td>\n",
       "      <td>Wii</td>\n",
       "      <td>2009.0</td>\n",
       "      <td>Sports</td>\n",
       "      <td>9.01</td>\n",
       "      <td>8.49</td>\n",
       "      <td>2.53</td>\n",
       "      <td>1.77</td>\n",
       "      <td>80.0</td>\n",
       "      <td>7.4</td>\n",
       "      <td>E</td>\n",
       "    </tr>\n",
       "    <tr>\n",
       "      <th>16</th>\n",
       "      <td>Grand Theft Auto V</td>\n",
       "      <td>PS3</td>\n",
       "      <td>2013.0</td>\n",
       "      <td>Action</td>\n",
       "      <td>7.02</td>\n",
       "      <td>9.09</td>\n",
       "      <td>0.98</td>\n",
       "      <td>3.96</td>\n",
       "      <td>97.0</td>\n",
       "      <td>8.2</td>\n",
       "      <td>M</td>\n",
       "    </tr>\n",
       "    <tr>\n",
       "      <th>17</th>\n",
       "      <td>Grand Theft Auto: San Andreas</td>\n",
       "      <td>PS2</td>\n",
       "      <td>2004.0</td>\n",
       "      <td>Action</td>\n",
       "      <td>9.43</td>\n",
       "      <td>0.40</td>\n",
       "      <td>0.41</td>\n",
       "      <td>10.57</td>\n",
       "      <td>95.0</td>\n",
       "      <td>9</td>\n",
       "      <td>M</td>\n",
       "    </tr>\n",
       "    <tr>\n",
       "      <th>18</th>\n",
       "      <td>Super Mario World</td>\n",
       "      <td>SNES</td>\n",
       "      <td>1990.0</td>\n",
       "      <td>Platform</td>\n",
       "      <td>12.78</td>\n",
       "      <td>3.75</td>\n",
       "      <td>3.54</td>\n",
       "      <td>0.55</td>\n",
       "      <td>NaN</td>\n",
       "      <td>NaN</td>\n",
       "      <td>NaN</td>\n",
       "    </tr>\n",
       "    <tr>\n",
       "      <th>19</th>\n",
       "      <td>Brain Age: Train Your Brain in Minutes a Day</td>\n",
       "      <td>DS</td>\n",
       "      <td>2005.0</td>\n",
       "      <td>Misc</td>\n",
       "      <td>4.74</td>\n",
       "      <td>9.20</td>\n",
       "      <td>4.16</td>\n",
       "      <td>2.04</td>\n",
       "      <td>77.0</td>\n",
       "      <td>7.9</td>\n",
       "      <td>E</td>\n",
       "    </tr>\n",
       "    <tr>\n",
       "      <th>20</th>\n",
       "      <td>Pokemon Diamond/Pokemon Pearl</td>\n",
       "      <td>DS</td>\n",
       "      <td>2006.0</td>\n",
       "      <td>Role-Playing</td>\n",
       "      <td>6.38</td>\n",
       "      <td>4.46</td>\n",
       "      <td>6.04</td>\n",
       "      <td>1.36</td>\n",
       "      <td>NaN</td>\n",
       "      <td>NaN</td>\n",
       "      <td>NaN</td>\n",
       "    </tr>\n",
       "    <tr>\n",
       "      <th>21</th>\n",
       "      <td>Super Mario Land</td>\n",
       "      <td>GB</td>\n",
       "      <td>1989.0</td>\n",
       "      <td>Platform</td>\n",
       "      <td>10.83</td>\n",
       "      <td>2.71</td>\n",
       "      <td>4.18</td>\n",
       "      <td>0.42</td>\n",
       "      <td>NaN</td>\n",
       "      <td>NaN</td>\n",
       "      <td>NaN</td>\n",
       "    </tr>\n",
       "    <tr>\n",
       "      <th>22</th>\n",
       "      <td>Super Mario Bros. 3</td>\n",
       "      <td>NES</td>\n",
       "      <td>1988.0</td>\n",
       "      <td>Platform</td>\n",
       "      <td>9.54</td>\n",
       "      <td>3.44</td>\n",
       "      <td>3.84</td>\n",
       "      <td>0.46</td>\n",
       "      <td>NaN</td>\n",
       "      <td>NaN</td>\n",
       "      <td>NaN</td>\n",
       "    </tr>\n",
       "    <tr>\n",
       "      <th>23</th>\n",
       "      <td>Grand Theft Auto V</td>\n",
       "      <td>X360</td>\n",
       "      <td>2013.0</td>\n",
       "      <td>Action</td>\n",
       "      <td>9.66</td>\n",
       "      <td>5.14</td>\n",
       "      <td>0.06</td>\n",
       "      <td>1.41</td>\n",
       "      <td>97.0</td>\n",
       "      <td>8.1</td>\n",
       "      <td>M</td>\n",
       "    </tr>\n",
       "    <tr>\n",
       "      <th>24</th>\n",
       "      <td>Grand Theft Auto: Vice City</td>\n",
       "      <td>PS2</td>\n",
       "      <td>2002.0</td>\n",
       "      <td>Action</td>\n",
       "      <td>8.41</td>\n",
       "      <td>5.49</td>\n",
       "      <td>0.47</td>\n",
       "      <td>1.78</td>\n",
       "      <td>95.0</td>\n",
       "      <td>8.7</td>\n",
       "      <td>M</td>\n",
       "    </tr>\n",
       "    <tr>\n",
       "      <th>25</th>\n",
       "      <td>Pokemon Ruby/Pokemon Sapphire</td>\n",
       "      <td>GBA</td>\n",
       "      <td>2002.0</td>\n",
       "      <td>Role-Playing</td>\n",
       "      <td>6.06</td>\n",
       "      <td>3.90</td>\n",
       "      <td>5.38</td>\n",
       "      <td>0.50</td>\n",
       "      <td>NaN</td>\n",
       "      <td>NaN</td>\n",
       "      <td>NaN</td>\n",
       "    </tr>\n",
       "    <tr>\n",
       "      <th>26</th>\n",
       "      <td>Brain Age 2: More Training in Minutes a Day</td>\n",
       "      <td>DS</td>\n",
       "      <td>2005.0</td>\n",
       "      <td>Puzzle</td>\n",
       "      <td>3.43</td>\n",
       "      <td>5.35</td>\n",
       "      <td>5.32</td>\n",
       "      <td>1.18</td>\n",
       "      <td>77.0</td>\n",
       "      <td>7.1</td>\n",
       "      <td>E</td>\n",
       "    </tr>\n",
       "    <tr>\n",
       "      <th>27</th>\n",
       "      <td>Pokemon Black/Pokemon White</td>\n",
       "      <td>DS</td>\n",
       "      <td>2010.0</td>\n",
       "      <td>Role-Playing</td>\n",
       "      <td>5.51</td>\n",
       "      <td>3.17</td>\n",
       "      <td>5.65</td>\n",
       "      <td>0.80</td>\n",
       "      <td>NaN</td>\n",
       "      <td>NaN</td>\n",
       "      <td>NaN</td>\n",
       "    </tr>\n",
       "    <tr>\n",
       "      <th>28</th>\n",
       "      <td>Gran Turismo 3: A-Spec</td>\n",
       "      <td>PS2</td>\n",
       "      <td>2001.0</td>\n",
       "      <td>Racing</td>\n",
       "      <td>6.85</td>\n",
       "      <td>5.09</td>\n",
       "      <td>1.87</td>\n",
       "      <td>1.16</td>\n",
       "      <td>95.0</td>\n",
       "      <td>8.4</td>\n",
       "      <td>E</td>\n",
       "    </tr>\n",
       "    <tr>\n",
       "      <th>29</th>\n",
       "      <td>Call of Duty: Modern Warfare 3</td>\n",
       "      <td>X360</td>\n",
       "      <td>2011.0</td>\n",
       "      <td>Shooter</td>\n",
       "      <td>9.04</td>\n",
       "      <td>4.24</td>\n",
       "      <td>0.13</td>\n",
       "      <td>1.32</td>\n",
       "      <td>88.0</td>\n",
       "      <td>3.4</td>\n",
       "      <td>M</td>\n",
       "    </tr>\n",
       "    <tr>\n",
       "      <th>30</th>\n",
       "      <td>Pokémon Yellow: Special Pikachu Edition</td>\n",
       "      <td>GB</td>\n",
       "      <td>1998.0</td>\n",
       "      <td>Role-Playing</td>\n",
       "      <td>5.89</td>\n",
       "      <td>5.04</td>\n",
       "      <td>3.12</td>\n",
       "      <td>0.59</td>\n",
       "      <td>NaN</td>\n",
       "      <td>NaN</td>\n",
       "      <td>NaN</td>\n",
       "    </tr>\n",
       "    <tr>\n",
       "      <th>31</th>\n",
       "      <td>Call of Duty: Black Ops 3</td>\n",
       "      <td>PS4</td>\n",
       "      <td>2015.0</td>\n",
       "      <td>Shooter</td>\n",
       "      <td>6.03</td>\n",
       "      <td>5.86</td>\n",
       "      <td>0.36</td>\n",
       "      <td>2.38</td>\n",
       "      <td>NaN</td>\n",
       "      <td>NaN</td>\n",
       "      <td>NaN</td>\n",
       "    </tr>\n",
       "    <tr>\n",
       "      <th>32</th>\n",
       "      <td>Call of Duty: Black Ops</td>\n",
       "      <td>X360</td>\n",
       "      <td>2010.0</td>\n",
       "      <td>Shooter</td>\n",
       "      <td>9.70</td>\n",
       "      <td>3.68</td>\n",
       "      <td>0.11</td>\n",
       "      <td>1.13</td>\n",
       "      <td>87.0</td>\n",
       "      <td>6.3</td>\n",
       "      <td>M</td>\n",
       "    </tr>\n",
       "    <tr>\n",
       "      <th>33</th>\n",
       "      <td>Pokemon X/Pokemon Y</td>\n",
       "      <td>3DS</td>\n",
       "      <td>2013.0</td>\n",
       "      <td>Role-Playing</td>\n",
       "      <td>5.28</td>\n",
       "      <td>4.19</td>\n",
       "      <td>4.35</td>\n",
       "      <td>0.78</td>\n",
       "      <td>NaN</td>\n",
       "      <td>NaN</td>\n",
       "      <td>NaN</td>\n",
       "    </tr>\n",
       "    <tr>\n",
       "      <th>34</th>\n",
       "      <td>Call of Duty: Black Ops II</td>\n",
       "      <td>PS3</td>\n",
       "      <td>2012.0</td>\n",
       "      <td>Shooter</td>\n",
       "      <td>4.99</td>\n",
       "      <td>5.73</td>\n",
       "      <td>0.65</td>\n",
       "      <td>2.42</td>\n",
       "      <td>83.0</td>\n",
       "      <td>5.3</td>\n",
       "      <td>M</td>\n",
       "    </tr>\n",
       "    <tr>\n",
       "      <th>35</th>\n",
       "      <td>Call of Duty: Black Ops II</td>\n",
       "      <td>X360</td>\n",
       "      <td>2012.0</td>\n",
       "      <td>Shooter</td>\n",
       "      <td>8.25</td>\n",
       "      <td>4.24</td>\n",
       "      <td>0.07</td>\n",
       "      <td>1.12</td>\n",
       "      <td>83.0</td>\n",
       "      <td>4.8</td>\n",
       "      <td>M</td>\n",
       "    </tr>\n",
       "    <tr>\n",
       "      <th>36</th>\n",
       "      <td>Call of Duty: Modern Warfare 2</td>\n",
       "      <td>X360</td>\n",
       "      <td>2009.0</td>\n",
       "      <td>Shooter</td>\n",
       "      <td>8.52</td>\n",
       "      <td>3.59</td>\n",
       "      <td>0.08</td>\n",
       "      <td>1.28</td>\n",
       "      <td>94.0</td>\n",
       "      <td>6.3</td>\n",
       "      <td>M</td>\n",
       "    </tr>\n",
       "    <tr>\n",
       "      <th>37</th>\n",
       "      <td>Call of Duty: Modern Warfare 3</td>\n",
       "      <td>PS3</td>\n",
       "      <td>2011.0</td>\n",
       "      <td>Shooter</td>\n",
       "      <td>5.54</td>\n",
       "      <td>5.73</td>\n",
       "      <td>0.49</td>\n",
       "      <td>1.57</td>\n",
       "      <td>88.0</td>\n",
       "      <td>3.2</td>\n",
       "      <td>M</td>\n",
       "    </tr>\n",
       "    <tr>\n",
       "      <th>38</th>\n",
       "      <td>Grand Theft Auto III</td>\n",
       "      <td>PS2</td>\n",
       "      <td>2001.0</td>\n",
       "      <td>Action</td>\n",
       "      <td>6.99</td>\n",
       "      <td>4.51</td>\n",
       "      <td>0.30</td>\n",
       "      <td>1.30</td>\n",
       "      <td>97.0</td>\n",
       "      <td>8.5</td>\n",
       "      <td>M</td>\n",
       "    </tr>\n",
       "    <tr>\n",
       "      <th>39</th>\n",
       "      <td>Super Smash Bros. Brawl</td>\n",
       "      <td>Wii</td>\n",
       "      <td>2008.0</td>\n",
       "      <td>Fighting</td>\n",
       "      <td>6.62</td>\n",
       "      <td>2.55</td>\n",
       "      <td>2.66</td>\n",
       "      <td>1.01</td>\n",
       "      <td>93.0</td>\n",
       "      <td>8.9</td>\n",
       "      <td>T</td>\n",
       "    </tr>\n",
       "  </tbody>\n",
       "</table>\n",
       "</div>"
      ],
      "text/plain": [
       "                                            Name Platform  Year_of_Release  \\\n",
       "0                                     Wii Sports      Wii           2006.0   \n",
       "1                              Super Mario Bros.      NES           1985.0   \n",
       "2                                 Mario Kart Wii      Wii           2008.0   \n",
       "3                              Wii Sports Resort      Wii           2009.0   \n",
       "4                       Pokemon Red/Pokemon Blue       GB           1996.0   \n",
       "5                                         Tetris       GB           1989.0   \n",
       "6                          New Super Mario Bros.       DS           2006.0   \n",
       "7                                       Wii Play      Wii           2006.0   \n",
       "8                      New Super Mario Bros. Wii      Wii           2009.0   \n",
       "9                                      Duck Hunt      NES           1984.0   \n",
       "10                                    Nintendogs       DS           2005.0   \n",
       "11                                 Mario Kart DS       DS           2005.0   \n",
       "12                   Pokemon Gold/Pokemon Silver       GB           1999.0   \n",
       "13                                       Wii Fit      Wii           2007.0   \n",
       "14                            Kinect Adventures!     X360           2010.0   \n",
       "15                                  Wii Fit Plus      Wii           2009.0   \n",
       "16                            Grand Theft Auto V      PS3           2013.0   \n",
       "17                 Grand Theft Auto: San Andreas      PS2           2004.0   \n",
       "18                             Super Mario World     SNES           1990.0   \n",
       "19  Brain Age: Train Your Brain in Minutes a Day       DS           2005.0   \n",
       "20                 Pokemon Diamond/Pokemon Pearl       DS           2006.0   \n",
       "21                              Super Mario Land       GB           1989.0   \n",
       "22                           Super Mario Bros. 3      NES           1988.0   \n",
       "23                            Grand Theft Auto V     X360           2013.0   \n",
       "24                   Grand Theft Auto: Vice City      PS2           2002.0   \n",
       "25                 Pokemon Ruby/Pokemon Sapphire      GBA           2002.0   \n",
       "26   Brain Age 2: More Training in Minutes a Day       DS           2005.0   \n",
       "27                   Pokemon Black/Pokemon White       DS           2010.0   \n",
       "28                        Gran Turismo 3: A-Spec      PS2           2001.0   \n",
       "29                Call of Duty: Modern Warfare 3     X360           2011.0   \n",
       "30       Pokémon Yellow: Special Pikachu Edition       GB           1998.0   \n",
       "31                     Call of Duty: Black Ops 3      PS4           2015.0   \n",
       "32                       Call of Duty: Black Ops     X360           2010.0   \n",
       "33                           Pokemon X/Pokemon Y      3DS           2013.0   \n",
       "34                    Call of Duty: Black Ops II      PS3           2012.0   \n",
       "35                    Call of Duty: Black Ops II     X360           2012.0   \n",
       "36                Call of Duty: Modern Warfare 2     X360           2009.0   \n",
       "37                Call of Duty: Modern Warfare 3      PS3           2011.0   \n",
       "38                          Grand Theft Auto III      PS2           2001.0   \n",
       "39                       Super Smash Bros. Brawl      Wii           2008.0   \n",
       "\n",
       "           Genre  NA_sales  EU_sales  JP_sales  Other_sales  Critic_Score  \\\n",
       "0         Sports     41.36     28.96      3.77         8.45          76.0   \n",
       "1       Platform     29.08      3.58      6.81         0.77           NaN   \n",
       "2         Racing     15.68     12.76      3.79         3.29          82.0   \n",
       "3         Sports     15.61     10.93      3.28         2.95          80.0   \n",
       "4   Role-Playing     11.27      8.89     10.22         1.00           NaN   \n",
       "5         Puzzle     23.20      2.26      4.22         0.58           NaN   \n",
       "6       Platform     11.28      9.14      6.50         2.88          89.0   \n",
       "7           Misc     13.96      9.18      2.93         2.84          58.0   \n",
       "8       Platform     14.44      6.94      4.70         2.24          87.0   \n",
       "9        Shooter     26.93      0.63      0.28         0.47           NaN   \n",
       "10    Simulation      9.05     10.95      1.93         2.74           NaN   \n",
       "11        Racing      9.71      7.47      4.13         1.90          91.0   \n",
       "12  Role-Playing      9.00      6.18      7.20         0.71           NaN   \n",
       "13        Sports      8.92      8.03      3.60         2.15          80.0   \n",
       "14          Misc     15.00      4.89      0.24         1.69          61.0   \n",
       "15        Sports      9.01      8.49      2.53         1.77          80.0   \n",
       "16        Action      7.02      9.09      0.98         3.96          97.0   \n",
       "17        Action      9.43      0.40      0.41        10.57          95.0   \n",
       "18      Platform     12.78      3.75      3.54         0.55           NaN   \n",
       "19          Misc      4.74      9.20      4.16         2.04          77.0   \n",
       "20  Role-Playing      6.38      4.46      6.04         1.36           NaN   \n",
       "21      Platform     10.83      2.71      4.18         0.42           NaN   \n",
       "22      Platform      9.54      3.44      3.84         0.46           NaN   \n",
       "23        Action      9.66      5.14      0.06         1.41          97.0   \n",
       "24        Action      8.41      5.49      0.47         1.78          95.0   \n",
       "25  Role-Playing      6.06      3.90      5.38         0.50           NaN   \n",
       "26        Puzzle      3.43      5.35      5.32         1.18          77.0   \n",
       "27  Role-Playing      5.51      3.17      5.65         0.80           NaN   \n",
       "28        Racing      6.85      5.09      1.87         1.16          95.0   \n",
       "29       Shooter      9.04      4.24      0.13         1.32          88.0   \n",
       "30  Role-Playing      5.89      5.04      3.12         0.59           NaN   \n",
       "31       Shooter      6.03      5.86      0.36         2.38           NaN   \n",
       "32       Shooter      9.70      3.68      0.11         1.13          87.0   \n",
       "33  Role-Playing      5.28      4.19      4.35         0.78           NaN   \n",
       "34       Shooter      4.99      5.73      0.65         2.42          83.0   \n",
       "35       Shooter      8.25      4.24      0.07         1.12          83.0   \n",
       "36       Shooter      8.52      3.59      0.08         1.28          94.0   \n",
       "37       Shooter      5.54      5.73      0.49         1.57          88.0   \n",
       "38        Action      6.99      4.51      0.30         1.30          97.0   \n",
       "39      Fighting      6.62      2.55      2.66         1.01          93.0   \n",
       "\n",
       "   User_Score Rating  \n",
       "0           8      E  \n",
       "1         NaN    NaN  \n",
       "2         8.3      E  \n",
       "3           8      E  \n",
       "4         NaN    NaN  \n",
       "5         NaN    NaN  \n",
       "6         8.5      E  \n",
       "7         6.6      E  \n",
       "8         8.4      E  \n",
       "9         NaN    NaN  \n",
       "10        NaN    NaN  \n",
       "11        8.6      E  \n",
       "12        NaN    NaN  \n",
       "13        7.7      E  \n",
       "14        6.3      E  \n",
       "15        7.4      E  \n",
       "16        8.2      M  \n",
       "17          9      M  \n",
       "18        NaN    NaN  \n",
       "19        7.9      E  \n",
       "20        NaN    NaN  \n",
       "21        NaN    NaN  \n",
       "22        NaN    NaN  \n",
       "23        8.1      M  \n",
       "24        8.7      M  \n",
       "25        NaN    NaN  \n",
       "26        7.1      E  \n",
       "27        NaN    NaN  \n",
       "28        8.4      E  \n",
       "29        3.4      M  \n",
       "30        NaN    NaN  \n",
       "31        NaN    NaN  \n",
       "32        6.3      M  \n",
       "33        NaN    NaN  \n",
       "34        5.3      M  \n",
       "35        4.8      M  \n",
       "36        6.3      M  \n",
       "37        3.2      M  \n",
       "38        8.5      M  \n",
       "39        8.9      T  "
      ]
     },
     "metadata": {},
     "output_type": "display_data"
    }
   ],
   "source": [
    "display(data.head(40))"
   ]
  },
  {
   "cell_type": "markdown",
   "metadata": {},
   "source": [
    "Средних размеров датасет. В некоторых разделах, судя по количеству non-null значений,  довольно большой процент пропусков.\n",
    "Некоторые колонки, вероятно, потребуют замены типа. "
   ]
  },
  {
   "cell_type": "markdown",
   "metadata": {},
   "source": [
    "## Предобработка данных"
   ]
  },
  {
   "cell_type": "markdown",
   "metadata": {},
   "source": [
    "### Общая подготовка"
   ]
  },
  {
   "cell_type": "markdown",
   "metadata": {},
   "source": [
    "#### Преобразование к нижнему регистру"
   ]
  },
  {
   "cell_type": "code",
   "execution_count": 5,
   "metadata": {},
   "outputs": [],
   "source": [
    "#Приведем названия столбцов к нижнему регистру\n",
    "data.columns = data.columns.str.lower()"
   ]
  },
  {
   "cell_type": "code",
   "execution_count": 6,
   "metadata": {},
   "outputs": [
    {
     "name": "stdout",
     "output_type": "stream",
     "text": [
      "<class 'pandas.core.frame.DataFrame'>\n",
      "RangeIndex: 16715 entries, 0 to 16714\n",
      "Data columns (total 11 columns):\n",
      " #   Column           Non-Null Count  Dtype  \n",
      "---  ------           --------------  -----  \n",
      " 0   name             16713 non-null  object \n",
      " 1   platform         16715 non-null  object \n",
      " 2   year_of_release  16446 non-null  float64\n",
      " 3   genre            16713 non-null  object \n",
      " 4   na_sales         16715 non-null  float64\n",
      " 5   eu_sales         16715 non-null  float64\n",
      " 6   jp_sales         16715 non-null  float64\n",
      " 7   other_sales      16715 non-null  float64\n",
      " 8   critic_score     8137 non-null   float64\n",
      " 9   user_score       10014 non-null  object \n",
      " 10  rating           9949 non-null   object \n",
      "dtypes: float64(6), object(5)\n",
      "memory usage: 1.4+ MB\n"
     ]
    }
   ],
   "source": [
    "#проверка\n",
    "data.info()"
   ]
  },
  {
   "cell_type": "markdown",
   "metadata": {},
   "source": [
    "#### Приведение данных к соответствующему типу"
   ]
  },
  {
   "cell_type": "markdown",
   "metadata": {},
   "source": [
    "Очевидно, столбец year_of_release может быть преобразован в int без\n",
    "потери какой-либо информации. "
   ]
  },
  {
   "cell_type": "code",
   "execution_count": 7,
   "metadata": {},
   "outputs": [],
   "source": [
    "data['year_of_release'] = np.floor(pd.to_numeric(data['year_of_release'], errors='coerce')).astype('Int64')"
   ]
  },
  {
   "cell_type": "code",
   "execution_count": 8,
   "metadata": {},
   "outputs": [],
   "source": [
    "#Приведем user_score к типу float, к которому он явно относится. Заодно сделаем то же самое с critic_score, чтобы в дальнейшем\n",
    "#не было проблем с расчётом корреляции\n",
    "data['user_score'] = np.floor(pd.to_numeric(data['user_score'], errors='coerce')).astype('float64')\n",
    "data['critic_score'] = np.floor(pd.to_numeric(data['critic_score'], errors='coerce')).astype('float64')"
   ]
  },
  {
   "cell_type": "markdown",
   "metadata": {},
   "source": [
    "#### Проверка на явные дубликаты"
   ]
  },
  {
   "cell_type": "code",
   "execution_count": 9,
   "metadata": {},
   "outputs": [
    {
     "data": {
      "text/plain": [
       "0"
      ]
     },
     "execution_count": 9,
     "metadata": {},
     "output_type": "execute_result"
    }
   ],
   "source": [
    "data.duplicated().sum()"
   ]
  },
  {
   "cell_type": "markdown",
   "metadata": {},
   "source": [
    "Явных дубликатов не обнаружено"
   ]
  },
  {
   "cell_type": "markdown",
   "metadata": {},
   "source": [
    "### Обработка пропусков"
   ]
  },
  {
   "cell_type": "markdown",
   "metadata": {},
   "source": [
    "#### Анализ пропусков и целесообразность их удаления"
   ]
  },
  {
   "cell_type": "code",
   "execution_count": 10,
   "metadata": {},
   "outputs": [
    {
     "data": {
      "text/html": [
       "<style  type=\"text/css\" >\n",
       "#T_a3bd9_row0_col0,#T_a3bd9_row1_col0,#T_a3bd9_row3_col0,#T_a3bd9_row4_col0,#T_a3bd9_row5_col0,#T_a3bd9_row6_col0,#T_a3bd9_row7_col0{\n",
       "            background-color:  #3b4cc0;\n",
       "            color:  #f1f1f1;\n",
       "        }#T_a3bd9_row2_col0{\n",
       "            background-color:  #4358cb;\n",
       "            color:  #f1f1f1;\n",
       "        }#T_a3bd9_row8_col0{\n",
       "            background-color:  #ca3b37;\n",
       "            color:  #f1f1f1;\n",
       "        }#T_a3bd9_row9_col0{\n",
       "            background-color:  #b40426;\n",
       "            color:  #f1f1f1;\n",
       "        }#T_a3bd9_row10_col0{\n",
       "            background-color:  #f59d7e;\n",
       "            color:  #000000;\n",
       "        }</style><table id=\"T_a3bd9_\" ><thead>    <tr>        <th class=\"blank level0\" ></th>        <th class=\"col_heading level0 col0\" >0</th>    </tr></thead><tbody>\n",
       "                <tr>\n",
       "                        <th id=\"T_a3bd9_level0_row0\" class=\"row_heading level0 row0\" >name</th>\n",
       "                        <td id=\"T_a3bd9_row0_col0\" class=\"data row0 col0\" >0.000000</td>\n",
       "            </tr>\n",
       "            <tr>\n",
       "                        <th id=\"T_a3bd9_level0_row1\" class=\"row_heading level0 row1\" >platform</th>\n",
       "                        <td id=\"T_a3bd9_row1_col0\" class=\"data row1 col0\" >0.000000</td>\n",
       "            </tr>\n",
       "            <tr>\n",
       "                        <th id=\"T_a3bd9_level0_row2\" class=\"row_heading level0 row2\" >year_of_release</th>\n",
       "                        <td id=\"T_a3bd9_row2_col0\" class=\"data row2 col0\" >1.600000</td>\n",
       "            </tr>\n",
       "            <tr>\n",
       "                        <th id=\"T_a3bd9_level0_row3\" class=\"row_heading level0 row3\" >genre</th>\n",
       "                        <td id=\"T_a3bd9_row3_col0\" class=\"data row3 col0\" >0.000000</td>\n",
       "            </tr>\n",
       "            <tr>\n",
       "                        <th id=\"T_a3bd9_level0_row4\" class=\"row_heading level0 row4\" >na_sales</th>\n",
       "                        <td id=\"T_a3bd9_row4_col0\" class=\"data row4 col0\" >0.000000</td>\n",
       "            </tr>\n",
       "            <tr>\n",
       "                        <th id=\"T_a3bd9_level0_row5\" class=\"row_heading level0 row5\" >eu_sales</th>\n",
       "                        <td id=\"T_a3bd9_row5_col0\" class=\"data row5 col0\" >0.000000</td>\n",
       "            </tr>\n",
       "            <tr>\n",
       "                        <th id=\"T_a3bd9_level0_row6\" class=\"row_heading level0 row6\" >jp_sales</th>\n",
       "                        <td id=\"T_a3bd9_row6_col0\" class=\"data row6 col0\" >0.000000</td>\n",
       "            </tr>\n",
       "            <tr>\n",
       "                        <th id=\"T_a3bd9_level0_row7\" class=\"row_heading level0 row7\" >other_sales</th>\n",
       "                        <td id=\"T_a3bd9_row7_col0\" class=\"data row7 col0\" >0.000000</td>\n",
       "            </tr>\n",
       "            <tr>\n",
       "                        <th id=\"T_a3bd9_level0_row8\" class=\"row_heading level0 row8\" >critic_score</th>\n",
       "                        <td id=\"T_a3bd9_row8_col0\" class=\"data row8 col0\" >51.300000</td>\n",
       "            </tr>\n",
       "            <tr>\n",
       "                        <th id=\"T_a3bd9_level0_row9\" class=\"row_heading level0 row9\" >user_score</th>\n",
       "                        <td id=\"T_a3bd9_row9_col0\" class=\"data row9 col0\" >54.600000</td>\n",
       "            </tr>\n",
       "            <tr>\n",
       "                        <th id=\"T_a3bd9_level0_row10\" class=\"row_heading level0 row10\" >rating</th>\n",
       "                        <td id=\"T_a3bd9_row10_col0\" class=\"data row10 col0\" >40.500000</td>\n",
       "            </tr>\n",
       "    </tbody></table>"
      ],
      "text/plain": [
       "<pandas.io.formats.style.Styler at 0x7f418e3d8100>"
      ]
     },
     "execution_count": 10,
     "metadata": {},
     "output_type": "execute_result"
    }
   ],
   "source": [
    "pd.DataFrame(round(data.isna().mean()*100, 1)).style.background_gradient('coolwarm')"
   ]
  },
  {
   "cell_type": "markdown",
   "metadata": {},
   "source": [
    "В name и genre по два пропуска. Не трогаем. В колонке year_of_release 267 пропусков, однако синтетические значения не будут иметь никакого содержательного смысла в данном случае. Оставляем.\n",
    "Пропуски по рейтингу и оценке критиков и пользователей составляют львиную долю соответствующих колонок. \n",
    "Восстановить по продажам? Но как раз с продажами нам в дальнейшем нужно будет найти корреляцию. А ведь  подобное \"восстановление\" может внести отсутсвующую корреляцию и исказить корреляционную картину.  \n",
    "Заменять их средней, медианой и пр., с учётом их огромной пропорции (фактически половина) тоже вряд ли есть смысл - слишком много несуществующей информации мы внесём. \n",
    "При оценке успешности игры можно будет опираться на практически всегда присутствующие данные по продажам. Если мы хотим оценить связь между рейтингами/оценками и, например, продажами, можно будет исключить из рассмотрения строки с отсутствующими\n",
    "рейтингами, сделав соответствующую оговорку, что использована лишь часть данных. "
   ]
  },
  {
   "cell_type": "markdown",
   "metadata": {},
   "source": [
    "#### Возможные причины пропусков "
   ]
  },
  {
   "cell_type": "markdown",
   "metadata": {},
   "source": [
    "1. Информация, насколько понятно из описания, заимствовалась из разнородных источников. Вероятно, это одно из объяснений, почему \n",
    "существенная доля рейтингов и оценок отсутствует.\n",
    "2. Кроме того, как будет показано далее, индустрия цифровых игр встала в полный рост с конца 1990х годов. До этого же периода  институт игровых рейтингов был не столь развит. \n",
    "3. Кроме того, что касается колонки Rating, она по большей части заполнена рейтингами американской негосударственной организации Entertainment Software Rating Board (ESRB). Как можно понять из описания, она выдает рейтинги организациям, подавшим соответствующие \n",
    "заявки. Однако имеется около 40% пропусков. Как можно предположить, не все компании, особенно, не все неамериканские компании подают такие заявки. \n",
    "4. Можно было бы также выдвинуть гипотезу, что некоторые игры на момент составления датасета попросту не успели \n",
    "получить рейтинг, но едва ли эта причина является основной или существенной. Например, на последний год выборки, \n",
    "2016, приходится 240 отсутствующих значений для оценки зрителей, 270 для оценки критиков и 222 для рейтинга, что составляет ничтожную долю пропусков по этим категориям.  "
   ]
  },
  {
   "cell_type": "code",
   "execution_count": 11,
   "metadata": {},
   "outputs": [],
   "source": [
    "# Заменим отсутствующие значения в колонке рейтинг на unknown\n",
    "data['rating'] = data['rating'].fillna('unknown')"
   ]
  },
  {
   "cell_type": "code",
   "execution_count": 12,
   "metadata": {},
   "outputs": [],
   "source": [
    "##data.head(30)"
   ]
  },
  {
   "cell_type": "markdown",
   "metadata": {},
   "source": [
    "#### Значение tbd"
   ]
  },
  {
   "cell_type": "markdown",
   "metadata": {},
   "source": [
    "В колонке с оценкой пользователя можно нередко встретить значение tbd. Это аббревиатура от to be defined, \n",
    "to be determined или to be done. Т.е. оценка пока не определена. По смыслу (хотя не по функциональности) это значение аналогично pd.NA или np.NaN. Однако при приведении столбца 'user_score\" к типу float64  все tbd были автоматически приведены\n",
    "к типу pd.NA. \n",
    "То же произошло с np.NaN при преобразовании к типам int и float других столбцов. По своей функциональности оба типа похожи.  На дальнейший анализ это никак не повлияет."
   ]
  },
  {
   "cell_type": "markdown",
   "metadata": {},
   "source": [
    "### Агрегация продаж по регионам "
   ]
  },
  {
   "cell_type": "code",
   "execution_count": 13,
   "metadata": {},
   "outputs": [],
   "source": [
    "#Запишем совокупный объем продаж по регионам в отдельный столбец \n",
    "data['total_sales'] = data['na_sales']  + data['eu_sales'] + data['jp_sales'] + data['other_sales']\n"
   ]
  },
  {
   "cell_type": "markdown",
   "metadata": {},
   "source": [
    "## Исследовательский анализ данных "
   ]
  },
  {
   "cell_type": "markdown",
   "metadata": {},
   "source": [
    "### Выпуск игр по годам"
   ]
  },
  {
   "cell_type": "markdown",
   "metadata": {},
   "source": [
    "Посмотрим на динамику игровой индустрии  в целом"
   ]
  },
  {
   "cell_type": "code",
   "execution_count": 14,
   "metadata": {},
   "outputs": [],
   "source": [
    "#Посмотрим выпуск игр по годам\n",
    "\n",
    "releases_by_years = data.groupby(by = 'year_of_release', dropna=False).agg('count')['total_sales']\n",
    "\n",
    "#display(releases_by_years)"
   ]
  },
  {
   "cell_type": "code",
   "execution_count": 15,
   "metadata": {},
   "outputs": [
    {
     "data": {
      "image/png": "[encoded data removed]",
      "text/plain": [
       "<Figure size 720x648 with 1 Axes>"
      ]
     },
     "metadata": {
      "needs_background": "light"
     },
     "output_type": "display_data"
    }
   ],
   "source": [
    "releases_by_years.plot.bar(figsize = (10, 9), title = 'Динамика выпусков игр по годам');"
   ]
  },
  {
   "cell_type": "markdown",
   "metadata": {},
   "source": [
    "Совсем слабая активность примерно до середины 1990х годов, затем стремительный рост. Причины понятны:\n",
    "прежде всего бурное развитие Интернета в 90е годы, заметный прогресс в совершенствовании и распространении ЦПУ \n",
    "и 3D графических процессоров и т.д. Начиная с 2012 года наблюдается некоторый откат."
   ]
  },
  {
   "cell_type": "markdown",
   "metadata": {},
   "source": [
    "### Динамика продаж по платформам"
   ]
  },
  {
   "cell_type": "markdown",
   "metadata": {},
   "source": [
    "Посмотрим на динамику по платформам"
   ]
  },
  {
   "cell_type": "code",
   "execution_count": 16,
   "metadata": {},
   "outputs": [
    {
     "data": {
      "text/html": [
       "<div>\n",
       "<style scoped>\n",
       "    .dataframe tbody tr th:only-of-type {\n",
       "        vertical-align: middle;\n",
       "    }\n",
       "\n",
       "    .dataframe tbody tr th {\n",
       "        vertical-align: top;\n",
       "    }\n",
       "\n",
       "    .dataframe thead th {\n",
       "        text-align: right;\n",
       "    }\n",
       "</style>\n",
       "<table border=\"1\" class=\"dataframe\">\n",
       "  <thead>\n",
       "    <tr style=\"text-align: right;\">\n",
       "      <th>platform</th>\n",
       "      <th>2600</th>\n",
       "      <th>3DO</th>\n",
       "      <th>3DS</th>\n",
       "      <th>DC</th>\n",
       "      <th>DS</th>\n",
       "      <th>GB</th>\n",
       "      <th>GBA</th>\n",
       "      <th>GC</th>\n",
       "      <th>GEN</th>\n",
       "      <th>GG</th>\n",
       "      <th>...</th>\n",
       "      <th>SAT</th>\n",
       "      <th>SCD</th>\n",
       "      <th>SNES</th>\n",
       "      <th>TG16</th>\n",
       "      <th>WS</th>\n",
       "      <th>Wii</th>\n",
       "      <th>WiiU</th>\n",
       "      <th>X360</th>\n",
       "      <th>XB</th>\n",
       "      <th>XOne</th>\n",
       "    </tr>\n",
       "    <tr>\n",
       "      <th>year_of_release</th>\n",
       "      <th></th>\n",
       "      <th></th>\n",
       "      <th></th>\n",
       "      <th></th>\n",
       "      <th></th>\n",
       "      <th></th>\n",
       "      <th></th>\n",
       "      <th></th>\n",
       "      <th></th>\n",
       "      <th></th>\n",
       "      <th></th>\n",
       "      <th></th>\n",
       "      <th></th>\n",
       "      <th></th>\n",
       "      <th></th>\n",
       "      <th></th>\n",
       "      <th></th>\n",
       "      <th></th>\n",
       "      <th></th>\n",
       "      <th></th>\n",
       "      <th></th>\n",
       "    </tr>\n",
       "  </thead>\n",
       "  <tbody>\n",
       "    <tr>\n",
       "      <th>1980</th>\n",
       "      <td>11.38</td>\n",
       "      <td>0.00</td>\n",
       "      <td>0.00</td>\n",
       "      <td>0.00</td>\n",
       "      <td>0.00</td>\n",
       "      <td>0.00</td>\n",
       "      <td>0.00</td>\n",
       "      <td>0.00</td>\n",
       "      <td>0.00</td>\n",
       "      <td>0.00</td>\n",
       "      <td>...</td>\n",
       "      <td>0.00</td>\n",
       "      <td>0.00</td>\n",
       "      <td>0.00</td>\n",
       "      <td>0.00</td>\n",
       "      <td>0.00</td>\n",
       "      <td>0.00</td>\n",
       "      <td>0.00</td>\n",
       "      <td>0.00</td>\n",
       "      <td>0.00</td>\n",
       "      <td>0.00</td>\n",
       "    </tr>\n",
       "    <tr>\n",
       "      <th>1981</th>\n",
       "      <td>35.68</td>\n",
       "      <td>0.00</td>\n",
       "      <td>0.00</td>\n",
       "      <td>0.00</td>\n",
       "      <td>0.00</td>\n",
       "      <td>0.00</td>\n",
       "      <td>0.00</td>\n",
       "      <td>0.00</td>\n",
       "      <td>0.00</td>\n",
       "      <td>0.00</td>\n",
       "      <td>...</td>\n",
       "      <td>0.00</td>\n",
       "      <td>0.00</td>\n",
       "      <td>0.00</td>\n",
       "      <td>0.00</td>\n",
       "      <td>0.00</td>\n",
       "      <td>0.00</td>\n",
       "      <td>0.00</td>\n",
       "      <td>0.00</td>\n",
       "      <td>0.00</td>\n",
       "      <td>0.00</td>\n",
       "    </tr>\n",
       "    <tr>\n",
       "      <th>1982</th>\n",
       "      <td>28.88</td>\n",
       "      <td>0.00</td>\n",
       "      <td>0.00</td>\n",
       "      <td>0.00</td>\n",
       "      <td>0.00</td>\n",
       "      <td>0.00</td>\n",
       "      <td>0.00</td>\n",
       "      <td>0.00</td>\n",
       "      <td>0.00</td>\n",
       "      <td>0.00</td>\n",
       "      <td>...</td>\n",
       "      <td>0.00</td>\n",
       "      <td>0.00</td>\n",
       "      <td>0.00</td>\n",
       "      <td>0.00</td>\n",
       "      <td>0.00</td>\n",
       "      <td>0.00</td>\n",
       "      <td>0.00</td>\n",
       "      <td>0.00</td>\n",
       "      <td>0.00</td>\n",
       "      <td>0.00</td>\n",
       "    </tr>\n",
       "    <tr>\n",
       "      <th>1983</th>\n",
       "      <td>5.84</td>\n",
       "      <td>0.00</td>\n",
       "      <td>0.00</td>\n",
       "      <td>0.00</td>\n",
       "      <td>0.00</td>\n",
       "      <td>0.00</td>\n",
       "      <td>0.00</td>\n",
       "      <td>0.00</td>\n",
       "      <td>0.00</td>\n",
       "      <td>0.00</td>\n",
       "      <td>...</td>\n",
       "      <td>0.00</td>\n",
       "      <td>0.00</td>\n",
       "      <td>0.00</td>\n",
       "      <td>0.00</td>\n",
       "      <td>0.00</td>\n",
       "      <td>0.00</td>\n",
       "      <td>0.00</td>\n",
       "      <td>0.00</td>\n",
       "      <td>0.00</td>\n",
       "      <td>0.00</td>\n",
       "    </tr>\n",
       "    <tr>\n",
       "      <th>1984</th>\n",
       "      <td>0.27</td>\n",
       "      <td>0.00</td>\n",
       "      <td>0.00</td>\n",
       "      <td>0.00</td>\n",
       "      <td>0.00</td>\n",
       "      <td>0.00</td>\n",
       "      <td>0.00</td>\n",
       "      <td>0.00</td>\n",
       "      <td>0.00</td>\n",
       "      <td>0.00</td>\n",
       "      <td>...</td>\n",
       "      <td>0.00</td>\n",
       "      <td>0.00</td>\n",
       "      <td>0.00</td>\n",
       "      <td>0.00</td>\n",
       "      <td>0.00</td>\n",
       "      <td>0.00</td>\n",
       "      <td>0.00</td>\n",
       "      <td>0.00</td>\n",
       "      <td>0.00</td>\n",
       "      <td>0.00</td>\n",
       "    </tr>\n",
       "    <tr>\n",
       "      <th>1985</th>\n",
       "      <td>0.45</td>\n",
       "      <td>0.00</td>\n",
       "      <td>0.00</td>\n",
       "      <td>0.00</td>\n",
       "      <td>0.02</td>\n",
       "      <td>0.00</td>\n",
       "      <td>0.00</td>\n",
       "      <td>0.00</td>\n",
       "      <td>0.00</td>\n",
       "      <td>0.00</td>\n",
       "      <td>...</td>\n",
       "      <td>0.00</td>\n",
       "      <td>0.00</td>\n",
       "      <td>0.00</td>\n",
       "      <td>0.00</td>\n",
       "      <td>0.00</td>\n",
       "      <td>0.00</td>\n",
       "      <td>0.00</td>\n",
       "      <td>0.00</td>\n",
       "      <td>0.00</td>\n",
       "      <td>0.00</td>\n",
       "    </tr>\n",
       "    <tr>\n",
       "      <th>1986</th>\n",
       "      <td>0.67</td>\n",
       "      <td>0.00</td>\n",
       "      <td>0.00</td>\n",
       "      <td>0.00</td>\n",
       "      <td>0.00</td>\n",
       "      <td>0.00</td>\n",
       "      <td>0.00</td>\n",
       "      <td>0.00</td>\n",
       "      <td>0.00</td>\n",
       "      <td>0.00</td>\n",
       "      <td>...</td>\n",
       "      <td>0.00</td>\n",
       "      <td>0.00</td>\n",
       "      <td>0.00</td>\n",
       "      <td>0.00</td>\n",
       "      <td>0.00</td>\n",
       "      <td>0.00</td>\n",
       "      <td>0.00</td>\n",
       "      <td>0.00</td>\n",
       "      <td>0.00</td>\n",
       "      <td>0.00</td>\n",
       "    </tr>\n",
       "    <tr>\n",
       "      <th>1987</th>\n",
       "      <td>1.94</td>\n",
       "      <td>0.00</td>\n",
       "      <td>0.00</td>\n",
       "      <td>0.00</td>\n",
       "      <td>0.00</td>\n",
       "      <td>0.00</td>\n",
       "      <td>0.00</td>\n",
       "      <td>0.00</td>\n",
       "      <td>0.00</td>\n",
       "      <td>0.00</td>\n",
       "      <td>...</td>\n",
       "      <td>0.00</td>\n",
       "      <td>0.00</td>\n",
       "      <td>0.00</td>\n",
       "      <td>0.00</td>\n",
       "      <td>0.00</td>\n",
       "      <td>0.00</td>\n",
       "      <td>0.00</td>\n",
       "      <td>0.00</td>\n",
       "      <td>0.00</td>\n",
       "      <td>0.00</td>\n",
       "    </tr>\n",
       "    <tr>\n",
       "      <th>1988</th>\n",
       "      <td>0.74</td>\n",
       "      <td>0.00</td>\n",
       "      <td>0.00</td>\n",
       "      <td>0.00</td>\n",
       "      <td>0.00</td>\n",
       "      <td>1.43</td>\n",
       "      <td>0.00</td>\n",
       "      <td>0.00</td>\n",
       "      <td>0.00</td>\n",
       "      <td>0.00</td>\n",
       "      <td>...</td>\n",
       "      <td>0.00</td>\n",
       "      <td>0.00</td>\n",
       "      <td>0.00</td>\n",
       "      <td>0.00</td>\n",
       "      <td>0.00</td>\n",
       "      <td>0.00</td>\n",
       "      <td>0.00</td>\n",
       "      <td>0.00</td>\n",
       "      <td>0.00</td>\n",
       "      <td>0.00</td>\n",
       "    </tr>\n",
       "    <tr>\n",
       "      <th>1989</th>\n",
       "      <td>0.63</td>\n",
       "      <td>0.00</td>\n",
       "      <td>0.00</td>\n",
       "      <td>0.00</td>\n",
       "      <td>0.00</td>\n",
       "      <td>64.97</td>\n",
       "      <td>0.00</td>\n",
       "      <td>0.00</td>\n",
       "      <td>0.00</td>\n",
       "      <td>0.00</td>\n",
       "      <td>...</td>\n",
       "      <td>0.00</td>\n",
       "      <td>0.00</td>\n",
       "      <td>0.00</td>\n",
       "      <td>0.00</td>\n",
       "      <td>0.00</td>\n",
       "      <td>0.00</td>\n",
       "      <td>0.00</td>\n",
       "      <td>0.00</td>\n",
       "      <td>0.00</td>\n",
       "      <td>0.00</td>\n",
       "    </tr>\n",
       "    <tr>\n",
       "      <th>1990</th>\n",
       "      <td>0.00</td>\n",
       "      <td>0.00</td>\n",
       "      <td>0.00</td>\n",
       "      <td>0.00</td>\n",
       "      <td>0.00</td>\n",
       "      <td>4.89</td>\n",
       "      <td>0.00</td>\n",
       "      <td>0.00</td>\n",
       "      <td>2.60</td>\n",
       "      <td>0.00</td>\n",
       "      <td>...</td>\n",
       "      <td>0.00</td>\n",
       "      <td>0.00</td>\n",
       "      <td>26.15</td>\n",
       "      <td>0.00</td>\n",
       "      <td>0.00</td>\n",
       "      <td>0.00</td>\n",
       "      <td>0.00</td>\n",
       "      <td>0.00</td>\n",
       "      <td>0.00</td>\n",
       "      <td>0.00</td>\n",
       "    </tr>\n",
       "    <tr>\n",
       "      <th>1991</th>\n",
       "      <td>0.00</td>\n",
       "      <td>0.00</td>\n",
       "      <td>0.00</td>\n",
       "      <td>0.00</td>\n",
       "      <td>0.00</td>\n",
       "      <td>5.57</td>\n",
       "      <td>0.00</td>\n",
       "      <td>0.00</td>\n",
       "      <td>4.33</td>\n",
       "      <td>0.00</td>\n",
       "      <td>...</td>\n",
       "      <td>0.00</td>\n",
       "      <td>0.00</td>\n",
       "      <td>16.22</td>\n",
       "      <td>0.00</td>\n",
       "      <td>0.00</td>\n",
       "      <td>0.00</td>\n",
       "      <td>0.00</td>\n",
       "      <td>0.00</td>\n",
       "      <td>0.00</td>\n",
       "      <td>0.00</td>\n",
       "    </tr>\n",
       "    <tr>\n",
       "      <th>1992</th>\n",
       "      <td>0.00</td>\n",
       "      <td>0.00</td>\n",
       "      <td>0.00</td>\n",
       "      <td>0.00</td>\n",
       "      <td>0.00</td>\n",
       "      <td>25.49</td>\n",
       "      <td>0.00</td>\n",
       "      <td>0.00</td>\n",
       "      <td>12.64</td>\n",
       "      <td>0.04</td>\n",
       "      <td>...</td>\n",
       "      <td>0.00</td>\n",
       "      <td>0.00</td>\n",
       "      <td>32.98</td>\n",
       "      <td>0.00</td>\n",
       "      <td>0.00</td>\n",
       "      <td>0.00</td>\n",
       "      <td>0.00</td>\n",
       "      <td>0.00</td>\n",
       "      <td>0.00</td>\n",
       "      <td>0.00</td>\n",
       "    </tr>\n",
       "    <tr>\n",
       "      <th>1993</th>\n",
       "      <td>0.00</td>\n",
       "      <td>0.00</td>\n",
       "      <td>0.00</td>\n",
       "      <td>0.00</td>\n",
       "      <td>0.00</td>\n",
       "      <td>0.00</td>\n",
       "      <td>0.00</td>\n",
       "      <td>0.00</td>\n",
       "      <td>3.07</td>\n",
       "      <td>0.00</td>\n",
       "      <td>...</td>\n",
       "      <td>0.00</td>\n",
       "      <td>1.50</td>\n",
       "      <td>40.02</td>\n",
       "      <td>0.00</td>\n",
       "      <td>0.00</td>\n",
       "      <td>0.00</td>\n",
       "      <td>0.00</td>\n",
       "      <td>0.00</td>\n",
       "      <td>0.00</td>\n",
       "      <td>0.00</td>\n",
       "    </tr>\n",
       "    <tr>\n",
       "      <th>1994</th>\n",
       "      <td>0.00</td>\n",
       "      <td>0.02</td>\n",
       "      <td>0.00</td>\n",
       "      <td>0.00</td>\n",
       "      <td>0.00</td>\n",
       "      <td>12.18</td>\n",
       "      <td>0.00</td>\n",
       "      <td>0.00</td>\n",
       "      <td>8.13</td>\n",
       "      <td>0.00</td>\n",
       "      <td>...</td>\n",
       "      <td>3.65</td>\n",
       "      <td>0.36</td>\n",
       "      <td>35.08</td>\n",
       "      <td>0.00</td>\n",
       "      <td>0.00</td>\n",
       "      <td>0.00</td>\n",
       "      <td>0.00</td>\n",
       "      <td>0.00</td>\n",
       "      <td>0.00</td>\n",
       "      <td>0.00</td>\n",
       "    </tr>\n",
       "    <tr>\n",
       "      <th>1995</th>\n",
       "      <td>0.00</td>\n",
       "      <td>0.08</td>\n",
       "      <td>0.00</td>\n",
       "      <td>0.00</td>\n",
       "      <td>0.00</td>\n",
       "      <td>3.60</td>\n",
       "      <td>0.00</td>\n",
       "      <td>0.00</td>\n",
       "      <td>0.00</td>\n",
       "      <td>0.00</td>\n",
       "      <td>...</td>\n",
       "      <td>11.57</td>\n",
       "      <td>0.00</td>\n",
       "      <td>32.20</td>\n",
       "      <td>0.16</td>\n",
       "      <td>0.00</td>\n",
       "      <td>0.00</td>\n",
       "      <td>0.00</td>\n",
       "      <td>0.00</td>\n",
       "      <td>0.00</td>\n",
       "      <td>0.00</td>\n",
       "    </tr>\n",
       "    <tr>\n",
       "      <th>1996</th>\n",
       "      <td>0.00</td>\n",
       "      <td>0.00</td>\n",
       "      <td>0.00</td>\n",
       "      <td>0.00</td>\n",
       "      <td>0.00</td>\n",
       "      <td>36.03</td>\n",
       "      <td>0.00</td>\n",
       "      <td>0.00</td>\n",
       "      <td>0.00</td>\n",
       "      <td>0.00</td>\n",
       "      <td>...</td>\n",
       "      <td>7.69</td>\n",
       "      <td>0.00</td>\n",
       "      <td>15.92</td>\n",
       "      <td>0.00</td>\n",
       "      <td>0.00</td>\n",
       "      <td>0.00</td>\n",
       "      <td>0.00</td>\n",
       "      <td>0.00</td>\n",
       "      <td>0.00</td>\n",
       "      <td>0.00</td>\n",
       "    </tr>\n",
       "    <tr>\n",
       "      <th>1997</th>\n",
       "      <td>0.00</td>\n",
       "      <td>0.00</td>\n",
       "      <td>0.00</td>\n",
       "      <td>0.00</td>\n",
       "      <td>0.00</td>\n",
       "      <td>6.37</td>\n",
       "      <td>0.00</td>\n",
       "      <td>0.00</td>\n",
       "      <td>0.00</td>\n",
       "      <td>0.00</td>\n",
       "      <td>...</td>\n",
       "      <td>6.77</td>\n",
       "      <td>0.00</td>\n",
       "      <td>0.99</td>\n",
       "      <td>0.00</td>\n",
       "      <td>0.00</td>\n",
       "      <td>0.00</td>\n",
       "      <td>0.00</td>\n",
       "      <td>0.00</td>\n",
       "      <td>0.00</td>\n",
       "      <td>0.00</td>\n",
       "    </tr>\n",
       "    <tr>\n",
       "      <th>1998</th>\n",
       "      <td>0.00</td>\n",
       "      <td>0.00</td>\n",
       "      <td>0.00</td>\n",
       "      <td>3.38</td>\n",
       "      <td>0.00</td>\n",
       "      <td>26.90</td>\n",
       "      <td>0.00</td>\n",
       "      <td>0.00</td>\n",
       "      <td>0.00</td>\n",
       "      <td>0.00</td>\n",
       "      <td>...</td>\n",
       "      <td>3.82</td>\n",
       "      <td>0.00</td>\n",
       "      <td>0.22</td>\n",
       "      <td>0.00</td>\n",
       "      <td>0.00</td>\n",
       "      <td>0.00</td>\n",
       "      <td>0.00</td>\n",
       "      <td>0.00</td>\n",
       "      <td>0.00</td>\n",
       "      <td>0.00</td>\n",
       "    </tr>\n",
       "    <tr>\n",
       "      <th>1999</th>\n",
       "      <td>0.00</td>\n",
       "      <td>0.00</td>\n",
       "      <td>0.00</td>\n",
       "      <td>5.16</td>\n",
       "      <td>0.00</td>\n",
       "      <td>38.00</td>\n",
       "      <td>0.00</td>\n",
       "      <td>0.00</td>\n",
       "      <td>0.00</td>\n",
       "      <td>0.00</td>\n",
       "      <td>...</td>\n",
       "      <td>0.09</td>\n",
       "      <td>0.00</td>\n",
       "      <td>0.26</td>\n",
       "      <td>0.00</td>\n",
       "      <td>0.46</td>\n",
       "      <td>0.00</td>\n",
       "      <td>0.00</td>\n",
       "      <td>0.00</td>\n",
       "      <td>0.00</td>\n",
       "      <td>0.00</td>\n",
       "    </tr>\n",
       "    <tr>\n",
       "      <th>2000</th>\n",
       "      <td>0.00</td>\n",
       "      <td>0.00</td>\n",
       "      <td>0.00</td>\n",
       "      <td>5.99</td>\n",
       "      <td>0.00</td>\n",
       "      <td>19.76</td>\n",
       "      <td>0.07</td>\n",
       "      <td>0.00</td>\n",
       "      <td>0.00</td>\n",
       "      <td>0.00</td>\n",
       "      <td>...</td>\n",
       "      <td>0.00</td>\n",
       "      <td>0.00</td>\n",
       "      <td>0.00</td>\n",
       "      <td>0.00</td>\n",
       "      <td>0.68</td>\n",
       "      <td>0.00</td>\n",
       "      <td>0.00</td>\n",
       "      <td>0.00</td>\n",
       "      <td>0.99</td>\n",
       "      <td>0.00</td>\n",
       "    </tr>\n",
       "    <tr>\n",
       "      <th>2001</th>\n",
       "      <td>0.00</td>\n",
       "      <td>0.00</td>\n",
       "      <td>0.00</td>\n",
       "      <td>1.07</td>\n",
       "      <td>0.00</td>\n",
       "      <td>9.24</td>\n",
       "      <td>61.53</td>\n",
       "      <td>26.34</td>\n",
       "      <td>0.00</td>\n",
       "      <td>0.00</td>\n",
       "      <td>...</td>\n",
       "      <td>0.00</td>\n",
       "      <td>0.00</td>\n",
       "      <td>0.00</td>\n",
       "      <td>0.00</td>\n",
       "      <td>0.28</td>\n",
       "      <td>0.00</td>\n",
       "      <td>0.00</td>\n",
       "      <td>0.00</td>\n",
       "      <td>22.26</td>\n",
       "      <td>0.00</td>\n",
       "    </tr>\n",
       "    <tr>\n",
       "      <th>2002</th>\n",
       "      <td>0.00</td>\n",
       "      <td>0.00</td>\n",
       "      <td>0.00</td>\n",
       "      <td>0.29</td>\n",
       "      <td>0.00</td>\n",
       "      <td>0.00</td>\n",
       "      <td>74.16</td>\n",
       "      <td>51.81</td>\n",
       "      <td>0.00</td>\n",
       "      <td>0.00</td>\n",
       "      <td>...</td>\n",
       "      <td>0.00</td>\n",
       "      <td>0.00</td>\n",
       "      <td>0.00</td>\n",
       "      <td>0.00</td>\n",
       "      <td>0.00</td>\n",
       "      <td>0.00</td>\n",
       "      <td>0.00</td>\n",
       "      <td>0.00</td>\n",
       "      <td>48.01</td>\n",
       "      <td>0.00</td>\n",
       "    </tr>\n",
       "    <tr>\n",
       "      <th>2003</th>\n",
       "      <td>0.00</td>\n",
       "      <td>0.00</td>\n",
       "      <td>0.00</td>\n",
       "      <td>0.00</td>\n",
       "      <td>0.00</td>\n",
       "      <td>0.00</td>\n",
       "      <td>56.67</td>\n",
       "      <td>50.61</td>\n",
       "      <td>0.00</td>\n",
       "      <td>0.00</td>\n",
       "      <td>...</td>\n",
       "      <td>0.00</td>\n",
       "      <td>0.00</td>\n",
       "      <td>0.00</td>\n",
       "      <td>0.00</td>\n",
       "      <td>0.00</td>\n",
       "      <td>0.00</td>\n",
       "      <td>0.00</td>\n",
       "      <td>0.00</td>\n",
       "      <td>55.04</td>\n",
       "      <td>0.00</td>\n",
       "    </tr>\n",
       "    <tr>\n",
       "      <th>2004</th>\n",
       "      <td>0.00</td>\n",
       "      <td>0.00</td>\n",
       "      <td>0.00</td>\n",
       "      <td>0.00</td>\n",
       "      <td>17.27</td>\n",
       "      <td>0.00</td>\n",
       "      <td>77.91</td>\n",
       "      <td>28.82</td>\n",
       "      <td>0.00</td>\n",
       "      <td>0.00</td>\n",
       "      <td>...</td>\n",
       "      <td>0.00</td>\n",
       "      <td>0.00</td>\n",
       "      <td>0.00</td>\n",
       "      <td>0.00</td>\n",
       "      <td>0.00</td>\n",
       "      <td>0.00</td>\n",
       "      <td>0.00</td>\n",
       "      <td>0.00</td>\n",
       "      <td>65.42</td>\n",
       "      <td>0.00</td>\n",
       "    </tr>\n",
       "    <tr>\n",
       "      <th>2005</th>\n",
       "      <td>0.00</td>\n",
       "      <td>0.00</td>\n",
       "      <td>0.00</td>\n",
       "      <td>0.00</td>\n",
       "      <td>130.14</td>\n",
       "      <td>0.00</td>\n",
       "      <td>33.86</td>\n",
       "      <td>27.62</td>\n",
       "      <td>0.00</td>\n",
       "      <td>0.00</td>\n",
       "      <td>...</td>\n",
       "      <td>0.00</td>\n",
       "      <td>0.00</td>\n",
       "      <td>0.00</td>\n",
       "      <td>0.00</td>\n",
       "      <td>0.00</td>\n",
       "      <td>0.00</td>\n",
       "      <td>0.00</td>\n",
       "      <td>8.25</td>\n",
       "      <td>49.08</td>\n",
       "      <td>0.00</td>\n",
       "    </tr>\n",
       "    <tr>\n",
       "      <th>2006</th>\n",
       "      <td>0.00</td>\n",
       "      <td>0.00</td>\n",
       "      <td>0.00</td>\n",
       "      <td>0.00</td>\n",
       "      <td>119.81</td>\n",
       "      <td>0.00</td>\n",
       "      <td>5.28</td>\n",
       "      <td>11.26</td>\n",
       "      <td>0.00</td>\n",
       "      <td>0.00</td>\n",
       "      <td>...</td>\n",
       "      <td>0.00</td>\n",
       "      <td>0.00</td>\n",
       "      <td>0.00</td>\n",
       "      <td>0.00</td>\n",
       "      <td>0.00</td>\n",
       "      <td>137.15</td>\n",
       "      <td>0.00</td>\n",
       "      <td>51.62</td>\n",
       "      <td>10.04</td>\n",
       "      <td>0.00</td>\n",
       "    </tr>\n",
       "    <tr>\n",
       "      <th>2007</th>\n",
       "      <td>0.00</td>\n",
       "      <td>0.00</td>\n",
       "      <td>0.00</td>\n",
       "      <td>0.02</td>\n",
       "      <td>146.94</td>\n",
       "      <td>0.00</td>\n",
       "      <td>3.40</td>\n",
       "      <td>0.27</td>\n",
       "      <td>0.00</td>\n",
       "      <td>0.00</td>\n",
       "      <td>...</td>\n",
       "      <td>0.00</td>\n",
       "      <td>0.00</td>\n",
       "      <td>0.00</td>\n",
       "      <td>0.00</td>\n",
       "      <td>0.00</td>\n",
       "      <td>152.77</td>\n",
       "      <td>0.00</td>\n",
       "      <td>95.41</td>\n",
       "      <td>0.55</td>\n",
       "      <td>0.00</td>\n",
       "    </tr>\n",
       "    <tr>\n",
       "      <th>2008</th>\n",
       "      <td>0.00</td>\n",
       "      <td>0.00</td>\n",
       "      <td>0.00</td>\n",
       "      <td>0.04</td>\n",
       "      <td>145.31</td>\n",
       "      <td>0.00</td>\n",
       "      <td>0.00</td>\n",
       "      <td>0.00</td>\n",
       "      <td>0.00</td>\n",
       "      <td>0.00</td>\n",
       "      <td>...</td>\n",
       "      <td>0.00</td>\n",
       "      <td>0.00</td>\n",
       "      <td>0.00</td>\n",
       "      <td>0.00</td>\n",
       "      <td>0.00</td>\n",
       "      <td>171.32</td>\n",
       "      <td>0.00</td>\n",
       "      <td>135.26</td>\n",
       "      <td>0.18</td>\n",
       "      <td>0.00</td>\n",
       "    </tr>\n",
       "    <tr>\n",
       "      <th>2009</th>\n",
       "      <td>0.00</td>\n",
       "      <td>0.00</td>\n",
       "      <td>0.00</td>\n",
       "      <td>0.00</td>\n",
       "      <td>119.54</td>\n",
       "      <td>0.00</td>\n",
       "      <td>0.00</td>\n",
       "      <td>0.00</td>\n",
       "      <td>0.00</td>\n",
       "      <td>0.00</td>\n",
       "      <td>...</td>\n",
       "      <td>0.00</td>\n",
       "      <td>0.00</td>\n",
       "      <td>0.00</td>\n",
       "      <td>0.00</td>\n",
       "      <td>0.00</td>\n",
       "      <td>206.97</td>\n",
       "      <td>0.00</td>\n",
       "      <td>120.29</td>\n",
       "      <td>0.00</td>\n",
       "      <td>0.00</td>\n",
       "    </tr>\n",
       "    <tr>\n",
       "      <th>2010</th>\n",
       "      <td>0.00</td>\n",
       "      <td>0.00</td>\n",
       "      <td>0.00</td>\n",
       "      <td>0.00</td>\n",
       "      <td>85.02</td>\n",
       "      <td>0.00</td>\n",
       "      <td>0.00</td>\n",
       "      <td>0.00</td>\n",
       "      <td>0.00</td>\n",
       "      <td>0.00</td>\n",
       "      <td>...</td>\n",
       "      <td>0.00</td>\n",
       "      <td>0.00</td>\n",
       "      <td>0.00</td>\n",
       "      <td>0.00</td>\n",
       "      <td>0.00</td>\n",
       "      <td>127.95</td>\n",
       "      <td>0.00</td>\n",
       "      <td>170.03</td>\n",
       "      <td>0.00</td>\n",
       "      <td>0.00</td>\n",
       "    </tr>\n",
       "    <tr>\n",
       "      <th>2011</th>\n",
       "      <td>0.00</td>\n",
       "      <td>0.00</td>\n",
       "      <td>63.20</td>\n",
       "      <td>0.00</td>\n",
       "      <td>26.18</td>\n",
       "      <td>0.00</td>\n",
       "      <td>0.00</td>\n",
       "      <td>0.00</td>\n",
       "      <td>0.00</td>\n",
       "      <td>0.00</td>\n",
       "      <td>...</td>\n",
       "      <td>0.00</td>\n",
       "      <td>0.00</td>\n",
       "      <td>0.00</td>\n",
       "      <td>0.00</td>\n",
       "      <td>0.00</td>\n",
       "      <td>59.65</td>\n",
       "      <td>0.00</td>\n",
       "      <td>143.84</td>\n",
       "      <td>0.00</td>\n",
       "      <td>0.00</td>\n",
       "    </tr>\n",
       "    <tr>\n",
       "      <th>2012</th>\n",
       "      <td>0.00</td>\n",
       "      <td>0.00</td>\n",
       "      <td>51.36</td>\n",
       "      <td>0.00</td>\n",
       "      <td>11.01</td>\n",
       "      <td>0.00</td>\n",
       "      <td>0.00</td>\n",
       "      <td>0.00</td>\n",
       "      <td>0.00</td>\n",
       "      <td>0.00</td>\n",
       "      <td>...</td>\n",
       "      <td>0.00</td>\n",
       "      <td>0.00</td>\n",
       "      <td>0.00</td>\n",
       "      <td>0.00</td>\n",
       "      <td>0.00</td>\n",
       "      <td>21.71</td>\n",
       "      <td>17.56</td>\n",
       "      <td>99.74</td>\n",
       "      <td>0.00</td>\n",
       "      <td>0.00</td>\n",
       "    </tr>\n",
       "    <tr>\n",
       "      <th>2013</th>\n",
       "      <td>0.00</td>\n",
       "      <td>0.00</td>\n",
       "      <td>56.57</td>\n",
       "      <td>0.00</td>\n",
       "      <td>1.54</td>\n",
       "      <td>0.00</td>\n",
       "      <td>0.00</td>\n",
       "      <td>0.00</td>\n",
       "      <td>0.00</td>\n",
       "      <td>0.00</td>\n",
       "      <td>...</td>\n",
       "      <td>0.00</td>\n",
       "      <td>0.00</td>\n",
       "      <td>0.00</td>\n",
       "      <td>0.00</td>\n",
       "      <td>0.00</td>\n",
       "      <td>8.59</td>\n",
       "      <td>21.65</td>\n",
       "      <td>88.58</td>\n",
       "      <td>0.00</td>\n",
       "      <td>18.96</td>\n",
       "    </tr>\n",
       "    <tr>\n",
       "      <th>2014</th>\n",
       "      <td>0.00</td>\n",
       "      <td>0.00</td>\n",
       "      <td>43.76</td>\n",
       "      <td>0.00</td>\n",
       "      <td>0.00</td>\n",
       "      <td>0.00</td>\n",
       "      <td>0.00</td>\n",
       "      <td>0.00</td>\n",
       "      <td>0.00</td>\n",
       "      <td>0.00</td>\n",
       "      <td>...</td>\n",
       "      <td>0.00</td>\n",
       "      <td>0.00</td>\n",
       "      <td>0.00</td>\n",
       "      <td>0.00</td>\n",
       "      <td>0.00</td>\n",
       "      <td>3.75</td>\n",
       "      <td>22.03</td>\n",
       "      <td>34.74</td>\n",
       "      <td>0.00</td>\n",
       "      <td>54.07</td>\n",
       "    </tr>\n",
       "    <tr>\n",
       "      <th>2015</th>\n",
       "      <td>0.00</td>\n",
       "      <td>0.00</td>\n",
       "      <td>27.78</td>\n",
       "      <td>0.00</td>\n",
       "      <td>0.00</td>\n",
       "      <td>0.00</td>\n",
       "      <td>0.00</td>\n",
       "      <td>0.00</td>\n",
       "      <td>0.00</td>\n",
       "      <td>0.00</td>\n",
       "      <td>...</td>\n",
       "      <td>0.00</td>\n",
       "      <td>0.00</td>\n",
       "      <td>0.00</td>\n",
       "      <td>0.00</td>\n",
       "      <td>0.00</td>\n",
       "      <td>1.14</td>\n",
       "      <td>16.35</td>\n",
       "      <td>11.96</td>\n",
       "      <td>0.00</td>\n",
       "      <td>60.14</td>\n",
       "    </tr>\n",
       "    <tr>\n",
       "      <th>2016</th>\n",
       "      <td>0.00</td>\n",
       "      <td>0.00</td>\n",
       "      <td>15.14</td>\n",
       "      <td>0.00</td>\n",
       "      <td>0.00</td>\n",
       "      <td>0.00</td>\n",
       "      <td>0.00</td>\n",
       "      <td>0.00</td>\n",
       "      <td>0.00</td>\n",
       "      <td>0.00</td>\n",
       "      <td>...</td>\n",
       "      <td>0.00</td>\n",
       "      <td>0.00</td>\n",
       "      <td>0.00</td>\n",
       "      <td>0.00</td>\n",
       "      <td>0.00</td>\n",
       "      <td>0.18</td>\n",
       "      <td>4.60</td>\n",
       "      <td>1.52</td>\n",
       "      <td>0.00</td>\n",
       "      <td>26.15</td>\n",
       "    </tr>\n",
       "  </tbody>\n",
       "</table>\n",
       "<p>37 rows × 31 columns</p>\n",
       "</div>"
      ],
      "text/plain": [
       "platform          2600   3DO    3DS    DC      DS     GB    GBA     GC    GEN  \\\n",
       "year_of_release                                                                 \n",
       "1980             11.38  0.00   0.00  0.00    0.00   0.00   0.00   0.00   0.00   \n",
       "1981             35.68  0.00   0.00  0.00    0.00   0.00   0.00   0.00   0.00   \n",
       "1982             28.88  0.00   0.00  0.00    0.00   0.00   0.00   0.00   0.00   \n",
       "1983              5.84  0.00   0.00  0.00    0.00   0.00   0.00   0.00   0.00   \n",
       "1984              0.27  0.00   0.00  0.00    0.00   0.00   0.00   0.00   0.00   \n",
       "1985              0.45  0.00   0.00  0.00    0.02   0.00   0.00   0.00   0.00   \n",
       "1986              0.67  0.00   0.00  0.00    0.00   0.00   0.00   0.00   0.00   \n",
       "1987              1.94  0.00   0.00  0.00    0.00   0.00   0.00   0.00   0.00   \n",
       "1988              0.74  0.00   0.00  0.00    0.00   1.43   0.00   0.00   0.00   \n",
       "1989              0.63  0.00   0.00  0.00    0.00  64.97   0.00   0.00   0.00   \n",
       "1990              0.00  0.00   0.00  0.00    0.00   4.89   0.00   0.00   2.60   \n",
       "1991              0.00  0.00   0.00  0.00    0.00   5.57   0.00   0.00   4.33   \n",
       "1992              0.00  0.00   0.00  0.00    0.00  25.49   0.00   0.00  12.64   \n",
       "1993              0.00  0.00   0.00  0.00    0.00   0.00   0.00   0.00   3.07   \n",
       "1994              0.00  0.02   0.00  0.00    0.00  12.18   0.00   0.00   8.13   \n",
       "1995              0.00  0.08   0.00  0.00    0.00   3.60   0.00   0.00   0.00   \n",
       "1996              0.00  0.00   0.00  0.00    0.00  36.03   0.00   0.00   0.00   \n",
       "1997              0.00  0.00   0.00  0.00    0.00   6.37   0.00   0.00   0.00   \n",
       "1998              0.00  0.00   0.00  3.38    0.00  26.90   0.00   0.00   0.00   \n",
       "1999              0.00  0.00   0.00  5.16    0.00  38.00   0.00   0.00   0.00   \n",
       "2000              0.00  0.00   0.00  5.99    0.00  19.76   0.07   0.00   0.00   \n",
       "2001              0.00  0.00   0.00  1.07    0.00   9.24  61.53  26.34   0.00   \n",
       "2002              0.00  0.00   0.00  0.29    0.00   0.00  74.16  51.81   0.00   \n",
       "2003              0.00  0.00   0.00  0.00    0.00   0.00  56.67  50.61   0.00   \n",
       "2004              0.00  0.00   0.00  0.00   17.27   0.00  77.91  28.82   0.00   \n",
       "2005              0.00  0.00   0.00  0.00  130.14   0.00  33.86  27.62   0.00   \n",
       "2006              0.00  0.00   0.00  0.00  119.81   0.00   5.28  11.26   0.00   \n",
       "2007              0.00  0.00   0.00  0.02  146.94   0.00   3.40   0.27   0.00   \n",
       "2008              0.00  0.00   0.00  0.04  145.31   0.00   0.00   0.00   0.00   \n",
       "2009              0.00  0.00   0.00  0.00  119.54   0.00   0.00   0.00   0.00   \n",
       "2010              0.00  0.00   0.00  0.00   85.02   0.00   0.00   0.00   0.00   \n",
       "2011              0.00  0.00  63.20  0.00   26.18   0.00   0.00   0.00   0.00   \n",
       "2012              0.00  0.00  51.36  0.00   11.01   0.00   0.00   0.00   0.00   \n",
       "2013              0.00  0.00  56.57  0.00    1.54   0.00   0.00   0.00   0.00   \n",
       "2014              0.00  0.00  43.76  0.00    0.00   0.00   0.00   0.00   0.00   \n",
       "2015              0.00  0.00  27.78  0.00    0.00   0.00   0.00   0.00   0.00   \n",
       "2016              0.00  0.00  15.14  0.00    0.00   0.00   0.00   0.00   0.00   \n",
       "\n",
       "platform           GG  ...    SAT   SCD   SNES  TG16    WS     Wii   WiiU  \\\n",
       "year_of_release        ...                                                  \n",
       "1980             0.00  ...   0.00  0.00   0.00  0.00  0.00    0.00   0.00   \n",
       "1981             0.00  ...   0.00  0.00   0.00  0.00  0.00    0.00   0.00   \n",
       "1982             0.00  ...   0.00  0.00   0.00  0.00  0.00    0.00   0.00   \n",
       "1983             0.00  ...   0.00  0.00   0.00  0.00  0.00    0.00   0.00   \n",
       "1984             0.00  ...   0.00  0.00   0.00  0.00  0.00    0.00   0.00   \n",
       "1985             0.00  ...   0.00  0.00   0.00  0.00  0.00    0.00   0.00   \n",
       "1986             0.00  ...   0.00  0.00   0.00  0.00  0.00    0.00   0.00   \n",
       "1987             0.00  ...   0.00  0.00   0.00  0.00  0.00    0.00   0.00   \n",
       "1988             0.00  ...   0.00  0.00   0.00  0.00  0.00    0.00   0.00   \n",
       "1989             0.00  ...   0.00  0.00   0.00  0.00  0.00    0.00   0.00   \n",
       "1990             0.00  ...   0.00  0.00  26.15  0.00  0.00    0.00   0.00   \n",
       "1991             0.00  ...   0.00  0.00  16.22  0.00  0.00    0.00   0.00   \n",
       "1992             0.04  ...   0.00  0.00  32.98  0.00  0.00    0.00   0.00   \n",
       "1993             0.00  ...   0.00  1.50  40.02  0.00  0.00    0.00   0.00   \n",
       "1994             0.00  ...   3.65  0.36  35.08  0.00  0.00    0.00   0.00   \n",
       "1995             0.00  ...  11.57  0.00  32.20  0.16  0.00    0.00   0.00   \n",
       "1996             0.00  ...   7.69  0.00  15.92  0.00  0.00    0.00   0.00   \n",
       "1997             0.00  ...   6.77  0.00   0.99  0.00  0.00    0.00   0.00   \n",
       "1998             0.00  ...   3.82  0.00   0.22  0.00  0.00    0.00   0.00   \n",
       "1999             0.00  ...   0.09  0.00   0.26  0.00  0.46    0.00   0.00   \n",
       "2000             0.00  ...   0.00  0.00   0.00  0.00  0.68    0.00   0.00   \n",
       "2001             0.00  ...   0.00  0.00   0.00  0.00  0.28    0.00   0.00   \n",
       "2002             0.00  ...   0.00  0.00   0.00  0.00  0.00    0.00   0.00   \n",
       "2003             0.00  ...   0.00  0.00   0.00  0.00  0.00    0.00   0.00   \n",
       "2004             0.00  ...   0.00  0.00   0.00  0.00  0.00    0.00   0.00   \n",
       "2005             0.00  ...   0.00  0.00   0.00  0.00  0.00    0.00   0.00   \n",
       "2006             0.00  ...   0.00  0.00   0.00  0.00  0.00  137.15   0.00   \n",
       "2007             0.00  ...   0.00  0.00   0.00  0.00  0.00  152.77   0.00   \n",
       "2008             0.00  ...   0.00  0.00   0.00  0.00  0.00  171.32   0.00   \n",
       "2009             0.00  ...   0.00  0.00   0.00  0.00  0.00  206.97   0.00   \n",
       "2010             0.00  ...   0.00  0.00   0.00  0.00  0.00  127.95   0.00   \n",
       "2011             0.00  ...   0.00  0.00   0.00  0.00  0.00   59.65   0.00   \n",
       "2012             0.00  ...   0.00  0.00   0.00  0.00  0.00   21.71  17.56   \n",
       "2013             0.00  ...   0.00  0.00   0.00  0.00  0.00    8.59  21.65   \n",
       "2014             0.00  ...   0.00  0.00   0.00  0.00  0.00    3.75  22.03   \n",
       "2015             0.00  ...   0.00  0.00   0.00  0.00  0.00    1.14  16.35   \n",
       "2016             0.00  ...   0.00  0.00   0.00  0.00  0.00    0.18   4.60   \n",
       "\n",
       "platform           X360     XB   XOne  \n",
       "year_of_release                        \n",
       "1980               0.00   0.00   0.00  \n",
       "1981               0.00   0.00   0.00  \n",
       "1982               0.00   0.00   0.00  \n",
       "1983               0.00   0.00   0.00  \n",
       "1984               0.00   0.00   0.00  \n",
       "1985               0.00   0.00   0.00  \n",
       "1986               0.00   0.00   0.00  \n",
       "1987               0.00   0.00   0.00  \n",
       "1988               0.00   0.00   0.00  \n",
       "1989               0.00   0.00   0.00  \n",
       "1990               0.00   0.00   0.00  \n",
       "1991               0.00   0.00   0.00  \n",
       "1992               0.00   0.00   0.00  \n",
       "1993               0.00   0.00   0.00  \n",
       "1994               0.00   0.00   0.00  \n",
       "1995               0.00   0.00   0.00  \n",
       "1996               0.00   0.00   0.00  \n",
       "1997               0.00   0.00   0.00  \n",
       "1998               0.00   0.00   0.00  \n",
       "1999               0.00   0.00   0.00  \n",
       "2000               0.00   0.99   0.00  \n",
       "2001               0.00  22.26   0.00  \n",
       "2002               0.00  48.01   0.00  \n",
       "2003               0.00  55.04   0.00  \n",
       "2004               0.00  65.42   0.00  \n",
       "2005               8.25  49.08   0.00  \n",
       "2006              51.62  10.04   0.00  \n",
       "2007              95.41   0.55   0.00  \n",
       "2008             135.26   0.18   0.00  \n",
       "2009             120.29   0.00   0.00  \n",
       "2010             170.03   0.00   0.00  \n",
       "2011             143.84   0.00   0.00  \n",
       "2012              99.74   0.00   0.00  \n",
       "2013              88.58   0.00  18.96  \n",
       "2014              34.74   0.00  54.07  \n",
       "2015              11.96   0.00  60.14  \n",
       "2016               1.52   0.00  26.15  \n",
       "\n",
       "[37 rows x 31 columns]"
      ]
     },
     "metadata": {},
     "output_type": "display_data"
    }
   ],
   "source": [
    "#Составим сводную таблицу с разбивкой по годам\n",
    "platforms_pivot_by_years_na = data.loc[:, ['year_of_release', 'platform', 'total_sales'] ].pivot_table(index = 'year_of_release', columns = ['platform'], values = 'total_sales', aggfunc = 'sum')\n",
    "#Отсутствующие значения заполним нулями\n",
    "platforms_pivot_by_years = platforms_pivot_by_years_na.fillna(0)\n",
    "display(platforms_pivot_by_years);"
   ]
  },
  {
   "cell_type": "markdown",
   "metadata": {},
   "source": [
    "По этой таблице трудно что-то понять. Выделим несколько самых популярных платформ и посмотрим на них повнимательней."
   ]
  },
  {
   "cell_type": "code",
   "execution_count": 17,
   "metadata": {},
   "outputs": [
    {
     "data": {
      "text/html": [
       "<div>\n",
       "<style scoped>\n",
       "    .dataframe tbody tr th:only-of-type {\n",
       "        vertical-align: middle;\n",
       "    }\n",
       "\n",
       "    .dataframe tbody tr th {\n",
       "        vertical-align: top;\n",
       "    }\n",
       "\n",
       "    .dataframe thead th {\n",
       "        text-align: right;\n",
       "    }\n",
       "</style>\n",
       "<table border=\"1\" class=\"dataframe\">\n",
       "  <thead>\n",
       "    <tr style=\"text-align: right;\">\n",
       "      <th></th>\n",
       "      <th>total_sales</th>\n",
       "    </tr>\n",
       "    <tr>\n",
       "      <th>platform</th>\n",
       "      <th></th>\n",
       "    </tr>\n",
       "  </thead>\n",
       "  <tbody>\n",
       "    <tr>\n",
       "      <th>PS2</th>\n",
       "      <td>1255.77</td>\n",
       "    </tr>\n",
       "    <tr>\n",
       "      <th>X360</th>\n",
       "      <td>971.42</td>\n",
       "    </tr>\n",
       "    <tr>\n",
       "      <th>PS3</th>\n",
       "      <td>939.65</td>\n",
       "    </tr>\n",
       "    <tr>\n",
       "      <th>Wii</th>\n",
       "      <td>907.51</td>\n",
       "    </tr>\n",
       "    <tr>\n",
       "      <th>DS</th>\n",
       "      <td>806.12</td>\n",
       "    </tr>\n",
       "    <tr>\n",
       "      <th>PS</th>\n",
       "      <td>730.86</td>\n",
       "    </tr>\n",
       "    <tr>\n",
       "      <th>GBA</th>\n",
       "      <td>317.85</td>\n",
       "    </tr>\n",
       "    <tr>\n",
       "      <th>PS4</th>\n",
       "      <td>314.14</td>\n",
       "    </tr>\n",
       "    <tr>\n",
       "      <th>PSP</th>\n",
       "      <td>294.05</td>\n",
       "    </tr>\n",
       "    <tr>\n",
       "      <th>PC</th>\n",
       "      <td>259.52</td>\n",
       "    </tr>\n",
       "    <tr>\n",
       "      <th>3DS</th>\n",
       "      <td>259.00</td>\n",
       "    </tr>\n",
       "    <tr>\n",
       "      <th>XB</th>\n",
       "      <td>257.74</td>\n",
       "    </tr>\n",
       "    <tr>\n",
       "      <th>GB</th>\n",
       "      <td>255.46</td>\n",
       "    </tr>\n",
       "    <tr>\n",
       "      <th>NES</th>\n",
       "      <td>251.05</td>\n",
       "    </tr>\n",
       "    <tr>\n",
       "      <th>N64</th>\n",
       "      <td>218.68</td>\n",
       "    </tr>\n",
       "    <tr>\n",
       "      <th>SNES</th>\n",
       "      <td>200.04</td>\n",
       "    </tr>\n",
       "    <tr>\n",
       "      <th>GC</th>\n",
       "      <td>198.93</td>\n",
       "    </tr>\n",
       "    <tr>\n",
       "      <th>XOne</th>\n",
       "      <td>159.32</td>\n",
       "    </tr>\n",
       "    <tr>\n",
       "      <th>2600</th>\n",
       "      <td>96.98</td>\n",
       "    </tr>\n",
       "    <tr>\n",
       "      <th>WiiU</th>\n",
       "      <td>82.19</td>\n",
       "    </tr>\n",
       "    <tr>\n",
       "      <th>PSV</th>\n",
       "      <td>54.07</td>\n",
       "    </tr>\n",
       "    <tr>\n",
       "      <th>SAT</th>\n",
       "      <td>33.59</td>\n",
       "    </tr>\n",
       "    <tr>\n",
       "      <th>GEN</th>\n",
       "      <td>30.77</td>\n",
       "    </tr>\n",
       "    <tr>\n",
       "      <th>DC</th>\n",
       "      <td>15.95</td>\n",
       "    </tr>\n",
       "    <tr>\n",
       "      <th>SCD</th>\n",
       "      <td>1.86</td>\n",
       "    </tr>\n",
       "    <tr>\n",
       "      <th>NG</th>\n",
       "      <td>1.44</td>\n",
       "    </tr>\n",
       "    <tr>\n",
       "      <th>WS</th>\n",
       "      <td>1.42</td>\n",
       "    </tr>\n",
       "    <tr>\n",
       "      <th>TG16</th>\n",
       "      <td>0.16</td>\n",
       "    </tr>\n",
       "    <tr>\n",
       "      <th>3DO</th>\n",
       "      <td>0.10</td>\n",
       "    </tr>\n",
       "    <tr>\n",
       "      <th>GG</th>\n",
       "      <td>0.04</td>\n",
       "    </tr>\n",
       "    <tr>\n",
       "      <th>PCFX</th>\n",
       "      <td>0.03</td>\n",
       "    </tr>\n",
       "  </tbody>\n",
       "</table>\n",
       "</div>"
      ],
      "text/plain": [
       "          total_sales\n",
       "platform             \n",
       "PS2           1255.77\n",
       "X360           971.42\n",
       "PS3            939.65\n",
       "Wii            907.51\n",
       "DS             806.12\n",
       "PS             730.86\n",
       "GBA            317.85\n",
       "PS4            314.14\n",
       "PSP            294.05\n",
       "PC             259.52\n",
       "3DS            259.00\n",
       "XB             257.74\n",
       "GB             255.46\n",
       "NES            251.05\n",
       "N64            218.68\n",
       "SNES           200.04\n",
       "GC             198.93\n",
       "XOne           159.32\n",
       "2600            96.98\n",
       "WiiU            82.19\n",
       "PSV             54.07\n",
       "SAT             33.59\n",
       "GEN             30.77\n",
       "DC              15.95\n",
       "SCD              1.86\n",
       "NG               1.44\n",
       "WS               1.42\n",
       "TG16             0.16\n",
       "3DO              0.10\n",
       "GG               0.04\n",
       "PCFX             0.03"
      ]
     },
     "metadata": {},
     "output_type": "display_data"
    }
   ],
   "source": [
    "#Составим сводную таблицу для самых популярных платформ\n",
    "platform_pivot_for_sales = data.pivot_table(index = 'platform', values = 'total_sales', aggfunc = 'sum')\\\n",
    ".sort_values(by = 'total_sales', ascending = False)\n",
    "display(platform_pivot_for_sales)"
   ]
  },
  {
   "cell_type": "markdown",
   "metadata": {},
   "source": [
    "Выберем шесть платфор с самыми большими объёмами продаж (седьмая отличается по этому показателю от предыдущей уже вдвое): \n",
    "'PS2', 'X360', 'PS3', 'Wii', 'DS', 'PS'"
   ]
  },
  {
   "cell_type": "code",
   "execution_count": 18,
   "metadata": {},
   "outputs": [],
   "source": [
    "#Составим список, он нам пригодится\n",
    "biggest_platforms = ['PS2', 'X360', 'PS3', 'Wii', 'DS', 'PS']"
   ]
  },
  {
   "cell_type": "markdown",
   "metadata": {},
   "source": [
    "Посмотрим распределение по годам"
   ]
  },
  {
   "cell_type": "code",
   "execution_count": 19,
   "metadata": {},
   "outputs": [
    {
     "data": {
      "image/png": "[encoded data removed]",
      "text/plain": [
       "<Figure size 720x648 with 1 Axes>"
      ]
     },
     "metadata": {
      "needs_background": "light"
     },
     "output_type": "display_data"
    },
    {
     "data": {
      "image/png": "[encoded data removed]",
      "text/plain": [
       "<Figure size 720x648 with 1 Axes>"
      ]
     },
     "metadata": {
      "needs_background": "light"
     },
     "output_type": "display_data"
    },
    {
     "data": {
      "image/png": "[encoded data removed]",
      "text/plain": [
       "<Figure size 720x648 with 1 Axes>"
      ]
     },
     "metadata": {
      "needs_background": "light"
     },
     "output_type": "display_data"
    },
    {
     "data": {
      "image/png": "[encoded data removed]",
      "text/plain": [
       "<Figure size 720x648 with 1 Axes>"
      ]
     },
     "metadata": {
      "needs_background": "light"
     },
     "output_type": "display_data"
    },
    {
     "data": {
      "image/png": "[encoded data removed]",
      "text/plain": [
       "<Figure size 720x648 with 1 Axes>"
      ]
     },
     "metadata": {
      "needs_background": "light"
     },
     "output_type": "display_data"
    },
    {
     "data": {
      "image/png": "[encoded data removed]",
      "text/plain": [
       "<Figure size 720x648 with 1 Axes>"
      ]
     },
     "metadata": {
      "needs_background": "light"
     },
     "output_type": "display_data"
    }
   ],
   "source": [
    "#Построим цикл на шести самых популярны платформах\n",
    "\n",
    "for el in biggest_platforms:\n",
    "    platforms_pivot_by_years[el].plot.bar(figsize = (10, 9), title = el)\n",
    "    plt.show();"
   ]
  },
  {
   "cell_type": "markdown",
   "metadata": {},
   "source": [
    "Найдем среднее время жизни для всех платформ и шести самых популярных"
   ]
  },
  {
   "cell_type": "code",
   "execution_count": 20,
   "metadata": {},
   "outputs": [
    {
     "name": "stdout",
     "output_type": "stream",
     "text": [
      "7.67741935483871\n",
      "11.166666666666666\n"
     ]
    }
   ],
   "source": [
    "#Построим два цикла - для всех платформ и для списка самых популярных\n",
    "sum = 0;\n",
    "for el in platforms_pivot_by_years.columns.tolist():\n",
    "    sum += platforms_pivot_by_years_na.notna()[el].sum()\n",
    "    \n",
    "print(sum/31)\n",
    "sum = 0\n",
    "for el in biggest_platforms:\n",
    "    sum += platforms_pivot_by_years_na.notna()[el].sum()\n",
    "    \n",
    "print(sum/6)"
   ]
  },
  {
   "cell_type": "markdown",
   "metadata": {},
   "source": [
    "Среднее время жизни для всех платформ - 7,7 лет, для самых популярных - около 11. "
   ]
  },
  {
   "cell_type": "markdown",
   "metadata": {},
   "source": [
    "Последний год датасета - 2016. Будем считать \"актуальным\" период, начиная с 2014 года. Это период характеризуется определённым спадом после взрывного роста предшествующих 10-15 лет."
   ]
  },
  {
   "cell_type": "code",
   "execution_count": 21,
   "metadata": {},
   "outputs": [],
   "source": [
    "#Сократим датасет до текущего периода\n",
    "current_data = data.query('year_of_release >= 2014')\n",
    "current_data_for_biggest_platforms = current_data.query('platform in @biggest_platforms')\n",
    "platforms_pivot_by_years_current = platforms_pivot_by_years.query('year_of_release >= 2014')\n",
    "platforms_pivot_by_years_current = platforms_pivot_by_years_current.loc[:, (platforms_pivot_by_years_current**2).sum() != 0]\n",
    "\n"
   ]
  },
  {
   "cell_type": "code",
   "execution_count": 22,
   "metadata": {},
   "outputs": [
    {
     "data": {
      "text/html": [
       "<div>\n",
       "<style scoped>\n",
       "    .dataframe tbody tr th:only-of-type {\n",
       "        vertical-align: middle;\n",
       "    }\n",
       "\n",
       "    .dataframe tbody tr th {\n",
       "        vertical-align: top;\n",
       "    }\n",
       "\n",
       "    .dataframe thead th {\n",
       "        text-align: right;\n",
       "    }\n",
       "</style>\n",
       "<table border=\"1\" class=\"dataframe\">\n",
       "  <thead>\n",
       "    <tr style=\"text-align: right;\">\n",
       "      <th>platform</th>\n",
       "      <th>3DS</th>\n",
       "      <th>PC</th>\n",
       "      <th>PS3</th>\n",
       "      <th>PS4</th>\n",
       "      <th>PSP</th>\n",
       "      <th>PSV</th>\n",
       "      <th>Wii</th>\n",
       "      <th>WiiU</th>\n",
       "      <th>X360</th>\n",
       "      <th>XOne</th>\n",
       "    </tr>\n",
       "    <tr>\n",
       "      <th>year_of_release</th>\n",
       "      <th></th>\n",
       "      <th></th>\n",
       "      <th></th>\n",
       "      <th></th>\n",
       "      <th></th>\n",
       "      <th></th>\n",
       "      <th></th>\n",
       "      <th></th>\n",
       "      <th></th>\n",
       "      <th></th>\n",
       "    </tr>\n",
       "  </thead>\n",
       "  <tbody>\n",
       "    <tr>\n",
       "      <th>2014</th>\n",
       "      <td>43.76</td>\n",
       "      <td>13.28</td>\n",
       "      <td>47.76</td>\n",
       "      <td>100.00</td>\n",
       "      <td>0.24</td>\n",
       "      <td>11.90</td>\n",
       "      <td>3.75</td>\n",
       "      <td>22.03</td>\n",
       "      <td>34.74</td>\n",
       "      <td>54.07</td>\n",
       "    </tr>\n",
       "    <tr>\n",
       "      <th>2015</th>\n",
       "      <td>27.78</td>\n",
       "      <td>8.52</td>\n",
       "      <td>16.82</td>\n",
       "      <td>118.90</td>\n",
       "      <td>0.12</td>\n",
       "      <td>6.25</td>\n",
       "      <td>1.14</td>\n",
       "      <td>16.35</td>\n",
       "      <td>11.96</td>\n",
       "      <td>60.14</td>\n",
       "    </tr>\n",
       "    <tr>\n",
       "      <th>2016</th>\n",
       "      <td>15.14</td>\n",
       "      <td>5.25</td>\n",
       "      <td>3.60</td>\n",
       "      <td>69.25</td>\n",
       "      <td>0.00</td>\n",
       "      <td>4.25</td>\n",
       "      <td>0.18</td>\n",
       "      <td>4.60</td>\n",
       "      <td>1.52</td>\n",
       "      <td>26.15</td>\n",
       "    </tr>\n",
       "  </tbody>\n",
       "</table>\n",
       "</div>"
      ],
      "text/plain": [
       "platform           3DS     PC    PS3     PS4   PSP    PSV   Wii   WiiU   X360  \\\n",
       "year_of_release                                                                 \n",
       "2014             43.76  13.28  47.76  100.00  0.24  11.90  3.75  22.03  34.74   \n",
       "2015             27.78   8.52  16.82  118.90  0.12   6.25  1.14  16.35  11.96   \n",
       "2016             15.14   5.25   3.60   69.25  0.00   4.25  0.18   4.60   1.52   \n",
       "\n",
       "platform          XOne  \n",
       "year_of_release         \n",
       "2014             54.07  \n",
       "2015             60.14  \n",
       "2016             26.15  "
      ]
     },
     "execution_count": 22,
     "metadata": {},
     "output_type": "execute_result"
    }
   ],
   "source": [
    "platforms_pivot_by_years_current.head()"
   ]
  },
  {
   "cell_type": "markdown",
   "metadata": {},
   "source": [
    "### Текущие тенденции в лидирующих платформах и перспективы доходности"
   ]
  },
  {
   "cell_type": "markdown",
   "metadata": {},
   "source": [
    "Безусловным лидером является PlayStation 2 компании Sony. Как мы видим, популярные платформы живут в среднем около 11 лет \n",
    "(при этом проявляя довольно небольшой разброс от этой величины). По 3-4 года на каждую из трех стадий - набор популярности, пик и спад. Практически все шесть популярных платформ, судя по всему, прошли весь свой жизненный цикл. Теоретически, с точки \n",
    "зрения будущей прибыльности можно обратиться к платформам за пределами ТОП6. "
   ]
  },
  {
   "cell_type": "code",
   "execution_count": 23,
   "metadata": {},
   "outputs": [
    {
     "data": {
      "image/png": "[encoded data removed]",
      "text/plain": [
       "<Figure size 432x432 with 1 Axes>"
      ]
     },
     "metadata": {
      "needs_background": "light"
     },
     "output_type": "display_data"
    },
    {
     "data": {
      "image/png": "[encoded data removed]",
      "text/plain": [
       "<Figure size 432x432 with 1 Axes>"
      ]
     },
     "metadata": {
      "needs_background": "light"
     },
     "output_type": "display_data"
    },
    {
     "data": {
      "image/png": "[encoded data removed]",
      "text/plain": [
       "<Figure size 432x432 with 1 Axes>"
      ]
     },
     "metadata": {
      "needs_background": "light"
     },
     "output_type": "display_data"
    },
    {
     "data": {
      "image/png": "[encoded data removed]",
      "text/plain": [
       "<Figure size 432x432 with 1 Axes>"
      ]
     },
     "metadata": {
      "needs_background": "light"
     },
     "output_type": "display_data"
    },
    {
     "data": {
      "image/png": "[encoded data removed]",
      "text/plain": [
       "<Figure size 432x432 with 1 Axes>"
      ]
     },
     "metadata": {
      "needs_background": "light"
     },
     "output_type": "display_data"
    },
    {
     "data": {
      "image/png": "[encoded data removed]",
      "text/plain": [
       "<Figure size 432x432 with 1 Axes>"
      ]
     },
     "metadata": {
      "needs_background": "light"
     },
     "output_type": "display_data"
    },
    {
     "data": {
      "image/png": "[encoded data removed]",
      "text/plain": [
       "<Figure size 432x432 with 1 Axes>"
      ]
     },
     "metadata": {
      "needs_background": "light"
     },
     "output_type": "display_data"
    },
    {
     "data": {
      "image/png": "[encoded data removed]",
      "text/plain": [
       "<Figure size 432x432 with 1 Axes>"
      ]
     },
     "metadata": {
      "needs_background": "light"
     },
     "output_type": "display_data"
    },
    {
     "data": {
      "image/png": "[encoded data removed]",
      "text/plain": [
       "<Figure size 432x432 with 1 Axes>"
      ]
     },
     "metadata": {
      "needs_background": "light"
     },
     "output_type": "display_data"
    },
    {
     "data": {
      "image/png": "[encoded data removed]",
      "text/plain": [
       "<Figure size 432x432 with 1 Axes>"
      ]
     },
     "metadata": {
      "needs_background": "light"
     },
     "output_type": "display_data"
    },
    {
     "data": {
      "image/png": "[encoded data removed]",
      "text/plain": [
       "<Figure size 432x432 with 1 Axes>"
      ]
     },
     "metadata": {
      "needs_background": "light"
     },
     "output_type": "display_data"
    },
    {
     "data": {
      "image/png": "[encoded data removed]",
      "text/plain": [
       "<Figure size 432x432 with 1 Axes>"
      ]
     },
     "metadata": {
      "needs_background": "light"
     },
     "output_type": "display_data"
    },
    {
     "data": {
      "image/png": "[encoded data removed]",
      "text/plain": [
       "<Figure size 432x432 with 1 Axes>"
      ]
     },
     "metadata": {
      "needs_background": "light"
     },
     "output_type": "display_data"
    },
    {
     "data": {
      "image/png": "[encoded data removed]",
      "text/plain": [
       "<Figure size 432x432 with 1 Axes>"
      ]
     },
     "metadata": {
      "needs_background": "light"
     },
     "output_type": "display_data"
    }
   ],
   "source": [
    "platforms_pivot_by_years_for_seven = platforms_pivot_by_years.query('year_of_release >= 2008')\n",
    "platforms_pivot_by_years_for_seven = platforms_pivot_by_years_for_seven.\\\n",
    "loc[:, (platforms_pivot_by_years_for_seven**2).sum() != 0]\n",
    "for el in platforms_pivot_by_years_for_seven.columns.tolist():\n",
    "    platforms_pivot_by_years_for_seven[el].plot.bar(figsize = (6, 6), title = el)\n",
    "    plt.show();"
   ]
  },
  {
   "cell_type": "markdown",
   "metadata": {},
   "source": [
    "Какие платформы нам могут быть интересны? \n",
    "1. Во-первых, средний срок жизни платформы, как видели, весьма недолог, порядка 11 лет для самых успешных. Поэтому сразу отбросим платформы, для которых безжалостное колесо Сансары,  с большой вероятностью, уже вскоре совершит свой полный оборот, т.е. платформы, появившиеся на свет больше 5-6 лет назад. В связи с этим, по понятной необходимости, мы несколько расширили временные рамки по сравнению с выбранным нами \"актуальным\" трехлетним периодом, однако и не стали делать их слишком широкими, ограничив 7 годами). \n",
    "2. С другой стороны, как мы видели, некоторые платформы не переживают и двух лет. Поэтому введем еще один критерий: доход за прошлый, т.е. 2015 год, не должен быть существенно ниже дохода за год, предшествующий прошлому, т.е. за 2014 год.\n",
    "Таким требованиям отвечают всего две платформы. PS4 (три полных года с момента выхода, доход на текущий момент - 314 миллионов долларов дохода) и XOne компании Microsoft (три полных года существования, доход 159 миллионов долларов). Исходя из имеющегося опыта и текущих тенеденций, можно предположить, что  наибольшие шансы собрать самый щедрый урожай денежных поступлений имеет новейший продукт компании Sony. "
   ]
  },
  {
   "cell_type": "markdown",
   "metadata": {},
   "source": [
    "### Характеристика распределения доходов \n"
   ]
  },
  {
   "cell_type": "markdown",
   "metadata": {},
   "source": [
    "Построим \"ящик с усами\""
   ]
  },
  {
   "cell_type": "code",
   "execution_count": 24,
   "metadata": {},
   "outputs": [
    {
     "data": {
      "image/png": "[encoded data removed]",
      "text/plain": [
       "<Figure size 1080x360 with 1 Axes>"
      ]
     },
     "metadata": {
      "needs_background": "light"
     },
     "output_type": "display_data"
    }
   ],
   "source": [
    "#построим \"ящик с усами\" для всех платформ\n",
    "plt.figure(figsize=(15, 5))\n",
    "sns.boxplot(data = current_data, y = 'total_sales', x='platform'). \\\n",
    "set(title = 'Продажи по текущим платформам за 2014-2016 гг', \n",
    "         xlabel = 'Платформы', \n",
    "         ylabel = 'Общие продажи', ylim=(0, 1))\n",
    "plt.show()"
   ]
  },
  {
   "cell_type": "code",
   "execution_count": 25,
   "metadata": {},
   "outputs": [
    {
     "data": {
      "image/png": "[encoded data removed]",
      "text/plain": [
       "<Figure size 432x504 with 1 Axes>"
      ]
     },
     "metadata": {
      "needs_background": "light"
     },
     "output_type": "display_data"
    }
   ],
   "source": [
    "#построим \"ящик с усами\" для крупнейших платформ\n",
    "plt.figure(figsize=(6, 7))\n",
    "sns.boxplot(data = current_data_for_biggest_platforms, y = 'total_sales', x='platform'). \\\n",
    "set(title = 'Продажи по крупнейшим платформам за 2014-2016 гг', xlabel = 'Платформы', ylabel = 'Общие продажи', ylim=(0, 3))\n",
    "plt.show()"
   ]
  },
  {
   "cell_type": "markdown",
   "metadata": {},
   "source": [
    "Характерный паттерн: медиана практически везде явно ниже средней, распределение скошено вправо (положительно ассиметричное). Можно предположить, что игры как правило обеспечивают умеренный доход или даже оказываются убыточными, но если \"выстреливают\", то нередко приносят сверхприбыль, которая с лихвой способна окупить все предшествующие потери. Отметим еще, что из шести исторически самых успешных платформ к текущему периоду выбыли три.  "
   ]
  },
  {
   "cell_type": "markdown",
   "metadata": {},
   "source": [
    "### Установление корреляционной связи между продажами и отзывами пользователей/критиков "
   ]
  },
  {
   "cell_type": "markdown",
   "metadata": {},
   "source": [
    "Целесообразно выбрать платформу для анализа корреляция, опираясь на количество непустых оценок как от пользователей, \n",
    "так и от зрителей. Посмотрим как обстоит с этим дело у разных платформ:"
   ]
  },
  {
   "cell_type": "code",
   "execution_count": 26,
   "metadata": {},
   "outputs": [
    {
     "data": {
      "text/html": [
       "<div>\n",
       "<style scoped>\n",
       "    .dataframe tbody tr th:only-of-type {\n",
       "        vertical-align: middle;\n",
       "    }\n",
       "\n",
       "    .dataframe tbody tr th {\n",
       "        vertical-align: top;\n",
       "    }\n",
       "\n",
       "    .dataframe thead th {\n",
       "        text-align: right;\n",
       "    }\n",
       "</style>\n",
       "<table border=\"1\" class=\"dataframe\">\n",
       "  <thead>\n",
       "    <tr style=\"text-align: right;\">\n",
       "      <th></th>\n",
       "      <th>critic_score</th>\n",
       "      <th>user_score</th>\n",
       "    </tr>\n",
       "    <tr>\n",
       "      <th>platform</th>\n",
       "      <th></th>\n",
       "      <th></th>\n",
       "    </tr>\n",
       "  </thead>\n",
       "  <tbody>\n",
       "    <tr>\n",
       "      <th>3DS</th>\n",
       "      <td>168</td>\n",
       "      <td>174</td>\n",
       "    </tr>\n",
       "    <tr>\n",
       "      <th>DC</th>\n",
       "      <td>14</td>\n",
       "      <td>14</td>\n",
       "    </tr>\n",
       "    <tr>\n",
       "      <th>DS</th>\n",
       "      <td>717</td>\n",
       "      <td>516</td>\n",
       "    </tr>\n",
       "    <tr>\n",
       "      <th>GBA</th>\n",
       "      <td>438</td>\n",
       "      <td>255</td>\n",
       "    </tr>\n",
       "    <tr>\n",
       "      <th>GC</th>\n",
       "      <td>448</td>\n",
       "      <td>366</td>\n",
       "    </tr>\n",
       "    <tr>\n",
       "      <th>PC</th>\n",
       "      <td>715</td>\n",
       "      <td>770</td>\n",
       "    </tr>\n",
       "    <tr>\n",
       "      <th>PS</th>\n",
       "      <td>200</td>\n",
       "      <td>162</td>\n",
       "    </tr>\n",
       "    <tr>\n",
       "      <th>PS2</th>\n",
       "      <td>1298</td>\n",
       "      <td>1241</td>\n",
       "    </tr>\n",
       "    <tr>\n",
       "      <th>PS3</th>\n",
       "      <td>820</td>\n",
       "      <td>877</td>\n",
       "    </tr>\n",
       "    <tr>\n",
       "      <th>PS4</th>\n",
       "      <td>252</td>\n",
       "      <td>257</td>\n",
       "    </tr>\n",
       "    <tr>\n",
       "      <th>PSP</th>\n",
       "      <td>462</td>\n",
       "      <td>421</td>\n",
       "    </tr>\n",
       "    <tr>\n",
       "      <th>PSV</th>\n",
       "      <td>120</td>\n",
       "      <td>143</td>\n",
       "    </tr>\n",
       "    <tr>\n",
       "      <th>Wii</th>\n",
       "      <td>585</td>\n",
       "      <td>560</td>\n",
       "    </tr>\n",
       "    <tr>\n",
       "      <th>WiiU</th>\n",
       "      <td>90</td>\n",
       "      <td>100</td>\n",
       "    </tr>\n",
       "    <tr>\n",
       "      <th>X360</th>\n",
       "      <td>916</td>\n",
       "      <td>966</td>\n",
       "    </tr>\n",
       "    <tr>\n",
       "      <th>XB</th>\n",
       "      <td>725</td>\n",
       "      <td>586</td>\n",
       "    </tr>\n",
       "    <tr>\n",
       "      <th>XOne</th>\n",
       "      <td>169</td>\n",
       "      <td>182</td>\n",
       "    </tr>\n",
       "  </tbody>\n",
       "</table>\n",
       "</div>"
      ],
      "text/plain": [
       "          critic_score  user_score\n",
       "platform                          \n",
       "3DS                168         174\n",
       "DC                  14          14\n",
       "DS                 717         516\n",
       "GBA                438         255\n",
       "GC                 448         366\n",
       "PC                 715         770\n",
       "PS                 200         162\n",
       "PS2               1298        1241\n",
       "PS3                820         877\n",
       "PS4                252         257\n",
       "PSP                462         421\n",
       "PSV                120         143\n",
       "Wii                585         560\n",
       "WiiU                90         100\n",
       "X360               916         966\n",
       "XB                 725         586\n",
       "XOne               169         182"
      ]
     },
     "execution_count": 26,
     "metadata": {},
     "output_type": "execute_result"
    }
   ],
   "source": [
    "data.pivot_table(index = 'platform', values = ['user_score', 'critic_score'], aggfunc = 'count').\\\n",
    "query('critic_score !=0 & user_score!= 0')\n"
   ]
  },
  {
   "cell_type": "markdown",
   "metadata": {},
   "source": [
    "Очевидный выбор, ожидаемо, PS2. У неё всё хорошо обстоит, с количеством оценок как от зрителей, так и от критиков"
   ]
  },
  {
   "cell_type": "code",
   "execution_count": 27,
   "metadata": {},
   "outputs": [],
   "source": [
    "\n",
    "ps2_platform_user_score = data.query('platform == \"PS2\" & user_score.notna() == True')\n",
    "\n",
    "ps2_platform_critic_score = data.query('platform == \"PS2\" & critic_score.notna() == True')\n",
    "\n"
   ]
  },
  {
   "cell_type": "code",
   "execution_count": 28,
   "metadata": {},
   "outputs": [
    {
     "name": "stdout",
     "output_type": "stream",
     "text": [
      "Корреляция между продажами и оценкой зрителей: 0.16422781496214145\n",
      "Корреляция между продажами и оценкой критиков: 0.3954345494545487\n"
     ]
    }
   ],
   "source": [
    "corr1 = ps2_platform_user_score['total_sales'].corr(ps2_platform_user_score['user_score']) \n",
    "corr2 = ps2_platform_critic_score['total_sales'].corr(ps2_platform_critic_score['critic_score'])\n",
    "\n",
    "print('Корреляция между продажами и оценкой зрителей:', corr1)\n",
    "print ('Корреляция между продажами и оценкой критиков:', corr2)"
   ]
  },
  {
   "cell_type": "code",
   "execution_count": 29,
   "metadata": {},
   "outputs": [
    {
     "data": {
      "image/png": "[encoded data removed]",
      "text/plain": [
       "<Figure size 720x504 with 1 Axes>"
      ]
     },
     "metadata": {
      "needs_background": "light"
     },
     "output_type": "display_data"
    }
   ],
   "source": [
    "ps2_platform_user_score.plot(\n",
    "    kind='scatter', \n",
    "    x='user_score', \n",
    "    y='total_sales', \n",
    "    figsize = (10,7),\n",
    "    title = 'Диаграмма рассеяния доходов в связи с оценками зрителей') ;"
   ]
  },
  {
   "cell_type": "code",
   "execution_count": 30,
   "metadata": {},
   "outputs": [
    {
     "data": {
      "image/png": "[encoded data removed]",
      "text/plain": [
       "<Figure size 720x504 with 1 Axes>"
      ]
     },
     "metadata": {
      "needs_background": "light"
     },
     "output_type": "display_data"
    }
   ],
   "source": [
    "ps2_platform_critic_score.plot(\n",
    "    kind='scatter', \n",
    "    x='critic_score', \n",
    "    y='total_sales', \n",
    "    figsize = (10,7),\n",
    "    title = 'Диаграмма рассеяния доходов в связи с оценками критиков');"
   ]
  },
  {
   "cell_type": "markdown",
   "metadata": {},
   "source": [
    "Несколько неожиданно, что корреляция между оценками пользователей и продажами очень слабая. Связь между продажами и оценками критиков заметно выше, хотя тоже попадает в категорию \"слабая\". "
   ]
  },
  {
   "cell_type": "markdown",
   "metadata": {},
   "source": [
    "Впрочем, несложно убедиться, что это не случайный, а довольно устойчивый паттерн. Крайне слабая корреляция с оценками зрителей, и просто слабая корреляция с оценками критиков."
   ]
  },
  {
   "cell_type": "code",
   "execution_count": 31,
   "metadata": {},
   "outputs": [],
   "source": [
    "def score_cor(plat, df, column1, column2, column3, column4):\n",
    "    platform_user = df.loc[(data[column1] == plat) & (df[column2].notna() ==True)]\n",
    "    platform_critic = df.loc[(data[column1] == plat) & (df[column2].notna() ==True)]                          \n",
    "    corr1 = platform_user[column4].corr(platform_user[column2]) \n",
    "    corr2 = platform_critic[column4].corr(platform_critic[column3])\n",
    "    return corr1, corr2"
   ]
  },
  {
   "cell_type": "code",
   "execution_count": 32,
   "metadata": {
    "scrolled": true
   },
   "outputs": [
    {
     "name": "stdout",
     "output_type": "stream",
     "text": [
      "Платформа: 3DS Корреляция с оценкой зрителей: 0.19132047772966554 Корреляция с оценкой критиков: 0.28468579095782925\n",
      "Платформа: PC Корреляция с оценкой зрителей: -0.09380206676369776 Корреляция с оценкой критиков: 0.17206091490145103\n",
      "Платформа: PS3 Корреляция с оценкой зрителей: -0.17887455976101532 Корреляция с оценкой критиков: 0.44657460493190704\n",
      "Платформа: PS4 Корреляция с оценкой зрителей: -0.029548306667432894 Корреляция с оценкой критиков: 0.40190287811475334\n",
      "Платформа: PSP Корреляция с оценкой зрителей: nan Корреляция с оценкой критиков: nan\n",
      "Платформа: PSV Корреляция с оценкой зрителей: -0.17040194142758033 Корреляция с оценкой критиков: 0.04102908974171329\n",
      "Платформа: Wii Корреляция с оценкой зрителей: 1.0 Корреляция с оценкой критиков: nan\n",
      "Платформа: WiiU Корреляция с оценкой зрителей: 0.40015098184753445 Корреляция с оценкой критиков: 0.3756402218389979\n",
      "Платформа: X360 Корреляция с оценкой зрителей: -0.14256679378413728 Корреляция с оценкой критиков: 0.5257228356581523\n",
      "Платформа: XOne Корреляция с оценкой зрителей: -0.07850821180181414 Корреляция с оценкой критиков: 0.4221118510555765\n"
     ]
    }
   ],
   "source": [
    "for el in platforms_pivot_by_years_current.columns.to_list():\n",
    "    print('Платформа:', el, 'Корреляция с оценкой зрителей:', score_cor(el, current_data, 'platform', 'user_score', 'critic_score', 'total_sales')[0], 'Корреляция с оценкой критиков:', score_cor(el, current_data, 'platform', 'user_score', 'critic_score', 'total_sales')[1])"
   ]
  },
  {
   "cell_type": "markdown",
   "metadata": {},
   "source": [
    "### Анализ популярности жанров"
   ]
  },
  {
   "cell_type": "code",
   "execution_count": 33,
   "metadata": {},
   "outputs": [],
   "source": [
    "#Алгоритм построения диаграмм для жанров и платформ будет достаточно единообразным, поэтому имеет смысл определить функцию\n",
    "def plot_building(df, column, region, method):\n",
    "    pivot= df.pivot_table(index = column, values = region, aggfunc = method).sort_values(by = region, ascending = False)\n",
    "    if column == 'platform':\n",
    "        h = 9\n",
    "        v = 8\n",
    "    elif column == 'genre':\n",
    "        h = 10\n",
    "        v = 6\n",
    "    \n",
    "    plt.figure(figsize=(h, v)) \n",
    "    sns.barplot(y = pivot.index, x = region, data = pivot)\n",
    "     "
   ]
  },
  {
   "cell_type": "markdown",
   "metadata": {},
   "source": [
    "Посмотрим, какие жанры являются самыми популярными"
   ]
  },
  {
   "cell_type": "code",
   "execution_count": 34,
   "metadata": {},
   "outputs": [
    {
     "data": {
      "image/png": "[encoded data removed]",
      "text/plain": [
       "<Figure size 720x432 with 1 Axes>"
      ]
     },
     "metadata": {
      "needs_background": "light"
     },
     "output_type": "display_data"
    }
   ],
   "source": [
    "plot_building(current_data, 'genre', 'total_sales', 'mean')"
   ]
  },
  {
   "cell_type": "markdown",
   "metadata": {},
   "source": [
    "Стрелялки, спортивные игры и платформеры  в тройке самых популярных жанров. В хвосте - жанры \"Стратегии\" и \"Приключения\". "
   ]
  },
  {
   "cell_type": "markdown",
   "metadata": {},
   "source": [
    "## Портрет пользователей по регионам"
   ]
  },
  {
   "cell_type": "markdown",
   "metadata": {},
   "source": [
    "### Самые популярные платформы по регионам"
   ]
  },
  {
   "cell_type": "markdown",
   "metadata": {},
   "source": [
    "#### Северная Америка"
   ]
  },
  {
   "cell_type": "code",
   "execution_count": 35,
   "metadata": {},
   "outputs": [
    {
     "data": {
      "image/png": "[encoded data removed]",
      "text/plain": [
       "<Figure size 648x576 with 1 Axes>"
      ]
     },
     "metadata": {
      "needs_background": "light"
     },
     "output_type": "display_data"
    }
   ],
   "source": [
    "plot_building(current_data, 'platform', 'na_sales', 'sum')"
   ]
  },
  {
   "cell_type": "markdown",
   "metadata": {},
   "source": [
    "#### Европейский Союз"
   ]
  },
  {
   "cell_type": "code",
   "execution_count": 36,
   "metadata": {},
   "outputs": [
    {
     "data": {
      "image/png": "[encoded data removed]",
      "text/plain": [
       "<Figure size 648x576 with 1 Axes>"
      ]
     },
     "metadata": {
      "needs_background": "light"
     },
     "output_type": "display_data"
    }
   ],
   "source": [
    "plot_building(current_data, 'platform', 'eu_sales', 'sum')"
   ]
  },
  {
   "cell_type": "markdown",
   "metadata": {},
   "source": [
    "#### Япония"
   ]
  },
  {
   "cell_type": "code",
   "execution_count": 37,
   "metadata": {
    "scrolled": false
   },
   "outputs": [
    {
     "data": {
      "image/png": "[encoded data removed]",
      "text/plain": [
       "<Figure size 648x576 with 1 Axes>"
      ]
     },
     "metadata": {
      "needs_background": "light"
     },
     "output_type": "display_data"
    }
   ],
   "source": [
    "plot_building(current_data, 'platform', 'jp_sales', 'sum')"
   ]
  },
  {
   "cell_type": "markdown",
   "metadata": {},
   "source": [
    "#### Другие страны"
   ]
  },
  {
   "cell_type": "code",
   "execution_count": 38,
   "metadata": {},
   "outputs": [
    {
     "data": {
      "image/png": "[encoded data removed]",
      "text/plain": [
       "<Figure size 648x576 with 1 Axes>"
      ]
     },
     "metadata": {
      "needs_background": "light"
     },
     "output_type": "display_data"
    }
   ],
   "source": [
    "plot_building(current_data, 'platform', 'other_sales', 'sum')"
   ]
  },
  {
   "cell_type": "markdown",
   "metadata": {},
   "source": [
    "Выводы: выделяются три крупнейших производителя: японская компания Sony с линейкой PlayStation, Microsoft со своими XBox-ами и  Nintendo с 3DS. Продукция японских фирм занимает первую позицию во всем мире. Даже в США, традиционно лояльных отечественной продукции, верхняя строчка по популярности принадлежит PS4. Япония характеризуется не только тем, что все три первых места завоеваны в сердах японцах местными производителями, но и тем, что там доминирует  консоль 3DS, которая в остальном мире не попадает даже в ТОП5. "
   ]
  },
  {
   "cell_type": "markdown",
   "metadata": {},
   "source": [
    "### Самые популярные жанры по регионам"
   ]
  },
  {
   "cell_type": "markdown",
   "metadata": {},
   "source": [
    "#### Северная Америка"
   ]
  },
  {
   "cell_type": "code",
   "execution_count": 39,
   "metadata": {},
   "outputs": [
    {
     "data": {
      "image/png": "[encoded data removed]",
      "text/plain": [
       "<Figure size 720x432 with 1 Axes>"
      ]
     },
     "metadata": {
      "needs_background": "light"
     },
     "output_type": "display_data"
    }
   ],
   "source": [
    "\n",
    "plot_building(current_data, 'genre', 'na_sales', 'mean')"
   ]
  },
  {
   "cell_type": "markdown",
   "metadata": {},
   "source": [
    "#### Европейский Союз"
   ]
  },
  {
   "cell_type": "code",
   "execution_count": 40,
   "metadata": {},
   "outputs": [
    {
     "data": {
      "image/png": "[encoded data removed]",
      "text/plain": [
       "<Figure size 720x432 with 1 Axes>"
      ]
     },
     "metadata": {
      "needs_background": "light"
     },
     "output_type": "display_data"
    }
   ],
   "source": [
    "\n",
    "plot_building(current_data, 'genre', 'eu_sales', 'mean')"
   ]
  },
  {
   "cell_type": "markdown",
   "metadata": {},
   "source": [
    "#### Япония"
   ]
  },
  {
   "cell_type": "code",
   "execution_count": 41,
   "metadata": {},
   "outputs": [
    {
     "data": {
      "image/png": "[encoded data removed]",
      "text/plain": [
       "<Figure size 720x432 with 1 Axes>"
      ]
     },
     "metadata": {
      "needs_background": "light"
     },
     "output_type": "display_data"
    }
   ],
   "source": [
    "plot_building(current_data, 'genre', 'jp_sales', 'mean')"
   ]
  },
  {
   "cell_type": "markdown",
   "metadata": {},
   "source": [
    "#### Другие страны"
   ]
  },
  {
   "cell_type": "code",
   "execution_count": 42,
   "metadata": {},
   "outputs": [
    {
     "data": {
      "image/png": "[encoded data removed]",
      "text/plain": [
       "<Figure size 720x432 with 1 Axes>"
      ]
     },
     "metadata": {
      "needs_background": "light"
     },
     "output_type": "display_data"
    }
   ],
   "source": [
    "plot_building(current_data, 'genre', 'other_sales', 'mean')"
   ]
  },
  {
   "cell_type": "markdown",
   "metadata": {},
   "source": [
    "В Европе, в Северной Америке, и в остальных странах в целом, на двух первых местах стрелялки и спортивные игры - такая ситуация, как в мире в целом. США отличается лишь тем, что на третьем месте здесь не платформеры, как в большинстве регионов, или в мире в целом, а файтинги. Особняком стоит Япония, где самым популярным жанром являются ролевые игры, мировые середнячки, а два следующих места занимают файтинги и платформеры. Напротив же, стрелялки, один из безусловных лидеров во всём мире, переместились там аж на восьмое место. Можно предположить, что это связано с культурными особенностями этой страны. "
   ]
  },
  {
   "cell_type": "markdown",
   "metadata": {},
   "source": [
    "### Влияние рейтинга ESRB на продажи в отдельном регионе"
   ]
  },
  {
   "cell_type": "markdown",
   "metadata": {},
   "source": [
    "Этот вопрос можно разделить на две части:\n",
    "1. Как различаются между средние продажи игры для игр с рейтингом и без, т.е. насколько влияет наличие или отсутствие\n",
    "рейтинга ESRB на продажи в тех или иных регионах. \n",
    "2. Как различаются средние продажи в расчёте на один релиз в зависимости от _конкретного_ рейтинга или отсутствия рейтинга\n"
   ]
  },
  {
   "cell_type": "markdown",
   "metadata": {},
   "source": [
    "Рассмотрим первый вопрос"
   ]
  },
  {
   "cell_type": "code",
   "execution_count": 43,
   "metadata": {},
   "outputs": [],
   "source": [
    "#Создали новый столбец 'bi_rating', куда поместили бинарное значение - \"известен рейтинг\"/\"неизвестен рейтинг\"\n",
    "current_data = current_data.copy()\n",
    "current_data['bi_rating'] = current_data['rating']\n",
    "current_data['bi_rating'].where(current_data['rating']=='unknown', 'known', inplace = True);"
   ]
  },
  {
   "cell_type": "code",
   "execution_count": 44,
   "metadata": {},
   "outputs": [],
   "source": [
    "#Создали сводную таблицу по бинарному значению с разбивкой по регионам с агрегированием по средней\n",
    "rating_bi_grouping = current_data.pivot_table \\\n",
    "(index = 'bi_rating', values = ['total_sales','eu_sales', 'na_sales', 'jp_sales', 'other_sales'], aggfunc = 'mean')"
   ]
  },
  {
   "cell_type": "code",
   "execution_count": 45,
   "metadata": {},
   "outputs": [
    {
     "data": {
      "text/html": [
       "<div>\n",
       "<style scoped>\n",
       "    .dataframe tbody tr th:only-of-type {\n",
       "        vertical-align: middle;\n",
       "    }\n",
       "\n",
       "    .dataframe tbody tr th {\n",
       "        vertical-align: top;\n",
       "    }\n",
       "\n",
       "    .dataframe thead th {\n",
       "        text-align: right;\n",
       "    }\n",
       "</style>\n",
       "<table border=\"1\" class=\"dataframe\">\n",
       "  <thead>\n",
       "    <tr style=\"text-align: right;\">\n",
       "      <th></th>\n",
       "      <th>eu_sales</th>\n",
       "      <th>jp_sales</th>\n",
       "      <th>na_sales</th>\n",
       "      <th>other_sales</th>\n",
       "      <th>total_sales</th>\n",
       "    </tr>\n",
       "    <tr>\n",
       "      <th>bi_rating</th>\n",
       "      <th></th>\n",
       "      <th></th>\n",
       "      <th></th>\n",
       "      <th></th>\n",
       "      <th></th>\n",
       "    </tr>\n",
       "  </thead>\n",
       "  <tbody>\n",
       "    <tr>\n",
       "      <th>known</th>\n",
       "      <td>0.225245</td>\n",
       "      <td>0.038500</td>\n",
       "      <td>0.233340</td>\n",
       "      <td>0.067255</td>\n",
       "      <td>0.564340</td>\n",
       "    </tr>\n",
       "    <tr>\n",
       "      <th>unknown</th>\n",
       "      <td>0.078705</td>\n",
       "      <td>0.075968</td>\n",
       "      <td>0.086409</td>\n",
       "      <td>0.024566</td>\n",
       "      <td>0.265648</td>\n",
       "    </tr>\n",
       "  </tbody>\n",
       "</table>\n",
       "</div>"
      ],
      "text/plain": [
       "           eu_sales  jp_sales  na_sales  other_sales  total_sales\n",
       "bi_rating                                                        \n",
       "known      0.225245  0.038500  0.233340     0.067255     0.564340\n",
       "unknown    0.078705  0.075968  0.086409     0.024566     0.265648"
      ]
     },
     "metadata": {},
     "output_type": "display_data"
    }
   ],
   "source": [
    "display(rating_bi_grouping);"
   ]
  },
  {
   "cell_type": "code",
   "execution_count": 46,
   "metadata": {},
   "outputs": [
    {
     "data": {
      "image/png": "[encoded data removed]",
      "text/plain": [
       "<Figure size 432x288 with 1 Axes>"
      ]
     },
     "metadata": {
      "needs_background": "light"
     },
     "output_type": "display_data"
    }
   ],
   "source": [
    "rating_bi_grouping.T.plot.bar();"
   ]
  },
  {
   "cell_type": "markdown",
   "metadata": {},
   "source": [
    "Мы видим следующую картину: как мире в целом, так и большинстве регионов на средний релиз с _каким-нибудь_ рейтингом ESRB приходится больше доходов, чем на игры без рейтинга. Но опять особняком стоит Япония, где доход на средний релиз  без рейтинга ESRB более чем в два раза превышает сумму, которую в среднем собирает релиз, получивший оценку от Entertainment Software Rating Board.\n",
    "Это может говорить о том, что в Японии сложилась собственная экосистема, в которой продукция местной индустрии цифровых игр пользуется безусловным авторитетом, а признание или непризнание тех или иных игр за пределами никак не влияет на их популярность\n",
    "в пределах этой страны."
   ]
  },
  {
   "cell_type": "markdown",
   "metadata": {},
   "source": [
    "Теперь более внимательно посмотрим на то, как связаны средние продажи на один релиз с конкретными рейтингами ESRB с разбивкой по регионам. "
   ]
  },
  {
   "cell_type": "code",
   "execution_count": 47,
   "metadata": {},
   "outputs": [],
   "source": [
    "rating_grouping = current_data.query('rating.notna() == True').pivot_table \\\n",
    "(index = 'rating', values = ['total_sales','eu_sales', 'na_sales', 'jp_sales', 'other_sales'], aggfunc = 'mean')"
   ]
  },
  {
   "cell_type": "code",
   "execution_count": 48,
   "metadata": {},
   "outputs": [
    {
     "data": {
      "text/html": [
       "<div>\n",
       "<style scoped>\n",
       "    .dataframe tbody tr th:only-of-type {\n",
       "        vertical-align: middle;\n",
       "    }\n",
       "\n",
       "    .dataframe tbody tr th {\n",
       "        vertical-align: top;\n",
       "    }\n",
       "\n",
       "    .dataframe thead th {\n",
       "        text-align: right;\n",
       "    }\n",
       "</style>\n",
       "<table border=\"1\" class=\"dataframe\">\n",
       "  <thead>\n",
       "    <tr style=\"text-align: right;\">\n",
       "      <th></th>\n",
       "      <th>eu_sales</th>\n",
       "      <th>jp_sales</th>\n",
       "      <th>na_sales</th>\n",
       "      <th>other_sales</th>\n",
       "      <th>total_sales</th>\n",
       "    </tr>\n",
       "    <tr>\n",
       "      <th>rating</th>\n",
       "      <th></th>\n",
       "      <th></th>\n",
       "      <th></th>\n",
       "      <th></th>\n",
       "      <th></th>\n",
       "    </tr>\n",
       "  </thead>\n",
       "  <tbody>\n",
       "    <tr>\n",
       "      <th>E</th>\n",
       "      <td>0.265114</td>\n",
       "      <td>0.040822</td>\n",
       "      <td>0.231689</td>\n",
       "      <td>0.070274</td>\n",
       "      <td>0.607900</td>\n",
       "    </tr>\n",
       "    <tr>\n",
       "      <th>E10+</th>\n",
       "      <td>0.141405</td>\n",
       "      <td>0.024108</td>\n",
       "      <td>0.179622</td>\n",
       "      <td>0.042324</td>\n",
       "      <td>0.387459</td>\n",
       "    </tr>\n",
       "    <tr>\n",
       "      <th>M</th>\n",
       "      <td>0.352604</td>\n",
       "      <td>0.030226</td>\n",
       "      <td>0.363849</td>\n",
       "      <td>0.108189</td>\n",
       "      <td>0.854868</td>\n",
       "    </tr>\n",
       "    <tr>\n",
       "      <th>T</th>\n",
       "      <td>0.125720</td>\n",
       "      <td>0.054539</td>\n",
       "      <td>0.143727</td>\n",
       "      <td>0.041808</td>\n",
       "      <td>0.365793</td>\n",
       "    </tr>\n",
       "    <tr>\n",
       "      <th>unknown</th>\n",
       "      <td>0.078705</td>\n",
       "      <td>0.075968</td>\n",
       "      <td>0.086409</td>\n",
       "      <td>0.024566</td>\n",
       "      <td>0.265648</td>\n",
       "    </tr>\n",
       "  </tbody>\n",
       "</table>\n",
       "</div>"
      ],
      "text/plain": [
       "         eu_sales  jp_sales  na_sales  other_sales  total_sales\n",
       "rating                                                         \n",
       "E        0.265114  0.040822  0.231689     0.070274     0.607900\n",
       "E10+     0.141405  0.024108  0.179622     0.042324     0.387459\n",
       "M        0.352604  0.030226  0.363849     0.108189     0.854868\n",
       "T        0.125720  0.054539  0.143727     0.041808     0.365793\n",
       "unknown  0.078705  0.075968  0.086409     0.024566     0.265648"
      ]
     },
     "metadata": {},
     "output_type": "display_data"
    }
   ],
   "source": [
    "display(rating_grouping)"
   ]
  },
  {
   "cell_type": "code",
   "execution_count": 49,
   "metadata": {},
   "outputs": [
    {
     "data": {
      "image/png": "[encoded data removed]",
      "text/plain": [
       "<Figure size 648x360 with 1 Axes>"
      ]
     },
     "metadata": {
      "needs_background": "light"
     },
     "output_type": "display_data"
    }
   ],
   "source": [
    "rating_grouping.T.plot.bar(figsize = (9, 5));"
   ]
  },
  {
   "cell_type": "markdown",
   "metadata": {},
   "source": [
    "Что же мы видим? Если говорить об общемировой ситуации, и ситуации в большинстве регионов, самый большой доход приходится на средний релиз с рейтингом М (для взрослых). Далее следует рейтинг \"без ограничений по возрасту\" (E) и игры 10 лет + (Е10+). В конце списка - игры для подростков. Обращение к составу каждой категории рейтинга по жанрам дает нам не так много (см. ниже). Стоит разве что отметить, что среди игр с рейтингом М стрелялки обладают самой большой долей по сравнению с долей стрелялок в играх с другими рейтингами. А ведь именно стрелялки являются самым успешными играми с точки зрения доходов. Возможно, в рамках более подробного анализа можно было бы обратиться еще к доходности игр тех или иных жанров в рамках каждого рейтинга, но это выходит за рамки нашего исследования. В Японии, как обычно, ситуация уникальна даже с порядком популярности игр, отмеченных рейтингом.   На втором месте по популярности после отечественных игр в Японии стоят (очевидно зарубежные) игры, расчитанные на подростков. Они в среднем собирают сумму сопоставимую с суммой, которую в среднем зарабатывают на одной игре местные производители. Возможно, это говорит том, что японские подроски более подвержены влиянию американской культуры и вписаны в глобальный игровой рынок, чем представители более старших поколений. Возможно, отчасти это объясняется еще и тем, что в этой группе солидный процент составляют ролевые игры, чрезвычайно популярные, как мы видели в Японии. "
   ]
  },
  {
   "cell_type": "code",
   "execution_count": 50,
   "metadata": {},
   "outputs": [],
   "source": [
    "slice_for_ratings = current_data.pivot_table\\\n",
    "(index = 'rating', columns = 'genre', values = 'platform', aggfunc = 'count' ).fillna(0).astype(int)"
   ]
  },
  {
   "cell_type": "code",
   "execution_count": 51,
   "metadata": {},
   "outputs": [],
   "source": [
    "slice_for_ratings['Sum'] = slice_for_ratings.sum(axis=1)"
   ]
  },
  {
   "cell_type": "code",
   "execution_count": 52,
   "metadata": {},
   "outputs": [
    {
     "data": {
      "text/html": [
       "<div>\n",
       "<style scoped>\n",
       "    .dataframe tbody tr th:only-of-type {\n",
       "        vertical-align: middle;\n",
       "    }\n",
       "\n",
       "    .dataframe tbody tr th {\n",
       "        vertical-align: top;\n",
       "    }\n",
       "\n",
       "    .dataframe thead th {\n",
       "        text-align: right;\n",
       "    }\n",
       "</style>\n",
       "<table border=\"1\" class=\"dataframe\">\n",
       "  <thead>\n",
       "    <tr style=\"text-align: right;\">\n",
       "      <th>genre</th>\n",
       "      <th>Action</th>\n",
       "      <th>Adventure</th>\n",
       "      <th>Fighting</th>\n",
       "      <th>Misc</th>\n",
       "      <th>Platform</th>\n",
       "      <th>Puzzle</th>\n",
       "      <th>Racing</th>\n",
       "      <th>Role-Playing</th>\n",
       "      <th>Shooter</th>\n",
       "      <th>Simulation</th>\n",
       "      <th>Sports</th>\n",
       "      <th>Strategy</th>\n",
       "      <th>Sum</th>\n",
       "    </tr>\n",
       "    <tr>\n",
       "      <th>rating</th>\n",
       "      <th></th>\n",
       "      <th></th>\n",
       "      <th></th>\n",
       "      <th></th>\n",
       "      <th></th>\n",
       "      <th></th>\n",
       "      <th></th>\n",
       "      <th></th>\n",
       "      <th></th>\n",
       "      <th></th>\n",
       "      <th></th>\n",
       "      <th></th>\n",
       "      <th></th>\n",
       "    </tr>\n",
       "  </thead>\n",
       "  <tbody>\n",
       "    <tr>\n",
       "      <th>E</th>\n",
       "      <td>35</td>\n",
       "      <td>0</td>\n",
       "      <td>0</td>\n",
       "      <td>10</td>\n",
       "      <td>17</td>\n",
       "      <td>5</td>\n",
       "      <td>43</td>\n",
       "      <td>2</td>\n",
       "      <td>0</td>\n",
       "      <td>10</td>\n",
       "      <td>97</td>\n",
       "      <td>0</td>\n",
       "      <td>219</td>\n",
       "    </tr>\n",
       "    <tr>\n",
       "      <th>E10+</th>\n",
       "      <td>83</td>\n",
       "      <td>15</td>\n",
       "      <td>3</td>\n",
       "      <td>23</td>\n",
       "      <td>12</td>\n",
       "      <td>2</td>\n",
       "      <td>6</td>\n",
       "      <td>9</td>\n",
       "      <td>13</td>\n",
       "      <td>3</td>\n",
       "      <td>13</td>\n",
       "      <td>3</td>\n",
       "      <td>185</td>\n",
       "    </tr>\n",
       "    <tr>\n",
       "      <th>M</th>\n",
       "      <td>118</td>\n",
       "      <td>21</td>\n",
       "      <td>3</td>\n",
       "      <td>3</td>\n",
       "      <td>0</td>\n",
       "      <td>0</td>\n",
       "      <td>0</td>\n",
       "      <td>44</td>\n",
       "      <td>76</td>\n",
       "      <td>0</td>\n",
       "      <td>0</td>\n",
       "      <td>0</td>\n",
       "      <td>265</td>\n",
       "    </tr>\n",
       "    <tr>\n",
       "      <th>T</th>\n",
       "      <td>87</td>\n",
       "      <td>13</td>\n",
       "      <td>32</td>\n",
       "      <td>16</td>\n",
       "      <td>4</td>\n",
       "      <td>0</td>\n",
       "      <td>4</td>\n",
       "      <td>52</td>\n",
       "      <td>22</td>\n",
       "      <td>9</td>\n",
       "      <td>22</td>\n",
       "      <td>10</td>\n",
       "      <td>271</td>\n",
       "    </tr>\n",
       "    <tr>\n",
       "      <th>unknown</th>\n",
       "      <td>296</td>\n",
       "      <td>136</td>\n",
       "      <td>22</td>\n",
       "      <td>61</td>\n",
       "      <td>5</td>\n",
       "      <td>7</td>\n",
       "      <td>16</td>\n",
       "      <td>114</td>\n",
       "      <td>17</td>\n",
       "      <td>22</td>\n",
       "      <td>29</td>\n",
       "      <td>24</td>\n",
       "      <td>749</td>\n",
       "    </tr>\n",
       "  </tbody>\n",
       "</table>\n",
       "</div>"
      ],
      "text/plain": [
       "genre    Action  Adventure  Fighting  Misc  Platform  Puzzle  Racing  \\\n",
       "rating                                                                 \n",
       "E            35          0         0    10        17       5      43   \n",
       "E10+         83         15         3    23        12       2       6   \n",
       "M           118         21         3     3         0       0       0   \n",
       "T            87         13        32    16         4       0       4   \n",
       "unknown     296        136        22    61         5       7      16   \n",
       "\n",
       "genre    Role-Playing  Shooter  Simulation  Sports  Strategy  Sum  \n",
       "rating                                                             \n",
       "E                   2        0          10      97         0  219  \n",
       "E10+                9       13           3      13         3  185  \n",
       "M                  44       76           0       0         0  265  \n",
       "T                  52       22           9      22        10  271  \n",
       "unknown           114       17          22      29        24  749  "
      ]
     },
     "metadata": {},
     "output_type": "display_data"
    }
   ],
   "source": [
    "display(slice_for_ratings)"
   ]
  },
  {
   "cell_type": "markdown",
   "metadata": {},
   "source": [
    "## Проверка гипотез"
   ]
  },
  {
   "cell_type": "markdown",
   "metadata": {},
   "source": [
    "### Гипотеза 1"
   ]
  },
  {
   "cell_type": "markdown",
   "metadata": {},
   "source": [
    "Нулевая гипотеза: средние пользовательские рейтинги платформ Xbox One и PC одинаковые.\n",
    "Альтернативная гипотеза: средние пользовательские рейтинги платформ Xbox One и PC разные."
   ]
  },
  {
   "cell_type": "markdown",
   "metadata": {},
   "source": [
    "Мы сравниваем две генеральные совокупности (игры на платформе XBox и игры на платформе PC). У нас  достаточно большие и сопоставимые по размеру совокупности и нет оснований думать, что дисперсии этих совокупностей разные. Поэтому параметр var примем в значении по умолчанию True. "
   ]
  },
  {
   "cell_type": "code",
   "execution_count": 53,
   "metadata": {},
   "outputs": [
    {
     "name": "stdout",
     "output_type": "stream",
     "text": [
      "Средний пользовательский рейтинг для платформ Xbox One 6.193939393939394\n",
      "Средний пользовательский рейтинг для платформы PC 5.819672131147541\n",
      "\n",
      "p-значение: 0.040304953182701546\n",
      "Отвергаем нулевую гипотезу\n"
     ]
    }
   ],
   "source": [
    "score_data = current_data[current_data['user_score'].notna()==True]\n",
    "print('Средний пользовательский рейтинг для платформ Xbox One', score_data.query('platform == \"XOne\"')['user_score'].mean())\n",
    "print('Средний пользовательский рейтинг для платформы PC', score_data.query('platform == \"PC\"')['user_score'].mean())\n",
    "print()\n",
    "\n",
    "results = st.ttest_ind(\n",
    "    score_data.query('platform == \"XOne\"')['user_score'], \n",
    "    score_data.query('platform == \"PC\"')['user_score'])\n",
    "\n",
    "alpha = 0.05\n",
    "print('p-значение:', results.pvalue)\n",
    "\n",
    "if results.pvalue < alpha:\n",
    "    print(\"Отвергаем нулевую гипотезу\")\n",
    "else:\n",
    "    print(\"Не получилось отвергнуть нулевую гипотезу\")"
   ]
  },
  {
   "cell_type": "markdown",
   "metadata": {},
   "source": [
    "Нет оснований утверждать, что пользовательские рейтинги платформ Xbox и PC разные."
   ]
  },
  {
   "cell_type": "markdown",
   "metadata": {},
   "source": [
    "### Гипотеза 2"
   ]
  },
  {
   "cell_type": "markdown",
   "metadata": {},
   "source": [
    "Нулевая гипотеза: средние пользовательские рейтинги жанров Action и Sports одинаковые.\n",
    "Альтернативная гипотеза: средние пользовательские рейтинги жанров Action и Sports разные."
   ]
  },
  {
   "cell_type": "markdown",
   "metadata": {},
   "source": [
    "Мы сравниваем две генеральные совокупности (игры на жанров Action и Sports). У нас  достаточно большие \n",
    "и сопоставимые по размеру совокупности и нет оснований думать, что дисперсии этих совокупностей разные. Поэтому параметр var\n",
    "примем в значении по умолчанию True. "
   ]
  },
  {
   "cell_type": "code",
   "execution_count": 54,
   "metadata": {},
   "outputs": [
    {
     "name": "stdout",
     "output_type": "stream",
     "text": [
      "Средний пользовательский рейтинг для жанра Action 6.28956228956229\n",
      "Средний пользовательский рейтинг для жанра Sports 4.834645669291339\n",
      "p-значение: 2.1299562188426056e-17\n",
      "Отвергаем нулевую гипотезу\n"
     ]
    }
   ],
   "source": [
    "\n",
    "print('Средний пользовательский рейтинг для жанра Action', score_data.query('genre == \"Action\"')['user_score'].mean())\n",
    "print('Средний пользовательский рейтинг для жанра Sports', score_data.query('genre == \"Sports\"')['user_score'].mean())\n",
    "\n",
    "\n",
    "results = st.ttest_ind(\n",
    "    score_data.query('genre == \"Action\"')['user_score'], \n",
    "    score_data.query('genre == \"Sports\"')['user_score'])\n",
    "\n",
    "alpha = 0.05\n",
    "print('p-значение:', results.pvalue)\n",
    "\n",
    "if results.pvalue < alpha:\n",
    "    print(\"Отвергаем нулевую гипотезу\")\n",
    "else:\n",
    "    print(\"Не получилось отвергнуть нулевую гипотезу\")"
   ]
  },
  {
   "cell_type": "markdown",
   "metadata": {},
   "source": [
    "Есть основания полагать, что средние пользовательские рейтинги жанров Action и Sports различаются."
   ]
  },
  {
   "cell_type": "markdown",
   "metadata": {},
   "source": [
    "## Выводы"
   ]
  },
  {
   "cell_type": "markdown",
   "metadata": {},
   "source": [
    "1. Мы изучили общую динамику рынка цифроых игр и обнаружили, что в период с 1980 по середину 1990 годов рынок пережил этап \n",
    "зарождения. Бурный же рост и формирование того рынка игр, который мы видим сегодня, с широким использованием Интернета, \n",
    "графическими 3D технологиями, использованием больших вычислительных ресурсов пришелся на период с конца 1990х по 2009 год, после чего произошел некоторый откат. \n",
    "2. Среднее время жизни платформы - около 8 лет для всех платформ, и около 11 лет для самых успешных. В настоящее время к \n",
    "успешным относятся платформы японских фирм (Sony и Nintendo) и американской фирмы Miscrosoft. \n",
    "3. Для доходов от цифровых игр характерно скошенное вправо распределение, с медианой смещённой в сторону низких доходов.\n",
    "Это может свидительствовать о том, что для игровой отрасли свойственно преобладание умеренных доходов, с выбросами в виде \n",
    "сверхприбыли в случае удачи. \n",
    "4. Выделены две платформы PS4 и XOne как самые перспективные с точки зрения будущей доходности\n",
    "5. Не обнаружено никакой заметной связи между пользовательскими оценками и доходами от игры. Связь между оценками\n",
    "критиков и доходами присутствует, но относительно слабая.\n",
    "6. Как и в случае с миром в целом, доминирование продукции Sony, Ninetendo и Microsoft сохраняется и на региональном уровне. Три производителя входят ТОП3 практически во всех регионах. Япония составляет некоторое исключение - там первую тройку составляют  исключительно отечетственные производители. \n",
    "7. По жанрам: стрелялки и спортивные игры занимают держат две первые позиции, как в мире в целом, так и в большинстве регионов. Третье место в зависимости от региона делят файтинги, гонки и платформеры. Особняком стоит всё та же Япония, где на первом месте - ролевые игры.\n",
    "8. Во всём мире кроме Японии игры, которым назначен рейтинг ESRB, приносят в среднем в два раза больше дохода в расчете на один релиз, чем игры без рейтинга. По структуре - наиболее доходны игры с рейтингом М (для взрослых). И опять выделяется Япония, где наиболее доходны местные игры, а на втором месте игры с рейтингом Т (для подростков), что, вероятно, объсянется как большей интегрированностью японских подростков в мировой игровой рынок, так и существенной долей ролевых игр в рейтинге для подростков. \n",
    "9. Проверены гипотезы в отношении средних пользовательских рейтингов для платформ Xbox One и PC и жанров Action и Sports. В первом случае t-тест позовлил заключить, что нет оснований утверждать, что пользовательские рейтинги в двух совокупностях разные.\n",
    "Во втором случае использование этого же теста позволило сделать вывод о том, что есть основания полагать, что средние пользовательские рейтинги двух совокупностей разные."
   ]
  },
  {
   "cell_type": "code",
   "execution_count": null,
   "metadata": {},
   "outputs": [],
   "source": []
  }
 ],
 "metadata": {
  "ExecuteTimeLog": [
   {
    "duration": 367,
    "start_time": "2022-10-06T10:22:32.877Z"
   },
   {
    "duration": 98,
    "start_time": "2022-10-06T10:22:57.020Z"
   },
   {
    "duration": 35,
    "start_time": "2022-10-06T10:23:13.784Z"
   },
   {
    "duration": 96,
    "start_time": "2022-10-06T10:23:34.399Z"
   },
   {
    "duration": 2,
    "start_time": "2022-10-06T10:24:11.917Z"
   },
   {
    "duration": 56,
    "start_time": "2022-10-06T10:24:38.399Z"
   },
   {
    "duration": 14,
    "start_time": "2022-10-06T10:29:14.808Z"
   },
   {
    "duration": 53,
    "start_time": "2022-10-06T10:29:29.682Z"
   },
   {
    "duration": 915,
    "start_time": "2022-10-06T10:31:49.950Z"
   },
   {
    "duration": 2305,
    "start_time": "2022-10-06T10:32:43.080Z"
   },
   {
    "duration": 2285,
    "start_time": "2022-10-06T10:37:18.011Z"
   },
   {
    "duration": 2206,
    "start_time": "2022-10-06T10:37:41.987Z"
   },
   {
    "duration": 2,
    "start_time": "2022-10-06T10:38:23.509Z"
   },
   {
    "duration": 3,
    "start_time": "2022-10-06T10:45:50.392Z"
   },
   {
    "duration": 62,
    "start_time": "2022-10-06T10:45:52.570Z"
   },
   {
    "duration": 2421,
    "start_time": "2022-10-06T10:46:24.062Z"
   },
   {
    "duration": 652,
    "start_time": "2022-10-06T10:50:14.052Z"
   },
   {
    "duration": 58,
    "start_time": "2022-10-06T10:50:14.706Z"
   },
   {
    "duration": 42,
    "start_time": "2022-10-06T10:50:14.765Z"
   },
   {
    "duration": 1272,
    "start_time": "2022-10-06T10:50:14.809Z"
   },
   {
    "duration": 641,
    "start_time": "2022-10-06T10:51:09.752Z"
   },
   {
    "duration": 59,
    "start_time": "2022-10-06T10:51:10.395Z"
   },
   {
    "duration": 41,
    "start_time": "2022-10-06T10:51:10.456Z"
   },
   {
    "duration": 676,
    "start_time": "2022-10-06T10:54:44.144Z"
   },
   {
    "duration": 63,
    "start_time": "2022-10-06T10:54:44.822Z"
   },
   {
    "duration": 42,
    "start_time": "2022-10-06T10:54:44.887Z"
   },
   {
    "duration": 0,
    "start_time": "2022-10-06T11:00:55.252Z"
   },
   {
    "duration": 1289,
    "start_time": "2022-10-06T11:01:00.647Z"
   },
   {
    "duration": 55,
    "start_time": "2022-10-06T11:01:01.938Z"
   },
   {
    "duration": 46,
    "start_time": "2022-10-06T11:01:01.995Z"
   },
   {
    "duration": 1204,
    "start_time": "2022-10-06T11:01:30.149Z"
   },
   {
    "duration": 53,
    "start_time": "2022-10-06T11:01:31.355Z"
   },
   {
    "duration": 47,
    "start_time": "2022-10-06T11:01:31.410Z"
   },
   {
    "duration": 1160,
    "start_time": "2022-10-06T11:08:16.676Z"
   },
   {
    "duration": 52,
    "start_time": "2022-10-06T11:08:17.839Z"
   },
   {
    "duration": 46,
    "start_time": "2022-10-06T11:08:17.892Z"
   },
   {
    "duration": 1152,
    "start_time": "2022-10-06T11:08:17.940Z"
   },
   {
    "duration": 1164,
    "start_time": "2022-10-06T11:08:56.938Z"
   },
   {
    "duration": 62,
    "start_time": "2022-10-06T11:08:58.104Z"
   },
   {
    "duration": 56,
    "start_time": "2022-10-06T11:08:58.170Z"
   },
   {
    "duration": 642,
    "start_time": "2022-10-06T11:08:58.233Z"
   },
   {
    "duration": 1195,
    "start_time": "2022-10-06T11:09:33.265Z"
   },
   {
    "duration": 52,
    "start_time": "2022-10-06T11:09:34.462Z"
   },
   {
    "duration": 34,
    "start_time": "2022-10-06T11:09:34.516Z"
   },
   {
    "duration": 615,
    "start_time": "2022-10-06T11:09:34.552Z"
   },
   {
    "duration": 119,
    "start_time": "2022-10-06T11:12:44.366Z"
   },
   {
    "duration": 4,
    "start_time": "2022-10-06T11:16:26.317Z"
   },
   {
    "duration": 14,
    "start_time": "2022-10-06T11:20:54.401Z"
   },
   {
    "duration": 17,
    "start_time": "2022-10-06T11:21:45.891Z"
   },
   {
    "duration": 18,
    "start_time": "2022-10-06T11:38:43.429Z"
   },
   {
    "duration": 122,
    "start_time": "2022-10-06T11:41:03.536Z"
   },
   {
    "duration": 13,
    "start_time": "2022-10-06T11:41:04.040Z"
   },
   {
    "duration": 11,
    "start_time": "2022-10-06T11:42:27.512Z"
   },
   {
    "duration": 14,
    "start_time": "2022-10-06T11:42:35.694Z"
   },
   {
    "duration": 13,
    "start_time": "2022-10-06T11:42:51.054Z"
   },
   {
    "duration": 23,
    "start_time": "2022-10-06T12:02:20.555Z"
   },
   {
    "duration": 14,
    "start_time": "2022-10-06T12:02:44.803Z"
   },
   {
    "duration": 13,
    "start_time": "2022-10-06T12:02:50.678Z"
   },
   {
    "duration": 19,
    "start_time": "2022-10-06T12:34:56.482Z"
   },
   {
    "duration": 7,
    "start_time": "2022-10-06T12:36:08.514Z"
   },
   {
    "duration": 27,
    "start_time": "2022-10-06T12:41:16.896Z"
   },
   {
    "duration": 25,
    "start_time": "2022-10-06T12:41:29.689Z"
   },
   {
    "duration": 10,
    "start_time": "2022-10-06T12:42:05.074Z"
   },
   {
    "duration": 17,
    "start_time": "2022-10-06T12:45:21.920Z"
   },
   {
    "duration": 20,
    "start_time": "2022-10-06T12:47:10.056Z"
   },
   {
    "duration": 17,
    "start_time": "2022-10-06T12:47:22.894Z"
   },
   {
    "duration": 16,
    "start_time": "2022-10-06T12:50:38.218Z"
   },
   {
    "duration": 3,
    "start_time": "2022-10-06T12:53:34.796Z"
   },
   {
    "duration": 2,
    "start_time": "2022-10-06T12:57:24.627Z"
   },
   {
    "duration": 4,
    "start_time": "2022-10-06T12:59:14.956Z"
   },
   {
    "duration": 13,
    "start_time": "2022-10-06T12:59:37.515Z"
   },
   {
    "duration": 12,
    "start_time": "2022-10-06T13:00:59.906Z"
   },
   {
    "duration": 18,
    "start_time": "2022-10-06T13:29:02.064Z"
   },
   {
    "duration": 21,
    "start_time": "2022-10-06T13:29:21.221Z"
   },
   {
    "duration": 17,
    "start_time": "2022-10-06T13:29:54.057Z"
   },
   {
    "duration": 15,
    "start_time": "2022-10-06T13:30:34.184Z"
   },
   {
    "duration": 12,
    "start_time": "2022-10-06T13:31:08.719Z"
   },
   {
    "duration": 12,
    "start_time": "2022-10-06T13:31:58.900Z"
   },
   {
    "duration": 11,
    "start_time": "2022-10-06T13:33:37.140Z"
   },
   {
    "duration": 11,
    "start_time": "2022-10-06T13:34:55.938Z"
   },
   {
    "duration": 10,
    "start_time": "2022-10-06T13:35:43.143Z"
   },
   {
    "duration": 11,
    "start_time": "2022-10-06T13:36:15.217Z"
   },
   {
    "duration": 12,
    "start_time": "2022-10-06T13:36:26.069Z"
   },
   {
    "duration": 12,
    "start_time": "2022-10-06T13:50:48.284Z"
   },
   {
    "duration": 13,
    "start_time": "2022-10-06T13:51:08.110Z"
   },
   {
    "duration": 12,
    "start_time": "2022-10-06T13:52:12.349Z"
   },
   {
    "duration": 11,
    "start_time": "2022-10-06T13:52:20.630Z"
   },
   {
    "duration": 12,
    "start_time": "2022-10-06T13:52:41.120Z"
   },
   {
    "duration": 12,
    "start_time": "2022-10-06T13:52:48.172Z"
   },
   {
    "duration": 48,
    "start_time": "2022-10-06T13:52:57.949Z"
   },
   {
    "duration": 9,
    "start_time": "2022-10-06T13:53:23.632Z"
   },
   {
    "duration": 12,
    "start_time": "2022-10-06T13:53:37.810Z"
   },
   {
    "duration": 10,
    "start_time": "2022-10-06T14:08:13.376Z"
   },
   {
    "duration": 8,
    "start_time": "2022-10-06T14:08:33.029Z"
   },
   {
    "duration": 12,
    "start_time": "2022-10-06T14:16:25.390Z"
   },
   {
    "duration": 33,
    "start_time": "2022-10-06T14:17:09.085Z"
   },
   {
    "duration": 34,
    "start_time": "2022-10-06T14:17:45.652Z"
   },
   {
    "duration": 2,
    "start_time": "2022-10-06T14:18:57.381Z"
   },
   {
    "duration": 2,
    "start_time": "2022-10-06T14:23:02.360Z"
   },
   {
    "duration": 3,
    "start_time": "2022-10-06T14:27:13.865Z"
   },
   {
    "duration": 10,
    "start_time": "2022-10-06T14:28:12.166Z"
   },
   {
    "duration": 12,
    "start_time": "2022-10-06T14:28:28.926Z"
   },
   {
    "duration": 9,
    "start_time": "2022-10-06T14:28:40.190Z"
   },
   {
    "duration": 1111,
    "start_time": "2022-10-06T14:29:03.731Z"
   },
   {
    "duration": 53,
    "start_time": "2022-10-06T14:29:04.844Z"
   },
   {
    "duration": 32,
    "start_time": "2022-10-06T14:29:04.899Z"
   },
   {
    "duration": 18,
    "start_time": "2022-10-06T14:29:05.423Z"
   },
   {
    "duration": 577,
    "start_time": "2022-10-06T14:29:05.443Z"
   },
   {
    "duration": 3,
    "start_time": "2022-10-06T14:29:06.022Z"
   },
   {
    "duration": 14,
    "start_time": "2022-10-06T14:29:06.498Z"
   },
   {
    "duration": 17,
    "start_time": "2022-10-06T14:29:08.989Z"
   },
   {
    "duration": 14,
    "start_time": "2022-10-06T14:29:09.713Z"
   },
   {
    "duration": 2,
    "start_time": "2022-10-06T14:29:10.263Z"
   },
   {
    "duration": 2,
    "start_time": "2022-10-06T14:29:14.930Z"
   },
   {
    "duration": 12,
    "start_time": "2022-10-06T14:29:16.424Z"
   },
   {
    "duration": 8,
    "start_time": "2022-10-06T14:29:34.652Z"
   },
   {
    "duration": 4,
    "start_time": "2022-10-06T14:29:36.717Z"
   },
   {
    "duration": 9,
    "start_time": "2022-10-06T14:29:37.272Z"
   },
   {
    "duration": 1075,
    "start_time": "2022-10-06T14:30:08.772Z"
   },
   {
    "duration": 51,
    "start_time": "2022-10-06T14:30:09.849Z"
   },
   {
    "duration": 33,
    "start_time": "2022-10-06T14:30:09.902Z"
   },
   {
    "duration": 22,
    "start_time": "2022-10-06T14:30:09.938Z"
   },
   {
    "duration": 576,
    "start_time": "2022-10-06T14:30:10.201Z"
   },
   {
    "duration": 4,
    "start_time": "2022-10-06T14:30:11.686Z"
   },
   {
    "duration": 16,
    "start_time": "2022-10-06T14:30:12.159Z"
   },
   {
    "duration": 16,
    "start_time": "2022-10-06T14:30:13.228Z"
   },
   {
    "duration": 11,
    "start_time": "2022-10-06T14:30:13.761Z"
   },
   {
    "duration": 3,
    "start_time": "2022-10-06T14:30:14.207Z"
   },
   {
    "duration": 3,
    "start_time": "2022-10-06T14:30:17.925Z"
   },
   {
    "duration": 11,
    "start_time": "2022-10-06T14:30:18.862Z"
   },
   {
    "duration": 4,
    "start_time": "2022-10-06T14:30:20.101Z"
   },
   {
    "duration": 7,
    "start_time": "2022-10-06T14:30:21.327Z"
   },
   {
    "duration": 1134,
    "start_time": "2022-10-06T14:31:16.439Z"
   },
   {
    "duration": 52,
    "start_time": "2022-10-06T14:31:17.575Z"
   },
   {
    "duration": 117,
    "start_time": "2022-10-06T14:31:17.629Z"
   },
   {
    "duration": 31,
    "start_time": "2022-10-06T14:31:17.866Z"
   },
   {
    "duration": 18,
    "start_time": "2022-10-06T14:31:18.366Z"
   },
   {
    "duration": 7,
    "start_time": "2022-10-06T14:32:03.738Z"
   },
   {
    "duration": 33,
    "start_time": "2022-10-06T14:32:11.337Z"
   },
   {
    "duration": 16,
    "start_time": "2022-10-06T14:32:12.711Z"
   },
   {
    "duration": 3,
    "start_time": "2022-10-06T14:32:44.825Z"
   },
   {
    "duration": 27,
    "start_time": "2022-10-06T14:32:45.759Z"
   },
   {
    "duration": 13,
    "start_time": "2022-10-06T14:32:46.398Z"
   },
   {
    "duration": 7,
    "start_time": "2022-10-06T14:33:07.294Z"
   },
   {
    "duration": 8,
    "start_time": "2022-10-06T14:33:15.178Z"
   },
   {
    "duration": 18,
    "start_time": "2022-10-06T14:33:16.367Z"
   },
   {
    "duration": 17,
    "start_time": "2022-10-06T14:33:20.310Z"
   },
   {
    "duration": 13,
    "start_time": "2022-10-06T14:33:20.841Z"
   },
   {
    "duration": 2,
    "start_time": "2022-10-06T14:33:21.992Z"
   },
   {
    "duration": 2,
    "start_time": "2022-10-06T14:33:26.238Z"
   },
   {
    "duration": 8,
    "start_time": "2022-10-06T14:33:27.262Z"
   },
   {
    "duration": 2,
    "start_time": "2022-10-06T14:58:36.637Z"
   },
   {
    "duration": 10,
    "start_time": "2022-10-06T15:03:15.002Z"
   },
   {
    "duration": 11,
    "start_time": "2022-10-06T15:04:33.545Z"
   },
   {
    "duration": 1097,
    "start_time": "2022-10-06T15:04:58.358Z"
   },
   {
    "duration": 52,
    "start_time": "2022-10-06T15:04:59.457Z"
   },
   {
    "duration": 9,
    "start_time": "2022-10-06T15:04:59.511Z"
   },
   {
    "duration": 33,
    "start_time": "2022-10-06T15:04:59.640Z"
   },
   {
    "duration": 17,
    "start_time": "2022-10-06T15:05:00.106Z"
   },
   {
    "duration": 581,
    "start_time": "2022-10-06T15:05:00.982Z"
   },
   {
    "duration": 4,
    "start_time": "2022-10-06T15:05:02.843Z"
   },
   {
    "duration": 109,
    "start_time": "2022-10-06T15:05:03.084Z"
   },
   {
    "duration": 11,
    "start_time": "2022-10-06T15:05:52.551Z"
   },
   {
    "duration": 12,
    "start_time": "2022-10-06T15:06:13.725Z"
   },
   {
    "duration": 13,
    "start_time": "2022-10-06T15:06:37.584Z"
   },
   {
    "duration": 11,
    "start_time": "2022-10-06T15:07:19.335Z"
   },
   {
    "duration": 8,
    "start_time": "2022-10-06T15:07:58.612Z"
   },
   {
    "duration": 8,
    "start_time": "2022-10-06T15:08:09.726Z"
   },
   {
    "duration": 1139,
    "start_time": "2022-10-06T15:08:20.941Z"
   },
   {
    "duration": 63,
    "start_time": "2022-10-06T15:08:22.082Z"
   },
   {
    "duration": 11,
    "start_time": "2022-10-06T15:08:22.147Z"
   },
   {
    "duration": 40,
    "start_time": "2022-10-06T15:08:22.318Z"
   },
   {
    "duration": 19,
    "start_time": "2022-10-06T15:08:22.749Z"
   },
   {
    "duration": 597,
    "start_time": "2022-10-06T15:08:23.241Z"
   },
   {
    "duration": 3,
    "start_time": "2022-10-06T15:08:25.330Z"
   },
   {
    "duration": 9,
    "start_time": "2022-10-06T15:08:26.298Z"
   },
   {
    "duration": 13,
    "start_time": "2022-10-06T15:08:27.952Z"
   },
   {
    "duration": 22,
    "start_time": "2022-10-06T15:08:29.690Z"
   },
   {
    "duration": 13,
    "start_time": "2022-10-06T15:08:30.450Z"
   },
   {
    "duration": 3,
    "start_time": "2022-10-06T15:08:31.477Z"
   },
   {
    "duration": 2,
    "start_time": "2022-10-06T15:08:35.572Z"
   },
   {
    "duration": 8,
    "start_time": "2022-10-06T15:08:37.354Z"
   },
   {
    "duration": 4,
    "start_time": "2022-10-06T15:08:38.422Z"
   },
   {
    "duration": 9,
    "start_time": "2022-10-06T15:08:39.464Z"
   },
   {
    "duration": 6,
    "start_time": "2022-10-06T15:08:46.954Z"
   },
   {
    "duration": 10,
    "start_time": "2022-10-06T15:08:47.738Z"
   },
   {
    "duration": 13,
    "start_time": "2022-10-06T15:08:48.408Z"
   },
   {
    "duration": 1157,
    "start_time": "2022-10-06T15:09:00.793Z"
   },
   {
    "duration": 54,
    "start_time": "2022-10-06T15:09:01.952Z"
   },
   {
    "duration": 12,
    "start_time": "2022-10-06T15:09:02.008Z"
   },
   {
    "duration": 47,
    "start_time": "2022-10-06T15:09:02.175Z"
   },
   {
    "duration": 18,
    "start_time": "2022-10-06T15:09:02.662Z"
   },
   {
    "duration": 612,
    "start_time": "2022-10-06T15:09:03.520Z"
   },
   {
    "duration": 3,
    "start_time": "2022-10-06T15:09:05.649Z"
   },
   {
    "duration": 101,
    "start_time": "2022-10-06T15:09:18.292Z"
   },
   {
    "duration": 11,
    "start_time": "2022-10-06T15:09:29.541Z"
   },
   {
    "duration": 34,
    "start_time": "2022-10-06T15:10:35.893Z"
   },
   {
    "duration": 20,
    "start_time": "2022-10-06T15:11:03.499Z"
   },
   {
    "duration": 21,
    "start_time": "2022-10-06T15:11:14.332Z"
   },
   {
    "duration": 13,
    "start_time": "2022-10-06T15:11:15.267Z"
   },
   {
    "duration": 24,
    "start_time": "2022-10-06T15:11:18.054Z"
   },
   {
    "duration": 1154,
    "start_time": "2022-10-06T15:24:17.617Z"
   },
   {
    "duration": 55,
    "start_time": "2022-10-06T15:24:18.774Z"
   },
   {
    "duration": 10,
    "start_time": "2022-10-06T15:24:18.830Z"
   },
   {
    "duration": 31,
    "start_time": "2022-10-06T15:24:19.063Z"
   },
   {
    "duration": 17,
    "start_time": "2022-10-06T15:24:19.723Z"
   },
   {
    "duration": 558,
    "start_time": "2022-10-06T15:24:20.318Z"
   },
   {
    "duration": 3,
    "start_time": "2022-10-06T15:24:22.551Z"
   },
   {
    "duration": 12,
    "start_time": "2022-10-06T15:24:24.407Z"
   },
   {
    "duration": 2,
    "start_time": "2022-10-06T15:24:38.533Z"
   },
   {
    "duration": 6,
    "start_time": "2022-10-06T15:24:43.868Z"
   },
   {
    "duration": 12,
    "start_time": "2022-10-06T15:25:14.651Z"
   },
   {
    "duration": 13,
    "start_time": "2022-10-06T15:25:36.422Z"
   },
   {
    "duration": 16,
    "start_time": "2022-10-06T15:26:06.577Z"
   },
   {
    "duration": 21,
    "start_time": "2022-10-06T15:26:14.499Z"
   },
   {
    "duration": 135,
    "start_time": "2022-10-06T15:45:27.776Z"
   },
   {
    "duration": 50,
    "start_time": "2022-10-06T15:46:07.500Z"
   },
   {
    "duration": 30,
    "start_time": "2022-10-06T15:46:28.038Z"
   },
   {
    "duration": 24,
    "start_time": "2022-10-06T15:46:39.585Z"
   },
   {
    "duration": 4,
    "start_time": "2022-10-06T15:47:10.717Z"
   },
   {
    "duration": 25,
    "start_time": "2022-10-06T15:47:18.881Z"
   },
   {
    "duration": 6,
    "start_time": "2022-10-06T15:48:04.285Z"
   },
   {
    "duration": 4,
    "start_time": "2022-10-06T15:48:41.857Z"
   },
   {
    "duration": 14,
    "start_time": "2022-10-06T15:49:08.671Z"
   },
   {
    "duration": 47,
    "start_time": "2022-10-07T11:16:50.437Z"
   },
   {
    "duration": 1288,
    "start_time": "2022-10-07T11:17:02.153Z"
   },
   {
    "duration": 90,
    "start_time": "2022-10-07T11:17:03.444Z"
   },
   {
    "duration": 32,
    "start_time": "2022-10-07T11:17:03.536Z"
   },
   {
    "duration": 19,
    "start_time": "2022-10-07T11:17:03.569Z"
   },
   {
    "duration": 598,
    "start_time": "2022-10-07T11:17:03.590Z"
   },
   {
    "duration": 4,
    "start_time": "2022-10-07T11:17:04.189Z"
   },
   {
    "duration": 6,
    "start_time": "2022-10-07T11:17:04.195Z"
   },
   {
    "duration": 13,
    "start_time": "2022-10-07T11:17:04.202Z"
   },
   {
    "duration": 18,
    "start_time": "2022-10-07T11:17:04.217Z"
   },
   {
    "duration": 8,
    "start_time": "2022-10-07T11:17:04.237Z"
   },
   {
    "duration": 6,
    "start_time": "2022-10-07T11:17:04.246Z"
   },
   {
    "duration": 23,
    "start_time": "2022-10-07T11:17:04.253Z"
   },
   {
    "duration": 6,
    "start_time": "2022-10-07T11:17:04.277Z"
   },
   {
    "duration": 13,
    "start_time": "2022-10-07T11:17:04.286Z"
   },
   {
    "duration": 34,
    "start_time": "2022-10-07T11:17:04.300Z"
   },
   {
    "duration": 18,
    "start_time": "2022-10-07T11:17:04.336Z"
   },
   {
    "duration": 21,
    "start_time": "2022-10-07T11:18:05.394Z"
   },
   {
    "duration": 20,
    "start_time": "2022-10-07T12:08:01.353Z"
   },
   {
    "duration": 12,
    "start_time": "2022-10-07T12:12:47.897Z"
   },
   {
    "duration": 120,
    "start_time": "2022-10-07T12:15:43.244Z"
   },
   {
    "duration": 13,
    "start_time": "2022-10-07T12:15:53.256Z"
   },
   {
    "duration": 13,
    "start_time": "2022-10-07T12:16:41.634Z"
   },
   {
    "duration": 23,
    "start_time": "2022-10-07T12:25:10.067Z"
   },
   {
    "duration": 28,
    "start_time": "2022-10-07T12:25:44.494Z"
   },
   {
    "duration": 52,
    "start_time": "2022-10-07T12:37:57.218Z"
   },
   {
    "duration": 33,
    "start_time": "2022-10-07T12:38:20.567Z"
   },
   {
    "duration": 32,
    "start_time": "2022-10-07T12:38:25.055Z"
   },
   {
    "duration": 56,
    "start_time": "2022-10-07T12:38:34.396Z"
   },
   {
    "duration": 1207,
    "start_time": "2022-10-07T12:39:12.074Z"
   },
   {
    "duration": 51,
    "start_time": "2022-10-07T12:39:13.283Z"
   },
   {
    "duration": 39,
    "start_time": "2022-10-07T12:39:13.336Z"
   },
   {
    "duration": 18,
    "start_time": "2022-10-07T12:39:13.377Z"
   },
   {
    "duration": 636,
    "start_time": "2022-10-07T12:39:13.397Z"
   },
   {
    "duration": 3,
    "start_time": "2022-10-07T12:39:14.035Z"
   },
   {
    "duration": 9,
    "start_time": "2022-10-07T12:39:14.040Z"
   },
   {
    "duration": 21,
    "start_time": "2022-10-07T12:39:14.052Z"
   },
   {
    "duration": 8,
    "start_time": "2022-10-07T12:39:14.074Z"
   },
   {
    "duration": 4,
    "start_time": "2022-10-07T12:39:14.084Z"
   },
   {
    "duration": 7,
    "start_time": "2022-10-07T12:39:14.090Z"
   },
   {
    "duration": 12,
    "start_time": "2022-10-07T12:39:14.098Z"
   },
   {
    "duration": 21,
    "start_time": "2022-10-07T12:39:14.112Z"
   },
   {
    "duration": 33,
    "start_time": "2022-10-07T12:39:14.135Z"
   },
   {
    "duration": 16,
    "start_time": "2022-10-07T12:39:14.170Z"
   },
   {
    "duration": 85,
    "start_time": "2022-10-07T12:39:14.187Z"
   },
   {
    "duration": 4,
    "start_time": "2022-10-07T12:39:39.322Z"
   },
   {
    "duration": 7,
    "start_time": "2022-10-07T12:39:40.836Z"
   },
   {
    "duration": 14,
    "start_time": "2022-10-07T12:39:41.377Z"
   },
   {
    "duration": 12,
    "start_time": "2022-10-07T12:39:43.209Z"
   },
   {
    "duration": 73,
    "start_time": "2022-10-07T12:39:44.156Z"
   },
   {
    "duration": 69,
    "start_time": "2022-10-07T12:40:43.967Z"
   },
   {
    "duration": 64,
    "start_time": "2022-10-07T12:47:05.620Z"
   },
   {
    "duration": 71,
    "start_time": "2022-10-07T13:56:14.733Z"
   },
   {
    "duration": 71,
    "start_time": "2022-10-07T13:57:17.977Z"
   },
   {
    "duration": 75,
    "start_time": "2022-10-07T13:57:59.382Z"
   },
   {
    "duration": 71,
    "start_time": "2022-10-07T13:58:22.635Z"
   },
   {
    "duration": 103,
    "start_time": "2022-10-07T13:59:05.979Z"
   },
   {
    "duration": 70,
    "start_time": "2022-10-07T13:59:19.262Z"
   },
   {
    "duration": 93,
    "start_time": "2022-10-07T14:00:10.730Z"
   },
   {
    "duration": 107,
    "start_time": "2022-10-07T14:39:45.997Z"
   },
   {
    "duration": 72,
    "start_time": "2022-10-07T14:40:59.513Z"
   },
   {
    "duration": 6,
    "start_time": "2022-10-07T15:18:44.334Z"
   },
   {
    "duration": 101,
    "start_time": "2022-10-07T15:18:55.136Z"
   },
   {
    "duration": 12,
    "start_time": "2022-10-07T15:19:06.731Z"
   },
   {
    "duration": 16,
    "start_time": "2022-10-07T15:21:09.344Z"
   },
   {
    "duration": 15,
    "start_time": "2022-10-07T15:21:55.539Z"
   },
   {
    "duration": 8,
    "start_time": "2022-10-07T15:22:03.432Z"
   },
   {
    "duration": 10,
    "start_time": "2022-10-07T15:22:20.369Z"
   },
   {
    "duration": 9,
    "start_time": "2022-10-07T15:22:35.872Z"
   },
   {
    "duration": 49,
    "start_time": "2022-10-07T15:23:05.843Z"
   },
   {
    "duration": 58,
    "start_time": "2022-10-07T15:23:52.805Z"
   },
   {
    "duration": 62,
    "start_time": "2022-10-07T15:27:37.142Z"
   },
   {
    "duration": 16,
    "start_time": "2022-10-07T15:29:35.510Z"
   },
   {
    "duration": 5,
    "start_time": "2022-10-07T15:32:05.094Z"
   },
   {
    "duration": 5,
    "start_time": "2022-10-07T15:32:23.153Z"
   },
   {
    "duration": 9,
    "start_time": "2022-10-07T15:46:27.365Z"
   },
   {
    "duration": 14,
    "start_time": "2022-10-07T15:46:36.014Z"
   },
   {
    "duration": 2121,
    "start_time": "2022-10-07T15:46:39.743Z"
   },
   {
    "duration": 64,
    "start_time": "2022-10-07T15:49:30.798Z"
   },
   {
    "duration": 516,
    "start_time": "2022-10-07T15:49:49.157Z"
   },
   {
    "duration": 457,
    "start_time": "2022-10-07T15:50:41.215Z"
   },
   {
    "duration": 10,
    "start_time": "2022-10-07T15:56:48.415Z"
   },
   {
    "duration": 3964,
    "start_time": "2022-10-07T15:57:20.025Z"
   },
   {
    "duration": 289,
    "start_time": "2022-10-07T15:57:55.571Z"
   },
   {
    "duration": 4123,
    "start_time": "2022-10-07T15:58:02.988Z"
   },
   {
    "duration": 12,
    "start_time": "2022-10-07T16:05:41.069Z"
   },
   {
    "duration": 8728,
    "start_time": "2022-10-07T16:07:02.176Z"
   },
   {
    "duration": 9369,
    "start_time": "2022-10-07T16:07:38.992Z"
   },
   {
    "duration": 8,
    "start_time": "2022-10-07T16:32:33.273Z"
   },
   {
    "duration": 58,
    "start_time": "2022-10-07T16:32:40.873Z"
   },
   {
    "duration": 9419,
    "start_time": "2022-10-07T16:32:43.177Z"
   },
   {
    "duration": 6,
    "start_time": "2022-10-07T16:33:00.016Z"
   },
   {
    "duration": 50,
    "start_time": "2022-10-07T16:33:17.529Z"
   },
   {
    "duration": 10,
    "start_time": "2022-10-07T16:41:01.489Z"
   },
   {
    "duration": 15,
    "start_time": "2022-10-07T16:41:17.579Z"
   },
   {
    "duration": 16,
    "start_time": "2022-10-07T16:41:58.777Z"
   },
   {
    "duration": 18,
    "start_time": "2022-10-07T16:42:16.207Z"
   },
   {
    "duration": 15,
    "start_time": "2022-10-07T16:42:37.704Z"
   },
   {
    "duration": 15,
    "start_time": "2022-10-07T16:42:55.066Z"
   },
   {
    "duration": 18,
    "start_time": "2022-10-07T16:43:34.447Z"
   },
   {
    "duration": 20,
    "start_time": "2022-10-07T16:44:58.146Z"
   },
   {
    "duration": 9631,
    "start_time": "2022-10-07T17:07:50.182Z"
   },
   {
    "duration": 1200,
    "start_time": "2022-10-07T17:10:00.622Z"
   },
   {
    "duration": 51,
    "start_time": "2022-10-07T17:10:01.825Z"
   },
   {
    "duration": 33,
    "start_time": "2022-10-07T17:10:01.877Z"
   },
   {
    "duration": 22,
    "start_time": "2022-10-07T17:10:01.912Z"
   },
   {
    "duration": 618,
    "start_time": "2022-10-07T17:10:01.936Z"
   },
   {
    "duration": 3,
    "start_time": "2022-10-07T17:10:02.556Z"
   },
   {
    "duration": 41,
    "start_time": "2022-10-07T17:10:02.560Z"
   },
   {
    "duration": 18,
    "start_time": "2022-10-07T17:10:02.602Z"
   },
   {
    "duration": 7,
    "start_time": "2022-10-07T17:10:02.622Z"
   },
   {
    "duration": 14,
    "start_time": "2022-10-07T17:10:02.631Z"
   },
   {
    "duration": 14,
    "start_time": "2022-10-07T17:10:02.646Z"
   },
   {
    "duration": 23,
    "start_time": "2022-10-07T17:10:02.661Z"
   },
   {
    "duration": 13,
    "start_time": "2022-10-07T17:10:02.686Z"
   },
   {
    "duration": 29,
    "start_time": "2022-10-07T17:10:02.701Z"
   },
   {
    "duration": 39,
    "start_time": "2022-10-07T17:10:02.732Z"
   },
   {
    "duration": 31,
    "start_time": "2022-10-07T17:10:02.773Z"
   },
   {
    "duration": 60,
    "start_time": "2022-10-07T17:10:02.807Z"
   },
   {
    "duration": 9526,
    "start_time": "2022-10-07T17:10:02.869Z"
   },
   {
    "duration": 2,
    "start_time": "2022-10-07T17:10:12.397Z"
   },
   {
    "duration": 30,
    "start_time": "2022-10-07T17:10:12.400Z"
   },
   {
    "duration": 12,
    "start_time": "2022-10-07T17:13:05.056Z"
   },
   {
    "duration": 291,
    "start_time": "2022-10-07T17:13:46.771Z"
   },
   {
    "duration": 105,
    "start_time": "2022-10-07T17:20:38.516Z"
   },
   {
    "duration": 2,
    "start_time": "2022-10-07T17:20:48.013Z"
   },
   {
    "duration": 8,
    "start_time": "2022-10-07T17:20:48.568Z"
   },
   {
    "duration": 17,
    "start_time": "2022-10-07T17:20:57.744Z"
   },
   {
    "duration": 2,
    "start_time": "2022-10-07T17:20:59.232Z"
   },
   {
    "duration": 13,
    "start_time": "2022-10-07T17:21:00.626Z"
   },
   {
    "duration": 1871,
    "start_time": "2022-10-07T17:21:08.148Z"
   },
   {
    "duration": 24,
    "start_time": "2022-10-07T17:45:39.672Z"
   },
   {
    "duration": 14,
    "start_time": "2022-10-07T17:46:47.172Z"
   },
   {
    "duration": 152,
    "start_time": "2022-10-07T17:50:56.084Z"
   },
   {
    "duration": 1089,
    "start_time": "2022-10-07T17:51:22.139Z"
   },
   {
    "duration": 53,
    "start_time": "2022-10-07T17:51:23.230Z"
   },
   {
    "duration": 32,
    "start_time": "2022-10-07T17:51:23.284Z"
   },
   {
    "duration": 18,
    "start_time": "2022-10-07T17:51:23.318Z"
   },
   {
    "duration": 574,
    "start_time": "2022-10-07T17:51:23.338Z"
   },
   {
    "duration": 3,
    "start_time": "2022-10-07T17:51:23.913Z"
   },
   {
    "duration": 15,
    "start_time": "2022-10-07T17:51:23.918Z"
   },
   {
    "duration": 13,
    "start_time": "2022-10-07T17:51:23.935Z"
   },
   {
    "duration": 8,
    "start_time": "2022-10-07T17:51:23.949Z"
   },
   {
    "duration": 16,
    "start_time": "2022-10-07T17:51:23.958Z"
   },
   {
    "duration": 7,
    "start_time": "2022-10-07T17:51:23.976Z"
   },
   {
    "duration": 11,
    "start_time": "2022-10-07T17:51:23.984Z"
   },
   {
    "duration": 9,
    "start_time": "2022-10-07T17:51:23.996Z"
   },
   {
    "duration": 32,
    "start_time": "2022-10-07T17:51:24.008Z"
   },
   {
    "duration": 15,
    "start_time": "2022-10-07T17:51:24.042Z"
   },
   {
    "duration": 17,
    "start_time": "2022-10-07T17:51:24.058Z"
   },
   {
    "duration": 336,
    "start_time": "2022-10-07T17:51:24.077Z"
   },
   {
    "duration": 66,
    "start_time": "2022-10-07T17:51:24.415Z"
   },
   {
    "duration": 9500,
    "start_time": "2022-10-07T17:51:24.483Z"
   },
   {
    "duration": 2,
    "start_time": "2022-10-07T17:51:33.985Z"
   },
   {
    "duration": 21,
    "start_time": "2022-10-07T17:51:34.012Z"
   },
   {
    "duration": 1837,
    "start_time": "2022-10-07T17:51:34.035Z"
   },
   {
    "duration": 220,
    "start_time": "2022-10-07T17:51:35.873Z"
   },
   {
    "duration": 0,
    "start_time": "2022-10-07T17:51:36.095Z"
   },
   {
    "duration": 0,
    "start_time": "2022-10-07T17:51:36.096Z"
   },
   {
    "duration": 8,
    "start_time": "2022-10-07T17:57:28.945Z"
   },
   {
    "duration": 11,
    "start_time": "2022-10-07T17:57:38.602Z"
   },
   {
    "duration": 12,
    "start_time": "2022-10-07T17:58:06.795Z"
   },
   {
    "duration": 14,
    "start_time": "2022-10-07T17:58:28.390Z"
   },
   {
    "duration": 14,
    "start_time": "2022-10-07T17:58:54.265Z"
   },
   {
    "duration": 12,
    "start_time": "2022-10-07T17:59:24.947Z"
   },
   {
    "duration": 23,
    "start_time": "2022-10-07T18:04:47.554Z"
   },
   {
    "duration": 12,
    "start_time": "2022-10-07T18:05:30.535Z"
   },
   {
    "duration": 14,
    "start_time": "2022-10-07T18:32:43.638Z"
   },
   {
    "duration": 16,
    "start_time": "2022-10-07T18:32:59.293Z"
   },
   {
    "duration": 3,
    "start_time": "2022-10-07T18:38:03.178Z"
   },
   {
    "duration": 9,
    "start_time": "2022-10-07T18:38:18.521Z"
   },
   {
    "duration": 15,
    "start_time": "2022-10-07T18:38:31.802Z"
   },
   {
    "duration": 2,
    "start_time": "2022-10-07T18:38:33.019Z"
   },
   {
    "duration": 1852,
    "start_time": "2022-10-07T18:38:33.624Z"
   },
   {
    "duration": 8,
    "start_time": "2022-10-07T18:38:35.477Z"
   },
   {
    "duration": 15,
    "start_time": "2022-10-07T18:39:02.915Z"
   },
   {
    "duration": 3,
    "start_time": "2022-10-07T18:39:03.945Z"
   },
   {
    "duration": 2076,
    "start_time": "2022-10-07T18:39:04.833Z"
   },
   {
    "duration": 9,
    "start_time": "2022-10-07T18:39:06.911Z"
   },
   {
    "duration": 97,
    "start_time": "2022-10-07T18:39:17.365Z"
   },
   {
    "duration": 3,
    "start_time": "2022-10-07T19:00:32.890Z"
   },
   {
    "duration": 3,
    "start_time": "2022-10-07T19:01:13.461Z"
   },
   {
    "duration": 12,
    "start_time": "2022-10-07T19:03:12.612Z"
   },
   {
    "duration": 14,
    "start_time": "2022-10-07T19:03:16.692Z"
   },
   {
    "duration": 13,
    "start_time": "2022-10-07T19:04:20.076Z"
   },
   {
    "duration": 13,
    "start_time": "2022-10-07T19:06:05.301Z"
   },
   {
    "duration": 12,
    "start_time": "2022-10-07T19:06:19.652Z"
   },
   {
    "duration": 157,
    "start_time": "2022-10-07T19:07:05.933Z"
   },
   {
    "duration": 12,
    "start_time": "2022-10-07T19:10:06.878Z"
   },
   {
    "duration": 13,
    "start_time": "2022-10-07T19:13:40.732Z"
   },
   {
    "duration": 15,
    "start_time": "2022-10-07T19:17:08.292Z"
   },
   {
    "duration": 15,
    "start_time": "2022-10-07T19:17:52.787Z"
   },
   {
    "duration": 14,
    "start_time": "2022-10-07T19:18:47.454Z"
   },
   {
    "duration": 14,
    "start_time": "2022-10-07T19:19:03.351Z"
   },
   {
    "duration": 14,
    "start_time": "2022-10-07T19:19:20.573Z"
   },
   {
    "duration": 3,
    "start_time": "2022-10-07T19:27:12.858Z"
   },
   {
    "duration": 14,
    "start_time": "2022-10-07T19:28:03.161Z"
   },
   {
    "duration": 1123,
    "start_time": "2022-10-07T19:30:59.614Z"
   },
   {
    "duration": 54,
    "start_time": "2022-10-07T19:31:00.739Z"
   },
   {
    "duration": 34,
    "start_time": "2022-10-07T19:31:00.794Z"
   },
   {
    "duration": 19,
    "start_time": "2022-10-07T19:31:00.830Z"
   },
   {
    "duration": 584,
    "start_time": "2022-10-07T19:31:00.851Z"
   },
   {
    "duration": 3,
    "start_time": "2022-10-07T19:31:01.437Z"
   },
   {
    "duration": 23,
    "start_time": "2022-10-07T19:31:01.442Z"
   },
   {
    "duration": 22,
    "start_time": "2022-10-07T19:31:01.467Z"
   },
   {
    "duration": 16,
    "start_time": "2022-10-07T19:31:01.490Z"
   },
   {
    "duration": 14,
    "start_time": "2022-10-07T19:31:01.508Z"
   },
   {
    "duration": 37,
    "start_time": "2022-10-07T19:31:01.524Z"
   },
   {
    "duration": 40,
    "start_time": "2022-10-07T19:31:01.562Z"
   },
   {
    "duration": 22,
    "start_time": "2022-10-07T19:31:01.604Z"
   },
   {
    "duration": 42,
    "start_time": "2022-10-07T19:31:01.629Z"
   },
   {
    "duration": 18,
    "start_time": "2022-10-07T19:31:01.673Z"
   },
   {
    "duration": 22,
    "start_time": "2022-10-07T19:31:01.692Z"
   },
   {
    "duration": 303,
    "start_time": "2022-10-07T19:31:01.715Z"
   },
   {
    "duration": 63,
    "start_time": "2022-10-07T19:31:02.020Z"
   },
   {
    "duration": 9312,
    "start_time": "2022-10-07T19:31:02.084Z"
   },
   {
    "duration": 3,
    "start_time": "2022-10-07T19:31:11.397Z"
   },
   {
    "duration": 32,
    "start_time": "2022-10-07T19:31:11.401Z"
   },
   {
    "duration": 2,
    "start_time": "2022-10-07T19:31:11.435Z"
   },
   {
    "duration": 1829,
    "start_time": "2022-10-07T19:31:11.438Z"
   },
   {
    "duration": 105,
    "start_time": "2022-10-07T19:31:13.269Z"
   },
   {
    "duration": 23,
    "start_time": "2022-10-07T19:31:13.376Z"
   },
   {
    "duration": 33,
    "start_time": "2022-10-07T19:31:13.401Z"
   },
   {
    "duration": 14,
    "start_time": "2022-10-07T19:31:13.436Z"
   },
   {
    "duration": 14,
    "start_time": "2022-10-07T19:31:13.451Z"
   },
   {
    "duration": 15,
    "start_time": "2022-10-07T19:31:13.467Z"
   },
   {
    "duration": 12,
    "start_time": "2022-10-07T19:31:13.484Z"
   },
   {
    "duration": 46,
    "start_time": "2022-10-07T19:31:13.498Z"
   },
   {
    "duration": 14,
    "start_time": "2022-10-07T19:31:13.546Z"
   },
   {
    "duration": 14,
    "start_time": "2022-10-07T19:31:13.561Z"
   },
   {
    "duration": 16,
    "start_time": "2022-10-07T19:32:52.241Z"
   },
   {
    "duration": 14,
    "start_time": "2022-10-07T19:33:53.360Z"
   },
   {
    "duration": 10,
    "start_time": "2022-10-07T19:38:13.137Z"
   },
   {
    "duration": 295,
    "start_time": "2022-10-07T19:38:20.448Z"
   },
   {
    "duration": 289,
    "start_time": "2022-10-07T19:38:29.224Z"
   },
   {
    "duration": 59,
    "start_time": "2022-10-07T19:38:43.111Z"
   },
   {
    "duration": 9462,
    "start_time": "2022-10-07T19:38:52.828Z"
   },
   {
    "duration": 1804,
    "start_time": "2022-10-07T19:39:03.865Z"
   },
   {
    "duration": 25,
    "start_time": "2022-10-07T19:39:11.637Z"
   },
   {
    "duration": 10,
    "start_time": "2022-10-07T19:39:24.764Z"
   },
   {
    "duration": 251,
    "start_time": "2022-10-07T20:01:06.607Z"
   },
   {
    "duration": 278,
    "start_time": "2022-10-07T20:01:54.761Z"
   },
   {
    "duration": 50,
    "start_time": "2022-10-07T20:02:47.929Z"
   },
   {
    "duration": 366,
    "start_time": "2022-10-07T20:03:00.473Z"
   },
   {
    "duration": 269,
    "start_time": "2022-10-07T20:03:18.887Z"
   },
   {
    "duration": 59,
    "start_time": "2022-10-07T20:04:25.836Z"
   },
   {
    "duration": 263,
    "start_time": "2022-10-07T20:04:38.439Z"
   },
   {
    "duration": 283,
    "start_time": "2022-10-07T20:04:51.581Z"
   },
   {
    "duration": 185,
    "start_time": "2022-10-07T20:05:02.409Z"
   },
   {
    "duration": 173,
    "start_time": "2022-10-07T20:05:15.086Z"
   },
   {
    "duration": 183,
    "start_time": "2022-10-07T20:05:27.322Z"
   },
   {
    "duration": 279,
    "start_time": "2022-10-07T20:05:37.615Z"
   },
   {
    "duration": 110,
    "start_time": "2022-10-07T21:05:12.012Z"
   },
   {
    "duration": 21,
    "start_time": "2022-10-07T21:05:37.496Z"
   },
   {
    "duration": 21,
    "start_time": "2022-10-07T21:05:55.217Z"
   },
   {
    "duration": 20,
    "start_time": "2022-10-07T21:06:35.903Z"
   },
   {
    "duration": 100,
    "start_time": "2022-10-07T21:07:11.106Z"
   },
   {
    "duration": 12,
    "start_time": "2022-10-07T21:08:24.798Z"
   },
   {
    "duration": 10,
    "start_time": "2022-10-07T21:08:31.910Z"
   },
   {
    "duration": 14,
    "start_time": "2022-10-07T21:08:41.218Z"
   },
   {
    "duration": 16,
    "start_time": "2022-10-07T21:09:27.401Z"
   },
   {
    "duration": 173,
    "start_time": "2022-10-07T21:09:46.051Z"
   },
   {
    "duration": 151,
    "start_time": "2022-10-07T21:10:57.951Z"
   },
   {
    "duration": 13,
    "start_time": "2022-10-07T21:17:21.121Z"
   },
   {
    "duration": 34,
    "start_time": "2022-10-07T21:17:22.049Z"
   },
   {
    "duration": 14,
    "start_time": "2022-10-07T21:17:30.585Z"
   },
   {
    "duration": 31,
    "start_time": "2022-10-07T21:17:35.450Z"
   },
   {
    "duration": 16,
    "start_time": "2022-10-07T21:17:38.752Z"
   },
   {
    "duration": 33,
    "start_time": "2022-10-07T21:17:41.597Z"
   },
   {
    "duration": 41,
    "start_time": "2022-10-07T21:17:58.513Z"
   },
   {
    "duration": 48,
    "start_time": "2022-10-07T21:18:32.945Z"
   },
   {
    "duration": 8,
    "start_time": "2022-10-07T21:23:25.514Z"
   },
   {
    "duration": 3,
    "start_time": "2022-10-07T21:23:29.214Z"
   },
   {
    "duration": 168,
    "start_time": "2022-10-07T21:23:30.805Z"
   },
   {
    "duration": 4,
    "start_time": "2022-10-07T21:24:12.157Z"
   },
   {
    "duration": 4,
    "start_time": "2022-10-07T21:25:16.447Z"
   },
   {
    "duration": 3,
    "start_time": "2022-10-07T21:25:27.952Z"
   },
   {
    "duration": 26,
    "start_time": "2022-10-07T21:25:29.887Z"
   },
   {
    "duration": 272,
    "start_time": "2022-10-07T21:26:20.013Z"
   },
   {
    "duration": 154,
    "start_time": "2022-10-07T21:27:29.896Z"
   },
   {
    "duration": 168,
    "start_time": "2022-10-07T21:27:58.997Z"
   },
   {
    "duration": 185,
    "start_time": "2022-10-07T21:28:18.654Z"
   },
   {
    "duration": 26,
    "start_time": "2022-10-07T21:28:49.797Z"
   },
   {
    "duration": 28,
    "start_time": "2022-10-07T21:28:58.516Z"
   },
   {
    "duration": 3,
    "start_time": "2022-10-07T21:30:41.878Z"
   },
   {
    "duration": 172,
    "start_time": "2022-10-07T21:30:53.987Z"
   },
   {
    "duration": 397,
    "start_time": "2022-10-07T21:31:25.356Z"
   },
   {
    "duration": 4,
    "start_time": "2022-10-07T21:33:41.155Z"
   },
   {
    "duration": 16,
    "start_time": "2022-10-07T21:33:42.953Z"
   },
   {
    "duration": 264,
    "start_time": "2022-10-07T21:34:41.099Z"
   },
   {
    "duration": 4,
    "start_time": "2022-10-07T21:34:45.661Z"
   },
   {
    "duration": 3,
    "start_time": "2022-10-07T21:35:02.819Z"
   },
   {
    "duration": 260,
    "start_time": "2022-10-07T21:35:04.361Z"
   },
   {
    "duration": 3,
    "start_time": "2022-10-07T21:36:19.755Z"
   },
   {
    "duration": 361,
    "start_time": "2022-10-07T21:36:21.156Z"
   },
   {
    "duration": 4,
    "start_time": "2022-10-07T21:36:36.152Z"
   },
   {
    "duration": 305,
    "start_time": "2022-10-07T21:36:37.541Z"
   },
   {
    "duration": 392,
    "start_time": "2022-10-07T21:36:45.558Z"
   },
   {
    "duration": 269,
    "start_time": "2022-10-07T21:36:46.783Z"
   },
   {
    "duration": 328,
    "start_time": "2022-10-07T21:37:36.555Z"
   },
   {
    "duration": 329,
    "start_time": "2022-10-07T21:37:59.567Z"
   },
   {
    "duration": 258,
    "start_time": "2022-10-07T21:38:06.282Z"
   },
   {
    "duration": 193,
    "start_time": "2022-10-07T21:38:23.322Z"
   },
   {
    "duration": 214,
    "start_time": "2022-10-07T21:38:25.053Z"
   },
   {
    "duration": 201,
    "start_time": "2022-10-07T21:38:26.559Z"
   },
   {
    "duration": 4,
    "start_time": "2022-10-07T21:39:06.749Z"
   },
   {
    "duration": 405,
    "start_time": "2022-10-07T21:39:07.939Z"
   },
   {
    "duration": 350,
    "start_time": "2022-10-07T21:39:09.550Z"
   },
   {
    "duration": 301,
    "start_time": "2022-10-07T21:39:10.773Z"
   },
   {
    "duration": 297,
    "start_time": "2022-10-07T21:39:11.944Z"
   },
   {
    "duration": 193,
    "start_time": "2022-10-07T21:39:14.086Z"
   },
   {
    "duration": 181,
    "start_time": "2022-10-07T21:39:15.285Z"
   },
   {
    "duration": 192,
    "start_time": "2022-10-07T21:39:16.452Z"
   },
   {
    "duration": 284,
    "start_time": "2022-10-07T21:39:17.610Z"
   },
   {
    "duration": 76,
    "start_time": "2022-10-07T21:42:03.064Z"
   },
   {
    "duration": 298,
    "start_time": "2022-10-07T21:42:04.510Z"
   },
   {
    "duration": 338,
    "start_time": "2022-10-07T21:42:05.846Z"
   },
   {
    "duration": 291,
    "start_time": "2022-10-07T21:42:06.858Z"
   },
   {
    "duration": 312,
    "start_time": "2022-10-07T21:42:07.849Z"
   },
   {
    "duration": 181,
    "start_time": "2022-10-07T21:42:09.961Z"
   },
   {
    "duration": 197,
    "start_time": "2022-10-07T21:42:11.556Z"
   },
   {
    "duration": 282,
    "start_time": "2022-10-07T21:42:13.070Z"
   },
   {
    "duration": 203,
    "start_time": "2022-10-07T21:42:14.140Z"
   },
   {
    "duration": 50,
    "start_time": "2022-10-07T21:43:54.864Z"
   },
   {
    "duration": 4,
    "start_time": "2022-10-07T21:44:10.444Z"
   },
   {
    "duration": 302,
    "start_time": "2022-10-07T21:44:12.064Z"
   },
   {
    "duration": 283,
    "start_time": "2022-10-07T21:44:13.317Z"
   },
   {
    "duration": 285,
    "start_time": "2022-10-07T21:44:14.431Z"
   },
   {
    "duration": 294,
    "start_time": "2022-10-07T21:44:15.558Z"
   },
   {
    "duration": 166,
    "start_time": "2022-10-07T21:44:21.401Z"
   },
   {
    "duration": 258,
    "start_time": "2022-10-07T21:44:22.556Z"
   },
   {
    "duration": 184,
    "start_time": "2022-10-07T21:44:25.821Z"
   },
   {
    "duration": 182,
    "start_time": "2022-10-07T21:44:27.231Z"
   },
   {
    "duration": 5,
    "start_time": "2022-10-07T21:45:33.268Z"
   },
   {
    "duration": 284,
    "start_time": "2022-10-07T21:45:34.645Z"
   },
   {
    "duration": 289,
    "start_time": "2022-10-07T21:45:37.195Z"
   },
   {
    "duration": 289,
    "start_time": "2022-10-07T21:45:38.735Z"
   },
   {
    "duration": 292,
    "start_time": "2022-10-07T21:45:40.443Z"
   },
   {
    "duration": 265,
    "start_time": "2022-10-07T21:45:42.534Z"
   },
   {
    "duration": 186,
    "start_time": "2022-10-07T21:45:43.595Z"
   },
   {
    "duration": 187,
    "start_time": "2022-10-07T21:45:44.583Z"
   },
   {
    "duration": 176,
    "start_time": "2022-10-07T21:45:45.738Z"
   },
   {
    "duration": 4,
    "start_time": "2022-10-07T21:46:09.224Z"
   },
   {
    "duration": 290,
    "start_time": "2022-10-07T21:46:10.368Z"
   },
   {
    "duration": 315,
    "start_time": "2022-10-07T21:46:12.112Z"
   },
   {
    "duration": 298,
    "start_time": "2022-10-07T21:46:13.557Z"
   },
   {
    "duration": 384,
    "start_time": "2022-10-07T21:46:14.683Z"
   },
   {
    "duration": 169,
    "start_time": "2022-10-07T21:46:16.759Z"
   },
   {
    "duration": 5,
    "start_time": "2022-10-07T21:50:08.134Z"
   },
   {
    "duration": 301,
    "start_time": "2022-10-07T21:50:09.291Z"
   },
   {
    "duration": 309,
    "start_time": "2022-10-07T21:50:11.134Z"
   },
   {
    "duration": 302,
    "start_time": "2022-10-07T21:50:12.466Z"
   },
   {
    "duration": 315,
    "start_time": "2022-10-07T21:50:13.783Z"
   },
   {
    "duration": 70,
    "start_time": "2022-10-07T21:55:49.265Z"
   },
   {
    "duration": 173,
    "start_time": "2022-10-07T21:56:05.961Z"
   },
   {
    "duration": 22,
    "start_time": "2022-10-07T21:56:07.259Z"
   },
   {
    "duration": 4,
    "start_time": "2022-10-07T21:59:00.970Z"
   },
   {
    "duration": 301,
    "start_time": "2022-10-07T21:59:02.232Z"
   },
   {
    "duration": 291,
    "start_time": "2022-10-07T21:59:04.243Z"
   },
   {
    "duration": 295,
    "start_time": "2022-10-07T21:59:05.810Z"
   },
   {
    "duration": 296,
    "start_time": "2022-10-07T21:59:06.969Z"
   },
   {
    "duration": 5,
    "start_time": "2022-10-07T22:00:36.569Z"
   },
   {
    "duration": 49,
    "start_time": "2022-10-07T22:00:38.276Z"
   },
   {
    "duration": 4,
    "start_time": "2022-10-07T22:00:58.600Z"
   },
   {
    "duration": 39,
    "start_time": "2022-10-07T22:00:59.897Z"
   },
   {
    "duration": 49,
    "start_time": "2022-10-07T22:01:13.113Z"
   },
   {
    "duration": 4,
    "start_time": "2022-10-07T22:01:31.296Z"
   },
   {
    "duration": 4,
    "start_time": "2022-10-07T22:01:58.487Z"
   },
   {
    "duration": 9,
    "start_time": "2022-10-07T22:02:00.490Z"
   },
   {
    "duration": 289,
    "start_time": "2022-10-07T22:02:17.844Z"
   },
   {
    "duration": 4,
    "start_time": "2022-10-07T22:02:25.088Z"
   },
   {
    "duration": 191,
    "start_time": "2022-10-07T22:02:37.180Z"
   },
   {
    "duration": 24,
    "start_time": "2022-10-07T22:02:37.781Z"
   },
   {
    "duration": 9,
    "start_time": "2022-10-07T22:02:38.440Z"
   },
   {
    "duration": 4,
    "start_time": "2022-10-07T22:02:40.959Z"
   },
   {
    "duration": 336,
    "start_time": "2022-10-07T22:02:42.065Z"
   },
   {
    "duration": 298,
    "start_time": "2022-10-07T22:02:43.171Z"
   },
   {
    "duration": 296,
    "start_time": "2022-10-07T22:02:44.199Z"
   },
   {
    "duration": 315,
    "start_time": "2022-10-07T22:02:45.304Z"
   },
   {
    "duration": 164,
    "start_time": "2022-10-07T22:02:47.057Z"
   },
   {
    "duration": 165,
    "start_time": "2022-10-07T22:02:48.498Z"
   },
   {
    "duration": 297,
    "start_time": "2022-10-07T22:02:49.502Z"
   },
   {
    "duration": 175,
    "start_time": "2022-10-07T22:02:50.481Z"
   },
   {
    "duration": 3,
    "start_time": "2022-10-07T22:04:43.441Z"
   },
   {
    "duration": 82,
    "start_time": "2022-10-07T22:04:51.999Z"
   },
   {
    "duration": 21,
    "start_time": "2022-10-07T22:04:53.019Z"
   },
   {
    "duration": 67,
    "start_time": "2022-10-08T06:57:29.180Z"
   },
   {
    "duration": 58,
    "start_time": "2022-10-08T06:57:41.384Z"
   },
   {
    "duration": 1321,
    "start_time": "2022-10-08T06:57:54.932Z"
   },
   {
    "duration": 114,
    "start_time": "2022-10-08T06:57:56.257Z"
   },
   {
    "duration": 42,
    "start_time": "2022-10-08T06:57:56.373Z"
   },
   {
    "duration": 0,
    "start_time": "2022-10-08T06:57:56.418Z"
   },
   {
    "duration": 0,
    "start_time": "2022-10-08T06:57:56.419Z"
   },
   {
    "duration": 0,
    "start_time": "2022-10-08T06:57:56.421Z"
   },
   {
    "duration": 0,
    "start_time": "2022-10-08T06:57:56.423Z"
   },
   {
    "duration": 0,
    "start_time": "2022-10-08T06:57:56.424Z"
   },
   {
    "duration": 0,
    "start_time": "2022-10-08T06:57:56.426Z"
   },
   {
    "duration": 0,
    "start_time": "2022-10-08T06:57:56.427Z"
   },
   {
    "duration": 0,
    "start_time": "2022-10-08T06:57:56.429Z"
   },
   {
    "duration": 0,
    "start_time": "2022-10-08T06:57:56.430Z"
   },
   {
    "duration": 0,
    "start_time": "2022-10-08T06:57:56.431Z"
   },
   {
    "duration": 0,
    "start_time": "2022-10-08T06:57:56.433Z"
   },
   {
    "duration": 0,
    "start_time": "2022-10-08T06:57:56.434Z"
   },
   {
    "duration": 0,
    "start_time": "2022-10-08T06:57:56.435Z"
   },
   {
    "duration": 0,
    "start_time": "2022-10-08T06:57:56.437Z"
   },
   {
    "duration": 0,
    "start_time": "2022-10-08T06:57:56.439Z"
   },
   {
    "duration": 0,
    "start_time": "2022-10-08T06:57:56.440Z"
   },
   {
    "duration": 0,
    "start_time": "2022-10-08T06:57:56.443Z"
   },
   {
    "duration": 0,
    "start_time": "2022-10-08T06:57:56.444Z"
   },
   {
    "duration": 0,
    "start_time": "2022-10-08T06:57:56.445Z"
   },
   {
    "duration": 0,
    "start_time": "2022-10-08T06:57:56.446Z"
   },
   {
    "duration": 0,
    "start_time": "2022-10-08T06:57:56.448Z"
   },
   {
    "duration": 0,
    "start_time": "2022-10-08T06:57:56.450Z"
   },
   {
    "duration": 0,
    "start_time": "2022-10-08T06:57:56.451Z"
   },
   {
    "duration": 0,
    "start_time": "2022-10-08T06:57:56.452Z"
   },
   {
    "duration": 0,
    "start_time": "2022-10-08T06:57:56.454Z"
   },
   {
    "duration": 0,
    "start_time": "2022-10-08T06:57:56.455Z"
   },
   {
    "duration": 0,
    "start_time": "2022-10-08T06:57:56.456Z"
   },
   {
    "duration": 0,
    "start_time": "2022-10-08T06:57:56.457Z"
   },
   {
    "duration": 0,
    "start_time": "2022-10-08T06:57:56.459Z"
   },
   {
    "duration": 0,
    "start_time": "2022-10-08T06:57:56.461Z"
   },
   {
    "duration": 1,
    "start_time": "2022-10-08T06:57:56.462Z"
   },
   {
    "duration": 0,
    "start_time": "2022-10-08T06:57:56.464Z"
   },
   {
    "duration": 0,
    "start_time": "2022-10-08T06:57:56.465Z"
   },
   {
    "duration": 168,
    "start_time": "2022-10-08T07:06:46.154Z"
   },
   {
    "duration": 1220,
    "start_time": "2022-10-08T07:07:05.506Z"
   },
   {
    "duration": 51,
    "start_time": "2022-10-08T07:07:06.729Z"
   },
   {
    "duration": 45,
    "start_time": "2022-10-08T07:07:06.782Z"
   },
   {
    "duration": 0,
    "start_time": "2022-10-08T07:07:06.829Z"
   },
   {
    "duration": 0,
    "start_time": "2022-10-08T07:07:06.831Z"
   },
   {
    "duration": 0,
    "start_time": "2022-10-08T07:07:06.832Z"
   },
   {
    "duration": 0,
    "start_time": "2022-10-08T07:07:06.833Z"
   },
   {
    "duration": 0,
    "start_time": "2022-10-08T07:07:06.834Z"
   },
   {
    "duration": 0,
    "start_time": "2022-10-08T07:07:06.835Z"
   },
   {
    "duration": 0,
    "start_time": "2022-10-08T07:07:06.837Z"
   },
   {
    "duration": 0,
    "start_time": "2022-10-08T07:07:06.838Z"
   },
   {
    "duration": 0,
    "start_time": "2022-10-08T07:07:06.839Z"
   },
   {
    "duration": 0,
    "start_time": "2022-10-08T07:07:06.840Z"
   },
   {
    "duration": 0,
    "start_time": "2022-10-08T07:07:06.841Z"
   },
   {
    "duration": 0,
    "start_time": "2022-10-08T07:07:06.842Z"
   },
   {
    "duration": 0,
    "start_time": "2022-10-08T07:07:06.843Z"
   },
   {
    "duration": 0,
    "start_time": "2022-10-08T07:07:06.845Z"
   },
   {
    "duration": 0,
    "start_time": "2022-10-08T07:07:06.846Z"
   },
   {
    "duration": 0,
    "start_time": "2022-10-08T07:07:06.847Z"
   },
   {
    "duration": 0,
    "start_time": "2022-10-08T07:07:06.848Z"
   },
   {
    "duration": 0,
    "start_time": "2022-10-08T07:07:06.849Z"
   },
   {
    "duration": 0,
    "start_time": "2022-10-08T07:07:06.851Z"
   },
   {
    "duration": 0,
    "start_time": "2022-10-08T07:07:06.851Z"
   },
   {
    "duration": 0,
    "start_time": "2022-10-08T07:07:06.853Z"
   },
   {
    "duration": 0,
    "start_time": "2022-10-08T07:07:06.854Z"
   },
   {
    "duration": 0,
    "start_time": "2022-10-08T07:07:06.855Z"
   },
   {
    "duration": 0,
    "start_time": "2022-10-08T07:07:06.856Z"
   },
   {
    "duration": 0,
    "start_time": "2022-10-08T07:07:06.857Z"
   },
   {
    "duration": 0,
    "start_time": "2022-10-08T07:07:06.858Z"
   },
   {
    "duration": 0,
    "start_time": "2022-10-08T07:07:06.860Z"
   },
   {
    "duration": 0,
    "start_time": "2022-10-08T07:07:06.861Z"
   },
   {
    "duration": 0,
    "start_time": "2022-10-08T07:07:06.862Z"
   },
   {
    "duration": 0,
    "start_time": "2022-10-08T07:07:06.863Z"
   },
   {
    "duration": 0,
    "start_time": "2022-10-08T07:07:06.864Z"
   },
   {
    "duration": 0,
    "start_time": "2022-10-08T07:07:06.865Z"
   },
   {
    "duration": 0,
    "start_time": "2022-10-08T07:07:06.866Z"
   },
   {
    "duration": 4,
    "start_time": "2022-10-08T07:07:11.263Z"
   },
   {
    "duration": 3,
    "start_time": "2022-10-08T07:07:11.741Z"
   },
   {
    "duration": 12,
    "start_time": "2022-10-08T07:07:13.130Z"
   },
   {
    "duration": 8,
    "start_time": "2022-10-08T07:07:13.544Z"
   },
   {
    "duration": 2,
    "start_time": "2022-10-08T07:07:13.960Z"
   },
   {
    "duration": 2,
    "start_time": "2022-10-08T07:07:16.476Z"
   },
   {
    "duration": 5,
    "start_time": "2022-10-08T07:07:17.836Z"
   },
   {
    "duration": 8,
    "start_time": "2022-10-08T07:07:18.650Z"
   },
   {
    "duration": 13,
    "start_time": "2022-10-08T07:07:19.044Z"
   },
   {
    "duration": 18,
    "start_time": "2022-10-08T07:07:19.432Z"
   },
   {
    "duration": 12,
    "start_time": "2022-10-08T07:07:21.245Z"
   },
   {
    "duration": 346,
    "start_time": "2022-10-08T07:07:21.954Z"
   },
   {
    "duration": 61,
    "start_time": "2022-10-08T07:07:23.287Z"
   },
   {
    "duration": 9428,
    "start_time": "2022-10-08T07:07:24.732Z"
   },
   {
    "duration": 2,
    "start_time": "2022-10-08T07:07:34.162Z"
   },
   {
    "duration": 22,
    "start_time": "2022-10-08T07:07:34.166Z"
   },
   {
    "duration": 2,
    "start_time": "2022-10-08T07:07:34.190Z"
   },
   {
    "duration": 1842,
    "start_time": "2022-10-08T07:07:34.193Z"
   },
   {
    "duration": 82,
    "start_time": "2022-10-08T07:07:36.037Z"
   },
   {
    "duration": 131,
    "start_time": "2022-10-08T07:07:36.133Z"
   },
   {
    "duration": 0,
    "start_time": "2022-10-08T07:07:36.266Z"
   },
   {
    "duration": 0,
    "start_time": "2022-10-08T07:07:36.267Z"
   },
   {
    "duration": 113,
    "start_time": "2022-10-08T07:07:47.841Z"
   },
   {
    "duration": 11,
    "start_time": "2022-10-08T09:59:39.655Z"
   },
   {
    "duration": 10,
    "start_time": "2022-10-08T09:59:41.545Z"
   },
   {
    "duration": 6,
    "start_time": "2022-10-08T09:59:46.746Z"
   },
   {
    "duration": 309,
    "start_time": "2022-10-08T09:59:48.396Z"
   },
   {
    "duration": 319,
    "start_time": "2022-10-08T09:59:51.567Z"
   },
   {
    "duration": 314,
    "start_time": "2022-10-08T09:59:52.658Z"
   },
   {
    "duration": 393,
    "start_time": "2022-10-08T09:59:54.604Z"
   },
   {
    "duration": 9,
    "start_time": "2022-10-08T12:27:51.865Z"
   },
   {
    "duration": 9,
    "start_time": "2022-10-08T12:28:51.556Z"
   },
   {
    "duration": 6,
    "start_time": "2022-10-08T12:29:01.722Z"
   },
   {
    "duration": 17,
    "start_time": "2022-10-08T12:30:27.803Z"
   },
   {
    "duration": 16,
    "start_time": "2022-10-08T12:30:54.472Z"
   },
   {
    "duration": 6,
    "start_time": "2022-10-08T12:31:05.538Z"
   },
   {
    "duration": 42,
    "start_time": "2022-10-08T12:31:33.087Z"
   },
   {
    "duration": 47,
    "start_time": "2022-10-08T12:31:50.204Z"
   },
   {
    "duration": 736,
    "start_time": "2022-10-08T12:33:36.354Z"
   },
   {
    "duration": 7,
    "start_time": "2022-10-08T12:34:13.174Z"
   },
   {
    "duration": 11,
    "start_time": "2022-10-08T12:35:03.605Z"
   },
   {
    "duration": 12,
    "start_time": "2022-10-08T12:35:16.110Z"
   },
   {
    "duration": 15,
    "start_time": "2022-10-08T12:35:41.946Z"
   },
   {
    "duration": 17,
    "start_time": "2022-10-08T12:39:20.948Z"
   },
   {
    "duration": 23,
    "start_time": "2022-10-08T12:40:15.453Z"
   },
   {
    "duration": 23,
    "start_time": "2022-10-08T12:41:37.592Z"
   },
   {
    "duration": 59,
    "start_time": "2022-10-08T12:43:41.951Z"
   },
   {
    "duration": 18,
    "start_time": "2022-10-08T12:44:07.329Z"
   },
   {
    "duration": 57,
    "start_time": "2022-10-08T12:44:59.215Z"
   },
   {
    "duration": 9486,
    "start_time": "2022-10-08T12:45:03.692Z"
   },
   {
    "duration": 23,
    "start_time": "2022-10-08T12:45:13.180Z"
   },
   {
    "duration": 14,
    "start_time": "2022-10-08T12:46:11.321Z"
   },
   {
    "duration": 21,
    "start_time": "2022-10-08T12:47:36.198Z"
   },
   {
    "duration": 19,
    "start_time": "2022-10-08T12:47:46.150Z"
   },
   {
    "duration": 3,
    "start_time": "2022-10-08T13:01:29.457Z"
   },
   {
    "duration": 2,
    "start_time": "2022-10-08T13:22:01.134Z"
   },
   {
    "duration": 60,
    "start_time": "2022-10-08T13:24:04.639Z"
   },
   {
    "duration": 56,
    "start_time": "2022-10-08T13:24:05.593Z"
   },
   {
    "duration": 1162,
    "start_time": "2022-10-08T15:07:20.071Z"
   },
   {
    "duration": 52,
    "start_time": "2022-10-08T15:07:21.236Z"
   },
   {
    "duration": 42,
    "start_time": "2022-10-08T15:07:21.289Z"
   },
   {
    "duration": 15,
    "start_time": "2022-10-08T15:07:21.332Z"
   },
   {
    "duration": 11,
    "start_time": "2022-10-08T15:07:21.349Z"
   },
   {
    "duration": 5,
    "start_time": "2022-10-08T15:07:21.362Z"
   },
   {
    "duration": 13,
    "start_time": "2022-10-08T15:07:21.369Z"
   },
   {
    "duration": 10,
    "start_time": "2022-10-08T15:07:21.384Z"
   },
   {
    "duration": 5,
    "start_time": "2022-10-08T15:07:21.396Z"
   },
   {
    "duration": 7,
    "start_time": "2022-10-08T15:07:21.402Z"
   },
   {
    "duration": 29,
    "start_time": "2022-10-08T15:07:21.410Z"
   },
   {
    "duration": 6,
    "start_time": "2022-10-08T15:07:21.441Z"
   },
   {
    "duration": 18,
    "start_time": "2022-10-08T15:07:21.449Z"
   },
   {
    "duration": 15,
    "start_time": "2022-10-08T15:07:21.471Z"
   },
   {
    "duration": 48,
    "start_time": "2022-10-08T15:07:21.487Z"
   },
   {
    "duration": 329,
    "start_time": "2022-10-08T15:07:21.537Z"
   },
   {
    "duration": 69,
    "start_time": "2022-10-08T15:07:21.868Z"
   },
   {
    "duration": 9364,
    "start_time": "2022-10-08T15:07:21.940Z"
   },
   {
    "duration": 3,
    "start_time": "2022-10-08T15:07:31.305Z"
   },
   {
    "duration": 47,
    "start_time": "2022-10-08T15:07:31.309Z"
   },
   {
    "duration": 25,
    "start_time": "2022-10-08T15:07:31.357Z"
   },
   {
    "duration": 1818,
    "start_time": "2022-10-08T15:07:31.384Z"
   },
   {
    "duration": 17,
    "start_time": "2022-10-08T15:07:33.203Z"
   },
   {
    "duration": 99,
    "start_time": "2022-10-08T15:07:33.234Z"
   },
   {
    "duration": 105,
    "start_time": "2022-10-08T15:07:33.335Z"
   },
   {
    "duration": 0,
    "start_time": "2022-10-08T15:07:33.442Z"
   },
   {
    "duration": 0,
    "start_time": "2022-10-08T15:07:33.443Z"
   },
   {
    "duration": 0,
    "start_time": "2022-10-08T15:07:33.444Z"
   },
   {
    "duration": 0,
    "start_time": "2022-10-08T15:07:33.445Z"
   },
   {
    "duration": 0,
    "start_time": "2022-10-08T15:07:33.446Z"
   },
   {
    "duration": 0,
    "start_time": "2022-10-08T15:07:33.447Z"
   },
   {
    "duration": 0,
    "start_time": "2022-10-08T15:07:33.448Z"
   },
   {
    "duration": 0,
    "start_time": "2022-10-08T15:07:33.449Z"
   },
   {
    "duration": 0,
    "start_time": "2022-10-08T15:07:33.451Z"
   },
   {
    "duration": 0,
    "start_time": "2022-10-08T15:07:33.451Z"
   },
   {
    "duration": 0,
    "start_time": "2022-10-08T15:07:33.452Z"
   },
   {
    "duration": 0,
    "start_time": "2022-10-08T15:07:33.454Z"
   },
   {
    "duration": 0,
    "start_time": "2022-10-08T15:07:33.454Z"
   },
   {
    "duration": 0,
    "start_time": "2022-10-08T15:07:33.455Z"
   },
   {
    "duration": 0,
    "start_time": "2022-10-08T15:07:33.457Z"
   },
   {
    "duration": 0,
    "start_time": "2022-10-08T15:07:33.457Z"
   },
   {
    "duration": 0,
    "start_time": "2022-10-08T15:07:33.458Z"
   },
   {
    "duration": 0,
    "start_time": "2022-10-08T15:07:33.459Z"
   },
   {
    "duration": 7,
    "start_time": "2022-10-08T15:07:33.590Z"
   },
   {
    "duration": 2,
    "start_time": "2022-10-08T15:07:34.056Z"
   },
   {
    "duration": 2,
    "start_time": "2022-10-08T15:07:37.540Z"
   },
   {
    "duration": 7,
    "start_time": "2022-10-08T15:07:40.216Z"
   },
   {
    "duration": 5,
    "start_time": "2022-10-08T15:07:41.275Z"
   },
   {
    "duration": 13,
    "start_time": "2022-10-08T15:07:41.873Z"
   },
   {
    "duration": 15,
    "start_time": "2022-10-08T15:07:42.391Z"
   },
   {
    "duration": 10,
    "start_time": "2022-10-08T15:07:44.280Z"
   },
   {
    "duration": 301,
    "start_time": "2022-10-08T15:07:45.241Z"
   },
   {
    "duration": 60,
    "start_time": "2022-10-08T15:07:47.720Z"
   },
   {
    "duration": 9274,
    "start_time": "2022-10-08T15:07:50.024Z"
   },
   {
    "duration": 40,
    "start_time": "2022-10-08T15:40:51.165Z"
   },
   {
    "duration": 11,
    "start_time": "2022-10-08T16:28:46.874Z"
   },
   {
    "duration": 8,
    "start_time": "2022-10-08T16:30:12.416Z"
   },
   {
    "duration": 7,
    "start_time": "2022-10-08T16:30:49.145Z"
   },
   {
    "duration": 45,
    "start_time": "2022-10-08T16:32:19.922Z"
   },
   {
    "duration": 100,
    "start_time": "2022-10-08T16:33:10.314Z"
   },
   {
    "duration": 298,
    "start_time": "2022-10-08T16:33:29.019Z"
   },
   {
    "duration": 9,
    "start_time": "2022-10-08T16:34:27.330Z"
   },
   {
    "duration": 207,
    "start_time": "2022-10-08T16:34:33.917Z"
   },
   {
    "duration": 44,
    "start_time": "2022-10-08T16:35:18.682Z"
   },
   {
    "duration": 54,
    "start_time": "2022-10-08T16:35:23.363Z"
   },
   {
    "duration": 164,
    "start_time": "2022-10-08T16:35:35.849Z"
   },
   {
    "duration": 163,
    "start_time": "2022-10-08T16:49:55.682Z"
   },
   {
    "duration": 129,
    "start_time": "2022-10-08T17:09:43.963Z"
   },
   {
    "duration": 18,
    "start_time": "2022-10-08T17:13:11.424Z"
   },
   {
    "duration": 863,
    "start_time": "2022-10-08T17:13:24.726Z"
   },
   {
    "duration": 865,
    "start_time": "2022-10-08T17:13:52.843Z"
   },
   {
    "duration": 8,
    "start_time": "2022-10-08T17:14:31.860Z"
   },
   {
    "duration": 16,
    "start_time": "2022-10-08T17:14:46.824Z"
   },
   {
    "duration": 8,
    "start_time": "2022-10-08T17:15:00.332Z"
   },
   {
    "duration": 1114,
    "start_time": "2022-10-08T17:15:25.385Z"
   },
   {
    "duration": 52,
    "start_time": "2022-10-08T17:15:26.501Z"
   },
   {
    "duration": 42,
    "start_time": "2022-10-08T17:15:26.555Z"
   },
   {
    "duration": 16,
    "start_time": "2022-10-08T17:15:26.599Z"
   },
   {
    "duration": 4,
    "start_time": "2022-10-08T17:15:26.636Z"
   },
   {
    "duration": 16,
    "start_time": "2022-10-08T17:15:26.641Z"
   },
   {
    "duration": 13,
    "start_time": "2022-10-08T17:15:26.659Z"
   },
   {
    "duration": 7,
    "start_time": "2022-10-08T17:15:26.674Z"
   },
   {
    "duration": 5,
    "start_time": "2022-10-08T17:15:26.682Z"
   },
   {
    "duration": 4,
    "start_time": "2022-10-08T17:15:26.689Z"
   },
   {
    "duration": 8,
    "start_time": "2022-10-08T17:15:26.695Z"
   },
   {
    "duration": 29,
    "start_time": "2022-10-08T17:15:26.704Z"
   },
   {
    "duration": 15,
    "start_time": "2022-10-08T17:15:26.735Z"
   },
   {
    "duration": 17,
    "start_time": "2022-10-08T17:15:26.752Z"
   },
   {
    "duration": 14,
    "start_time": "2022-10-08T17:15:26.771Z"
   },
   {
    "duration": 338,
    "start_time": "2022-10-08T17:15:26.786Z"
   },
   {
    "duration": 65,
    "start_time": "2022-10-08T17:15:27.126Z"
   },
   {
    "duration": 9386,
    "start_time": "2022-10-08T17:15:27.192Z"
   },
   {
    "duration": 2,
    "start_time": "2022-10-08T17:15:36.580Z"
   },
   {
    "duration": 18,
    "start_time": "2022-10-08T17:15:36.584Z"
   },
   {
    "duration": 3,
    "start_time": "2022-10-08T17:15:36.604Z"
   },
   {
    "duration": 1801,
    "start_time": "2022-10-08T17:15:36.609Z"
   },
   {
    "duration": 22,
    "start_time": "2022-10-08T17:15:38.412Z"
   },
   {
    "duration": 27,
    "start_time": "2022-10-08T17:15:38.435Z"
   },
   {
    "duration": 46,
    "start_time": "2022-10-08T17:15:38.463Z"
   },
   {
    "duration": 0,
    "start_time": "2022-10-08T17:15:38.511Z"
   },
   {
    "duration": 0,
    "start_time": "2022-10-08T17:15:38.512Z"
   },
   {
    "duration": 0,
    "start_time": "2022-10-08T17:15:38.513Z"
   },
   {
    "duration": 0,
    "start_time": "2022-10-08T17:15:38.514Z"
   },
   {
    "duration": 0,
    "start_time": "2022-10-08T17:15:38.515Z"
   },
   {
    "duration": 0,
    "start_time": "2022-10-08T17:15:38.516Z"
   },
   {
    "duration": 0,
    "start_time": "2022-10-08T17:15:38.517Z"
   },
   {
    "duration": 0,
    "start_time": "2022-10-08T17:15:38.518Z"
   },
   {
    "duration": 0,
    "start_time": "2022-10-08T17:15:38.519Z"
   },
   {
    "duration": 0,
    "start_time": "2022-10-08T17:15:38.519Z"
   },
   {
    "duration": 0,
    "start_time": "2022-10-08T17:15:38.520Z"
   },
   {
    "duration": 0,
    "start_time": "2022-10-08T17:15:38.521Z"
   },
   {
    "duration": 92,
    "start_time": "2022-10-08T17:30:17.986Z"
   },
   {
    "duration": 60,
    "start_time": "2022-10-08T17:30:41.297Z"
   },
   {
    "duration": 230,
    "start_time": "2022-10-08T17:30:48.728Z"
   },
   {
    "duration": 25,
    "start_time": "2022-10-08T17:33:18.283Z"
   },
   {
    "duration": 247,
    "start_time": "2022-10-08T17:34:16.368Z"
   },
   {
    "duration": 138,
    "start_time": "2022-10-08T17:34:20.034Z"
   },
   {
    "duration": 454,
    "start_time": "2022-10-08T17:36:31.768Z"
   },
   {
    "duration": 550,
    "start_time": "2022-10-08T17:36:38.397Z"
   },
   {
    "duration": 253,
    "start_time": "2022-10-08T17:48:41.171Z"
   },
   {
    "duration": 221,
    "start_time": "2022-10-08T17:48:48.931Z"
   },
   {
    "duration": 105,
    "start_time": "2022-10-08T17:49:47.478Z"
   },
   {
    "duration": 7,
    "start_time": "2022-10-08T17:54:08.482Z"
   },
   {
    "duration": 10,
    "start_time": "2022-10-08T17:54:39.356Z"
   },
   {
    "duration": 11,
    "start_time": "2022-10-08T17:55:16.186Z"
   },
   {
    "duration": 8,
    "start_time": "2022-10-08T17:57:39.042Z"
   },
   {
    "duration": 13,
    "start_time": "2022-10-08T17:57:42.427Z"
   },
   {
    "duration": 1071,
    "start_time": "2022-10-08T17:57:57.476Z"
   },
   {
    "duration": 52,
    "start_time": "2022-10-08T17:57:58.549Z"
   },
   {
    "duration": 44,
    "start_time": "2022-10-08T17:57:58.603Z"
   },
   {
    "duration": 16,
    "start_time": "2022-10-08T17:57:58.649Z"
   },
   {
    "duration": 6,
    "start_time": "2022-10-08T17:57:58.669Z"
   },
   {
    "duration": 6,
    "start_time": "2022-10-08T17:57:58.677Z"
   },
   {
    "duration": 15,
    "start_time": "2022-10-08T17:57:58.685Z"
   },
   {
    "duration": 10,
    "start_time": "2022-10-08T17:57:58.701Z"
   },
   {
    "duration": 3,
    "start_time": "2022-10-08T17:57:58.734Z"
   },
   {
    "duration": 6,
    "start_time": "2022-10-08T17:57:58.739Z"
   },
   {
    "duration": 7,
    "start_time": "2022-10-08T17:57:58.747Z"
   },
   {
    "duration": 6,
    "start_time": "2022-10-08T17:57:58.756Z"
   },
   {
    "duration": 18,
    "start_time": "2022-10-08T17:57:58.764Z"
   },
   {
    "duration": 55,
    "start_time": "2022-10-08T17:57:58.787Z"
   },
   {
    "duration": 13,
    "start_time": "2022-10-08T17:57:58.843Z"
   },
   {
    "duration": 339,
    "start_time": "2022-10-08T17:57:58.857Z"
   },
   {
    "duration": 69,
    "start_time": "2022-10-08T17:57:59.198Z"
   },
   {
    "duration": 9683,
    "start_time": "2022-10-08T17:57:59.269Z"
   },
   {
    "duration": 3,
    "start_time": "2022-10-08T17:58:08.954Z"
   },
   {
    "duration": 19,
    "start_time": "2022-10-08T17:58:08.958Z"
   },
   {
    "duration": 3,
    "start_time": "2022-10-08T17:58:08.978Z"
   },
   {
    "duration": 1842,
    "start_time": "2022-10-08T17:58:08.982Z"
   },
   {
    "duration": 24,
    "start_time": "2022-10-08T17:58:10.826Z"
   },
   {
    "duration": 27,
    "start_time": "2022-10-08T17:58:10.852Z"
   },
   {
    "duration": 279,
    "start_time": "2022-10-08T17:58:10.880Z"
   },
   {
    "duration": 149,
    "start_time": "2022-10-08T17:58:11.162Z"
   },
   {
    "duration": 8,
    "start_time": "2022-10-08T17:58:11.313Z"
   },
   {
    "duration": 106,
    "start_time": "2022-10-08T17:58:11.332Z"
   },
   {
    "duration": 0,
    "start_time": "2022-10-08T17:58:11.439Z"
   },
   {
    "duration": 0,
    "start_time": "2022-10-08T17:58:11.440Z"
   },
   {
    "duration": 0,
    "start_time": "2022-10-08T17:58:11.441Z"
   },
   {
    "duration": 0,
    "start_time": "2022-10-08T17:58:11.442Z"
   },
   {
    "duration": 0,
    "start_time": "2022-10-08T17:58:11.443Z"
   },
   {
    "duration": 0,
    "start_time": "2022-10-08T17:58:11.444Z"
   },
   {
    "duration": 0,
    "start_time": "2022-10-08T17:58:11.445Z"
   },
   {
    "duration": 0,
    "start_time": "2022-10-08T17:58:11.446Z"
   },
   {
    "duration": 0,
    "start_time": "2022-10-08T17:58:11.447Z"
   },
   {
    "duration": 0,
    "start_time": "2022-10-08T17:58:11.448Z"
   },
   {
    "duration": 0,
    "start_time": "2022-10-08T17:58:11.449Z"
   },
   {
    "duration": 8,
    "start_time": "2022-10-08T17:58:12.017Z"
   },
   {
    "duration": 9,
    "start_time": "2022-10-08T17:58:15.040Z"
   },
   {
    "duration": 8,
    "start_time": "2022-10-08T17:58:16.009Z"
   },
   {
    "duration": 22,
    "start_time": "2022-10-08T17:58:32.132Z"
   },
   {
    "duration": 845,
    "start_time": "2022-10-08T18:00:48.814Z"
   },
   {
    "duration": 137,
    "start_time": "2022-10-08T18:01:09.113Z"
   },
   {
    "duration": 9,
    "start_time": "2022-10-08T18:02:37.032Z"
   },
   {
    "duration": 22,
    "start_time": "2022-10-08T18:02:38.429Z"
   },
   {
    "duration": 12,
    "start_time": "2022-10-08T18:23:05.530Z"
   },
   {
    "duration": 13,
    "start_time": "2022-10-08T18:23:47.280Z"
   },
   {
    "duration": 16,
    "start_time": "2022-10-08T18:23:48.110Z"
   },
   {
    "duration": 10,
    "start_time": "2022-10-08T18:23:51.015Z"
   },
   {
    "duration": 312,
    "start_time": "2022-10-08T18:23:51.475Z"
   },
   {
    "duration": 64,
    "start_time": "2022-10-08T18:23:53.491Z"
   },
   {
    "duration": 9440,
    "start_time": "2022-10-08T18:23:55.355Z"
   },
   {
    "duration": 2,
    "start_time": "2022-10-08T18:24:04.798Z"
   },
   {
    "duration": 21,
    "start_time": "2022-10-08T18:24:04.802Z"
   },
   {
    "duration": 3,
    "start_time": "2022-10-08T18:24:04.832Z"
   },
   {
    "duration": 1907,
    "start_time": "2022-10-08T18:24:04.837Z"
   },
   {
    "duration": 18,
    "start_time": "2022-10-08T18:24:06.745Z"
   },
   {
    "duration": 30,
    "start_time": "2022-10-08T18:24:06.765Z"
   },
   {
    "duration": 234,
    "start_time": "2022-10-08T18:24:06.796Z"
   },
   {
    "duration": 145,
    "start_time": "2022-10-08T18:24:07.033Z"
   },
   {
    "duration": 8,
    "start_time": "2022-10-08T18:24:07.180Z"
   },
   {
    "duration": 26,
    "start_time": "2022-10-08T18:24:07.189Z"
   },
   {
    "duration": 12,
    "start_time": "2022-10-08T18:24:09.591Z"
   },
   {
    "duration": 183,
    "start_time": "2022-10-08T18:24:10.401Z"
   },
   {
    "duration": 10,
    "start_time": "2022-10-08T18:24:11.309Z"
   },
   {
    "duration": 14,
    "start_time": "2022-10-08T18:24:59.903Z"
   },
   {
    "duration": 7,
    "start_time": "2022-10-08T18:25:04.441Z"
   },
   {
    "duration": 20,
    "start_time": "2022-10-08T18:25:06.385Z"
   },
   {
    "duration": 3,
    "start_time": "2022-10-08T18:25:18.554Z"
   },
   {
    "duration": 7,
    "start_time": "2022-10-08T18:25:19.960Z"
   },
   {
    "duration": 4,
    "start_time": "2022-10-08T18:25:20.864Z"
   },
   {
    "duration": 14,
    "start_time": "2022-10-08T18:25:56.360Z"
   },
   {
    "duration": 13,
    "start_time": "2022-10-08T18:26:07.602Z"
   },
   {
    "duration": 14,
    "start_time": "2022-10-08T18:26:22.567Z"
   },
   {
    "duration": 3,
    "start_time": "2022-10-08T18:26:28.978Z"
   },
   {
    "duration": 58,
    "start_time": "2022-10-08T18:26:29.729Z"
   },
   {
    "duration": 39,
    "start_time": "2022-10-08T18:26:31.315Z"
   },
   {
    "duration": 16,
    "start_time": "2022-10-08T18:26:31.841Z"
   },
   {
    "duration": 4,
    "start_time": "2022-10-08T18:26:34.352Z"
   },
   {
    "duration": 3,
    "start_time": "2022-10-08T18:26:35.230Z"
   },
   {
    "duration": 11,
    "start_time": "2022-10-08T18:26:37.962Z"
   },
   {
    "duration": 8,
    "start_time": "2022-10-08T18:26:38.483Z"
   },
   {
    "duration": 13,
    "start_time": "2022-10-08T18:26:43.865Z"
   },
   {
    "duration": 3,
    "start_time": "2022-10-08T18:26:50.283Z"
   },
   {
    "duration": 13,
    "start_time": "2022-10-08T18:26:53.641Z"
   },
   {
    "duration": 8,
    "start_time": "2022-10-08T18:26:56.373Z"
   },
   {
    "duration": 13,
    "start_time": "2022-10-08T18:27:04.892Z"
   },
   {
    "duration": 16,
    "start_time": "2022-10-08T18:27:48.736Z"
   },
   {
    "duration": 13,
    "start_time": "2022-10-08T18:27:49.229Z"
   },
   {
    "duration": 5,
    "start_time": "2022-10-08T18:27:50.272Z"
   },
   {
    "duration": 13,
    "start_time": "2022-10-08T18:27:50.766Z"
   },
   {
    "duration": 15,
    "start_time": "2022-10-08T18:27:51.391Z"
   },
   {
    "duration": 14,
    "start_time": "2022-10-08T18:27:54.169Z"
   },
   {
    "duration": 314,
    "start_time": "2022-10-08T18:27:54.495Z"
   },
   {
    "duration": 80,
    "start_time": "2022-10-08T18:27:56.355Z"
   },
   {
    "duration": 9650,
    "start_time": "2022-10-08T18:27:58.031Z"
   },
   {
    "duration": 3,
    "start_time": "2022-10-08T18:28:07.683Z"
   },
   {
    "duration": 21,
    "start_time": "2022-10-08T18:28:07.688Z"
   },
   {
    "duration": 3,
    "start_time": "2022-10-08T18:28:07.712Z"
   },
   {
    "duration": 1885,
    "start_time": "2022-10-08T18:28:07.734Z"
   },
   {
    "duration": 22,
    "start_time": "2022-10-08T18:28:09.620Z"
   },
   {
    "duration": 32,
    "start_time": "2022-10-08T18:28:09.643Z"
   },
   {
    "duration": 271,
    "start_time": "2022-10-08T18:28:09.676Z"
   },
   {
    "duration": 164,
    "start_time": "2022-10-08T18:28:09.948Z"
   },
   {
    "duration": 9,
    "start_time": "2022-10-08T18:28:10.115Z"
   },
   {
    "duration": 37,
    "start_time": "2022-10-08T18:28:10.133Z"
   },
   {
    "duration": 34,
    "start_time": "2022-10-08T18:28:10.172Z"
   },
   {
    "duration": 147,
    "start_time": "2022-10-08T18:28:10.208Z"
   },
   {
    "duration": 0,
    "start_time": "2022-10-08T18:28:10.357Z"
   },
   {
    "duration": 1289,
    "start_time": "2022-10-08T18:28:35.354Z"
   },
   {
    "duration": 52,
    "start_time": "2022-10-08T18:28:36.645Z"
   },
   {
    "duration": 45,
    "start_time": "2022-10-08T18:28:36.698Z"
   },
   {
    "duration": 15,
    "start_time": "2022-10-08T18:28:36.745Z"
   },
   {
    "duration": 24,
    "start_time": "2022-10-08T18:28:36.762Z"
   },
   {
    "duration": 9,
    "start_time": "2022-10-08T18:28:36.787Z"
   },
   {
    "duration": 23,
    "start_time": "2022-10-08T18:28:36.798Z"
   },
   {
    "duration": 7,
    "start_time": "2022-10-08T18:28:36.823Z"
   },
   {
    "duration": 24,
    "start_time": "2022-10-08T18:28:36.832Z"
   },
   {
    "duration": 2,
    "start_time": "2022-10-08T18:28:36.857Z"
   },
   {
    "duration": 17,
    "start_time": "2022-10-08T18:28:36.861Z"
   },
   {
    "duration": 11,
    "start_time": "2022-10-08T18:28:36.879Z"
   },
   {
    "duration": 12,
    "start_time": "2022-10-08T18:28:36.891Z"
   },
   {
    "duration": 27,
    "start_time": "2022-10-08T18:28:36.906Z"
   },
   {
    "duration": 17,
    "start_time": "2022-10-08T18:28:36.935Z"
   },
   {
    "duration": 26,
    "start_time": "2022-10-08T18:28:36.953Z"
   },
   {
    "duration": 350,
    "start_time": "2022-10-08T18:28:36.981Z"
   },
   {
    "duration": 61,
    "start_time": "2022-10-08T18:28:37.333Z"
   },
   {
    "duration": 9763,
    "start_time": "2022-10-08T18:28:37.396Z"
   },
   {
    "duration": 2,
    "start_time": "2022-10-08T18:28:47.161Z"
   },
   {
    "duration": 30,
    "start_time": "2022-10-08T18:28:47.165Z"
   },
   {
    "duration": 3,
    "start_time": "2022-10-08T18:28:47.197Z"
   },
   {
    "duration": 1874,
    "start_time": "2022-10-08T18:28:47.201Z"
   },
   {
    "duration": 17,
    "start_time": "2022-10-08T18:28:49.077Z"
   },
   {
    "duration": 47,
    "start_time": "2022-10-08T18:28:49.095Z"
   },
   {
    "duration": 243,
    "start_time": "2022-10-08T18:28:49.143Z"
   },
   {
    "duration": 157,
    "start_time": "2022-10-08T18:28:49.388Z"
   },
   {
    "duration": 8,
    "start_time": "2022-10-08T18:28:49.546Z"
   },
   {
    "duration": 25,
    "start_time": "2022-10-08T18:28:49.555Z"
   },
   {
    "duration": 12,
    "start_time": "2022-10-08T18:28:49.582Z"
   },
   {
    "duration": 4,
    "start_time": "2022-10-08T18:28:49.633Z"
   },
   {
    "duration": 13,
    "start_time": "2022-10-08T18:28:49.638Z"
   },
   {
    "duration": 4,
    "start_time": "2022-10-08T18:28:49.652Z"
   },
   {
    "duration": 346,
    "start_time": "2022-10-08T18:28:49.657Z"
   },
   {
    "duration": 320,
    "start_time": "2022-10-08T18:28:50.005Z"
   },
   {
    "duration": 325,
    "start_time": "2022-10-08T18:28:50.326Z"
   },
   {
    "duration": 396,
    "start_time": "2022-10-08T18:28:50.652Z"
   },
   {
    "duration": 176,
    "start_time": "2022-10-08T18:28:51.050Z"
   },
   {
    "duration": 186,
    "start_time": "2022-10-08T18:28:51.228Z"
   },
   {
    "duration": 192,
    "start_time": "2022-10-08T18:28:51.416Z"
   },
   {
    "duration": 193,
    "start_time": "2022-10-08T18:28:51.611Z"
   },
   {
    "duration": 3,
    "start_time": "2022-10-08T18:28:51.806Z"
   },
   {
    "duration": 54,
    "start_time": "2022-10-08T18:28:51.810Z"
   },
   {
    "duration": 36,
    "start_time": "2022-10-08T18:28:51.866Z"
   },
   {
    "duration": 14,
    "start_time": "2022-10-08T18:28:51.904Z"
   },
   {
    "duration": 15,
    "start_time": "2022-10-08T18:28:51.920Z"
   },
   {
    "duration": 8,
    "start_time": "2022-10-08T18:28:51.937Z"
   },
   {
    "duration": 11,
    "start_time": "2022-10-08T18:28:51.947Z"
   },
   {
    "duration": 9,
    "start_time": "2022-10-08T18:28:52.928Z"
   },
   {
    "duration": 13,
    "start_time": "2022-10-08T18:28:54.052Z"
   },
   {
    "duration": 3,
    "start_time": "2022-10-08T18:29:01.376Z"
   },
   {
    "duration": 13,
    "start_time": "2022-10-08T18:29:02.901Z"
   },
   {
    "duration": 15,
    "start_time": "2022-10-08T18:29:04.956Z"
   },
   {
    "duration": 6,
    "start_time": "2022-10-08T18:29:08.227Z"
   },
   {
    "duration": 14,
    "start_time": "2022-10-08T18:29:09.370Z"
   },
   {
    "duration": 18,
    "start_time": "2022-10-08T18:29:12.098Z"
   },
   {
    "duration": 10,
    "start_time": "2022-10-08T18:29:13.710Z"
   },
   {
    "duration": 297,
    "start_time": "2022-10-08T18:29:14.279Z"
   },
   {
    "duration": 60,
    "start_time": "2022-10-08T18:29:17.557Z"
   },
   {
    "duration": 9248,
    "start_time": "2022-10-08T18:29:19.885Z"
   },
   {
    "duration": 3,
    "start_time": "2022-10-08T18:29:29.135Z"
   },
   {
    "duration": 17,
    "start_time": "2022-10-08T18:29:29.139Z"
   },
   {
    "duration": 3,
    "start_time": "2022-10-08T18:29:29.158Z"
   },
   {
    "duration": 1809,
    "start_time": "2022-10-08T18:29:29.162Z"
   },
   {
    "duration": 14,
    "start_time": "2022-10-08T18:29:30.972Z"
   },
   {
    "duration": 57,
    "start_time": "2022-10-08T18:29:30.988Z"
   },
   {
    "duration": 221,
    "start_time": "2022-10-08T18:29:31.506Z"
   },
   {
    "duration": 133,
    "start_time": "2022-10-08T18:29:32.108Z"
   },
   {
    "duration": 8,
    "start_time": "2022-10-08T18:29:35.283Z"
   },
   {
    "duration": 23,
    "start_time": "2022-10-08T18:29:36.071Z"
   },
   {
    "duration": 12,
    "start_time": "2022-10-08T18:29:38.311Z"
   },
   {
    "duration": 3,
    "start_time": "2022-10-08T18:29:41.193Z"
   },
   {
    "duration": 10,
    "start_time": "2022-10-08T18:29:41.970Z"
   },
   {
    "duration": 5,
    "start_time": "2022-10-08T18:29:56.180Z"
   },
   {
    "duration": 93,
    "start_time": "2022-10-08T18:35:02.433Z"
   },
   {
    "duration": 16,
    "start_time": "2022-10-08T18:35:08.012Z"
   },
   {
    "duration": 224,
    "start_time": "2022-10-08T18:35:08.880Z"
   },
   {
    "duration": 14,
    "start_time": "2022-10-08T18:35:38.912Z"
   },
   {
    "duration": 3,
    "start_time": "2022-10-08T18:36:14.152Z"
   },
   {
    "duration": 13,
    "start_time": "2022-10-08T18:36:14.608Z"
   },
   {
    "duration": 10,
    "start_time": "2022-10-08T18:36:18.296Z"
   },
   {
    "duration": 4,
    "start_time": "2022-10-08T18:36:18.759Z"
   },
   {
    "duration": 12,
    "start_time": "2022-10-08T18:36:19.332Z"
   },
   {
    "duration": 10,
    "start_time": "2022-10-08T18:36:38.690Z"
   },
   {
    "duration": 4,
    "start_time": "2022-10-08T18:36:39.405Z"
   },
   {
    "duration": 12,
    "start_time": "2022-10-08T18:37:56.473Z"
   },
   {
    "duration": 11,
    "start_time": "2022-10-08T18:38:03.180Z"
   },
   {
    "duration": 12,
    "start_time": "2022-10-08T18:38:23.132Z"
   },
   {
    "duration": 14,
    "start_time": "2022-10-08T18:39:53.977Z"
   },
   {
    "duration": 13,
    "start_time": "2022-10-08T18:39:59.459Z"
   },
   {
    "duration": 1140,
    "start_time": "2022-10-08T18:40:22.750Z"
   },
   {
    "duration": 52,
    "start_time": "2022-10-08T18:40:23.893Z"
   },
   {
    "duration": 43,
    "start_time": "2022-10-08T18:40:23.946Z"
   },
   {
    "duration": 16,
    "start_time": "2022-10-08T18:40:23.991Z"
   },
   {
    "duration": 30,
    "start_time": "2022-10-08T18:40:24.009Z"
   },
   {
    "duration": 16,
    "start_time": "2022-10-08T18:40:24.041Z"
   },
   {
    "duration": 10,
    "start_time": "2022-10-08T18:40:24.059Z"
   },
   {
    "duration": 10,
    "start_time": "2022-10-08T18:40:24.071Z"
   },
   {
    "duration": 21,
    "start_time": "2022-10-08T18:40:24.082Z"
   },
   {
    "duration": 2,
    "start_time": "2022-10-08T18:40:24.134Z"
   },
   {
    "duration": 15,
    "start_time": "2022-10-08T18:40:24.138Z"
   },
   {
    "duration": 15,
    "start_time": "2022-10-08T18:40:24.155Z"
   },
   {
    "duration": 7,
    "start_time": "2022-10-08T18:40:24.171Z"
   },
   {
    "duration": 21,
    "start_time": "2022-10-08T18:40:24.180Z"
   },
   {
    "duration": 45,
    "start_time": "2022-10-08T18:40:24.202Z"
   },
   {
    "duration": 17,
    "start_time": "2022-10-08T18:40:24.249Z"
   },
   {
    "duration": 378,
    "start_time": "2022-10-08T18:40:24.268Z"
   },
   {
    "duration": 62,
    "start_time": "2022-10-08T18:40:24.648Z"
   },
   {
    "duration": 9545,
    "start_time": "2022-10-08T18:40:24.712Z"
   },
   {
    "duration": 3,
    "start_time": "2022-10-08T18:40:34.258Z"
   },
   {
    "duration": 17,
    "start_time": "2022-10-08T18:40:34.264Z"
   },
   {
    "duration": 4,
    "start_time": "2022-10-08T18:40:34.283Z"
   },
   {
    "duration": 1816,
    "start_time": "2022-10-08T18:40:34.288Z"
   },
   {
    "duration": 28,
    "start_time": "2022-10-08T18:40:36.105Z"
   },
   {
    "duration": 26,
    "start_time": "2022-10-08T18:40:36.135Z"
   },
   {
    "duration": 323,
    "start_time": "2022-10-08T18:40:36.163Z"
   },
   {
    "duration": 148,
    "start_time": "2022-10-08T18:40:36.489Z"
   },
   {
    "duration": 14,
    "start_time": "2022-10-08T18:40:36.642Z"
   },
   {
    "duration": 12,
    "start_time": "2022-10-08T18:40:36.658Z"
   },
   {
    "duration": 340,
    "start_time": "2022-10-08T18:40:36.672Z"
   },
   {
    "duration": 0,
    "start_time": "2022-10-08T18:40:37.013Z"
   },
   {
    "duration": 0,
    "start_time": "2022-10-08T18:40:37.015Z"
   },
   {
    "duration": 0,
    "start_time": "2022-10-08T18:40:37.015Z"
   },
   {
    "duration": 0,
    "start_time": "2022-10-08T18:40:37.017Z"
   },
   {
    "duration": 0,
    "start_time": "2022-10-08T18:40:37.017Z"
   },
   {
    "duration": 0,
    "start_time": "2022-10-08T18:40:37.018Z"
   },
   {
    "duration": 0,
    "start_time": "2022-10-08T18:40:37.019Z"
   },
   {
    "duration": 0,
    "start_time": "2022-10-08T18:40:37.020Z"
   },
   {
    "duration": 0,
    "start_time": "2022-10-08T18:40:37.021Z"
   },
   {
    "duration": 0,
    "start_time": "2022-10-08T18:40:37.022Z"
   },
   {
    "duration": 252,
    "start_time": "2022-10-08T18:40:52.329Z"
   },
   {
    "duration": 16,
    "start_time": "2022-10-08T19:03:48.997Z"
   },
   {
    "duration": 154,
    "start_time": "2022-10-08T19:03:53.377Z"
   },
   {
    "duration": 17,
    "start_time": "2022-10-08T19:04:48.150Z"
   },
   {
    "duration": 6,
    "start_time": "2022-10-08T19:04:49.466Z"
   },
   {
    "duration": 13,
    "start_time": "2022-10-08T19:05:07.649Z"
   },
   {
    "duration": 4,
    "start_time": "2022-10-08T19:06:24.702Z"
   },
   {
    "duration": 13,
    "start_time": "2022-10-08T19:06:43.913Z"
   },
   {
    "duration": 6,
    "start_time": "2022-10-08T19:06:45.139Z"
   },
   {
    "duration": 13,
    "start_time": "2022-10-08T19:07:10.066Z"
   },
   {
    "duration": 6,
    "start_time": "2022-10-08T19:07:12.186Z"
   },
   {
    "duration": 13,
    "start_time": "2022-10-08T19:07:29.777Z"
   },
   {
    "duration": 6,
    "start_time": "2022-10-08T19:07:30.704Z"
   },
   {
    "duration": 12,
    "start_time": "2022-10-08T19:07:46.987Z"
   },
   {
    "duration": 5,
    "start_time": "2022-10-08T19:07:47.815Z"
   },
   {
    "duration": 4,
    "start_time": "2022-10-08T19:12:13.408Z"
   },
   {
    "duration": 5,
    "start_time": "2022-10-08T19:12:27.872Z"
   },
   {
    "duration": 6,
    "start_time": "2022-10-08T19:12:28.413Z"
   },
   {
    "duration": 13,
    "start_time": "2022-10-08T19:12:30.046Z"
   },
   {
    "duration": 2,
    "start_time": "2022-10-08T19:12:32.249Z"
   },
   {
    "duration": 12,
    "start_time": "2022-10-08T19:12:32.874Z"
   },
   {
    "duration": 15,
    "start_time": "2022-10-08T19:12:33.081Z"
   },
   {
    "duration": 4,
    "start_time": "2022-10-08T19:12:33.514Z"
   },
   {
    "duration": 13,
    "start_time": "2022-10-08T19:12:33.685Z"
   },
   {
    "duration": 15,
    "start_time": "2022-10-08T19:12:33.907Z"
   },
   {
    "duration": 13,
    "start_time": "2022-10-08T19:12:34.561Z"
   },
   {
    "duration": 324,
    "start_time": "2022-10-08T19:12:34.832Z"
   },
   {
    "duration": 63,
    "start_time": "2022-10-08T19:12:35.836Z"
   },
   {
    "duration": 9407,
    "start_time": "2022-10-08T19:12:37.128Z"
   },
   {
    "duration": 3,
    "start_time": "2022-10-08T19:12:46.537Z"
   },
   {
    "duration": 26,
    "start_time": "2022-10-08T19:12:46.541Z"
   },
   {
    "duration": 3,
    "start_time": "2022-10-08T19:12:46.569Z"
   },
   {
    "duration": 1813,
    "start_time": "2022-10-08T19:12:46.574Z"
   },
   {
    "duration": 14,
    "start_time": "2022-10-08T19:12:48.389Z"
   },
   {
    "duration": 41,
    "start_time": "2022-10-08T19:12:48.405Z"
   },
   {
    "duration": 228,
    "start_time": "2022-10-08T19:12:48.447Z"
   },
   {
    "duration": 164,
    "start_time": "2022-10-08T19:12:48.676Z"
   },
   {
    "duration": 12,
    "start_time": "2022-10-08T19:12:48.842Z"
   },
   {
    "duration": 12,
    "start_time": "2022-10-08T19:13:02.502Z"
   },
   {
    "duration": 5,
    "start_time": "2022-10-08T19:13:03.474Z"
   },
   {
    "duration": 12,
    "start_time": "2022-10-08T19:13:08.275Z"
   },
   {
    "duration": 5,
    "start_time": "2022-10-08T19:13:09.077Z"
   },
   {
    "duration": 11,
    "start_time": "2022-10-08T19:19:14.165Z"
   },
   {
    "duration": 13,
    "start_time": "2022-10-08T19:19:30.418Z"
   },
   {
    "duration": 4,
    "start_time": "2022-10-08T19:21:06.516Z"
   },
   {
    "duration": 13,
    "start_time": "2022-10-08T19:21:07.082Z"
   },
   {
    "duration": 6,
    "start_time": "2022-10-08T19:21:07.938Z"
   },
   {
    "duration": 12,
    "start_time": "2022-10-08T19:21:10.833Z"
   },
   {
    "duration": 3,
    "start_time": "2022-10-08T19:22:18.286Z"
   },
   {
    "duration": 10,
    "start_time": "2022-10-08T19:22:20.059Z"
   },
   {
    "duration": 10,
    "start_time": "2022-10-08T19:22:29.269Z"
   },
   {
    "duration": 14,
    "start_time": "2022-10-08T19:22:58.380Z"
   },
   {
    "duration": 5,
    "start_time": "2022-10-08T19:23:03.052Z"
   },
   {
    "duration": 3,
    "start_time": "2022-10-08T19:23:04.058Z"
   },
   {
    "duration": 19,
    "start_time": "2022-10-08T19:24:18.142Z"
   },
   {
    "duration": 15,
    "start_time": "2022-10-08T19:24:29.445Z"
   },
   {
    "duration": 4,
    "start_time": "2022-10-08T19:30:42.747Z"
   },
   {
    "duration": 294,
    "start_time": "2022-10-08T19:30:44.515Z"
   },
   {
    "duration": 10,
    "start_time": "2022-10-08T20:29:51.838Z"
   },
   {
    "duration": 15,
    "start_time": "2022-10-08T20:30:21.879Z"
   },
   {
    "duration": 14,
    "start_time": "2022-10-08T20:30:40.449Z"
   },
   {
    "duration": 195,
    "start_time": "2022-10-08T20:39:13.173Z"
   },
   {
    "duration": 41,
    "start_time": "2022-10-09T04:24:41.272Z"
   },
   {
    "duration": 4,
    "start_time": "2022-10-09T04:24:49.606Z"
   },
   {
    "duration": 12,
    "start_time": "2022-10-09T04:25:35.424Z"
   },
   {
    "duration": 1081,
    "start_time": "2022-10-09T04:25:56.439Z"
   },
   {
    "duration": 50,
    "start_time": "2022-10-09T04:25:57.522Z"
   },
   {
    "duration": 40,
    "start_time": "2022-10-09T04:25:57.573Z"
   },
   {
    "duration": 13,
    "start_time": "2022-10-09T04:25:57.615Z"
   },
   {
    "duration": 2,
    "start_time": "2022-10-09T04:25:57.634Z"
   },
   {
    "duration": 15,
    "start_time": "2022-10-09T04:25:57.638Z"
   },
   {
    "duration": 4,
    "start_time": "2022-10-09T04:25:57.654Z"
   },
   {
    "duration": 12,
    "start_time": "2022-10-09T04:25:57.660Z"
   },
   {
    "duration": 20,
    "start_time": "2022-10-09T04:25:57.673Z"
   },
   {
    "duration": 2,
    "start_time": "2022-10-09T04:25:57.695Z"
   },
   {
    "duration": 14,
    "start_time": "2022-10-09T04:25:57.698Z"
   },
   {
    "duration": 24,
    "start_time": "2022-10-09T04:25:57.714Z"
   },
   {
    "duration": 5,
    "start_time": "2022-10-09T04:25:57.740Z"
   },
   {
    "duration": 12,
    "start_time": "2022-10-09T04:25:57.746Z"
   },
   {
    "duration": 15,
    "start_time": "2022-10-09T04:25:57.760Z"
   },
   {
    "duration": 11,
    "start_time": "2022-10-09T04:25:57.776Z"
   },
   {
    "duration": 322,
    "start_time": "2022-10-09T04:25:57.789Z"
   },
   {
    "duration": 70,
    "start_time": "2022-10-09T04:25:58.112Z"
   },
   {
    "duration": 8952,
    "start_time": "2022-10-09T04:25:58.183Z"
   },
   {
    "duration": 2,
    "start_time": "2022-10-09T04:26:07.136Z"
   },
   {
    "duration": 24,
    "start_time": "2022-10-09T04:26:07.140Z"
   },
   {
    "duration": 2,
    "start_time": "2022-10-09T04:26:07.166Z"
   },
   {
    "duration": 1744,
    "start_time": "2022-10-09T04:26:07.170Z"
   },
   {
    "duration": 20,
    "start_time": "2022-10-09T04:26:08.916Z"
   },
   {
    "duration": 24,
    "start_time": "2022-10-09T04:26:08.937Z"
   },
   {
    "duration": 239,
    "start_time": "2022-10-09T04:26:08.962Z"
   },
   {
    "duration": 142,
    "start_time": "2022-10-09T04:26:09.202Z"
   },
   {
    "duration": 11,
    "start_time": "2022-10-09T04:26:09.347Z"
   },
   {
    "duration": 14,
    "start_time": "2022-10-09T04:26:09.359Z"
   },
   {
    "duration": 51,
    "start_time": "2022-10-09T04:26:09.374Z"
   },
   {
    "duration": 0,
    "start_time": "2022-10-09T04:26:09.427Z"
   },
   {
    "duration": 0,
    "start_time": "2022-10-09T04:26:09.429Z"
   },
   {
    "duration": 0,
    "start_time": "2022-10-09T04:26:09.430Z"
   },
   {
    "duration": 0,
    "start_time": "2022-10-09T04:26:09.431Z"
   },
   {
    "duration": 0,
    "start_time": "2022-10-09T04:26:09.432Z"
   },
   {
    "duration": 0,
    "start_time": "2022-10-09T04:26:09.433Z"
   },
   {
    "duration": 0,
    "start_time": "2022-10-09T04:26:09.434Z"
   },
   {
    "duration": 0,
    "start_time": "2022-10-09T04:26:09.435Z"
   },
   {
    "duration": 0,
    "start_time": "2022-10-09T04:26:09.436Z"
   },
   {
    "duration": 0,
    "start_time": "2022-10-09T04:26:09.437Z"
   },
   {
    "duration": 0,
    "start_time": "2022-10-09T04:26:09.438Z"
   },
   {
    "duration": 0,
    "start_time": "2022-10-09T04:26:09.439Z"
   },
   {
    "duration": 0,
    "start_time": "2022-10-09T04:26:09.440Z"
   },
   {
    "duration": 0,
    "start_time": "2022-10-09T04:26:09.441Z"
   },
   {
    "duration": 0,
    "start_time": "2022-10-09T04:26:09.442Z"
   },
   {
    "duration": 0,
    "start_time": "2022-10-09T04:26:09.443Z"
   },
   {
    "duration": 0,
    "start_time": "2022-10-09T04:26:09.444Z"
   },
   {
    "duration": 0,
    "start_time": "2022-10-09T04:26:09.445Z"
   },
   {
    "duration": 0,
    "start_time": "2022-10-09T04:26:09.446Z"
   },
   {
    "duration": 0,
    "start_time": "2022-10-09T04:26:09.447Z"
   },
   {
    "duration": 0,
    "start_time": "2022-10-09T04:26:09.448Z"
   },
   {
    "duration": 0,
    "start_time": "2022-10-09T04:26:09.449Z"
   },
   {
    "duration": 0,
    "start_time": "2022-10-09T04:26:09.450Z"
   },
   {
    "duration": 0,
    "start_time": "2022-10-09T04:26:09.451Z"
   },
   {
    "duration": 0,
    "start_time": "2022-10-09T04:26:09.452Z"
   },
   {
    "duration": 0,
    "start_time": "2022-10-09T04:26:09.453Z"
   },
   {
    "duration": 0,
    "start_time": "2022-10-09T04:26:09.454Z"
   },
   {
    "duration": 0,
    "start_time": "2022-10-09T04:26:09.455Z"
   },
   {
    "duration": 0,
    "start_time": "2022-10-09T04:26:09.456Z"
   },
   {
    "duration": 0,
    "start_time": "2022-10-09T04:26:09.457Z"
   },
   {
    "duration": 9,
    "start_time": "2022-10-09T04:26:09.711Z"
   },
   {
    "duration": 285,
    "start_time": "2022-10-09T04:26:09.938Z"
   },
   {
    "duration": 57,
    "start_time": "2022-10-09T04:26:10.804Z"
   },
   {
    "duration": 9041,
    "start_time": "2022-10-09T04:26:11.449Z"
   },
   {
    "duration": 2,
    "start_time": "2022-10-09T04:26:20.492Z"
   },
   {
    "duration": 25,
    "start_time": "2022-10-09T04:26:20.495Z"
   },
   {
    "duration": 3,
    "start_time": "2022-10-09T04:26:20.522Z"
   },
   {
    "duration": 1754,
    "start_time": "2022-10-09T04:26:20.533Z"
   },
   {
    "duration": 17,
    "start_time": "2022-10-09T04:26:22.289Z"
   },
   {
    "duration": 38,
    "start_time": "2022-10-09T04:26:22.308Z"
   },
   {
    "duration": 229,
    "start_time": "2022-10-09T04:26:22.348Z"
   },
   {
    "duration": 131,
    "start_time": "2022-10-09T04:26:22.579Z"
   },
   {
    "duration": 22,
    "start_time": "2022-10-09T04:26:22.711Z"
   },
   {
    "duration": 14,
    "start_time": "2022-10-09T04:26:23.905Z"
   },
   {
    "duration": 86,
    "start_time": "2022-10-09T04:26:24.396Z"
   },
   {
    "duration": 4,
    "start_time": "2022-10-09T04:26:25.002Z"
   },
   {
    "duration": 3,
    "start_time": "2022-10-09T04:26:33.871Z"
   },
   {
    "duration": 10,
    "start_time": "2022-10-09T04:26:34.771Z"
   },
   {
    "duration": 5,
    "start_time": "2022-10-09T04:26:35.744Z"
   },
   {
    "duration": 12,
    "start_time": "2022-10-09T04:26:42.068Z"
   },
   {
    "duration": 3,
    "start_time": "2022-10-09T04:28:19.119Z"
   },
   {
    "duration": 11,
    "start_time": "2022-10-09T04:28:19.929Z"
   },
   {
    "duration": 6,
    "start_time": "2022-10-09T04:28:20.471Z"
   },
   {
    "duration": 12,
    "start_time": "2022-10-09T04:28:22.876Z"
   },
   {
    "duration": 4,
    "start_time": "2022-10-09T04:34:53.381Z"
   },
   {
    "duration": 11,
    "start_time": "2022-10-09T04:34:55.923Z"
   },
   {
    "duration": 6,
    "start_time": "2022-10-09T04:34:56.828Z"
   },
   {
    "duration": 100,
    "start_time": "2022-10-09T04:35:05.520Z"
   },
   {
    "duration": 3,
    "start_time": "2022-10-09T04:36:33.119Z"
   },
   {
    "duration": 11,
    "start_time": "2022-10-09T04:36:33.618Z"
   },
   {
    "duration": 6,
    "start_time": "2022-10-09T04:36:34.083Z"
   },
   {
    "duration": 7,
    "start_time": "2022-10-09T04:36:35.381Z"
   },
   {
    "duration": 8,
    "start_time": "2022-10-09T04:40:43.756Z"
   },
   {
    "duration": 8,
    "start_time": "2022-10-09T04:41:30.109Z"
   },
   {
    "duration": 9,
    "start_time": "2022-10-09T04:41:45.596Z"
   },
   {
    "duration": 4,
    "start_time": "2022-10-09T04:42:03.879Z"
   },
   {
    "duration": 12,
    "start_time": "2022-10-09T04:42:04.973Z"
   },
   {
    "duration": 6,
    "start_time": "2022-10-09T04:42:05.621Z"
   },
   {
    "duration": 9,
    "start_time": "2022-10-09T04:42:07.029Z"
   },
   {
    "duration": 4,
    "start_time": "2022-10-09T04:44:44.284Z"
   },
   {
    "duration": 11,
    "start_time": "2022-10-09T04:44:44.784Z"
   },
   {
    "duration": 5,
    "start_time": "2022-10-09T04:44:45.243Z"
   },
   {
    "duration": 9,
    "start_time": "2022-10-09T04:44:49.390Z"
   },
   {
    "duration": 12,
    "start_time": "2022-10-09T04:45:31.616Z"
   },
   {
    "duration": 5,
    "start_time": "2022-10-09T04:45:31.788Z"
   },
   {
    "duration": 11,
    "start_time": "2022-10-09T04:45:58.044Z"
   },
   {
    "duration": 6,
    "start_time": "2022-10-09T04:45:59.412Z"
   },
   {
    "duration": 11,
    "start_time": "2022-10-09T04:46:20.273Z"
   },
   {
    "duration": 5,
    "start_time": "2022-10-09T04:46:21.146Z"
   },
   {
    "duration": 3,
    "start_time": "2022-10-09T04:49:43.384Z"
   },
   {
    "duration": 33,
    "start_time": "2022-10-09T04:49:43.864Z"
   },
   {
    "duration": 47,
    "start_time": "2022-10-09T04:51:34.232Z"
   },
   {
    "duration": 48,
    "start_time": "2022-10-09T04:52:06.132Z"
   },
   {
    "duration": 55,
    "start_time": "2022-10-09T04:52:52.024Z"
   },
   {
    "duration": 36,
    "start_time": "2022-10-09T04:53:17.412Z"
   },
   {
    "duration": 52,
    "start_time": "2022-10-09T04:53:38.696Z"
   },
   {
    "duration": 65,
    "start_time": "2022-10-09T04:53:48.882Z"
   },
   {
    "duration": 74,
    "start_time": "2022-10-09T04:57:27.022Z"
   },
   {
    "duration": 3,
    "start_time": "2022-10-09T04:57:27.579Z"
   },
   {
    "duration": 3,
    "start_time": "2022-10-09T04:57:35.736Z"
   },
   {
    "duration": 70,
    "start_time": "2022-10-09T04:57:36.528Z"
   },
   {
    "duration": 8,
    "start_time": "2022-10-09T05:17:22.534Z"
   },
   {
    "duration": 4,
    "start_time": "2022-10-09T05:17:27.447Z"
   },
   {
    "duration": 4,
    "start_time": "2022-10-09T05:17:32.865Z"
   },
   {
    "duration": 290,
    "start_time": "2022-10-09T05:17:34.148Z"
   },
   {
    "duration": 309,
    "start_time": "2022-10-09T05:17:35.959Z"
   },
   {
    "duration": 362,
    "start_time": "2022-10-09T05:17:36.853Z"
   },
   {
    "duration": 297,
    "start_time": "2022-10-09T05:17:38.241Z"
   },
   {
    "duration": 167,
    "start_time": "2022-10-09T05:17:39.928Z"
   },
   {
    "duration": 167,
    "start_time": "2022-10-09T05:17:41.215Z"
   },
   {
    "duration": 178,
    "start_time": "2022-10-09T05:17:42.282Z"
   },
   {
    "duration": 228,
    "start_time": "2022-10-09T05:22:58.142Z"
   },
   {
    "duration": 140,
    "start_time": "2022-10-09T05:22:58.645Z"
   },
   {
    "duration": 12,
    "start_time": "2022-10-09T05:23:00.038Z"
   },
   {
    "duration": 15,
    "start_time": "2022-10-09T05:23:01.582Z"
   },
   {
    "duration": 181,
    "start_time": "2022-10-09T05:27:18.161Z"
   },
   {
    "duration": 9847,
    "start_time": "2022-10-09T05:38:32.595Z"
   },
   {
    "duration": 56,
    "start_time": "2022-10-09T05:38:42.449Z"
   },
   {
    "duration": 29,
    "start_time": "2022-10-09T05:41:06.515Z"
   },
   {
    "duration": 18,
    "start_time": "2022-10-09T05:44:27.489Z"
   },
   {
    "duration": 2,
    "start_time": "2022-10-09T05:56:35.512Z"
   },
   {
    "duration": 2,
    "start_time": "2022-10-09T05:57:46.189Z"
   },
   {
    "duration": 1804,
    "start_time": "2022-10-09T05:57:48.372Z"
   },
   {
    "duration": 16,
    "start_time": "2022-10-09T06:40:57.132Z"
   },
   {
    "duration": 2,
    "start_time": "2022-10-09T06:46:49.561Z"
   },
   {
    "duration": 5,
    "start_time": "2022-10-09T06:48:50.038Z"
   },
   {
    "duration": 15,
    "start_time": "2022-10-09T06:48:57.212Z"
   },
   {
    "duration": 10,
    "start_time": "2022-10-09T06:49:46.598Z"
   },
   {
    "duration": 10,
    "start_time": "2022-10-09T07:01:15.810Z"
   },
   {
    "duration": 16,
    "start_time": "2022-10-09T07:51:00.749Z"
   },
   {
    "duration": 4798,
    "start_time": "2022-10-09T07:51:20.189Z"
   },
   {
    "duration": 4974,
    "start_time": "2022-10-09T07:52:22.496Z"
   },
   {
    "duration": 24,
    "start_time": "2022-10-09T07:53:08.180Z"
   },
   {
    "duration": 111,
    "start_time": "2022-10-09T07:58:14.437Z"
   },
   {
    "duration": 50,
    "start_time": "2022-10-09T07:58:36.183Z"
   },
   {
    "duration": 34,
    "start_time": "2022-10-09T07:58:45.140Z"
   },
   {
    "duration": 23,
    "start_time": "2022-10-09T08:01:09.160Z"
   },
   {
    "duration": 1166,
    "start_time": "2022-10-09T08:01:36.671Z"
   },
   {
    "duration": 54,
    "start_time": "2022-10-09T08:01:37.839Z"
   },
   {
    "duration": 43,
    "start_time": "2022-10-09T08:01:37.894Z"
   },
   {
    "duration": 16,
    "start_time": "2022-10-09T08:01:37.938Z"
   },
   {
    "duration": 7,
    "start_time": "2022-10-09T08:01:37.955Z"
   },
   {
    "duration": 15,
    "start_time": "2022-10-09T08:01:37.964Z"
   },
   {
    "duration": 12,
    "start_time": "2022-10-09T08:01:37.981Z"
   },
   {
    "duration": 10,
    "start_time": "2022-10-09T08:01:37.995Z"
   },
   {
    "duration": 13,
    "start_time": "2022-10-09T08:01:38.033Z"
   },
   {
    "duration": 15,
    "start_time": "2022-10-09T08:01:38.049Z"
   },
   {
    "duration": 2,
    "start_time": "2022-10-09T08:01:38.065Z"
   },
   {
    "duration": 10,
    "start_time": "2022-10-09T08:01:38.069Z"
   },
   {
    "duration": 12,
    "start_time": "2022-10-09T08:01:38.081Z"
   },
   {
    "duration": 40,
    "start_time": "2022-10-09T08:01:38.094Z"
   },
   {
    "duration": 38,
    "start_time": "2022-10-09T08:01:38.136Z"
   },
   {
    "duration": 334,
    "start_time": "2022-10-09T08:01:38.176Z"
   },
   {
    "duration": 69,
    "start_time": "2022-10-09T08:01:38.511Z"
   },
   {
    "duration": 15,
    "start_time": "2022-10-09T08:01:38.582Z"
   },
   {
    "duration": 3,
    "start_time": "2022-10-09T08:01:38.599Z"
   },
   {
    "duration": 1915,
    "start_time": "2022-10-09T08:01:38.603Z"
   },
   {
    "duration": 24,
    "start_time": "2022-10-09T08:01:40.519Z"
   },
   {
    "duration": 113,
    "start_time": "2022-10-09T08:01:40.545Z"
   },
   {
    "duration": 0,
    "start_time": "2022-10-09T08:01:40.660Z"
   },
   {
    "duration": 0,
    "start_time": "2022-10-09T08:01:40.662Z"
   },
   {
    "duration": 0,
    "start_time": "2022-10-09T08:01:40.663Z"
   },
   {
    "duration": 0,
    "start_time": "2022-10-09T08:01:40.664Z"
   },
   {
    "duration": 0,
    "start_time": "2022-10-09T08:01:40.665Z"
   },
   {
    "duration": 0,
    "start_time": "2022-10-09T08:01:40.666Z"
   },
   {
    "duration": 0,
    "start_time": "2022-10-09T08:01:40.667Z"
   },
   {
    "duration": 0,
    "start_time": "2022-10-09T08:01:40.668Z"
   },
   {
    "duration": 0,
    "start_time": "2022-10-09T08:01:40.669Z"
   },
   {
    "duration": 0,
    "start_time": "2022-10-09T08:01:40.669Z"
   },
   {
    "duration": 0,
    "start_time": "2022-10-09T08:01:40.670Z"
   },
   {
    "duration": 0,
    "start_time": "2022-10-09T08:01:40.671Z"
   },
   {
    "duration": 0,
    "start_time": "2022-10-09T08:01:40.672Z"
   },
   {
    "duration": 0,
    "start_time": "2022-10-09T08:01:40.673Z"
   },
   {
    "duration": 0,
    "start_time": "2022-10-09T08:01:40.674Z"
   },
   {
    "duration": 0,
    "start_time": "2022-10-09T08:01:40.675Z"
   },
   {
    "duration": 0,
    "start_time": "2022-10-09T08:01:40.676Z"
   },
   {
    "duration": 0,
    "start_time": "2022-10-09T08:01:40.676Z"
   },
   {
    "duration": 0,
    "start_time": "2022-10-09T08:01:40.677Z"
   },
   {
    "duration": 0,
    "start_time": "2022-10-09T08:01:40.678Z"
   },
   {
    "duration": 51,
    "start_time": "2022-10-09T08:01:42.348Z"
   },
   {
    "duration": 16,
    "start_time": "2022-10-09T08:01:42.802Z"
   },
   {
    "duration": 4,
    "start_time": "2022-10-09T08:01:44.509Z"
   },
   {
    "duration": 14,
    "start_time": "2022-10-09T08:01:44.969Z"
   },
   {
    "duration": 5,
    "start_time": "2022-10-09T08:01:46.136Z"
   },
   {
    "duration": 6,
    "start_time": "2022-10-09T08:01:46.500Z"
   },
   {
    "duration": 21,
    "start_time": "2022-10-09T08:01:46.914Z"
   },
   {
    "duration": 14,
    "start_time": "2022-10-09T08:01:47.610Z"
   },
   {
    "duration": 3,
    "start_time": "2022-10-09T08:01:50.615Z"
   },
   {
    "duration": 5,
    "start_time": "2022-10-09T08:01:52.362Z"
   },
   {
    "duration": 12,
    "start_time": "2022-10-09T08:01:52.780Z"
   },
   {
    "duration": 2,
    "start_time": "2022-10-09T08:01:53.463Z"
   },
   {
    "duration": 11,
    "start_time": "2022-10-09T08:01:55.383Z"
   },
   {
    "duration": 356,
    "start_time": "2022-10-09T08:01:56.008Z"
   },
   {
    "duration": 76,
    "start_time": "2022-10-09T08:01:57.762Z"
   },
   {
    "duration": 16,
    "start_time": "2022-10-09T08:01:58.631Z"
   },
   {
    "duration": 3,
    "start_time": "2022-10-09T08:01:59.646Z"
   },
   {
    "duration": 1931,
    "start_time": "2022-10-09T08:02:00.686Z"
   },
   {
    "duration": 23,
    "start_time": "2022-10-09T08:02:02.619Z"
   },
   {
    "duration": 13,
    "start_time": "2022-10-09T08:02:04.606Z"
   },
   {
    "duration": 21,
    "start_time": "2022-10-09T08:02:42.772Z"
   },
   {
    "duration": 2323,
    "start_time": "2022-10-09T08:02:48.612Z"
   },
   {
    "duration": 19,
    "start_time": "2022-10-09T08:04:59.831Z"
   },
   {
    "duration": 27,
    "start_time": "2022-10-09T08:05:35.025Z"
   },
   {
    "duration": 2375,
    "start_time": "2022-10-09T08:05:37.156Z"
   },
   {
    "duration": 323,
    "start_time": "2022-10-09T08:05:39.674Z"
   },
   {
    "duration": 182,
    "start_time": "2022-10-09T08:05:43.050Z"
   },
   {
    "duration": 17,
    "start_time": "2022-10-09T08:17:21.285Z"
   },
   {
    "duration": 22,
    "start_time": "2022-10-09T08:17:52.053Z"
   },
   {
    "duration": 2418,
    "start_time": "2022-10-09T08:17:59.279Z"
   },
   {
    "duration": 2108,
    "start_time": "2022-10-09T08:18:50.109Z"
   },
   {
    "duration": 2573,
    "start_time": "2022-10-09T08:21:57.053Z"
   },
   {
    "duration": 90,
    "start_time": "2022-10-09T08:53:25.505Z"
   },
   {
    "duration": 46,
    "start_time": "2022-10-09T08:53:32.462Z"
   },
   {
    "duration": 47,
    "start_time": "2022-10-09T08:54:14.450Z"
   },
   {
    "duration": 200,
    "start_time": "2022-10-09T08:55:10.088Z"
   },
   {
    "duration": 203,
    "start_time": "2022-10-09T08:55:34.017Z"
   },
   {
    "duration": 166,
    "start_time": "2022-10-09T08:55:43.565Z"
   },
   {
    "duration": 359,
    "start_time": "2022-10-09T08:57:06.824Z"
   },
   {
    "duration": 381,
    "start_time": "2022-10-09T08:58:20.737Z"
   },
   {
    "duration": 295,
    "start_time": "2022-10-09T08:58:28.976Z"
   },
   {
    "duration": 326,
    "start_time": "2022-10-09T08:58:39.553Z"
   },
   {
    "duration": 297,
    "start_time": "2022-10-09T08:58:48.161Z"
   },
   {
    "duration": 226,
    "start_time": "2022-10-09T08:59:29.192Z"
   },
   {
    "duration": 307,
    "start_time": "2022-10-09T09:26:01.230Z"
   },
   {
    "duration": 325,
    "start_time": "2022-10-09T09:26:16.460Z"
   },
   {
    "duration": 196,
    "start_time": "2022-10-09T09:26:24.320Z"
   },
   {
    "duration": 438,
    "start_time": "2022-10-09T09:29:35.946Z"
   },
   {
    "duration": 614,
    "start_time": "2022-10-09T09:30:00.675Z"
   },
   {
    "duration": 265,
    "start_time": "2022-10-09T09:30:27.177Z"
   },
   {
    "duration": 521,
    "start_time": "2022-10-09T09:30:40.029Z"
   },
   {
    "duration": 538,
    "start_time": "2022-10-09T09:31:33.659Z"
   },
   {
    "duration": 298,
    "start_time": "2022-10-09T09:31:36.757Z"
   },
   {
    "duration": 525,
    "start_time": "2022-10-09T09:31:44.054Z"
   },
   {
    "duration": 548,
    "start_time": "2022-10-09T09:31:55.239Z"
   },
   {
    "duration": 388,
    "start_time": "2022-10-09T09:32:10.235Z"
   },
   {
    "duration": 315,
    "start_time": "2022-10-09T09:33:11.957Z"
   },
   {
    "duration": 285,
    "start_time": "2022-10-09T09:33:21.773Z"
   },
   {
    "duration": 373,
    "start_time": "2022-10-09T09:33:39.206Z"
   },
   {
    "duration": 342,
    "start_time": "2022-10-09T09:33:46.544Z"
   },
   {
    "duration": 210,
    "start_time": "2022-10-09T09:36:53.445Z"
   },
   {
    "duration": 237,
    "start_time": "2022-10-09T09:37:01.956Z"
   },
   {
    "duration": 195,
    "start_time": "2022-10-09T09:37:12.813Z"
   },
   {
    "duration": 194,
    "start_time": "2022-10-09T09:37:20.589Z"
   },
   {
    "duration": 191,
    "start_time": "2022-10-09T09:37:48.988Z"
   },
   {
    "duration": 316,
    "start_time": "2022-10-09T09:39:33.287Z"
   },
   {
    "duration": 333,
    "start_time": "2022-10-09T09:39:53.017Z"
   },
   {
    "duration": 11,
    "start_time": "2022-10-09T09:49:29.005Z"
   },
   {
    "duration": 15,
    "start_time": "2022-10-09T09:49:34.710Z"
   },
   {
    "duration": 13,
    "start_time": "2022-10-09T09:49:36.085Z"
   },
   {
    "duration": 5,
    "start_time": "2022-10-09T09:49:36.933Z"
   },
   {
    "duration": 275,
    "start_time": "2022-10-09T09:49:37.905Z"
   },
   {
    "duration": 15,
    "start_time": "2022-10-09T09:51:23.469Z"
   },
   {
    "duration": 7,
    "start_time": "2022-10-09T09:51:26.393Z"
   },
   {
    "duration": 149,
    "start_time": "2022-10-09T09:51:28.421Z"
   },
   {
    "duration": 13,
    "start_time": "2022-10-09T09:52:43.589Z"
   },
   {
    "duration": 6,
    "start_time": "2022-10-09T09:52:45.146Z"
   },
   {
    "duration": 143,
    "start_time": "2022-10-09T09:52:46.748Z"
   },
   {
    "duration": 8,
    "start_time": "2022-10-09T09:54:40.666Z"
   },
   {
    "duration": 176,
    "start_time": "2022-10-09T09:54:51.659Z"
   },
   {
    "duration": 141,
    "start_time": "2022-10-09T09:55:00.353Z"
   },
   {
    "duration": 161,
    "start_time": "2022-10-09T09:55:16.709Z"
   },
   {
    "duration": 155,
    "start_time": "2022-10-09T09:56:06.993Z"
   },
   {
    "duration": 155,
    "start_time": "2022-10-09T09:56:31.156Z"
   },
   {
    "duration": 23,
    "start_time": "2022-10-09T10:00:46.626Z"
   },
   {
    "duration": 2,
    "start_time": "2022-10-09T10:00:50.904Z"
   },
   {
    "duration": 15,
    "start_time": "2022-10-09T10:00:52.278Z"
   },
   {
    "duration": 5,
    "start_time": "2022-10-09T10:02:58.875Z"
   },
   {
    "duration": 322,
    "start_time": "2022-10-09T10:03:07.260Z"
   },
   {
    "duration": 409,
    "start_time": "2022-10-09T10:03:08.965Z"
   },
   {
    "duration": 328,
    "start_time": "2022-10-09T10:03:10.686Z"
   },
   {
    "duration": 353,
    "start_time": "2022-10-09T10:03:12.053Z"
   },
   {
    "duration": 188,
    "start_time": "2022-10-09T10:03:14.170Z"
   },
   {
    "duration": 221,
    "start_time": "2022-10-09T10:03:15.432Z"
   },
   {
    "duration": 234,
    "start_time": "2022-10-09T10:03:21.411Z"
   },
   {
    "duration": 15,
    "start_time": "2022-10-09T10:16:50.354Z"
   },
   {
    "duration": 7,
    "start_time": "2022-10-09T10:16:58.163Z"
   },
   {
    "duration": 204,
    "start_time": "2022-10-09T10:17:00.501Z"
   },
   {
    "duration": 330,
    "start_time": "2022-10-09T10:17:06.337Z"
   },
   {
    "duration": 205,
    "start_time": "2022-10-09T10:17:08.321Z"
   },
   {
    "duration": 340,
    "start_time": "2022-10-09T10:17:09.720Z"
   },
   {
    "duration": 204,
    "start_time": "2022-10-09T10:17:12.074Z"
   },
   {
    "duration": 196,
    "start_time": "2022-10-09T10:17:13.180Z"
   },
   {
    "duration": 185,
    "start_time": "2022-10-09T10:17:14.308Z"
   },
   {
    "duration": 183,
    "start_time": "2022-10-09T10:17:15.694Z"
   },
   {
    "duration": 217,
    "start_time": "2022-10-09T10:17:52.255Z"
   },
   {
    "duration": 6,
    "start_time": "2022-10-09T10:18:07.970Z"
   },
   {
    "duration": 192,
    "start_time": "2022-10-09T10:18:10.919Z"
   },
   {
    "duration": 189,
    "start_time": "2022-10-09T10:18:14.899Z"
   },
   {
    "duration": 249,
    "start_time": "2022-10-09T10:18:16.190Z"
   },
   {
    "duration": 190,
    "start_time": "2022-10-09T10:18:17.390Z"
   },
   {
    "duration": 212,
    "start_time": "2022-10-09T10:19:47.058Z"
   },
   {
    "duration": 427,
    "start_time": "2022-10-09T10:19:59.962Z"
   },
   {
    "duration": 309,
    "start_time": "2022-10-09T10:20:17.848Z"
   },
   {
    "duration": 341,
    "start_time": "2022-10-09T10:20:31.114Z"
   },
   {
    "duration": 3,
    "start_time": "2022-10-09T10:26:34.312Z"
   },
   {
    "duration": 145,
    "start_time": "2022-10-09T10:51:35.905Z"
   },
   {
    "duration": 148,
    "start_time": "2022-10-09T10:51:37.124Z"
   },
   {
    "duration": 14,
    "start_time": "2022-10-09T10:51:44.568Z"
   },
   {
    "duration": 4,
    "start_time": "2022-10-09T10:51:47.451Z"
   },
   {
    "duration": 4,
    "start_time": "2022-10-09T10:53:47.872Z"
   },
   {
    "duration": 21,
    "start_time": "2022-10-09T10:53:49.412Z"
   },
   {
    "duration": 4,
    "start_time": "2022-10-09T11:03:18.356Z"
   },
   {
    "duration": 278,
    "start_time": "2022-10-09T11:03:19.950Z"
   },
   {
    "duration": 6,
    "start_time": "2022-10-09T11:18:36.229Z"
   },
   {
    "duration": 180,
    "start_time": "2022-10-09T11:18:43.026Z"
   },
   {
    "duration": 259,
    "start_time": "2022-10-09T11:18:52.179Z"
   },
   {
    "duration": 2,
    "start_time": "2022-10-09T11:33:19.017Z"
   },
   {
    "duration": 14,
    "start_time": "2022-10-09T11:42:11.518Z"
   },
   {
    "duration": 13,
    "start_time": "2022-10-09T11:42:20.194Z"
   },
   {
    "duration": 13,
    "start_time": "2022-10-09T11:42:33.821Z"
   },
   {
    "duration": 12,
    "start_time": "2022-10-09T11:42:39.817Z"
   },
   {
    "duration": 19,
    "start_time": "2022-10-09T11:42:48.686Z"
   },
   {
    "duration": 24,
    "start_time": "2022-10-09T11:43:56.256Z"
   },
   {
    "duration": 130,
    "start_time": "2022-10-09T11:50:11.367Z"
   },
   {
    "duration": 74,
    "start_time": "2022-10-09T11:52:39.753Z"
   },
   {
    "duration": 70,
    "start_time": "2022-10-09T11:53:14.746Z"
   },
   {
    "duration": 159,
    "start_time": "2022-10-09T12:01:29.200Z"
   },
   {
    "duration": 184,
    "start_time": "2022-10-09T12:05:44.388Z"
   },
   {
    "duration": 159,
    "start_time": "2022-10-09T12:06:02.846Z"
   },
   {
    "duration": 184,
    "start_time": "2022-10-09T12:06:16.511Z"
   },
   {
    "duration": 155,
    "start_time": "2022-10-09T12:06:27.020Z"
   },
   {
    "duration": 9,
    "start_time": "2022-10-09T12:08:28.621Z"
   },
   {
    "duration": 169,
    "start_time": "2022-10-09T12:08:50.205Z"
   },
   {
    "duration": 160,
    "start_time": "2022-10-09T12:09:18.567Z"
   },
   {
    "duration": 175,
    "start_time": "2022-10-09T12:10:19.746Z"
   },
   {
    "duration": 1052,
    "start_time": "2022-10-09T12:10:33.969Z"
   },
   {
    "duration": 60,
    "start_time": "2022-10-09T12:10:35.023Z"
   },
   {
    "duration": 42,
    "start_time": "2022-10-09T12:10:35.084Z"
   },
   {
    "duration": 23,
    "start_time": "2022-10-09T12:10:35.127Z"
   },
   {
    "duration": 6,
    "start_time": "2022-10-09T12:10:35.152Z"
   },
   {
    "duration": 15,
    "start_time": "2022-10-09T12:10:35.159Z"
   },
   {
    "duration": 5,
    "start_time": "2022-10-09T12:10:35.175Z"
   },
   {
    "duration": 13,
    "start_time": "2022-10-09T12:10:35.181Z"
   },
   {
    "duration": 16,
    "start_time": "2022-10-09T12:10:35.196Z"
   },
   {
    "duration": 32,
    "start_time": "2022-10-09T12:10:35.214Z"
   },
   {
    "duration": 4,
    "start_time": "2022-10-09T12:10:35.248Z"
   },
   {
    "duration": 9,
    "start_time": "2022-10-09T12:10:35.254Z"
   },
   {
    "duration": 12,
    "start_time": "2022-10-09T12:10:35.265Z"
   },
   {
    "duration": 4,
    "start_time": "2022-10-09T12:10:35.280Z"
   },
   {
    "duration": 15,
    "start_time": "2022-10-09T12:10:35.285Z"
   },
   {
    "duration": 331,
    "start_time": "2022-10-09T12:10:35.301Z"
   },
   {
    "duration": 65,
    "start_time": "2022-10-09T12:10:35.636Z"
   },
   {
    "duration": 34,
    "start_time": "2022-10-09T12:10:35.702Z"
   },
   {
    "duration": 3,
    "start_time": "2022-10-09T12:10:35.749Z"
   },
   {
    "duration": 1925,
    "start_time": "2022-10-09T12:10:35.753Z"
   },
   {
    "duration": 16,
    "start_time": "2022-10-09T12:10:37.679Z"
   },
   {
    "duration": 13,
    "start_time": "2022-10-09T12:10:37.697Z"
   },
   {
    "duration": 2078,
    "start_time": "2022-10-09T12:10:37.712Z"
   },
   {
    "duration": 397,
    "start_time": "2022-10-09T12:10:39.792Z"
   },
   {
    "duration": 259,
    "start_time": "2022-10-09T12:10:40.191Z"
   },
   {
    "duration": 14,
    "start_time": "2022-10-09T12:10:40.452Z"
   },
   {
    "duration": 14,
    "start_time": "2022-10-09T12:10:40.468Z"
   },
   {
    "duration": 10,
    "start_time": "2022-10-09T12:10:40.484Z"
   },
   {
    "duration": 5,
    "start_time": "2022-10-09T12:10:40.496Z"
   },
   {
    "duration": 181,
    "start_time": "2022-10-09T12:10:40.503Z"
   },
   {
    "duration": 166,
    "start_time": "2022-10-09T12:10:40.685Z"
   },
   {
    "duration": 11,
    "start_time": "2022-10-09T12:10:40.853Z"
   },
   {
    "duration": 77,
    "start_time": "2022-10-09T12:10:40.866Z"
   },
   {
    "duration": 13,
    "start_time": "2022-10-09T12:10:40.945Z"
   },
   {
    "duration": 10,
    "start_time": "2022-10-09T12:10:40.960Z"
   },
   {
    "duration": 204,
    "start_time": "2022-10-09T12:10:40.972Z"
   },
   {
    "duration": 214,
    "start_time": "2022-10-09T12:10:41.178Z"
   },
   {
    "duration": 207,
    "start_time": "2022-10-09T12:10:41.394Z"
   },
   {
    "duration": 220,
    "start_time": "2022-10-09T12:10:41.603Z"
   },
   {
    "duration": 183,
    "start_time": "2022-10-09T12:10:41.825Z"
   },
   {
    "duration": 184,
    "start_time": "2022-10-09T12:10:42.011Z"
   },
   {
    "duration": 195,
    "start_time": "2022-10-09T12:10:42.197Z"
   },
   {
    "duration": 185,
    "start_time": "2022-10-09T12:10:42.394Z"
   },
   {
    "duration": 14,
    "start_time": "2022-10-09T12:10:42.581Z"
   },
   {
    "duration": 281,
    "start_time": "2022-10-09T12:10:42.597Z"
   },
   {
    "duration": 3,
    "start_time": "2022-10-09T12:10:42.880Z"
   },
   {
    "duration": 64,
    "start_time": "2022-10-09T12:10:42.884Z"
   },
   {
    "duration": 37,
    "start_time": "2022-10-09T12:10:42.950Z"
   },
   {
    "duration": 15,
    "start_time": "2022-10-09T12:10:42.988Z"
   },
   {
    "duration": 4,
    "start_time": "2022-10-09T12:10:43.715Z"
   },
   {
    "duration": 17,
    "start_time": "2022-10-09T12:10:44.132Z"
   },
   {
    "duration": 4,
    "start_time": "2022-10-09T12:10:45.527Z"
   },
   {
    "duration": 15,
    "start_time": "2022-10-09T12:10:46.049Z"
   },
   {
    "duration": 13,
    "start_time": "2022-10-09T12:10:46.672Z"
   },
   {
    "duration": 14,
    "start_time": "2022-10-09T12:10:47.572Z"
   },
   {
    "duration": 2,
    "start_time": "2022-10-09T12:10:51.412Z"
   },
   {
    "duration": 6,
    "start_time": "2022-10-09T12:10:53.182Z"
   },
   {
    "duration": 13,
    "start_time": "2022-10-09T12:10:53.545Z"
   },
   {
    "duration": 2,
    "start_time": "2022-10-09T12:10:53.892Z"
   },
   {
    "duration": 10,
    "start_time": "2022-10-09T12:10:55.824Z"
   },
   {
    "duration": 341,
    "start_time": "2022-10-09T12:10:56.439Z"
   },
   {
    "duration": 60,
    "start_time": "2022-10-09T12:10:58.861Z"
   },
   {
    "duration": 15,
    "start_time": "2022-10-09T12:10:59.869Z"
   },
   {
    "duration": 3,
    "start_time": "2022-10-09T12:11:00.913Z"
   },
   {
    "duration": 1959,
    "start_time": "2022-10-09T12:11:02.160Z"
   },
   {
    "duration": 25,
    "start_time": "2022-10-09T12:11:04.121Z"
   },
   {
    "duration": 14,
    "start_time": "2022-10-09T12:11:04.515Z"
   },
   {
    "duration": 1990,
    "start_time": "2022-10-09T12:11:06.466Z"
   },
   {
    "duration": 310,
    "start_time": "2022-10-09T12:11:08.653Z"
   },
   {
    "duration": 181,
    "start_time": "2022-10-09T12:11:09.229Z"
   },
   {
    "duration": 14,
    "start_time": "2022-10-09T12:11:11.357Z"
   },
   {
    "duration": 16,
    "start_time": "2022-10-09T12:11:12.718Z"
   },
   {
    "duration": 12,
    "start_time": "2022-10-09T12:11:14.396Z"
   },
   {
    "duration": 6,
    "start_time": "2022-10-09T12:11:15.301Z"
   },
   {
    "duration": 180,
    "start_time": "2022-10-09T12:11:16.473Z"
   },
   {
    "duration": 232,
    "start_time": "2022-10-09T12:11:16.962Z"
   },
   {
    "duration": 4,
    "start_time": "2022-10-09T12:11:18.889Z"
   },
   {
    "duration": 71,
    "start_time": "2022-10-09T12:11:19.502Z"
   },
   {
    "duration": 14,
    "start_time": "2022-10-09T12:11:21.025Z"
   },
   {
    "duration": 4,
    "start_time": "2022-10-09T12:11:23.956Z"
   },
   {
    "duration": 193,
    "start_time": "2022-10-09T12:11:25.361Z"
   },
   {
    "duration": 237,
    "start_time": "2022-10-09T12:11:26.250Z"
   },
   {
    "duration": 185,
    "start_time": "2022-10-09T12:11:27.132Z"
   },
   {
    "duration": 203,
    "start_time": "2022-10-09T12:11:27.997Z"
   },
   {
    "duration": 179,
    "start_time": "2022-10-09T12:11:30.500Z"
   },
   {
    "duration": 187,
    "start_time": "2022-10-09T12:11:31.296Z"
   },
   {
    "duration": 191,
    "start_time": "2022-10-09T12:11:31.987Z"
   },
   {
    "duration": 172,
    "start_time": "2022-10-09T12:11:32.546Z"
   },
   {
    "duration": 13,
    "start_time": "2022-10-09T12:11:33.351Z"
   },
   {
    "duration": 122,
    "start_time": "2022-10-09T12:17:44.390Z"
   },
   {
    "duration": 13,
    "start_time": "2022-10-09T12:18:04.800Z"
   },
   {
    "duration": 15,
    "start_time": "2022-10-09T12:18:19.099Z"
   },
   {
    "duration": 10,
    "start_time": "2022-10-09T12:18:19.995Z"
   },
   {
    "duration": 722,
    "start_time": "2022-10-09T12:18:39.487Z"
   },
   {
    "duration": 16,
    "start_time": "2022-10-09T12:19:43.568Z"
   },
   {
    "duration": 15,
    "start_time": "2022-10-09T12:19:53.018Z"
   },
   {
    "duration": 720,
    "start_time": "2022-10-09T12:19:54.016Z"
   },
   {
    "duration": 11,
    "start_time": "2022-10-09T12:26:28.467Z"
   },
   {
    "duration": 1200,
    "start_time": "2022-10-09T12:26:42.129Z"
   },
   {
    "duration": 61,
    "start_time": "2022-10-09T12:26:43.331Z"
   },
   {
    "duration": 48,
    "start_time": "2022-10-09T12:26:43.394Z"
   },
   {
    "duration": 18,
    "start_time": "2022-10-09T12:26:43.443Z"
   },
   {
    "duration": 5,
    "start_time": "2022-10-09T12:26:43.465Z"
   },
   {
    "duration": 19,
    "start_time": "2022-10-09T12:26:43.472Z"
   },
   {
    "duration": 5,
    "start_time": "2022-10-09T12:26:43.493Z"
   },
   {
    "duration": 12,
    "start_time": "2022-10-09T12:26:43.499Z"
   },
   {
    "duration": 39,
    "start_time": "2022-10-09T12:26:43.513Z"
   },
   {
    "duration": 15,
    "start_time": "2022-10-09T12:26:43.555Z"
   },
   {
    "duration": 2,
    "start_time": "2022-10-09T12:26:43.572Z"
   },
   {
    "duration": 13,
    "start_time": "2022-10-09T12:26:43.575Z"
   },
   {
    "duration": 16,
    "start_time": "2022-10-09T12:26:43.589Z"
   },
   {
    "duration": 2,
    "start_time": "2022-10-09T12:26:43.608Z"
   },
   {
    "duration": 27,
    "start_time": "2022-10-09T12:26:43.612Z"
   },
   {
    "duration": 341,
    "start_time": "2022-10-09T12:26:43.641Z"
   },
   {
    "duration": 82,
    "start_time": "2022-10-09T12:26:43.984Z"
   },
   {
    "duration": 15,
    "start_time": "2022-10-09T12:26:44.068Z"
   },
   {
    "duration": 3,
    "start_time": "2022-10-09T12:26:44.084Z"
   },
   {
    "duration": 1918,
    "start_time": "2022-10-09T12:26:44.089Z"
   },
   {
    "duration": 16,
    "start_time": "2022-10-09T12:26:46.009Z"
   },
   {
    "duration": 26,
    "start_time": "2022-10-09T12:26:46.034Z"
   },
   {
    "duration": 2108,
    "start_time": "2022-10-09T12:26:46.062Z"
   },
   {
    "duration": 309,
    "start_time": "2022-10-09T12:26:48.172Z"
   },
   {
    "duration": 274,
    "start_time": "2022-10-09T12:26:48.482Z"
   },
   {
    "duration": 12,
    "start_time": "2022-10-09T12:26:48.758Z"
   },
   {
    "duration": 21,
    "start_time": "2022-10-09T12:26:48.771Z"
   },
   {
    "duration": 13,
    "start_time": "2022-10-09T12:26:48.794Z"
   },
   {
    "duration": 9,
    "start_time": "2022-10-09T12:26:48.808Z"
   },
   {
    "duration": 171,
    "start_time": "2022-10-09T12:26:48.835Z"
   },
   {
    "duration": 173,
    "start_time": "2022-10-09T12:26:49.008Z"
   },
   {
    "duration": 4,
    "start_time": "2022-10-09T12:26:49.183Z"
   },
   {
    "duration": 94,
    "start_time": "2022-10-09T12:26:49.188Z"
   },
   {
    "duration": 16,
    "start_time": "2022-10-09T12:26:49.284Z"
   },
   {
    "duration": 6,
    "start_time": "2022-10-09T12:26:49.301Z"
   },
   {
    "duration": 234,
    "start_time": "2022-10-09T12:26:49.309Z"
   },
   {
    "duration": 214,
    "start_time": "2022-10-09T12:26:49.545Z"
   },
   {
    "duration": 201,
    "start_time": "2022-10-09T12:26:49.761Z"
   },
   {
    "duration": 213,
    "start_time": "2022-10-09T12:26:49.963Z"
   },
   {
    "duration": 197,
    "start_time": "2022-10-09T12:26:50.177Z"
   },
   {
    "duration": 192,
    "start_time": "2022-10-09T12:26:50.377Z"
   },
   {
    "duration": 212,
    "start_time": "2022-10-09T12:26:50.570Z"
   },
   {
    "duration": 185,
    "start_time": "2022-10-09T12:26:50.784Z"
   },
   {
    "duration": 13,
    "start_time": "2022-10-09T12:26:50.971Z"
   },
   {
    "duration": 804,
    "start_time": "2022-10-09T12:26:50.986Z"
   },
   {
    "duration": 0,
    "start_time": "2022-10-09T12:26:51.919Z"
   },
   {
    "duration": 12,
    "start_time": "2022-10-09T12:26:56.383Z"
   },
   {
    "duration": 10,
    "start_time": "2022-10-09T12:27:09.799Z"
   },
   {
    "duration": 17,
    "start_time": "2022-10-09T12:27:20.815Z"
   },
   {
    "duration": 4,
    "start_time": "2022-10-09T12:28:58.542Z"
   },
   {
    "duration": 21,
    "start_time": "2022-10-09T12:29:06.132Z"
   },
   {
    "duration": 24,
    "start_time": "2022-10-09T12:29:40.822Z"
   },
   {
    "duration": 17,
    "start_time": "2022-10-09T12:37:35.205Z"
   },
   {
    "duration": 14,
    "start_time": "2022-10-09T12:38:46.964Z"
   },
   {
    "duration": 14,
    "start_time": "2022-10-09T12:45:39.375Z"
   },
   {
    "duration": 10,
    "start_time": "2022-10-09T12:50:33.661Z"
   },
   {
    "duration": 17,
    "start_time": "2022-10-09T12:50:48.926Z"
   },
   {
    "duration": 19,
    "start_time": "2022-10-09T12:51:25.428Z"
   },
   {
    "duration": 11,
    "start_time": "2022-10-09T12:51:50.098Z"
   },
   {
    "duration": 112,
    "start_time": "2022-10-09T12:51:58.468Z"
   },
   {
    "duration": 115,
    "start_time": "2022-10-09T12:52:19.648Z"
   },
   {
    "duration": 366,
    "start_time": "2022-10-09T12:53:19.615Z"
   },
   {
    "duration": 444,
    "start_time": "2022-10-09T12:53:38.076Z"
   },
   {
    "duration": 11,
    "start_time": "2022-10-09T12:54:43.019Z"
   },
   {
    "duration": 353,
    "start_time": "2022-10-09T12:56:10.962Z"
   },
   {
    "duration": 355,
    "start_time": "2022-10-09T12:59:53.822Z"
   },
   {
    "duration": 1187,
    "start_time": "2022-10-09T13:37:56.043Z"
   },
   {
    "duration": 50,
    "start_time": "2022-10-09T13:37:57.234Z"
   },
   {
    "duration": 40,
    "start_time": "2022-10-09T13:37:57.286Z"
   },
   {
    "duration": 14,
    "start_time": "2022-10-09T13:37:57.328Z"
   },
   {
    "duration": 4,
    "start_time": "2022-10-09T13:37:57.345Z"
   },
   {
    "duration": 17,
    "start_time": "2022-10-09T13:37:57.351Z"
   },
   {
    "duration": 5,
    "start_time": "2022-10-09T13:37:57.370Z"
   },
   {
    "duration": 13,
    "start_time": "2022-10-09T13:37:57.377Z"
   },
   {
    "duration": 7,
    "start_time": "2022-10-09T13:37:57.391Z"
   },
   {
    "duration": 34,
    "start_time": "2022-10-09T13:37:57.399Z"
   },
   {
    "duration": 2,
    "start_time": "2022-10-09T13:37:57.435Z"
   },
   {
    "duration": 7,
    "start_time": "2022-10-09T13:37:57.439Z"
   },
   {
    "duration": 15,
    "start_time": "2022-10-09T13:37:57.447Z"
   },
   {
    "duration": 2,
    "start_time": "2022-10-09T13:37:57.465Z"
   },
   {
    "duration": 15,
    "start_time": "2022-10-09T13:37:57.469Z"
   },
   {
    "duration": 338,
    "start_time": "2022-10-09T13:37:57.485Z"
   },
   {
    "duration": 63,
    "start_time": "2022-10-09T13:37:57.824Z"
   },
   {
    "duration": 14,
    "start_time": "2022-10-09T13:37:57.888Z"
   },
   {
    "duration": 2,
    "start_time": "2022-10-09T13:37:57.904Z"
   },
   {
    "duration": 1911,
    "start_time": "2022-10-09T13:37:57.908Z"
   },
   {
    "duration": 20,
    "start_time": "2022-10-09T13:37:59.821Z"
   },
   {
    "duration": 13,
    "start_time": "2022-10-09T13:37:59.843Z"
   },
   {
    "duration": 1969,
    "start_time": "2022-10-09T13:37:59.857Z"
   },
   {
    "duration": 292,
    "start_time": "2022-10-09T13:38:01.828Z"
   },
   {
    "duration": 263,
    "start_time": "2022-10-09T13:38:02.122Z"
   },
   {
    "duration": 12,
    "start_time": "2022-10-09T13:38:02.387Z"
   },
   {
    "duration": 14,
    "start_time": "2022-10-09T13:38:02.401Z"
   },
   {
    "duration": 11,
    "start_time": "2022-10-09T13:38:02.433Z"
   },
   {
    "duration": 5,
    "start_time": "2022-10-09T13:38:02.446Z"
   },
   {
    "duration": 166,
    "start_time": "2022-10-09T13:38:02.453Z"
   },
   {
    "duration": 148,
    "start_time": "2022-10-09T13:38:02.621Z"
   },
   {
    "duration": 4,
    "start_time": "2022-10-09T13:38:02.771Z"
   },
   {
    "duration": 77,
    "start_time": "2022-10-09T13:38:02.777Z"
   },
   {
    "duration": 12,
    "start_time": "2022-10-09T13:38:02.856Z"
   },
   {
    "duration": 4,
    "start_time": "2022-10-09T13:38:02.870Z"
   },
   {
    "duration": 190,
    "start_time": "2022-10-09T13:38:02.875Z"
   },
   {
    "duration": 183,
    "start_time": "2022-10-09T13:38:03.067Z"
   },
   {
    "duration": 186,
    "start_time": "2022-10-09T13:38:03.251Z"
   },
   {
    "duration": 188,
    "start_time": "2022-10-09T13:38:03.439Z"
   },
   {
    "duration": 172,
    "start_time": "2022-10-09T13:38:03.628Z"
   },
   {
    "duration": 178,
    "start_time": "2022-10-09T13:38:03.804Z"
   },
   {
    "duration": 198,
    "start_time": "2022-10-09T13:38:03.984Z"
   },
   {
    "duration": 177,
    "start_time": "2022-10-09T13:38:04.183Z"
   },
   {
    "duration": 15,
    "start_time": "2022-10-09T13:38:04.362Z"
   },
   {
    "duration": 487,
    "start_time": "2022-10-09T13:38:04.379Z"
   },
   {
    "duration": 1107,
    "start_time": "2022-10-09T13:38:11.229Z"
   },
   {
    "duration": 52,
    "start_time": "2022-10-09T13:38:12.338Z"
   },
   {
    "duration": 40,
    "start_time": "2022-10-09T13:38:12.391Z"
   },
   {
    "duration": 15,
    "start_time": "2022-10-09T13:38:12.433Z"
   },
   {
    "duration": 7,
    "start_time": "2022-10-09T13:38:12.449Z"
   },
   {
    "duration": 16,
    "start_time": "2022-10-09T13:38:12.457Z"
   },
   {
    "duration": 5,
    "start_time": "2022-10-09T13:38:12.475Z"
   },
   {
    "duration": 11,
    "start_time": "2022-10-09T13:38:12.481Z"
   },
   {
    "duration": 4,
    "start_time": "2022-10-09T13:38:12.494Z"
   },
   {
    "duration": 43,
    "start_time": "2022-10-09T13:38:12.501Z"
   },
   {
    "duration": 3,
    "start_time": "2022-10-09T13:38:12.546Z"
   },
   {
    "duration": 8,
    "start_time": "2022-10-09T13:38:12.550Z"
   },
   {
    "duration": 12,
    "start_time": "2022-10-09T13:38:12.560Z"
   },
   {
    "duration": 2,
    "start_time": "2022-10-09T13:38:12.574Z"
   },
   {
    "duration": 12,
    "start_time": "2022-10-09T13:38:12.577Z"
   },
   {
    "duration": 358,
    "start_time": "2022-10-09T13:38:12.591Z"
   },
   {
    "duration": 61,
    "start_time": "2022-10-09T13:38:12.951Z"
   },
   {
    "duration": 23,
    "start_time": "2022-10-09T13:38:13.014Z"
   },
   {
    "duration": 3,
    "start_time": "2022-10-09T13:38:13.038Z"
   },
   {
    "duration": 1849,
    "start_time": "2022-10-09T13:38:13.043Z"
   },
   {
    "duration": 23,
    "start_time": "2022-10-09T13:38:14.893Z"
   },
   {
    "duration": 30,
    "start_time": "2022-10-09T13:38:14.918Z"
   },
   {
    "duration": 2055,
    "start_time": "2022-10-09T13:38:14.950Z"
   },
   {
    "duration": 294,
    "start_time": "2022-10-09T13:38:17.007Z"
   },
   {
    "duration": 241,
    "start_time": "2022-10-09T13:38:17.303Z"
   },
   {
    "duration": 12,
    "start_time": "2022-10-09T13:38:17.546Z"
   },
   {
    "duration": 14,
    "start_time": "2022-10-09T13:38:17.559Z"
   },
   {
    "duration": 9,
    "start_time": "2022-10-09T13:38:17.576Z"
   },
   {
    "duration": 5,
    "start_time": "2022-10-09T13:38:17.587Z"
   },
   {
    "duration": 175,
    "start_time": "2022-10-09T13:38:17.593Z"
   },
   {
    "duration": 149,
    "start_time": "2022-10-09T13:38:17.769Z"
   },
   {
    "duration": 4,
    "start_time": "2022-10-09T13:38:17.919Z"
   },
   {
    "duration": 64,
    "start_time": "2022-10-09T13:38:17.933Z"
   },
   {
    "duration": 13,
    "start_time": "2022-10-09T13:38:17.998Z"
   },
   {
    "duration": 20,
    "start_time": "2022-10-09T13:38:18.013Z"
   },
   {
    "duration": 185,
    "start_time": "2022-10-09T13:38:18.035Z"
   },
   {
    "duration": 185,
    "start_time": "2022-10-09T13:38:18.222Z"
   },
   {
    "duration": 189,
    "start_time": "2022-10-09T13:38:18.409Z"
   },
   {
    "duration": 207,
    "start_time": "2022-10-09T13:38:18.599Z"
   },
   {
    "duration": 200,
    "start_time": "2022-10-09T13:38:18.809Z"
   },
   {
    "duration": 188,
    "start_time": "2022-10-09T13:38:19.011Z"
   },
   {
    "duration": 185,
    "start_time": "2022-10-09T13:38:19.201Z"
   },
   {
    "duration": 180,
    "start_time": "2022-10-09T13:38:19.388Z"
   },
   {
    "duration": 12,
    "start_time": "2022-10-09T13:38:19.570Z"
   },
   {
    "duration": 510,
    "start_time": "2022-10-09T13:38:19.584Z"
   },
   {
    "duration": 49,
    "start_time": "2022-10-09T13:38:20.096Z"
   },
   {
    "duration": 0,
    "start_time": "2022-10-09T13:38:20.147Z"
   },
   {
    "duration": 0,
    "start_time": "2022-10-09T13:38:20.148Z"
   },
   {
    "duration": 0,
    "start_time": "2022-10-09T13:38:20.149Z"
   },
   {
    "duration": 1,
    "start_time": "2022-10-09T13:38:20.150Z"
   },
   {
    "duration": 0,
    "start_time": "2022-10-09T13:38:20.152Z"
   },
   {
    "duration": 0,
    "start_time": "2022-10-09T13:38:20.153Z"
   },
   {
    "duration": 94,
    "start_time": "2022-10-09T13:38:24.947Z"
   },
   {
    "duration": 9,
    "start_time": "2022-10-09T13:38:27.849Z"
   },
   {
    "duration": 1112,
    "start_time": "2022-10-09T13:38:48.627Z"
   },
   {
    "duration": 68,
    "start_time": "2022-10-09T13:38:49.741Z"
   },
   {
    "duration": 55,
    "start_time": "2022-10-09T13:38:50.733Z"
   },
   {
    "duration": 21,
    "start_time": "2022-10-09T13:38:51.449Z"
   },
   {
    "duration": 4,
    "start_time": "2022-10-09T13:38:54.124Z"
   },
   {
    "duration": 20,
    "start_time": "2022-10-09T13:38:55.550Z"
   },
   {
    "duration": 5,
    "start_time": "2022-10-09T13:38:57.612Z"
   },
   {
    "duration": 9,
    "start_time": "2022-10-09T13:38:58.264Z"
   },
   {
    "duration": 2,
    "start_time": "2022-10-09T13:38:58.996Z"
   },
   {
    "duration": 16,
    "start_time": "2022-10-09T13:39:10.470Z"
   },
   {
    "duration": 6,
    "start_time": "2022-10-09T13:39:22.035Z"
   },
   {
    "duration": 16,
    "start_time": "2022-10-09T13:39:22.555Z"
   },
   {
    "duration": 10,
    "start_time": "2022-10-09T13:39:34.595Z"
   },
   {
    "duration": 305,
    "start_time": "2022-10-09T13:39:35.189Z"
   },
   {
    "duration": 59,
    "start_time": "2022-10-09T13:39:38.271Z"
   },
   {
    "duration": 16,
    "start_time": "2022-10-09T13:39:39.895Z"
   },
   {
    "duration": 2,
    "start_time": "2022-10-09T13:39:42.996Z"
   },
   {
    "duration": 1886,
    "start_time": "2022-10-09T13:39:44.821Z"
   },
   {
    "duration": 16,
    "start_time": "2022-10-09T13:39:47.328Z"
   },
   {
    "duration": 15,
    "start_time": "2022-10-09T13:39:51.363Z"
   },
   {
    "duration": 1931,
    "start_time": "2022-10-09T13:39:53.566Z"
   },
   {
    "duration": 280,
    "start_time": "2022-10-09T13:39:56.966Z"
   },
   {
    "duration": 234,
    "start_time": "2022-10-09T13:39:57.467Z"
   },
   {
    "duration": 18,
    "start_time": "2022-10-09T13:40:05.023Z"
   },
   {
    "duration": 17,
    "start_time": "2022-10-09T13:40:06.297Z"
   },
   {
    "duration": 6,
    "start_time": "2022-10-09T13:40:07.029Z"
   },
   {
    "duration": 156,
    "start_time": "2022-10-09T13:40:07.735Z"
   },
   {
    "duration": 152,
    "start_time": "2022-10-09T13:40:08.293Z"
   },
   {
    "duration": 4,
    "start_time": "2022-10-09T13:40:10.245Z"
   },
   {
    "duration": 67,
    "start_time": "2022-10-09T13:40:10.991Z"
   },
   {
    "duration": 13,
    "start_time": "2022-10-09T13:40:12.661Z"
   },
   {
    "duration": 4,
    "start_time": "2022-10-09T13:40:16.982Z"
   },
   {
    "duration": 175,
    "start_time": "2022-10-09T13:40:18.489Z"
   },
   {
    "duration": 178,
    "start_time": "2022-10-09T13:40:19.803Z"
   },
   {
    "duration": 189,
    "start_time": "2022-10-09T13:40:21.201Z"
   },
   {
    "duration": 208,
    "start_time": "2022-10-09T13:40:22.629Z"
   },
   {
    "duration": 172,
    "start_time": "2022-10-09T13:40:25.845Z"
   },
   {
    "duration": 168,
    "start_time": "2022-10-09T13:40:27.392Z"
   },
   {
    "duration": 190,
    "start_time": "2022-10-09T13:40:28.589Z"
   },
   {
    "duration": 189,
    "start_time": "2022-10-09T13:40:29.645Z"
   },
   {
    "duration": 14,
    "start_time": "2022-10-09T13:40:31.747Z"
   },
   {
    "duration": 450,
    "start_time": "2022-10-09T13:40:32.573Z"
   },
   {
    "duration": 49,
    "start_time": "2022-10-09T13:40:36.449Z"
   },
   {
    "duration": 17,
    "start_time": "2022-10-09T13:40:44.744Z"
   },
   {
    "duration": 18,
    "start_time": "2022-10-09T13:40:46.321Z"
   },
   {
    "duration": 49,
    "start_time": "2022-10-09T13:40:47.713Z"
   },
   {
    "duration": 18,
    "start_time": "2022-10-09T13:43:55.401Z"
   },
   {
    "duration": 14,
    "start_time": "2022-10-09T13:43:59.144Z"
   },
   {
    "duration": 16,
    "start_time": "2022-10-09T14:12:05.539Z"
   },
   {
    "duration": 16,
    "start_time": "2022-10-09T14:12:17.925Z"
   },
   {
    "duration": 49,
    "start_time": "2022-10-09T14:16:09.786Z"
   },
   {
    "duration": 3,
    "start_time": "2022-10-09T14:25:21.234Z"
   },
   {
    "duration": 1128,
    "start_time": "2022-10-09T14:39:20.613Z"
   },
   {
    "duration": 53,
    "start_time": "2022-10-09T14:39:21.743Z"
   },
   {
    "duration": 41,
    "start_time": "2022-10-09T14:39:21.797Z"
   },
   {
    "duration": 18,
    "start_time": "2022-10-09T14:39:21.840Z"
   },
   {
    "duration": 5,
    "start_time": "2022-10-09T14:39:21.860Z"
   },
   {
    "duration": 15,
    "start_time": "2022-10-09T14:39:21.866Z"
   },
   {
    "duration": 4,
    "start_time": "2022-10-09T14:39:21.882Z"
   },
   {
    "duration": 12,
    "start_time": "2022-10-09T14:39:21.888Z"
   },
   {
    "duration": 33,
    "start_time": "2022-10-09T14:39:21.901Z"
   },
   {
    "duration": 5,
    "start_time": "2022-10-09T14:39:21.936Z"
   },
   {
    "duration": 13,
    "start_time": "2022-10-09T14:39:21.943Z"
   },
   {
    "duration": 323,
    "start_time": "2022-10-09T14:39:21.958Z"
   },
   {
    "duration": 70,
    "start_time": "2022-10-09T14:39:22.283Z"
   },
   {
    "duration": 15,
    "start_time": "2022-10-09T14:39:22.354Z"
   },
   {
    "duration": 2,
    "start_time": "2022-10-09T14:39:22.371Z"
   },
   {
    "duration": 1762,
    "start_time": "2022-10-09T14:39:22.374Z"
   },
   {
    "duration": 16,
    "start_time": "2022-10-09T14:39:24.137Z"
   },
   {
    "duration": 17,
    "start_time": "2022-10-09T14:39:24.154Z"
   },
   {
    "duration": 1920,
    "start_time": "2022-10-09T14:39:24.173Z"
   },
   {
    "duration": 339,
    "start_time": "2022-10-09T14:39:26.094Z"
   },
   {
    "duration": 255,
    "start_time": "2022-10-09T14:39:26.435Z"
   },
   {
    "duration": 17,
    "start_time": "2022-10-09T14:39:26.691Z"
   },
   {
    "duration": 26,
    "start_time": "2022-10-09T14:39:26.710Z"
   },
   {
    "duration": 6,
    "start_time": "2022-10-09T14:39:26.738Z"
   },
   {
    "duration": 204,
    "start_time": "2022-10-09T14:39:26.746Z"
   },
   {
    "duration": 150,
    "start_time": "2022-10-09T14:39:26.951Z"
   },
   {
    "duration": 4,
    "start_time": "2022-10-09T14:39:27.102Z"
   },
   {
    "duration": 75,
    "start_time": "2022-10-09T14:39:27.109Z"
   },
   {
    "duration": 14,
    "start_time": "2022-10-09T14:39:27.185Z"
   },
   {
    "duration": 12,
    "start_time": "2022-10-09T14:39:27.201Z"
   },
   {
    "duration": 182,
    "start_time": "2022-10-09T14:39:27.214Z"
   },
   {
    "duration": 185,
    "start_time": "2022-10-09T14:39:27.398Z"
   },
   {
    "duration": 191,
    "start_time": "2022-10-09T14:39:27.585Z"
   },
   {
    "duration": 184,
    "start_time": "2022-10-09T14:39:27.778Z"
   },
   {
    "duration": 169,
    "start_time": "2022-10-09T14:39:27.964Z"
   },
   {
    "duration": 186,
    "start_time": "2022-10-09T14:39:28.135Z"
   },
   {
    "duration": 191,
    "start_time": "2022-10-09T14:39:28.323Z"
   },
   {
    "duration": 177,
    "start_time": "2022-10-09T14:39:28.516Z"
   },
   {
    "duration": 14,
    "start_time": "2022-10-09T14:39:28.695Z"
   },
   {
    "duration": 460,
    "start_time": "2022-10-09T14:39:28.710Z"
   },
   {
    "duration": 17,
    "start_time": "2022-10-09T14:39:29.171Z"
   },
   {
    "duration": 15,
    "start_time": "2022-10-09T14:39:29.190Z"
   },
   {
    "duration": 129,
    "start_time": "2022-10-09T14:41:34.155Z"
   },
   {
    "duration": 1198,
    "start_time": "2022-10-09T16:22:41.675Z"
   },
   {
    "duration": 53,
    "start_time": "2022-10-09T16:22:42.875Z"
   },
   {
    "duration": 39,
    "start_time": "2022-10-09T16:22:42.930Z"
   },
   {
    "duration": 15,
    "start_time": "2022-10-09T16:22:42.971Z"
   },
   {
    "duration": 9,
    "start_time": "2022-10-09T16:22:42.988Z"
   },
   {
    "duration": 27,
    "start_time": "2022-10-09T16:22:42.998Z"
   },
   {
    "duration": 5,
    "start_time": "2022-10-09T16:22:43.026Z"
   },
   {
    "duration": 12,
    "start_time": "2022-10-09T16:22:43.032Z"
   },
   {
    "duration": 19,
    "start_time": "2022-10-09T16:22:43.045Z"
   },
   {
    "duration": 4,
    "start_time": "2022-10-09T16:22:43.067Z"
   },
   {
    "duration": 14,
    "start_time": "2022-10-09T16:22:43.073Z"
   },
   {
    "duration": 336,
    "start_time": "2022-10-09T16:22:43.089Z"
   },
   {
    "duration": 59,
    "start_time": "2022-10-09T16:22:43.426Z"
   },
   {
    "duration": 29,
    "start_time": "2022-10-09T16:22:43.487Z"
   },
   {
    "duration": 2,
    "start_time": "2022-10-09T16:22:43.518Z"
   },
   {
    "duration": 1761,
    "start_time": "2022-10-09T16:22:43.522Z"
   },
   {
    "duration": 13,
    "start_time": "2022-10-09T16:22:45.285Z"
   },
   {
    "duration": 28,
    "start_time": "2022-10-09T16:22:45.308Z"
   },
   {
    "duration": 1929,
    "start_time": "2022-10-09T16:22:45.338Z"
   },
   {
    "duration": 298,
    "start_time": "2022-10-09T16:22:47.269Z"
   },
   {
    "duration": 236,
    "start_time": "2022-10-09T16:22:47.568Z"
   },
   {
    "duration": 20,
    "start_time": "2022-10-09T16:22:47.806Z"
   },
   {
    "duration": 12,
    "start_time": "2022-10-09T16:22:47.828Z"
   },
   {
    "duration": 5,
    "start_time": "2022-10-09T16:22:47.842Z"
   },
   {
    "duration": 172,
    "start_time": "2022-10-09T16:22:47.849Z"
   },
   {
    "duration": 156,
    "start_time": "2022-10-09T16:22:48.023Z"
   },
   {
    "duration": 4,
    "start_time": "2022-10-09T16:22:48.180Z"
   },
   {
    "duration": 73,
    "start_time": "2022-10-09T16:22:48.187Z"
   },
   {
    "duration": 12,
    "start_time": "2022-10-09T16:22:48.261Z"
   },
   {
    "duration": 3,
    "start_time": "2022-10-09T16:22:48.275Z"
   },
   {
    "duration": 193,
    "start_time": "2022-10-09T16:22:48.279Z"
   },
   {
    "duration": 194,
    "start_time": "2022-10-09T16:22:48.473Z"
   },
   {
    "duration": 192,
    "start_time": "2022-10-09T16:22:48.668Z"
   },
   {
    "duration": 189,
    "start_time": "2022-10-09T16:22:48.861Z"
   },
   {
    "duration": 173,
    "start_time": "2022-10-09T16:22:49.052Z"
   },
   {
    "duration": 183,
    "start_time": "2022-10-09T16:22:49.227Z"
   },
   {
    "duration": 197,
    "start_time": "2022-10-09T16:22:49.412Z"
   },
   {
    "duration": 179,
    "start_time": "2022-10-09T16:22:49.610Z"
   },
   {
    "duration": 22,
    "start_time": "2022-10-09T16:22:49.791Z"
   },
   {
    "duration": 474,
    "start_time": "2022-10-09T16:22:49.815Z"
   },
   {
    "duration": 30,
    "start_time": "2022-10-09T16:22:50.291Z"
   },
   {
    "duration": 14,
    "start_time": "2022-10-09T16:22:50.323Z"
   },
   {
    "duration": 1329,
    "start_time": "2022-10-10T10:36:08.349Z"
   },
   {
    "duration": 97,
    "start_time": "2022-10-10T10:36:09.680Z"
   },
   {
    "duration": 50,
    "start_time": "2022-10-10T10:36:09.779Z"
   },
   {
    "duration": 15,
    "start_time": "2022-10-10T10:36:09.831Z"
   },
   {
    "duration": 7,
    "start_time": "2022-10-10T10:36:09.849Z"
   },
   {
    "duration": 17,
    "start_time": "2022-10-10T10:36:09.857Z"
   },
   {
    "duration": 5,
    "start_time": "2022-10-10T10:36:09.875Z"
   },
   {
    "duration": 10,
    "start_time": "2022-10-10T10:36:09.882Z"
   },
   {
    "duration": 20,
    "start_time": "2022-10-10T10:36:09.893Z"
   },
   {
    "duration": 27,
    "start_time": "2022-10-10T10:36:09.915Z"
   },
   {
    "duration": 14,
    "start_time": "2022-10-10T10:36:09.943Z"
   },
   {
    "duration": 336,
    "start_time": "2022-10-10T10:36:09.958Z"
   },
   {
    "duration": 70,
    "start_time": "2022-10-10T10:36:10.295Z"
   },
   {
    "duration": 16,
    "start_time": "2022-10-10T10:36:10.367Z"
   },
   {
    "duration": 2,
    "start_time": "2022-10-10T10:36:10.385Z"
   },
   {
    "duration": 2002,
    "start_time": "2022-10-10T10:36:10.389Z"
   },
   {
    "duration": 17,
    "start_time": "2022-10-10T10:36:12.392Z"
   },
   {
    "duration": 29,
    "start_time": "2022-10-10T10:36:12.410Z"
   },
   {
    "duration": 2124,
    "start_time": "2022-10-10T10:36:12.440Z"
   },
   {
    "duration": 328,
    "start_time": "2022-10-10T10:36:14.566Z"
   },
   {
    "duration": 279,
    "start_time": "2022-10-10T10:36:14.896Z"
   },
   {
    "duration": 17,
    "start_time": "2022-10-10T10:36:15.177Z"
   },
   {
    "duration": 13,
    "start_time": "2022-10-10T10:36:15.196Z"
   },
   {
    "duration": 31,
    "start_time": "2022-10-10T10:36:15.211Z"
   },
   {
    "duration": 171,
    "start_time": "2022-10-10T10:36:15.243Z"
   },
   {
    "duration": 170,
    "start_time": "2022-10-10T10:36:15.416Z"
   },
   {
    "duration": 4,
    "start_time": "2022-10-10T10:36:15.588Z"
   },
   {
    "duration": 90,
    "start_time": "2022-10-10T10:36:15.594Z"
   },
   {
    "duration": 15,
    "start_time": "2022-10-10T10:36:15.686Z"
   },
   {
    "duration": 5,
    "start_time": "2022-10-10T10:36:15.703Z"
   },
   {
    "duration": 231,
    "start_time": "2022-10-10T10:36:15.710Z"
   },
   {
    "duration": 225,
    "start_time": "2022-10-10T10:36:15.942Z"
   },
   {
    "duration": 209,
    "start_time": "2022-10-10T10:36:16.169Z"
   },
   {
    "duration": 205,
    "start_time": "2022-10-10T10:36:16.380Z"
   },
   {
    "duration": 188,
    "start_time": "2022-10-10T10:36:16.587Z"
   },
   {
    "duration": 202,
    "start_time": "2022-10-10T10:36:16.777Z"
   },
   {
    "duration": 210,
    "start_time": "2022-10-10T10:36:16.981Z"
   },
   {
    "duration": 256,
    "start_time": "2022-10-10T10:36:17.193Z"
   },
   {
    "duration": 19,
    "start_time": "2022-10-10T10:36:17.451Z"
   },
   {
    "duration": 566,
    "start_time": "2022-10-10T10:36:17.473Z"
   },
   {
    "duration": 17,
    "start_time": "2022-10-10T10:36:18.042Z"
   },
   {
    "duration": 19,
    "start_time": "2022-10-10T10:36:18.061Z"
   },
   {
    "duration": 44,
    "start_time": "2022-10-10T11:38:20.544Z"
   },
   {
    "duration": 1144,
    "start_time": "2022-10-10T11:38:47.365Z"
   },
   {
    "duration": 93,
    "start_time": "2022-10-10T11:38:48.510Z"
   },
   {
    "duration": 39,
    "start_time": "2022-10-10T11:38:49.374Z"
   },
   {
    "duration": 15,
    "start_time": "2022-10-10T11:38:50.038Z"
   },
   {
    "duration": 3,
    "start_time": "2022-10-10T11:38:54.460Z"
   },
   {
    "duration": 11,
    "start_time": "2022-10-10T11:38:55.795Z"
   },
   {
    "duration": 4,
    "start_time": "2022-10-10T11:38:58.437Z"
   },
   {
    "duration": 12,
    "start_time": "2022-10-10T11:38:58.922Z"
   },
   {
    "duration": 14,
    "start_time": "2022-10-10T11:39:04.335Z"
   },
   {
    "duration": 47,
    "start_time": "2022-10-10T11:39:22.401Z"
   },
   {
    "duration": 57,
    "start_time": "2022-10-10T11:44:13.226Z"
   },
   {
    "duration": 11,
    "start_time": "2022-10-10T11:44:19.330Z"
   },
   {
    "duration": 11,
    "start_time": "2022-10-10T11:44:26.960Z"
   },
   {
    "duration": 1086,
    "start_time": "2022-10-10T11:44:44.214Z"
   },
   {
    "duration": 51,
    "start_time": "2022-10-10T11:44:45.301Z"
   },
   {
    "duration": 39,
    "start_time": "2022-10-10T11:44:45.354Z"
   },
   {
    "duration": 14,
    "start_time": "2022-10-10T11:44:45.396Z"
   },
   {
    "duration": 16,
    "start_time": "2022-10-10T11:44:45.412Z"
   },
   {
    "duration": 24,
    "start_time": "2022-10-10T11:44:45.429Z"
   },
   {
    "duration": 10,
    "start_time": "2022-10-10T11:44:45.454Z"
   },
   {
    "duration": 15,
    "start_time": "2022-10-10T11:44:45.466Z"
   },
   {
    "duration": 26,
    "start_time": "2022-10-10T11:44:45.482Z"
   },
   {
    "duration": 48,
    "start_time": "2022-10-10T11:44:45.511Z"
   },
   {
    "duration": 4,
    "start_time": "2022-10-10T11:44:45.561Z"
   },
   {
    "duration": 20,
    "start_time": "2022-10-10T11:44:45.567Z"
   },
   {
    "duration": 312,
    "start_time": "2022-10-10T11:44:45.588Z"
   },
   {
    "duration": 70,
    "start_time": "2022-10-10T11:44:45.902Z"
   },
   {
    "duration": 15,
    "start_time": "2022-10-10T11:44:45.973Z"
   },
   {
    "duration": 10,
    "start_time": "2022-10-10T11:44:45.989Z"
   },
   {
    "duration": 1703,
    "start_time": "2022-10-10T11:44:46.000Z"
   },
   {
    "duration": 20,
    "start_time": "2022-10-10T11:44:47.705Z"
   },
   {
    "duration": 12,
    "start_time": "2022-10-10T11:44:47.727Z"
   },
   {
    "duration": 1181,
    "start_time": "2022-10-10T11:44:47.741Z"
   },
   {
    "duration": 343,
    "start_time": "2022-10-10T11:44:48.924Z"
   },
   {
    "duration": 156,
    "start_time": "2022-10-10T11:44:49.268Z"
   },
   {
    "duration": 16,
    "start_time": "2022-10-10T11:44:49.425Z"
   },
   {
    "duration": 11,
    "start_time": "2022-10-10T11:44:49.443Z"
   },
   {
    "duration": 7,
    "start_time": "2022-10-10T11:44:49.456Z"
   },
   {
    "duration": 162,
    "start_time": "2022-10-10T11:44:49.465Z"
   },
   {
    "duration": 225,
    "start_time": "2022-10-10T11:44:49.628Z"
   },
   {
    "duration": 4,
    "start_time": "2022-10-10T11:44:49.856Z"
   },
   {
    "duration": 77,
    "start_time": "2022-10-10T11:44:49.861Z"
   },
   {
    "duration": 12,
    "start_time": "2022-10-10T11:44:49.940Z"
   },
   {
    "duration": 8,
    "start_time": "2022-10-10T11:44:49.953Z"
   },
   {
    "duration": 197,
    "start_time": "2022-10-10T11:44:49.962Z"
   },
   {
    "duration": 208,
    "start_time": "2022-10-10T11:44:50.161Z"
   },
   {
    "duration": 174,
    "start_time": "2022-10-10T11:44:50.371Z"
   },
   {
    "duration": 204,
    "start_time": "2022-10-10T11:44:50.547Z"
   },
   {
    "duration": 284,
    "start_time": "2022-10-10T11:44:50.752Z"
   },
   {
    "duration": 223,
    "start_time": "2022-10-10T11:44:51.038Z"
   },
   {
    "duration": 186,
    "start_time": "2022-10-10T11:44:51.262Z"
   },
   {
    "duration": 164,
    "start_time": "2022-10-10T11:44:51.450Z"
   },
   {
    "duration": 15,
    "start_time": "2022-10-10T11:44:51.615Z"
   },
   {
    "duration": 437,
    "start_time": "2022-10-10T11:44:51.632Z"
   },
   {
    "duration": 17,
    "start_time": "2022-10-10T11:44:52.070Z"
   },
   {
    "duration": 13,
    "start_time": "2022-10-10T11:44:52.088Z"
   },
   {
    "duration": 297,
    "start_time": "2022-10-10T11:47:25.557Z"
   },
   {
    "duration": 151,
    "start_time": "2022-10-10T11:47:26.146Z"
   },
   {
    "duration": 96,
    "start_time": "2022-10-10T11:47:29.349Z"
   },
   {
    "duration": 8,
    "start_time": "2022-10-10T11:47:41.149Z"
   },
   {
    "duration": 8,
    "start_time": "2022-10-10T11:47:52.296Z"
   },
   {
    "duration": 8,
    "start_time": "2022-10-10T11:59:12.741Z"
   },
   {
    "duration": 3,
    "start_time": "2022-10-10T11:59:31.156Z"
   },
   {
    "duration": 50,
    "start_time": "2022-10-10T11:59:32.294Z"
   },
   {
    "duration": 37,
    "start_time": "2022-10-10T11:59:33.296Z"
   },
   {
    "duration": 25,
    "start_time": "2022-10-10T11:59:38.449Z"
   },
   {
    "duration": 3,
    "start_time": "2022-10-10T12:24:35.070Z"
   },
   {
    "duration": 16,
    "start_time": "2022-10-10T12:24:36.046Z"
   },
   {
    "duration": 4,
    "start_time": "2022-10-10T12:24:38.180Z"
   },
   {
    "duration": 9,
    "start_time": "2022-10-10T12:24:38.648Z"
   },
   {
    "duration": 4,
    "start_time": "2022-10-10T12:34:42.284Z"
   },
   {
    "duration": 27,
    "start_time": "2022-10-10T12:34:59.099Z"
   },
   {
    "duration": 4,
    "start_time": "2022-10-10T12:35:11.047Z"
   },
   {
    "duration": 2,
    "start_time": "2022-10-10T12:35:14.544Z"
   },
   {
    "duration": 12,
    "start_time": "2022-10-10T12:37:12.785Z"
   },
   {
    "duration": 1155,
    "start_time": "2022-10-10T12:37:17.055Z"
   },
   {
    "duration": 54,
    "start_time": "2022-10-10T12:47:54.052Z"
   },
   {
    "duration": 111,
    "start_time": "2022-10-10T12:48:03.117Z"
   },
   {
    "duration": 4010,
    "start_time": "2022-10-10T12:51:01.117Z"
   },
   {
    "duration": 15,
    "start_time": "2022-10-10T12:54:44.546Z"
   },
   {
    "duration": 14,
    "start_time": "2022-10-10T12:54:45.227Z"
   },
   {
    "duration": 15,
    "start_time": "2022-10-10T12:54:58.050Z"
   },
   {
    "duration": 1096,
    "start_time": "2022-10-10T12:55:30.272Z"
   },
   {
    "duration": 52,
    "start_time": "2022-10-10T12:55:31.370Z"
   },
   {
    "duration": 39,
    "start_time": "2022-10-10T12:55:31.424Z"
   },
   {
    "duration": 25,
    "start_time": "2022-10-10T12:55:31.465Z"
   },
   {
    "duration": 46,
    "start_time": "2022-10-10T12:55:31.492Z"
   },
   {
    "duration": 0,
    "start_time": "2022-10-10T12:55:31.540Z"
   },
   {
    "duration": 0,
    "start_time": "2022-10-10T12:55:31.541Z"
   },
   {
    "duration": 0,
    "start_time": "2022-10-10T12:55:31.543Z"
   },
   {
    "duration": 0,
    "start_time": "2022-10-10T12:55:31.544Z"
   },
   {
    "duration": 0,
    "start_time": "2022-10-10T12:55:31.545Z"
   },
   {
    "duration": 0,
    "start_time": "2022-10-10T12:55:31.547Z"
   },
   {
    "duration": 0,
    "start_time": "2022-10-10T12:55:31.548Z"
   },
   {
    "duration": 0,
    "start_time": "2022-10-10T12:55:31.549Z"
   },
   {
    "duration": 0,
    "start_time": "2022-10-10T12:55:31.551Z"
   },
   {
    "duration": 0,
    "start_time": "2022-10-10T12:55:31.552Z"
   },
   {
    "duration": 0,
    "start_time": "2022-10-10T12:55:31.554Z"
   },
   {
    "duration": 0,
    "start_time": "2022-10-10T12:55:31.555Z"
   },
   {
    "duration": 0,
    "start_time": "2022-10-10T12:55:31.556Z"
   },
   {
    "duration": 0,
    "start_time": "2022-10-10T12:55:31.558Z"
   },
   {
    "duration": 0,
    "start_time": "2022-10-10T12:55:31.559Z"
   },
   {
    "duration": 0,
    "start_time": "2022-10-10T12:55:31.560Z"
   },
   {
    "duration": 0,
    "start_time": "2022-10-10T12:55:31.562Z"
   },
   {
    "duration": 0,
    "start_time": "2022-10-10T12:55:31.563Z"
   },
   {
    "duration": 0,
    "start_time": "2022-10-10T12:55:31.564Z"
   },
   {
    "duration": 0,
    "start_time": "2022-10-10T12:55:31.566Z"
   },
   {
    "duration": 0,
    "start_time": "2022-10-10T12:55:31.567Z"
   },
   {
    "duration": 0,
    "start_time": "2022-10-10T12:55:31.568Z"
   },
   {
    "duration": 0,
    "start_time": "2022-10-10T12:55:31.569Z"
   },
   {
    "duration": 0,
    "start_time": "2022-10-10T12:55:31.569Z"
   },
   {
    "duration": 0,
    "start_time": "2022-10-10T12:55:31.570Z"
   },
   {
    "duration": 0,
    "start_time": "2022-10-10T12:55:31.571Z"
   },
   {
    "duration": 0,
    "start_time": "2022-10-10T12:55:31.572Z"
   },
   {
    "duration": 0,
    "start_time": "2022-10-10T12:55:31.573Z"
   },
   {
    "duration": 0,
    "start_time": "2022-10-10T12:55:31.574Z"
   },
   {
    "duration": 0,
    "start_time": "2022-10-10T12:55:31.575Z"
   },
   {
    "duration": 0,
    "start_time": "2022-10-10T12:55:31.576Z"
   },
   {
    "duration": 0,
    "start_time": "2022-10-10T12:55:31.577Z"
   },
   {
    "duration": 0,
    "start_time": "2022-10-10T12:55:31.578Z"
   },
   {
    "duration": 0,
    "start_time": "2022-10-10T12:55:31.622Z"
   },
   {
    "duration": 0,
    "start_time": "2022-10-10T12:55:31.623Z"
   },
   {
    "duration": 0,
    "start_time": "2022-10-10T12:55:31.625Z"
   },
   {
    "duration": 0,
    "start_time": "2022-10-10T12:55:31.625Z"
   },
   {
    "duration": 0,
    "start_time": "2022-10-10T12:55:31.626Z"
   },
   {
    "duration": 0,
    "start_time": "2022-10-10T12:55:31.627Z"
   },
   {
    "duration": 0,
    "start_time": "2022-10-10T12:55:31.628Z"
   },
   {
    "duration": 0,
    "start_time": "2022-10-10T12:55:31.629Z"
   },
   {
    "duration": 3,
    "start_time": "2022-10-10T12:55:40.608Z"
   },
   {
    "duration": 53,
    "start_time": "2022-10-10T12:55:41.478Z"
   },
   {
    "duration": 36,
    "start_time": "2022-10-10T12:55:42.503Z"
   },
   {
    "duration": 26,
    "start_time": "2022-10-10T12:55:43.050Z"
   },
   {
    "duration": 3,
    "start_time": "2022-10-10T12:55:57.636Z"
   },
   {
    "duration": 15,
    "start_time": "2022-10-10T12:55:58.646Z"
   },
   {
    "duration": 4,
    "start_time": "2022-10-10T12:56:01.137Z"
   },
   {
    "duration": 10,
    "start_time": "2022-10-10T12:56:01.622Z"
   },
   {
    "duration": 16,
    "start_time": "2022-10-10T12:56:03.734Z"
   },
   {
    "duration": 54,
    "start_time": "2022-10-10T12:56:06.202Z"
   },
   {
    "duration": 4,
    "start_time": "2022-10-10T12:56:09.946Z"
   },
   {
    "duration": 2,
    "start_time": "2022-10-10T12:56:10.730Z"
   },
   {
    "duration": 5,
    "start_time": "2022-10-10T12:56:15.808Z"
   },
   {
    "duration": 10,
    "start_time": "2022-10-10T12:56:18.401Z"
   },
   {
    "duration": 364,
    "start_time": "2022-10-10T12:56:18.928Z"
   },
   {
    "duration": 64,
    "start_time": "2022-10-10T12:56:21.585Z"
   },
   {
    "duration": 15,
    "start_time": "2022-10-10T12:56:22.860Z"
   },
   {
    "duration": 3,
    "start_time": "2022-10-10T12:56:24.518Z"
   },
   {
    "duration": 1800,
    "start_time": "2022-10-10T12:56:25.632Z"
   },
   {
    "duration": 16,
    "start_time": "2022-10-10T12:56:27.434Z"
   },
   {
    "duration": 14,
    "start_time": "2022-10-10T12:56:30.864Z"
   },
   {
    "duration": 4086,
    "start_time": "2022-10-10T12:56:34.027Z"
   },
   {
    "duration": 288,
    "start_time": "2022-10-10T12:56:38.114Z"
   },
   {
    "duration": 151,
    "start_time": "2022-10-10T12:56:39.625Z"
   },
   {
    "duration": 255,
    "start_time": "2022-10-10T12:58:13.464Z"
   },
   {
    "duration": 152,
    "start_time": "2022-10-10T12:58:15.005Z"
   },
   {
    "duration": 12,
    "start_time": "2022-10-10T13:00:08.736Z"
   },
   {
    "duration": 3902,
    "start_time": "2022-10-10T13:01:13.708Z"
   },
   {
    "duration": 270,
    "start_time": "2022-10-10T13:01:17.611Z"
   },
   {
    "duration": 221,
    "start_time": "2022-10-10T13:01:25.356Z"
   },
   {
    "duration": 16,
    "start_time": "2022-10-10T13:01:35.376Z"
   },
   {
    "duration": 12,
    "start_time": "2022-10-10T13:01:36.884Z"
   },
   {
    "duration": 5,
    "start_time": "2022-10-10T13:01:37.917Z"
   },
   {
    "duration": 146,
    "start_time": "2022-10-10T13:01:38.522Z"
   },
   {
    "duration": 133,
    "start_time": "2022-10-10T13:01:40.670Z"
   },
   {
    "duration": 4,
    "start_time": "2022-10-10T13:01:44.435Z"
   },
   {
    "duration": 63,
    "start_time": "2022-10-10T13:01:45.031Z"
   },
   {
    "duration": 14,
    "start_time": "2022-10-10T13:01:57.441Z"
   },
   {
    "duration": 16,
    "start_time": "2022-10-10T13:04:21.078Z"
   },
   {
    "duration": 11,
    "start_time": "2022-10-10T13:04:22.428Z"
   },
   {
    "duration": 6,
    "start_time": "2022-10-10T13:04:23.381Z"
   },
   {
    "duration": 132,
    "start_time": "2022-10-10T13:04:24.429Z"
   },
   {
    "duration": 141,
    "start_time": "2022-10-10T13:04:24.983Z"
   },
   {
    "duration": 4,
    "start_time": "2022-10-10T13:04:27.767Z"
   },
   {
    "duration": 65,
    "start_time": "2022-10-10T13:04:28.223Z"
   },
   {
    "duration": 16,
    "start_time": "2022-10-10T13:04:30.960Z"
   },
   {
    "duration": 4,
    "start_time": "2022-10-10T13:05:33.153Z"
   },
   {
    "duration": 169,
    "start_time": "2022-10-10T13:05:35.847Z"
   },
   {
    "duration": 180,
    "start_time": "2022-10-10T13:05:37.034Z"
   },
   {
    "duration": 175,
    "start_time": "2022-10-10T13:05:39.144Z"
   },
   {
    "duration": 169,
    "start_time": "2022-10-10T13:05:40.285Z"
   },
   {
    "duration": 176,
    "start_time": "2022-10-10T13:05:59.754Z"
   },
   {
    "duration": 166,
    "start_time": "2022-10-10T13:06:04.592Z"
   },
   {
    "duration": 261,
    "start_time": "2022-10-10T13:06:06.537Z"
   },
   {
    "duration": 172,
    "start_time": "2022-10-10T13:06:13.033Z"
   },
   {
    "duration": 11,
    "start_time": "2022-10-10T13:26:58.669Z"
   },
   {
    "duration": 6,
    "start_time": "2022-10-10T13:26:59.731Z"
   },
   {
    "duration": 163,
    "start_time": "2022-10-10T13:27:00.980Z"
   },
   {
    "duration": 135,
    "start_time": "2022-10-10T13:27:07.902Z"
   },
   {
    "duration": 3,
    "start_time": "2022-10-10T13:27:19.689Z"
   },
   {
    "duration": 65,
    "start_time": "2022-10-10T13:27:20.645Z"
   },
   {
    "duration": 13,
    "start_time": "2022-10-10T13:27:24.835Z"
   },
   {
    "duration": 14,
    "start_time": "2022-10-10T13:28:20.615Z"
   },
   {
    "duration": 4,
    "start_time": "2022-10-10T13:31:08.317Z"
   },
   {
    "duration": 184,
    "start_time": "2022-10-10T13:31:23.756Z"
   },
   {
    "duration": 189,
    "start_time": "2022-10-10T13:31:24.945Z"
   },
   {
    "duration": 173,
    "start_time": "2022-10-10T13:31:26.106Z"
   },
   {
    "duration": 170,
    "start_time": "2022-10-10T13:31:27.630Z"
   },
   {
    "duration": 18,
    "start_time": "2022-10-10T13:35:01.275Z"
   },
   {
    "duration": 12,
    "start_time": "2022-10-10T13:35:24.003Z"
   },
   {
    "duration": 11,
    "start_time": "2022-10-10T13:35:42.567Z"
   },
   {
    "duration": 11,
    "start_time": "2022-10-10T13:36:09.709Z"
   },
   {
    "duration": 3910,
    "start_time": "2022-10-10T13:36:12.371Z"
   },
   {
    "duration": 218,
    "start_time": "2022-10-10T13:36:16.283Z"
   },
   {
    "duration": 207,
    "start_time": "2022-10-10T13:36:31.608Z"
   },
   {
    "duration": 122,
    "start_time": "2022-10-10T13:36:32.439Z"
   },
   {
    "duration": 16,
    "start_time": "2022-10-10T13:36:42.844Z"
   },
   {
    "duration": 13,
    "start_time": "2022-10-10T13:36:51.132Z"
   },
   {
    "duration": 6,
    "start_time": "2022-10-10T13:36:52.572Z"
   },
   {
    "duration": 232,
    "start_time": "2022-10-10T13:36:54.944Z"
   },
   {
    "duration": 156,
    "start_time": "2022-10-10T13:36:55.515Z"
   },
   {
    "duration": 4,
    "start_time": "2022-10-10T13:37:02.979Z"
   },
   {
    "duration": 65,
    "start_time": "2022-10-10T13:37:04.785Z"
   },
   {
    "duration": 13,
    "start_time": "2022-10-10T13:37:08.651Z"
   },
   {
    "duration": 4,
    "start_time": "2022-10-10T13:37:15.375Z"
   },
   {
    "duration": 145,
    "start_time": "2022-10-10T13:37:18.413Z"
   },
   {
    "duration": 150,
    "start_time": "2022-10-10T13:37:20.417Z"
   },
   {
    "duration": 148,
    "start_time": "2022-10-10T13:37:22.122Z"
   },
   {
    "duration": 140,
    "start_time": "2022-10-10T13:37:23.381Z"
   },
   {
    "duration": 169,
    "start_time": "2022-10-10T13:37:48.480Z"
   },
   {
    "duration": 175,
    "start_time": "2022-10-10T13:37:49.747Z"
   },
   {
    "duration": 177,
    "start_time": "2022-10-10T13:37:50.912Z"
   },
   {
    "duration": 161,
    "start_time": "2022-10-10T13:37:53.244Z"
   },
   {
    "duration": 16,
    "start_time": "2022-10-10T13:40:16.459Z"
   },
   {
    "duration": 18,
    "start_time": "2022-10-10T13:40:28.972Z"
   },
   {
    "duration": 107,
    "start_time": "2022-10-10T13:56:00.811Z"
   },
   {
    "duration": 8,
    "start_time": "2022-10-10T13:56:53.299Z"
   },
   {
    "duration": 3,
    "start_time": "2022-10-10T13:57:45.579Z"
   },
   {
    "duration": 156,
    "start_time": "2022-10-10T13:57:46.945Z"
   },
   {
    "duration": 229,
    "start_time": "2022-10-10T13:57:53.695Z"
   },
   {
    "duration": 3,
    "start_time": "2022-10-10T13:57:58.759Z"
   },
   {
    "duration": 151,
    "start_time": "2022-10-10T13:58:00.390Z"
   },
   {
    "duration": 4,
    "start_time": "2022-10-10T13:58:34.333Z"
   },
   {
    "duration": 199,
    "start_time": "2022-10-10T13:58:35.050Z"
   },
   {
    "duration": 4,
    "start_time": "2022-10-10T13:59:24.384Z"
   },
   {
    "duration": 209,
    "start_time": "2022-10-10T13:59:26.352Z"
   },
   {
    "duration": 163,
    "start_time": "2022-10-10T14:00:43.006Z"
   },
   {
    "duration": 157,
    "start_time": "2022-10-10T14:00:54.389Z"
   },
   {
    "duration": 151,
    "start_time": "2022-10-10T14:00:56.127Z"
   },
   {
    "duration": 148,
    "start_time": "2022-10-10T14:00:58.257Z"
   },
   {
    "duration": 172,
    "start_time": "2022-10-10T14:01:03.635Z"
   },
   {
    "duration": 170,
    "start_time": "2022-10-10T14:01:05.124Z"
   },
   {
    "duration": 177,
    "start_time": "2022-10-10T14:01:11.399Z"
   },
   {
    "duration": 235,
    "start_time": "2022-10-10T14:01:12.554Z"
   },
   {
    "duration": 208,
    "start_time": "2022-10-10T14:12:06.705Z"
   },
   {
    "duration": 173,
    "start_time": "2022-10-10T14:12:25.191Z"
   },
   {
    "duration": 1050,
    "start_time": "2022-10-10T14:19:14.149Z"
   },
   {
    "duration": 50,
    "start_time": "2022-10-10T14:19:15.200Z"
   },
   {
    "duration": 38,
    "start_time": "2022-10-10T14:19:15.251Z"
   },
   {
    "duration": 31,
    "start_time": "2022-10-10T14:19:15.291Z"
   },
   {
    "duration": 5,
    "start_time": "2022-10-10T14:19:15.324Z"
   },
   {
    "duration": 27,
    "start_time": "2022-10-10T14:19:15.331Z"
   },
   {
    "duration": 5,
    "start_time": "2022-10-10T14:19:15.360Z"
   },
   {
    "duration": 16,
    "start_time": "2022-10-10T14:19:15.367Z"
   },
   {
    "duration": 18,
    "start_time": "2022-10-10T14:19:15.385Z"
   },
   {
    "duration": 47,
    "start_time": "2022-10-10T14:19:15.405Z"
   },
   {
    "duration": 4,
    "start_time": "2022-10-10T14:19:15.454Z"
   },
   {
    "duration": 8,
    "start_time": "2022-10-10T14:19:15.459Z"
   },
   {
    "duration": 8,
    "start_time": "2022-10-10T14:19:15.469Z"
   },
   {
    "duration": 15,
    "start_time": "2022-10-10T14:19:15.480Z"
   },
   {
    "duration": 316,
    "start_time": "2022-10-10T14:19:15.497Z"
   },
   {
    "duration": 59,
    "start_time": "2022-10-10T14:19:15.815Z"
   },
   {
    "duration": 14,
    "start_time": "2022-10-10T14:19:15.875Z"
   },
   {
    "duration": 2,
    "start_time": "2022-10-10T14:19:15.890Z"
   },
   {
    "duration": 1749,
    "start_time": "2022-10-10T14:19:15.893Z"
   },
   {
    "duration": 14,
    "start_time": "2022-10-10T14:19:17.644Z"
   },
   {
    "duration": 12,
    "start_time": "2022-10-10T14:19:17.659Z"
   },
   {
    "duration": 4010,
    "start_time": "2022-10-10T14:19:17.672Z"
   },
   {
    "duration": 219,
    "start_time": "2022-10-10T14:19:21.683Z"
   },
   {
    "duration": 134,
    "start_time": "2022-10-10T14:19:21.904Z"
   },
   {
    "duration": 14,
    "start_time": "2022-10-10T14:19:22.039Z"
   },
   {
    "duration": 10,
    "start_time": "2022-10-10T14:19:22.054Z"
   },
   {
    "duration": 5,
    "start_time": "2022-10-10T14:19:22.065Z"
   },
   {
    "duration": 161,
    "start_time": "2022-10-10T14:19:22.071Z"
   },
   {
    "duration": 144,
    "start_time": "2022-10-10T14:19:22.233Z"
   },
   {
    "duration": 4,
    "start_time": "2022-10-10T14:19:22.378Z"
   },
   {
    "duration": 66,
    "start_time": "2022-10-10T14:19:22.383Z"
   },
   {
    "duration": 4,
    "start_time": "2022-10-10T14:19:22.450Z"
   },
   {
    "duration": 186,
    "start_time": "2022-10-10T14:19:22.456Z"
   },
   {
    "duration": 233,
    "start_time": "2022-10-10T14:19:22.644Z"
   },
   {
    "duration": 156,
    "start_time": "2022-10-10T14:19:22.879Z"
   },
   {
    "duration": 160,
    "start_time": "2022-10-10T14:19:23.037Z"
   },
   {
    "duration": 153,
    "start_time": "2022-10-10T14:19:23.198Z"
   },
   {
    "duration": 196,
    "start_time": "2022-10-10T14:19:23.353Z"
   },
   {
    "duration": 179,
    "start_time": "2022-10-10T14:19:23.550Z"
   },
   {
    "duration": 177,
    "start_time": "2022-10-10T14:19:23.731Z"
   },
   {
    "duration": 166,
    "start_time": "2022-10-10T14:19:23.912Z"
   },
   {
    "duration": 12,
    "start_time": "2022-10-10T14:19:24.079Z"
   },
   {
    "duration": 419,
    "start_time": "2022-10-10T14:19:24.092Z"
   },
   {
    "duration": 15,
    "start_time": "2022-10-10T14:19:24.521Z"
   },
   {
    "duration": 15,
    "start_time": "2022-10-10T14:19:24.537Z"
   },
   {
    "duration": 3,
    "start_time": "2022-10-10T14:19:24.553Z"
   },
   {
    "duration": 52,
    "start_time": "2022-10-10T14:19:24.557Z"
   },
   {
    "duration": 37,
    "start_time": "2022-10-10T14:19:24.611Z"
   },
   {
    "duration": 25,
    "start_time": "2022-10-10T14:19:24.649Z"
   },
   {
    "duration": 4,
    "start_time": "2022-10-10T14:19:25.867Z"
   },
   {
    "duration": 13,
    "start_time": "2022-10-10T14:19:26.264Z"
   },
   {
    "duration": 4,
    "start_time": "2022-10-10T14:19:26.912Z"
   },
   {
    "duration": 8,
    "start_time": "2022-10-10T14:19:27.161Z"
   },
   {
    "duration": 13,
    "start_time": "2022-10-10T14:19:28.159Z"
   },
   {
    "duration": 16,
    "start_time": "2022-10-10T14:19:29.178Z"
   },
   {
    "duration": 5,
    "start_time": "2022-10-10T14:19:30.580Z"
   },
   {
    "duration": 2,
    "start_time": "2022-10-10T14:19:30.809Z"
   },
   {
    "duration": 5,
    "start_time": "2022-10-10T14:19:34.032Z"
   },
   {
    "duration": 10,
    "start_time": "2022-10-10T14:19:36.303Z"
   },
   {
    "duration": 290,
    "start_time": "2022-10-10T14:19:36.982Z"
   },
   {
    "duration": 60,
    "start_time": "2022-10-10T14:19:39.992Z"
   },
   {
    "duration": 15,
    "start_time": "2022-10-10T14:19:41.105Z"
   },
   {
    "duration": 2,
    "start_time": "2022-10-10T14:19:42.710Z"
   },
   {
    "duration": 1811,
    "start_time": "2022-10-10T14:19:44.192Z"
   },
   {
    "duration": 23,
    "start_time": "2022-10-10T14:19:46.006Z"
   },
   {
    "duration": 12,
    "start_time": "2022-10-10T14:19:50.426Z"
   },
   {
    "duration": 4183,
    "start_time": "2022-10-10T14:19:54.342Z"
   },
   {
    "duration": 219,
    "start_time": "2022-10-10T14:20:22.788Z"
   },
   {
    "duration": 149,
    "start_time": "2022-10-10T14:20:23.529Z"
   },
   {
    "duration": 10,
    "start_time": "2022-10-10T14:24:11.440Z"
   },
   {
    "duration": 25,
    "start_time": "2022-10-10T14:30:36.356Z"
   },
   {
    "duration": 21,
    "start_time": "2022-10-10T14:35:25.653Z"
   },
   {
    "duration": 12,
    "start_time": "2022-10-10T14:35:27.510Z"
   },
   {
    "duration": 7,
    "start_time": "2022-10-10T14:35:28.083Z"
   },
   {
    "duration": 177,
    "start_time": "2022-10-10T14:35:28.936Z"
   },
   {
    "duration": 140,
    "start_time": "2022-10-10T14:35:29.501Z"
   },
   {
    "duration": 4,
    "start_time": "2022-10-10T14:35:31.686Z"
   },
   {
    "duration": 68,
    "start_time": "2022-10-10T14:35:32.217Z"
   },
   {
    "duration": 4,
    "start_time": "2022-10-10T14:35:34.587Z"
   },
   {
    "duration": 174,
    "start_time": "2022-10-10T14:35:36.590Z"
   },
   {
    "duration": 151,
    "start_time": "2022-10-10T14:35:44.914Z"
   },
   {
    "duration": 149,
    "start_time": "2022-10-10T14:35:45.961Z"
   },
   {
    "duration": 219,
    "start_time": "2022-10-10T14:35:58.507Z"
   },
   {
    "duration": 141,
    "start_time": "2022-10-10T14:35:59.831Z"
   },
   {
    "duration": 57,
    "start_time": "2022-10-10T14:45:19.307Z"
   },
   {
    "duration": 67,
    "start_time": "2022-10-10T14:45:27.557Z"
   },
   {
    "duration": 94,
    "start_time": "2022-10-10T14:52:50.479Z"
   },
   {
    "duration": 1127,
    "start_time": "2022-10-10T14:53:26.399Z"
   },
   {
    "duration": 53,
    "start_time": "2022-10-10T14:53:27.528Z"
   },
   {
    "duration": 41,
    "start_time": "2022-10-10T14:53:27.582Z"
   },
   {
    "duration": 25,
    "start_time": "2022-10-10T14:53:27.624Z"
   },
   {
    "duration": 4,
    "start_time": "2022-10-10T14:53:27.651Z"
   },
   {
    "duration": 15,
    "start_time": "2022-10-10T14:53:27.657Z"
   },
   {
    "duration": 4,
    "start_time": "2022-10-10T14:53:27.674Z"
   },
   {
    "duration": 10,
    "start_time": "2022-10-10T14:53:27.679Z"
   },
   {
    "duration": 42,
    "start_time": "2022-10-10T14:53:27.690Z"
   },
   {
    "duration": 47,
    "start_time": "2022-10-10T14:53:27.733Z"
   },
   {
    "duration": 4,
    "start_time": "2022-10-10T14:53:27.781Z"
   },
   {
    "duration": 6,
    "start_time": "2022-10-10T14:53:27.786Z"
   },
   {
    "duration": 4,
    "start_time": "2022-10-10T14:53:27.822Z"
   },
   {
    "duration": 12,
    "start_time": "2022-10-10T14:53:27.829Z"
   },
   {
    "duration": 323,
    "start_time": "2022-10-10T14:53:27.842Z"
   },
   {
    "duration": 67,
    "start_time": "2022-10-10T14:53:28.167Z"
   },
   {
    "duration": 19,
    "start_time": "2022-10-10T14:53:28.236Z"
   },
   {
    "duration": 3,
    "start_time": "2022-10-10T14:53:28.257Z"
   },
   {
    "duration": 1929,
    "start_time": "2022-10-10T14:53:28.261Z"
   },
   {
    "duration": 15,
    "start_time": "2022-10-10T14:53:30.192Z"
   },
   {
    "duration": 24,
    "start_time": "2022-10-10T14:53:30.209Z"
   },
   {
    "duration": 4194,
    "start_time": "2022-10-10T14:53:30.235Z"
   },
   {
    "duration": 241,
    "start_time": "2022-10-10T14:53:34.430Z"
   },
   {
    "duration": 1215,
    "start_time": "2022-10-10T14:54:00.891Z"
   },
   {
    "duration": 54,
    "start_time": "2022-10-10T14:54:02.108Z"
   },
   {
    "duration": 42,
    "start_time": "2022-10-10T14:54:02.163Z"
   },
   {
    "duration": 27,
    "start_time": "2022-10-10T14:54:02.207Z"
   },
   {
    "duration": 11,
    "start_time": "2022-10-10T14:54:02.236Z"
   },
   {
    "duration": 99,
    "start_time": "2022-10-10T14:54:02.248Z"
   },
   {
    "duration": 10,
    "start_time": "2022-10-10T14:54:02.348Z"
   },
   {
    "duration": 10,
    "start_time": "2022-10-10T14:54:02.360Z"
   },
   {
    "duration": 22,
    "start_time": "2022-10-10T14:54:02.372Z"
   },
   {
    "duration": 53,
    "start_time": "2022-10-10T14:54:02.395Z"
   },
   {
    "duration": 4,
    "start_time": "2022-10-10T14:54:02.449Z"
   },
   {
    "duration": 5,
    "start_time": "2022-10-10T14:54:02.455Z"
   },
   {
    "duration": 8,
    "start_time": "2022-10-10T14:54:02.461Z"
   },
   {
    "duration": 11,
    "start_time": "2022-10-10T14:54:02.472Z"
   },
   {
    "duration": 326,
    "start_time": "2022-10-10T14:54:02.484Z"
   },
   {
    "duration": 63,
    "start_time": "2022-10-10T14:54:02.812Z"
   },
   {
    "duration": 15,
    "start_time": "2022-10-10T14:54:02.877Z"
   },
   {
    "duration": 2,
    "start_time": "2022-10-10T14:54:02.894Z"
   },
   {
    "duration": 1820,
    "start_time": "2022-10-10T14:54:02.897Z"
   },
   {
    "duration": 22,
    "start_time": "2022-10-10T14:54:04.723Z"
   },
   {
    "duration": 14,
    "start_time": "2022-10-10T14:54:04.747Z"
   },
   {
    "duration": 4208,
    "start_time": "2022-10-10T14:54:04.763Z"
   },
   {
    "duration": 307,
    "start_time": "2022-10-10T14:54:08.974Z"
   },
   {
    "duration": 143,
    "start_time": "2022-10-10T14:54:09.283Z"
   },
   {
    "duration": 3,
    "start_time": "2022-10-10T14:54:09.784Z"
   },
   {
    "duration": 110,
    "start_time": "2022-10-10T14:54:09.788Z"
   },
   {
    "duration": 4,
    "start_time": "2022-10-10T14:54:09.899Z"
   },
   {
    "duration": 194,
    "start_time": "2022-10-10T14:54:09.904Z"
   },
   {
    "duration": 242,
    "start_time": "2022-10-10T14:54:10.099Z"
   },
   {
    "duration": 164,
    "start_time": "2022-10-10T14:54:10.343Z"
   },
   {
    "duration": 158,
    "start_time": "2022-10-10T14:54:10.509Z"
   },
   {
    "duration": 155,
    "start_time": "2022-10-10T14:54:10.669Z"
   },
   {
    "duration": 181,
    "start_time": "2022-10-10T14:54:10.825Z"
   },
   {
    "duration": 202,
    "start_time": "2022-10-10T14:54:11.008Z"
   },
   {
    "duration": 199,
    "start_time": "2022-10-10T14:54:11.212Z"
   },
   {
    "duration": 181,
    "start_time": "2022-10-10T14:54:11.422Z"
   },
   {
    "duration": 23,
    "start_time": "2022-10-10T14:54:11.605Z"
   },
   {
    "duration": 114,
    "start_time": "2022-10-10T14:54:11.630Z"
   },
   {
    "duration": 0,
    "start_time": "2022-10-10T14:54:11.746Z"
   },
   {
    "duration": 0,
    "start_time": "2022-10-10T14:54:11.748Z"
   },
   {
    "duration": 0,
    "start_time": "2022-10-10T14:54:11.750Z"
   },
   {
    "duration": 14,
    "start_time": "2022-10-10T14:54:21.523Z"
   },
   {
    "duration": 12,
    "start_time": "2022-10-10T14:54:22.894Z"
   },
   {
    "duration": 7,
    "start_time": "2022-10-10T14:54:23.496Z"
   },
   {
    "duration": 143,
    "start_time": "2022-10-10T14:54:24.044Z"
   },
   {
    "duration": 140,
    "start_time": "2022-10-10T14:54:24.666Z"
   },
   {
    "duration": 4,
    "start_time": "2022-10-10T14:54:27.401Z"
   },
   {
    "duration": 83,
    "start_time": "2022-10-10T14:54:27.964Z"
   },
   {
    "duration": 4,
    "start_time": "2022-10-10T14:54:29.738Z"
   },
   {
    "duration": 186,
    "start_time": "2022-10-10T14:54:30.944Z"
   },
   {
    "duration": 238,
    "start_time": "2022-10-10T14:54:34.811Z"
   },
   {
    "duration": 156,
    "start_time": "2022-10-10T14:54:35.771Z"
   },
   {
    "duration": 144,
    "start_time": "2022-10-10T14:54:36.827Z"
   },
   {
    "duration": 145,
    "start_time": "2022-10-10T14:54:37.753Z"
   },
   {
    "duration": 181,
    "start_time": "2022-10-10T14:54:41.907Z"
   },
   {
    "duration": 182,
    "start_time": "2022-10-10T14:54:43.008Z"
   },
   {
    "duration": 166,
    "start_time": "2022-10-10T14:54:44.007Z"
   },
   {
    "duration": 174,
    "start_time": "2022-10-10T14:54:44.836Z"
   },
   {
    "duration": 12,
    "start_time": "2022-10-10T14:54:47.919Z"
   },
   {
    "duration": 9,
    "start_time": "2022-10-10T14:54:48.669Z"
   },
   {
    "duration": 10,
    "start_time": "2022-10-10T14:55:25.469Z"
   },
   {
    "duration": 401,
    "start_time": "2022-10-10T14:55:46.642Z"
   },
   {
    "duration": 381,
    "start_time": "2022-10-10T14:56:37.130Z"
   },
   {
    "duration": 15,
    "start_time": "2022-10-10T15:03:24.470Z"
   },
   {
    "duration": 16,
    "start_time": "2022-10-10T15:03:28.487Z"
   },
   {
    "duration": 11,
    "start_time": "2022-10-10T15:03:28.991Z"
   },
   {
    "duration": 146,
    "start_time": "2022-10-10T15:22:59.151Z"
   },
   {
    "duration": 80,
    "start_time": "2022-10-10T15:24:12.992Z"
   },
   {
    "duration": 132,
    "start_time": "2022-10-10T15:24:27.948Z"
   },
   {
    "duration": 240,
    "start_time": "2022-10-10T15:25:13.058Z"
   },
   {
    "duration": 10,
    "start_time": "2022-10-10T16:24:51.285Z"
   },
   {
    "duration": 14,
    "start_time": "2022-10-10T16:26:16.077Z"
   },
   {
    "duration": 5,
    "start_time": "2022-10-10T16:26:25.650Z"
   },
   {
    "duration": 4,
    "start_time": "2022-10-10T16:29:24.617Z"
   },
   {
    "duration": 14,
    "start_time": "2022-10-10T16:29:41.715Z"
   },
   {
    "duration": 8,
    "start_time": "2022-10-10T16:29:42.599Z"
   },
   {
    "duration": 142,
    "start_time": "2022-10-10T16:29:43.743Z"
   },
   {
    "duration": 161,
    "start_time": "2022-10-10T16:41:56.024Z"
   },
   {
    "duration": 1041,
    "start_time": "2022-10-10T17:00:22.873Z"
   },
   {
    "duration": 52,
    "start_time": "2022-10-10T17:00:23.916Z"
   },
   {
    "duration": 40,
    "start_time": "2022-10-10T17:00:23.969Z"
   },
   {
    "duration": 25,
    "start_time": "2022-10-10T17:00:24.011Z"
   },
   {
    "duration": 4,
    "start_time": "2022-10-10T17:00:24.038Z"
   },
   {
    "duration": 15,
    "start_time": "2022-10-10T17:00:24.044Z"
   },
   {
    "duration": 5,
    "start_time": "2022-10-10T17:00:24.061Z"
   },
   {
    "duration": 17,
    "start_time": "2022-10-10T17:00:24.067Z"
   },
   {
    "duration": 37,
    "start_time": "2022-10-10T17:00:24.086Z"
   },
   {
    "duration": 52,
    "start_time": "2022-10-10T17:00:24.125Z"
   },
   {
    "duration": 4,
    "start_time": "2022-10-10T17:00:24.179Z"
   },
   {
    "duration": 9,
    "start_time": "2022-10-10T17:00:24.185Z"
   },
   {
    "duration": 29,
    "start_time": "2022-10-10T17:00:24.195Z"
   },
   {
    "duration": 10,
    "start_time": "2022-10-10T17:00:24.227Z"
   },
   {
    "duration": 311,
    "start_time": "2022-10-10T17:00:24.239Z"
   },
   {
    "duration": 69,
    "start_time": "2022-10-10T17:00:24.552Z"
   },
   {
    "duration": 15,
    "start_time": "2022-10-10T17:00:24.623Z"
   },
   {
    "duration": 4,
    "start_time": "2022-10-10T17:00:24.639Z"
   },
   {
    "duration": 1865,
    "start_time": "2022-10-10T17:00:24.645Z"
   },
   {
    "duration": 22,
    "start_time": "2022-10-10T17:00:26.511Z"
   },
   {
    "duration": 21,
    "start_time": "2022-10-10T17:00:26.535Z"
   },
   {
    "duration": 4253,
    "start_time": "2022-10-10T17:00:26.558Z"
   },
   {
    "duration": 244,
    "start_time": "2022-10-10T17:00:30.813Z"
   },
   {
    "duration": 141,
    "start_time": "2022-10-10T17:00:31.058Z"
   },
   {
    "duration": 25,
    "start_time": "2022-10-10T17:00:31.200Z"
   },
   {
    "duration": 11,
    "start_time": "2022-10-10T17:00:31.227Z"
   },
   {
    "duration": 30,
    "start_time": "2022-10-10T17:00:31.239Z"
   },
   {
    "duration": 157,
    "start_time": "2022-10-10T17:00:31.270Z"
   },
   {
    "duration": 155,
    "start_time": "2022-10-10T17:00:31.428Z"
   },
   {
    "duration": 4,
    "start_time": "2022-10-10T17:00:31.584Z"
   },
   {
    "duration": 74,
    "start_time": "2022-10-10T17:00:31.589Z"
   },
   {
    "duration": 4,
    "start_time": "2022-10-10T17:00:31.664Z"
   },
   {
    "duration": 189,
    "start_time": "2022-10-10T17:00:31.669Z"
   },
   {
    "duration": 243,
    "start_time": "2022-10-10T17:00:31.860Z"
   },
   {
    "duration": 160,
    "start_time": "2022-10-10T17:00:32.104Z"
   },
   {
    "duration": 156,
    "start_time": "2022-10-10T17:00:32.266Z"
   },
   {
    "duration": 160,
    "start_time": "2022-10-10T17:00:32.423Z"
   },
   {
    "duration": 179,
    "start_time": "2022-10-10T17:00:32.585Z"
   },
   {
    "duration": 184,
    "start_time": "2022-10-10T17:00:32.766Z"
   },
   {
    "duration": 195,
    "start_time": "2022-10-10T17:00:32.951Z"
   },
   {
    "duration": 167,
    "start_time": "2022-10-10T17:00:33.150Z"
   },
   {
    "duration": 11,
    "start_time": "2022-10-10T17:00:33.321Z"
   },
   {
    "duration": 21,
    "start_time": "2022-10-10T17:00:33.334Z"
   },
   {
    "duration": 266,
    "start_time": "2022-10-10T17:00:33.356Z"
   },
   {
    "duration": 4,
    "start_time": "2022-10-10T17:00:33.623Z"
   },
   {
    "duration": 35,
    "start_time": "2022-10-10T17:00:33.628Z"
   },
   {
    "duration": 16,
    "start_time": "2022-10-10T17:00:33.664Z"
   },
   {
    "duration": 1113,
    "start_time": "2022-10-10T17:01:10.344Z"
   },
   {
    "duration": 54,
    "start_time": "2022-10-10T17:01:11.459Z"
   },
   {
    "duration": 40,
    "start_time": "2022-10-10T17:01:11.514Z"
   },
   {
    "duration": 30,
    "start_time": "2022-10-10T17:01:11.555Z"
   },
   {
    "duration": 6,
    "start_time": "2022-10-10T17:01:11.587Z"
   },
   {
    "duration": 36,
    "start_time": "2022-10-10T17:01:11.594Z"
   },
   {
    "duration": 9,
    "start_time": "2022-10-10T17:01:11.632Z"
   },
   {
    "duration": 11,
    "start_time": "2022-10-10T17:01:11.642Z"
   },
   {
    "duration": 19,
    "start_time": "2022-10-10T17:01:11.654Z"
   },
   {
    "duration": 76,
    "start_time": "2022-10-10T17:01:11.676Z"
   },
   {
    "duration": 5,
    "start_time": "2022-10-10T17:01:11.754Z"
   },
   {
    "duration": 9,
    "start_time": "2022-10-10T17:01:11.760Z"
   },
   {
    "duration": 8,
    "start_time": "2022-10-10T17:01:11.771Z"
   },
   {
    "duration": 12,
    "start_time": "2022-10-10T17:01:11.781Z"
   },
   {
    "duration": 321,
    "start_time": "2022-10-10T17:01:11.794Z"
   },
   {
    "duration": 67,
    "start_time": "2022-10-10T17:01:12.121Z"
   },
   {
    "duration": 33,
    "start_time": "2022-10-10T17:01:12.190Z"
   },
   {
    "duration": 3,
    "start_time": "2022-10-10T17:01:12.224Z"
   },
   {
    "duration": 1749,
    "start_time": "2022-10-10T17:01:12.229Z"
   },
   {
    "duration": 16,
    "start_time": "2022-10-10T17:01:13.979Z"
   },
   {
    "duration": 28,
    "start_time": "2022-10-10T17:01:13.996Z"
   },
   {
    "duration": 4130,
    "start_time": "2022-10-10T17:01:14.025Z"
   },
   {
    "duration": 238,
    "start_time": "2022-10-10T17:01:18.156Z"
   },
   {
    "duration": 130,
    "start_time": "2022-10-10T17:01:18.396Z"
   },
   {
    "duration": 13,
    "start_time": "2022-10-10T17:01:18.528Z"
   },
   {
    "duration": 10,
    "start_time": "2022-10-10T17:01:18.543Z"
   },
   {
    "duration": 5,
    "start_time": "2022-10-10T17:01:18.555Z"
   },
   {
    "duration": 169,
    "start_time": "2022-10-10T17:01:18.563Z"
   },
   {
    "duration": 154,
    "start_time": "2022-10-10T17:01:18.733Z"
   },
   {
    "duration": 4,
    "start_time": "2022-10-10T17:01:18.889Z"
   },
   {
    "duration": 99,
    "start_time": "2022-10-10T17:01:18.895Z"
   },
   {
    "duration": 7,
    "start_time": "2022-10-10T17:01:18.996Z"
   },
   {
    "duration": 219,
    "start_time": "2022-10-10T17:01:19.004Z"
   },
   {
    "duration": 235,
    "start_time": "2022-10-10T17:01:19.225Z"
   },
   {
    "duration": 160,
    "start_time": "2022-10-10T17:01:19.462Z"
   },
   {
    "duration": 155,
    "start_time": "2022-10-10T17:01:19.623Z"
   },
   {
    "duration": 156,
    "start_time": "2022-10-10T17:01:19.780Z"
   },
   {
    "duration": 181,
    "start_time": "2022-10-10T17:01:19.938Z"
   },
   {
    "duration": 184,
    "start_time": "2022-10-10T17:01:20.122Z"
   },
   {
    "duration": 173,
    "start_time": "2022-10-10T17:01:20.307Z"
   },
   {
    "duration": 172,
    "start_time": "2022-10-10T17:01:20.481Z"
   },
   {
    "duration": 11,
    "start_time": "2022-10-10T17:01:20.655Z"
   },
   {
    "duration": 27,
    "start_time": "2022-10-10T17:01:20.668Z"
   },
   {
    "duration": 264,
    "start_time": "2022-10-10T17:01:20.696Z"
   },
   {
    "duration": 6,
    "start_time": "2022-10-10T17:01:20.962Z"
   },
   {
    "duration": 35,
    "start_time": "2022-10-10T17:01:20.969Z"
   },
   {
    "duration": 28,
    "start_time": "2022-10-10T17:01:21.006Z"
   },
   {
    "duration": 166,
    "start_time": "2022-10-10T17:01:32.202Z"
   },
   {
    "duration": 1214,
    "start_time": "2022-10-10T17:02:08.395Z"
   },
   {
    "duration": 52,
    "start_time": "2022-10-10T17:02:09.611Z"
   },
   {
    "duration": 41,
    "start_time": "2022-10-10T17:02:10.366Z"
   },
   {
    "duration": 25,
    "start_time": "2022-10-10T17:02:10.603Z"
   },
   {
    "duration": 3,
    "start_time": "2022-10-10T17:02:13.014Z"
   },
   {
    "duration": 13,
    "start_time": "2022-10-10T17:02:13.763Z"
   },
   {
    "duration": 5,
    "start_time": "2022-10-10T17:02:15.087Z"
   },
   {
    "duration": 10,
    "start_time": "2022-10-10T17:02:16.780Z"
   },
   {
    "duration": 15,
    "start_time": "2022-10-10T17:02:19.269Z"
   },
   {
    "duration": 47,
    "start_time": "2022-10-10T17:02:21.649Z"
   },
   {
    "duration": 5,
    "start_time": "2022-10-10T17:02:24.549Z"
   },
   {
    "duration": 2,
    "start_time": "2022-10-10T17:02:25.044Z"
   },
   {
    "duration": 4,
    "start_time": "2022-10-10T17:02:28.155Z"
   },
   {
    "duration": 11,
    "start_time": "2022-10-10T17:02:48.448Z"
   },
   {
    "duration": 368,
    "start_time": "2022-10-10T17:02:48.792Z"
   },
   {
    "duration": 59,
    "start_time": "2022-10-10T17:02:50.878Z"
   },
   {
    "duration": 14,
    "start_time": "2022-10-10T17:02:51.641Z"
   },
   {
    "duration": 3,
    "start_time": "2022-10-10T17:02:53.132Z"
   },
   {
    "duration": 1724,
    "start_time": "2022-10-10T17:02:54.009Z"
   },
   {
    "duration": 14,
    "start_time": "2022-10-10T17:02:55.735Z"
   },
   {
    "duration": 14,
    "start_time": "2022-10-10T17:02:56.650Z"
   },
   {
    "duration": 4057,
    "start_time": "2022-10-10T17:02:59.035Z"
   },
   {
    "duration": 233,
    "start_time": "2022-10-10T17:03:03.095Z"
   },
   {
    "duration": 140,
    "start_time": "2022-10-10T17:03:03.330Z"
   },
   {
    "duration": 17,
    "start_time": "2022-10-10T17:03:05.975Z"
   },
   {
    "duration": 13,
    "start_time": "2022-10-10T17:03:06.993Z"
   },
   {
    "duration": 7,
    "start_time": "2022-10-10T17:03:07.443Z"
   },
   {
    "duration": 140,
    "start_time": "2022-10-10T17:03:07.895Z"
   },
   {
    "duration": 138,
    "start_time": "2022-10-10T17:03:08.290Z"
   },
   {
    "duration": 7,
    "start_time": "2022-10-10T17:03:09.794Z"
   },
   {
    "duration": 65,
    "start_time": "2022-10-10T17:03:10.274Z"
   },
   {
    "duration": 4,
    "start_time": "2022-10-10T17:03:11.838Z"
   },
   {
    "duration": 171,
    "start_time": "2022-10-10T17:03:12.778Z"
   },
   {
    "duration": 224,
    "start_time": "2022-10-10T17:03:18.019Z"
   },
   {
    "duration": 198,
    "start_time": "2022-10-10T17:03:18.916Z"
   },
   {
    "duration": 150,
    "start_time": "2022-10-10T17:03:20.034Z"
   },
   {
    "duration": 141,
    "start_time": "2022-10-10T17:03:21.343Z"
   },
   {
    "duration": 175,
    "start_time": "2022-10-10T17:03:24.815Z"
   },
   {
    "duration": 187,
    "start_time": "2022-10-10T17:03:26.128Z"
   },
   {
    "duration": 167,
    "start_time": "2022-10-10T17:03:27.044Z"
   },
   {
    "duration": 165,
    "start_time": "2022-10-10T17:03:28.300Z"
   },
   {
    "duration": 12,
    "start_time": "2022-10-10T17:03:31.409Z"
   },
   {
    "duration": 11,
    "start_time": "2022-10-10T17:03:32.586Z"
   },
   {
    "duration": 267,
    "start_time": "2022-10-10T17:03:33.774Z"
   },
   {
    "duration": 140,
    "start_time": "2022-10-10T17:06:08.046Z"
   },
   {
    "duration": 163,
    "start_time": "2022-10-10T17:22:55.220Z"
   },
   {
    "duration": 10,
    "start_time": "2022-10-10T17:23:38.232Z"
   },
   {
    "duration": 239,
    "start_time": "2022-10-10T17:23:42.546Z"
   },
   {
    "duration": 2,
    "start_time": "2022-10-10T17:23:43.116Z"
   },
   {
    "duration": 45,
    "start_time": "2022-10-10T17:23:58.518Z"
   },
   {
    "duration": 6,
    "start_time": "2022-10-10T17:24:04.416Z"
   },
   {
    "duration": 6,
    "start_time": "2022-10-10T17:24:09.353Z"
   },
   {
    "duration": 1073,
    "start_time": "2022-10-10T17:24:14.925Z"
   },
   {
    "duration": 51,
    "start_time": "2022-10-10T17:24:16.000Z"
   },
   {
    "duration": 38,
    "start_time": "2022-10-10T17:24:16.053Z"
   },
   {
    "duration": 31,
    "start_time": "2022-10-10T17:24:16.092Z"
   },
   {
    "duration": 6,
    "start_time": "2022-10-10T17:24:16.125Z"
   },
   {
    "duration": 15,
    "start_time": "2022-10-10T17:24:16.132Z"
   },
   {
    "duration": 5,
    "start_time": "2022-10-10T17:24:16.148Z"
   },
   {
    "duration": 10,
    "start_time": "2022-10-10T17:24:16.154Z"
   },
   {
    "duration": 17,
    "start_time": "2022-10-10T17:24:16.165Z"
   },
   {
    "duration": 66,
    "start_time": "2022-10-10T17:24:16.183Z"
   },
   {
    "duration": 4,
    "start_time": "2022-10-10T17:24:16.251Z"
   },
   {
    "duration": 5,
    "start_time": "2022-10-10T17:24:16.257Z"
   },
   {
    "duration": 8,
    "start_time": "2022-10-10T17:24:16.263Z"
   },
   {
    "duration": 11,
    "start_time": "2022-10-10T17:24:16.274Z"
   },
   {
    "duration": 333,
    "start_time": "2022-10-10T17:24:16.286Z"
   },
   {
    "duration": 57,
    "start_time": "2022-10-10T17:24:16.622Z"
   },
   {
    "duration": 15,
    "start_time": "2022-10-10T17:24:16.681Z"
   },
   {
    "duration": 24,
    "start_time": "2022-10-10T17:24:16.698Z"
   },
   {
    "duration": 1728,
    "start_time": "2022-10-10T17:24:16.724Z"
   },
   {
    "duration": 16,
    "start_time": "2022-10-10T17:24:18.454Z"
   },
   {
    "duration": 13,
    "start_time": "2022-10-10T17:24:18.472Z"
   },
   {
    "duration": 4013,
    "start_time": "2022-10-10T17:24:18.486Z"
   },
   {
    "duration": 215,
    "start_time": "2022-10-10T17:24:22.501Z"
   },
   {
    "duration": 141,
    "start_time": "2022-10-10T17:24:22.718Z"
   },
   {
    "duration": 15,
    "start_time": "2022-10-10T17:24:22.861Z"
   },
   {
    "duration": 12,
    "start_time": "2022-10-10T17:24:22.878Z"
   },
   {
    "duration": 6,
    "start_time": "2022-10-10T17:24:22.891Z"
   },
   {
    "duration": 163,
    "start_time": "2022-10-10T17:24:22.899Z"
   },
   {
    "duration": 162,
    "start_time": "2022-10-10T17:24:23.064Z"
   },
   {
    "duration": 4,
    "start_time": "2022-10-10T17:24:23.228Z"
   },
   {
    "duration": 77,
    "start_time": "2022-10-10T17:24:23.234Z"
   },
   {
    "duration": 3,
    "start_time": "2022-10-10T17:24:23.313Z"
   },
   {
    "duration": 183,
    "start_time": "2022-10-10T17:24:23.317Z"
   },
   {
    "duration": 229,
    "start_time": "2022-10-10T17:24:23.501Z"
   },
   {
    "duration": 160,
    "start_time": "2022-10-10T17:24:23.731Z"
   },
   {
    "duration": 149,
    "start_time": "2022-10-10T17:24:23.893Z"
   },
   {
    "duration": 158,
    "start_time": "2022-10-10T17:24:24.043Z"
   },
   {
    "duration": 179,
    "start_time": "2022-10-10T17:24:24.203Z"
   },
   {
    "duration": 171,
    "start_time": "2022-10-10T17:24:24.384Z"
   },
   {
    "duration": 173,
    "start_time": "2022-10-10T17:24:24.556Z"
   },
   {
    "duration": 217,
    "start_time": "2022-10-10T17:24:24.732Z"
   },
   {
    "duration": 23,
    "start_time": "2022-10-10T17:24:24.966Z"
   },
   {
    "duration": 272,
    "start_time": "2022-10-10T17:24:24.991Z"
   },
   {
    "duration": 2,
    "start_time": "2022-10-10T17:24:25.264Z"
   },
   {
    "duration": 24,
    "start_time": "2022-10-10T17:24:25.268Z"
   },
   {
    "duration": 31,
    "start_time": "2022-10-10T17:24:25.294Z"
   },
   {
    "duration": 11,
    "start_time": "2022-10-10T17:24:25.326Z"
   },
   {
    "duration": 9,
    "start_time": "2022-10-10T17:24:26.345Z"
   },
   {
    "duration": 159,
    "start_time": "2022-10-10T17:24:30.513Z"
   },
   {
    "duration": 58,
    "start_time": "2022-10-10T18:12:10.532Z"
   },
   {
    "duration": 158,
    "start_time": "2022-10-10T18:12:35.175Z"
   },
   {
    "duration": 1094,
    "start_time": "2022-10-10T18:13:31.100Z"
   },
   {
    "duration": 51,
    "start_time": "2022-10-10T18:13:32.196Z"
   },
   {
    "duration": 39,
    "start_time": "2022-10-10T18:13:32.249Z"
   },
   {
    "duration": 35,
    "start_time": "2022-10-10T18:13:32.290Z"
   },
   {
    "duration": 8,
    "start_time": "2022-10-10T18:13:32.328Z"
   },
   {
    "duration": 37,
    "start_time": "2022-10-10T18:13:32.338Z"
   },
   {
    "duration": 5,
    "start_time": "2022-10-10T18:13:32.377Z"
   },
   {
    "duration": 14,
    "start_time": "2022-10-10T18:13:32.383Z"
   },
   {
    "duration": 25,
    "start_time": "2022-10-10T18:13:32.399Z"
   },
   {
    "duration": 47,
    "start_time": "2022-10-10T18:13:32.426Z"
   },
   {
    "duration": 4,
    "start_time": "2022-10-10T18:13:32.475Z"
   },
   {
    "duration": 19,
    "start_time": "2022-10-10T18:13:32.480Z"
   },
   {
    "duration": 15,
    "start_time": "2022-10-10T18:13:32.501Z"
   },
   {
    "duration": 23,
    "start_time": "2022-10-10T18:13:32.519Z"
   },
   {
    "duration": 304,
    "start_time": "2022-10-10T18:13:32.544Z"
   },
   {
    "duration": 59,
    "start_time": "2022-10-10T18:13:32.850Z"
   },
   {
    "duration": 23,
    "start_time": "2022-10-10T18:13:32.910Z"
   },
   {
    "duration": 2,
    "start_time": "2022-10-10T18:13:32.935Z"
   },
   {
    "duration": 1731,
    "start_time": "2022-10-10T18:13:32.939Z"
   },
   {
    "duration": 15,
    "start_time": "2022-10-10T18:13:34.671Z"
   },
   {
    "duration": 16,
    "start_time": "2022-10-10T18:13:34.687Z"
   },
   {
    "duration": 4046,
    "start_time": "2022-10-10T18:13:34.704Z"
   },
   {
    "duration": 274,
    "start_time": "2022-10-10T18:13:38.751Z"
   },
   {
    "duration": 167,
    "start_time": "2022-10-10T18:13:39.027Z"
   },
   {
    "duration": 26,
    "start_time": "2022-10-10T18:13:39.196Z"
   },
   {
    "duration": 27,
    "start_time": "2022-10-10T18:13:39.223Z"
   },
   {
    "duration": 25,
    "start_time": "2022-10-10T18:13:39.251Z"
   },
   {
    "duration": 154,
    "start_time": "2022-10-10T18:13:39.277Z"
   },
   {
    "duration": 150,
    "start_time": "2022-10-10T18:13:39.432Z"
   },
   {
    "duration": 4,
    "start_time": "2022-10-10T18:13:39.585Z"
   },
   {
    "duration": 79,
    "start_time": "2022-10-10T18:13:39.590Z"
   },
   {
    "duration": 4,
    "start_time": "2022-10-10T18:13:39.670Z"
   },
   {
    "duration": 210,
    "start_time": "2022-10-10T18:13:39.676Z"
   },
   {
    "duration": 247,
    "start_time": "2022-10-10T18:13:39.888Z"
   },
   {
    "duration": 158,
    "start_time": "2022-10-10T18:13:40.137Z"
   },
   {
    "duration": 149,
    "start_time": "2022-10-10T18:13:40.296Z"
   },
   {
    "duration": 151,
    "start_time": "2022-10-10T18:13:40.447Z"
   },
   {
    "duration": 184,
    "start_time": "2022-10-10T18:13:40.600Z"
   },
   {
    "duration": 181,
    "start_time": "2022-10-10T18:13:40.786Z"
   },
   {
    "duration": 191,
    "start_time": "2022-10-10T18:13:40.969Z"
   },
   {
    "duration": 183,
    "start_time": "2022-10-10T18:13:41.165Z"
   },
   {
    "duration": 13,
    "start_time": "2022-10-10T18:13:41.350Z"
   },
   {
    "duration": 8,
    "start_time": "2022-10-10T18:13:41.365Z"
   },
   {
    "duration": 3,
    "start_time": "2022-10-10T18:13:41.638Z"
   },
   {
    "duration": 19,
    "start_time": "2022-10-10T18:13:41.642Z"
   },
   {
    "duration": 13,
    "start_time": "2022-10-10T18:13:41.663Z"
   },
   {
    "duration": 199,
    "start_time": "2022-10-10T18:13:41.678Z"
   },
   {
    "duration": 154,
    "start_time": "2022-10-10T18:16:32.034Z"
   },
   {
    "duration": 142,
    "start_time": "2022-10-10T18:16:53.267Z"
   },
   {
    "duration": 224,
    "start_time": "2022-10-10T18:17:03.544Z"
   },
   {
    "duration": 1074,
    "start_time": "2022-10-10T18:17:27.246Z"
   },
   {
    "duration": 62,
    "start_time": "2022-10-10T18:17:28.322Z"
   },
   {
    "duration": 40,
    "start_time": "2022-10-10T18:17:28.385Z"
   },
   {
    "duration": 24,
    "start_time": "2022-10-10T18:17:28.427Z"
   },
   {
    "duration": 5,
    "start_time": "2022-10-10T18:17:28.454Z"
   },
   {
    "duration": 17,
    "start_time": "2022-10-10T18:17:28.460Z"
   },
   {
    "duration": 5,
    "start_time": "2022-10-10T18:17:28.478Z"
   },
   {
    "duration": 14,
    "start_time": "2022-10-10T18:17:28.484Z"
   },
   {
    "duration": 29,
    "start_time": "2022-10-10T18:17:28.499Z"
   },
   {
    "duration": 48,
    "start_time": "2022-10-10T18:17:28.529Z"
   },
   {
    "duration": 4,
    "start_time": "2022-10-10T18:17:28.578Z"
   },
   {
    "duration": 9,
    "start_time": "2022-10-10T18:17:28.583Z"
   },
   {
    "duration": 6,
    "start_time": "2022-10-10T18:17:28.593Z"
   },
   {
    "duration": 24,
    "start_time": "2022-10-10T18:17:28.602Z"
   },
   {
    "duration": 326,
    "start_time": "2022-10-10T18:17:28.628Z"
   },
   {
    "duration": 90,
    "start_time": "2022-10-10T18:17:28.957Z"
   },
   {
    "duration": 18,
    "start_time": "2022-10-10T18:17:29.049Z"
   },
   {
    "duration": 23,
    "start_time": "2022-10-10T18:17:29.069Z"
   },
   {
    "duration": 1761,
    "start_time": "2022-10-10T18:17:29.094Z"
   },
   {
    "duration": 16,
    "start_time": "2022-10-10T18:17:30.857Z"
   },
   {
    "duration": 39,
    "start_time": "2022-10-10T18:17:30.875Z"
   },
   {
    "duration": 3997,
    "start_time": "2022-10-10T18:17:30.915Z"
   },
   {
    "duration": 227,
    "start_time": "2022-10-10T18:17:34.914Z"
   },
   {
    "duration": 134,
    "start_time": "2022-10-10T18:17:35.143Z"
   },
   {
    "duration": 14,
    "start_time": "2022-10-10T18:17:35.279Z"
   },
   {
    "duration": 27,
    "start_time": "2022-10-10T18:17:35.295Z"
   },
   {
    "duration": 6,
    "start_time": "2022-10-10T18:17:35.323Z"
   },
   {
    "duration": 149,
    "start_time": "2022-10-10T18:17:35.330Z"
   },
   {
    "duration": 143,
    "start_time": "2022-10-10T18:17:35.480Z"
   },
   {
    "duration": 4,
    "start_time": "2022-10-10T18:17:35.624Z"
   },
   {
    "duration": 78,
    "start_time": "2022-10-10T18:17:35.629Z"
   },
   {
    "duration": 14,
    "start_time": "2022-10-10T18:17:35.709Z"
   },
   {
    "duration": 178,
    "start_time": "2022-10-10T18:17:35.725Z"
   },
   {
    "duration": 227,
    "start_time": "2022-10-10T18:17:35.904Z"
   },
   {
    "duration": 160,
    "start_time": "2022-10-10T18:17:36.133Z"
   },
   {
    "duration": 157,
    "start_time": "2022-10-10T18:17:36.295Z"
   },
   {
    "duration": 153,
    "start_time": "2022-10-10T18:17:36.453Z"
   },
   {
    "duration": 186,
    "start_time": "2022-10-10T18:17:36.607Z"
   },
   {
    "duration": 177,
    "start_time": "2022-10-10T18:17:36.795Z"
   },
   {
    "duration": 182,
    "start_time": "2022-10-10T18:17:36.974Z"
   },
   {
    "duration": 173,
    "start_time": "2022-10-10T18:17:37.160Z"
   },
   {
    "duration": 12,
    "start_time": "2022-10-10T18:17:37.335Z"
   },
   {
    "duration": 10,
    "start_time": "2022-10-10T18:17:37.349Z"
   },
   {
    "duration": 249,
    "start_time": "2022-10-10T18:17:37.360Z"
   },
   {
    "duration": 12,
    "start_time": "2022-10-10T18:17:37.611Z"
   },
   {
    "duration": 17,
    "start_time": "2022-10-10T18:17:37.625Z"
   },
   {
    "duration": 11,
    "start_time": "2022-10-10T18:17:37.644Z"
   },
   {
    "duration": 1089,
    "start_time": "2022-10-10T18:20:31.415Z"
   },
   {
    "duration": 51,
    "start_time": "2022-10-10T18:20:32.505Z"
   },
   {
    "duration": 39,
    "start_time": "2022-10-10T18:20:32.557Z"
   },
   {
    "duration": 26,
    "start_time": "2022-10-10T18:20:32.597Z"
   },
   {
    "duration": 4,
    "start_time": "2022-10-10T18:20:32.625Z"
   },
   {
    "duration": 17,
    "start_time": "2022-10-10T18:20:32.630Z"
   },
   {
    "duration": 5,
    "start_time": "2022-10-10T18:20:32.648Z"
   },
   {
    "duration": 10,
    "start_time": "2022-10-10T18:20:32.654Z"
   },
   {
    "duration": 16,
    "start_time": "2022-10-10T18:20:32.665Z"
   },
   {
    "duration": 66,
    "start_time": "2022-10-10T18:20:32.683Z"
   },
   {
    "duration": 4,
    "start_time": "2022-10-10T18:20:32.750Z"
   },
   {
    "duration": 11,
    "start_time": "2022-10-10T18:20:32.755Z"
   },
   {
    "duration": 6,
    "start_time": "2022-10-10T18:20:32.768Z"
   },
   {
    "duration": 9,
    "start_time": "2022-10-10T18:20:32.777Z"
   },
   {
    "duration": 327,
    "start_time": "2022-10-10T18:20:32.787Z"
   },
   {
    "duration": 60,
    "start_time": "2022-10-10T18:20:33.116Z"
   },
   {
    "duration": 13,
    "start_time": "2022-10-10T18:20:33.178Z"
   },
   {
    "duration": 2,
    "start_time": "2022-10-10T18:20:33.193Z"
   },
   {
    "duration": 1722,
    "start_time": "2022-10-10T18:20:33.197Z"
   },
   {
    "duration": 14,
    "start_time": "2022-10-10T18:20:34.920Z"
   },
   {
    "duration": 15,
    "start_time": "2022-10-10T18:20:34.935Z"
   },
   {
    "duration": 4023,
    "start_time": "2022-10-10T18:20:34.951Z"
   },
   {
    "duration": 262,
    "start_time": "2022-10-10T18:20:38.976Z"
   },
   {
    "duration": 130,
    "start_time": "2022-10-10T18:20:39.240Z"
   },
   {
    "duration": 13,
    "start_time": "2022-10-10T18:20:39.372Z"
   },
   {
    "duration": 31,
    "start_time": "2022-10-10T18:20:39.386Z"
   },
   {
    "duration": 18,
    "start_time": "2022-10-10T18:20:39.419Z"
   },
   {
    "duration": 154,
    "start_time": "2022-10-10T18:20:39.438Z"
   },
   {
    "duration": 142,
    "start_time": "2022-10-10T18:20:39.593Z"
   },
   {
    "duration": 3,
    "start_time": "2022-10-10T18:20:39.737Z"
   },
   {
    "duration": 85,
    "start_time": "2022-10-10T18:20:39.742Z"
   },
   {
    "duration": 4,
    "start_time": "2022-10-10T18:20:39.829Z"
   },
   {
    "duration": 211,
    "start_time": "2022-10-10T18:20:39.835Z"
   },
   {
    "duration": 231,
    "start_time": "2022-10-10T18:20:40.048Z"
   },
   {
    "duration": 152,
    "start_time": "2022-10-10T18:20:40.281Z"
   },
   {
    "duration": 153,
    "start_time": "2022-10-10T18:20:40.435Z"
   },
   {
    "duration": 148,
    "start_time": "2022-10-10T18:20:40.590Z"
   },
   {
    "duration": 182,
    "start_time": "2022-10-10T18:20:40.740Z"
   },
   {
    "duration": 186,
    "start_time": "2022-10-10T18:20:40.923Z"
   },
   {
    "duration": 176,
    "start_time": "2022-10-10T18:20:41.110Z"
   },
   {
    "duration": 170,
    "start_time": "2022-10-10T18:20:41.289Z"
   },
   {
    "duration": 12,
    "start_time": "2022-10-10T18:20:41.461Z"
   },
   {
    "duration": 10,
    "start_time": "2022-10-10T18:20:41.474Z"
   },
   {
    "duration": 281,
    "start_time": "2022-10-10T18:20:41.486Z"
   },
   {
    "duration": 3,
    "start_time": "2022-10-10T18:20:41.768Z"
   },
   {
    "duration": 20,
    "start_time": "2022-10-10T18:20:41.772Z"
   },
   {
    "duration": 29,
    "start_time": "2022-10-10T18:20:41.794Z"
   },
   {
    "duration": 11,
    "start_time": "2022-10-10T18:20:46.476Z"
   },
   {
    "duration": 92,
    "start_time": "2022-10-10T18:21:31.807Z"
   },
   {
    "duration": 11,
    "start_time": "2022-10-10T18:22:00.410Z"
   },
   {
    "duration": 154,
    "start_time": "2022-10-10T18:22:09.224Z"
   },
   {
    "duration": 65,
    "start_time": "2022-10-10T18:22:23.116Z"
   },
   {
    "duration": 198,
    "start_time": "2022-10-10T18:22:28.930Z"
   },
   {
    "duration": 161,
    "start_time": "2022-10-10T18:22:59.792Z"
   },
   {
    "duration": 31,
    "start_time": "2022-10-10T18:23:56.207Z"
   },
   {
    "duration": 244,
    "start_time": "2022-10-10T18:24:16.288Z"
   },
   {
    "duration": 64,
    "start_time": "2022-10-10T19:14:50.799Z"
   },
   {
    "duration": 15,
    "start_time": "2022-10-10T19:14:59.098Z"
   },
   {
    "duration": 5,
    "start_time": "2022-10-10T19:15:02.660Z"
   },
   {
    "duration": 7,
    "start_time": "2022-10-10T19:15:06.244Z"
   },
   {
    "duration": 1240,
    "start_time": "2022-10-10T19:15:18.756Z"
   },
   {
    "duration": 186,
    "start_time": "2022-10-10T19:15:19.998Z"
   },
   {
    "duration": 43,
    "start_time": "2022-10-10T19:15:20.185Z"
   },
   {
    "duration": 27,
    "start_time": "2022-10-10T19:15:20.229Z"
   },
   {
    "duration": 6,
    "start_time": "2022-10-10T19:15:20.259Z"
   },
   {
    "duration": 32,
    "start_time": "2022-10-10T19:15:20.267Z"
   },
   {
    "duration": 5,
    "start_time": "2022-10-10T19:15:20.301Z"
   },
   {
    "duration": 13,
    "start_time": "2022-10-10T19:15:20.308Z"
   },
   {
    "duration": 15,
    "start_time": "2022-10-10T19:15:20.323Z"
   },
   {
    "duration": 64,
    "start_time": "2022-10-10T19:15:20.339Z"
   },
   {
    "duration": 3,
    "start_time": "2022-10-10T19:15:20.405Z"
   },
   {
    "duration": 9,
    "start_time": "2022-10-10T19:15:20.409Z"
   },
   {
    "duration": 7,
    "start_time": "2022-10-10T19:15:20.419Z"
   },
   {
    "duration": 9,
    "start_time": "2022-10-10T19:15:20.428Z"
   },
   {
    "duration": 366,
    "start_time": "2022-10-10T19:15:20.439Z"
   },
   {
    "duration": 66,
    "start_time": "2022-10-10T19:15:20.807Z"
   },
   {
    "duration": 26,
    "start_time": "2022-10-10T19:15:20.875Z"
   },
   {
    "duration": 2,
    "start_time": "2022-10-10T19:15:20.902Z"
   },
   {
    "duration": 1927,
    "start_time": "2022-10-10T19:15:20.905Z"
   },
   {
    "duration": 22,
    "start_time": "2022-10-10T19:15:22.833Z"
   },
   {
    "duration": 29,
    "start_time": "2022-10-10T19:15:22.858Z"
   },
   {
    "duration": 4400,
    "start_time": "2022-10-10T19:15:22.889Z"
   },
   {
    "duration": 265,
    "start_time": "2022-10-10T19:15:27.294Z"
   },
   {
    "duration": 160,
    "start_time": "2022-10-10T19:15:27.561Z"
   },
   {
    "duration": 16,
    "start_time": "2022-10-10T19:15:27.723Z"
   },
   {
    "duration": 11,
    "start_time": "2022-10-10T19:15:27.741Z"
   },
   {
    "duration": 6,
    "start_time": "2022-10-10T19:15:27.753Z"
   },
   {
    "duration": 185,
    "start_time": "2022-10-10T19:15:27.761Z"
   },
   {
    "duration": 175,
    "start_time": "2022-10-10T19:15:27.948Z"
   },
   {
    "duration": 4,
    "start_time": "2022-10-10T19:15:28.125Z"
   },
   {
    "duration": 78,
    "start_time": "2022-10-10T19:15:28.130Z"
   },
   {
    "duration": 4,
    "start_time": "2022-10-10T19:15:28.210Z"
   },
   {
    "duration": 198,
    "start_time": "2022-10-10T19:15:28.216Z"
   },
   {
    "duration": 259,
    "start_time": "2022-10-10T19:15:28.416Z"
   },
   {
    "duration": 187,
    "start_time": "2022-10-10T19:15:28.677Z"
   },
   {
    "duration": 164,
    "start_time": "2022-10-10T19:15:28.866Z"
   },
   {
    "duration": 169,
    "start_time": "2022-10-10T19:15:29.033Z"
   },
   {
    "duration": 203,
    "start_time": "2022-10-10T19:15:29.204Z"
   },
   {
    "duration": 202,
    "start_time": "2022-10-10T19:15:29.409Z"
   },
   {
    "duration": 198,
    "start_time": "2022-10-10T19:15:29.613Z"
   },
   {
    "duration": 239,
    "start_time": "2022-10-10T19:15:29.815Z"
   },
   {
    "duration": 215,
    "start_time": "2022-10-10T19:15:30.106Z"
   },
   {
    "duration": 3,
    "start_time": "2022-10-10T19:15:30.323Z"
   },
   {
    "duration": 57,
    "start_time": "2022-10-10T19:15:30.329Z"
   },
   {
    "duration": 49,
    "start_time": "2022-10-10T19:15:30.388Z"
   },
   {
    "duration": 30,
    "start_time": "2022-10-10T19:15:30.439Z"
   },
   {
    "duration": 25,
    "start_time": "2022-10-10T19:15:30.471Z"
   },
   {
    "duration": 182,
    "start_time": "2022-10-10T19:15:41.680Z"
   },
   {
    "duration": 217,
    "start_time": "2022-10-10T19:16:17.078Z"
   },
   {
    "duration": 2226,
    "start_time": "2022-10-10T19:20:24.774Z"
   },
   {
    "duration": 26,
    "start_time": "2022-10-10T19:21:24.439Z"
   },
   {
    "duration": 5,
    "start_time": "2022-10-10T19:24:03.442Z"
   },
   {
    "duration": 5,
    "start_time": "2022-10-10T19:28:53.952Z"
   },
   {
    "duration": 6,
    "start_time": "2022-10-10T19:31:23.075Z"
   },
   {
    "duration": 1157,
    "start_time": "2022-10-10T19:31:53.725Z"
   },
   {
    "duration": 49,
    "start_time": "2022-10-10T19:31:54.883Z"
   },
   {
    "duration": 41,
    "start_time": "2022-10-10T19:31:54.934Z"
   },
   {
    "duration": 27,
    "start_time": "2022-10-10T19:31:54.977Z"
   },
   {
    "duration": 6,
    "start_time": "2022-10-10T19:31:55.007Z"
   },
   {
    "duration": 17,
    "start_time": "2022-10-10T19:31:55.015Z"
   },
   {
    "duration": 5,
    "start_time": "2022-10-10T19:31:55.034Z"
   },
   {
    "duration": 13,
    "start_time": "2022-10-10T19:31:55.041Z"
   },
   {
    "duration": 40,
    "start_time": "2022-10-10T19:31:55.056Z"
   },
   {
    "duration": 52,
    "start_time": "2022-10-10T19:31:55.098Z"
   },
   {
    "duration": 5,
    "start_time": "2022-10-10T19:31:55.151Z"
   },
   {
    "duration": 8,
    "start_time": "2022-10-10T19:31:55.157Z"
   },
   {
    "duration": 9,
    "start_time": "2022-10-10T19:31:55.166Z"
   },
   {
    "duration": 23,
    "start_time": "2022-10-10T19:31:55.177Z"
   },
   {
    "duration": 315,
    "start_time": "2022-10-10T19:31:55.202Z"
   },
   {
    "duration": 60,
    "start_time": "2022-10-10T19:31:55.518Z"
   },
   {
    "duration": 27,
    "start_time": "2022-10-10T19:31:55.580Z"
   },
   {
    "duration": 2,
    "start_time": "2022-10-10T19:31:55.609Z"
   },
   {
    "duration": 1903,
    "start_time": "2022-10-10T19:31:55.613Z"
   },
   {
    "duration": 18,
    "start_time": "2022-10-10T19:31:57.517Z"
   },
   {
    "duration": 14,
    "start_time": "2022-10-10T19:31:57.537Z"
   },
   {
    "duration": 4353,
    "start_time": "2022-10-10T19:31:57.552Z"
   },
   {
    "duration": 235,
    "start_time": "2022-10-10T19:32:01.907Z"
   },
   {
    "duration": 184,
    "start_time": "2022-10-10T19:32:02.143Z"
   },
   {
    "duration": 16,
    "start_time": "2022-10-10T19:32:02.329Z"
   },
   {
    "duration": 13,
    "start_time": "2022-10-10T19:32:02.347Z"
   },
   {
    "duration": 6,
    "start_time": "2022-10-10T19:32:02.362Z"
   },
   {
    "duration": 196,
    "start_time": "2022-10-10T19:32:02.370Z"
   },
   {
    "duration": 170,
    "start_time": "2022-10-10T19:32:02.568Z"
   },
   {
    "duration": 4,
    "start_time": "2022-10-10T19:32:02.740Z"
   },
   {
    "duration": 89,
    "start_time": "2022-10-10T19:32:02.746Z"
   },
   {
    "duration": 4,
    "start_time": "2022-10-10T19:32:02.837Z"
   },
   {
    "duration": 213,
    "start_time": "2022-10-10T19:32:02.843Z"
   },
   {
    "duration": 248,
    "start_time": "2022-10-10T19:32:03.058Z"
   },
   {
    "duration": 167,
    "start_time": "2022-10-10T19:32:03.308Z"
   },
   {
    "duration": 176,
    "start_time": "2022-10-10T19:32:03.477Z"
   },
   {
    "duration": 162,
    "start_time": "2022-10-10T19:32:03.655Z"
   },
   {
    "duration": 190,
    "start_time": "2022-10-10T19:32:03.818Z"
   },
   {
    "duration": 177,
    "start_time": "2022-10-10T19:32:04.010Z"
   },
   {
    "duration": 190,
    "start_time": "2022-10-10T19:32:04.194Z"
   },
   {
    "duration": 183,
    "start_time": "2022-10-10T19:32:04.387Z"
   },
   {
    "duration": 13,
    "start_time": "2022-10-10T19:32:04.571Z"
   },
   {
    "duration": 16,
    "start_time": "2022-10-10T19:32:04.586Z"
   },
   {
    "duration": 207,
    "start_time": "2022-10-10T19:32:04.604Z"
   },
   {
    "duration": 6,
    "start_time": "2022-10-10T19:32:04.813Z"
   },
   {
    "duration": 20,
    "start_time": "2022-10-10T19:32:04.821Z"
   },
   {
    "duration": 14,
    "start_time": "2022-10-10T19:32:04.843Z"
   },
   {
    "duration": 5,
    "start_time": "2022-10-10T19:32:23.966Z"
   },
   {
    "duration": 1244,
    "start_time": "2022-10-10T19:35:30.287Z"
   },
   {
    "duration": 51,
    "start_time": "2022-10-10T19:35:31.532Z"
   },
   {
    "duration": 47,
    "start_time": "2022-10-10T19:35:31.585Z"
   },
   {
    "duration": 27,
    "start_time": "2022-10-10T19:35:31.634Z"
   },
   {
    "duration": 4,
    "start_time": "2022-10-10T19:35:31.663Z"
   },
   {
    "duration": 44,
    "start_time": "2022-10-10T19:35:31.668Z"
   },
   {
    "duration": 6,
    "start_time": "2022-10-10T19:35:31.713Z"
   },
   {
    "duration": 12,
    "start_time": "2022-10-10T19:35:31.720Z"
   },
   {
    "duration": 17,
    "start_time": "2022-10-10T19:35:31.734Z"
   },
   {
    "duration": 72,
    "start_time": "2022-10-10T19:35:31.753Z"
   },
   {
    "duration": 5,
    "start_time": "2022-10-10T19:35:31.826Z"
   },
   {
    "duration": 6,
    "start_time": "2022-10-10T19:35:31.832Z"
   },
   {
    "duration": 12,
    "start_time": "2022-10-10T19:35:31.839Z"
   },
   {
    "duration": 16,
    "start_time": "2022-10-10T19:35:31.854Z"
   },
   {
    "duration": 332,
    "start_time": "2022-10-10T19:35:31.872Z"
   },
   {
    "duration": 65,
    "start_time": "2022-10-10T19:35:32.205Z"
   },
   {
    "duration": 38,
    "start_time": "2022-10-10T19:35:32.271Z"
   },
   {
    "duration": 4,
    "start_time": "2022-10-10T19:35:32.311Z"
   },
   {
    "duration": 1919,
    "start_time": "2022-10-10T19:35:32.318Z"
   },
   {
    "duration": 18,
    "start_time": "2022-10-10T19:35:34.239Z"
   },
   {
    "duration": 16,
    "start_time": "2022-10-10T19:35:34.258Z"
   },
   {
    "duration": 4534,
    "start_time": "2022-10-10T19:35:34.276Z"
   },
   {
    "duration": 243,
    "start_time": "2022-10-10T19:35:38.811Z"
   },
   {
    "duration": 158,
    "start_time": "2022-10-10T19:35:39.056Z"
   },
   {
    "duration": 15,
    "start_time": "2022-10-10T19:35:39.216Z"
   },
   {
    "duration": 12,
    "start_time": "2022-10-10T19:35:39.232Z"
   },
   {
    "duration": 5,
    "start_time": "2022-10-10T19:35:39.246Z"
   },
   {
    "duration": 174,
    "start_time": "2022-10-10T19:35:39.252Z"
   },
   {
    "duration": 155,
    "start_time": "2022-10-10T19:35:39.427Z"
   },
   {
    "duration": 15,
    "start_time": "2022-10-10T19:35:39.584Z"
   },
   {
    "duration": 71,
    "start_time": "2022-10-10T19:35:39.600Z"
   },
   {
    "duration": 4,
    "start_time": "2022-10-10T19:35:39.673Z"
   },
   {
    "duration": 186,
    "start_time": "2022-10-10T19:35:39.678Z"
   },
   {
    "duration": 269,
    "start_time": "2022-10-10T19:35:39.866Z"
   },
   {
    "duration": 177,
    "start_time": "2022-10-10T19:35:40.136Z"
   },
   {
    "duration": 166,
    "start_time": "2022-10-10T19:35:40.315Z"
   },
   {
    "duration": 218,
    "start_time": "2022-10-10T19:35:40.482Z"
   },
   {
    "duration": 192,
    "start_time": "2022-10-10T19:35:40.701Z"
   },
   {
    "duration": 206,
    "start_time": "2022-10-10T19:35:40.894Z"
   },
   {
    "duration": 234,
    "start_time": "2022-10-10T19:35:41.103Z"
   },
   {
    "duration": 193,
    "start_time": "2022-10-10T19:35:41.341Z"
   },
   {
    "duration": 13,
    "start_time": "2022-10-10T19:35:41.536Z"
   },
   {
    "duration": 10,
    "start_time": "2022-10-10T19:35:41.551Z"
   },
   {
    "duration": 240,
    "start_time": "2022-10-10T19:35:41.563Z"
   },
   {
    "duration": 28,
    "start_time": "2022-10-10T19:35:41.818Z"
   },
   {
    "duration": 62,
    "start_time": "2022-10-10T19:35:41.847Z"
   },
   {
    "duration": 14,
    "start_time": "2022-10-10T19:35:41.912Z"
   },
   {
    "duration": 102,
    "start_time": "2022-10-10T19:41:24.080Z"
   },
   {
    "duration": 7,
    "start_time": "2022-10-10T19:41:32.011Z"
   },
   {
    "duration": 7,
    "start_time": "2022-10-10T19:42:36.681Z"
   },
   {
    "duration": 4,
    "start_time": "2022-10-10T19:42:41.051Z"
   },
   {
    "duration": 5,
    "start_time": "2022-10-10T19:42:58.224Z"
   },
   {
    "duration": 3,
    "start_time": "2022-10-10T19:43:14.653Z"
   },
   {
    "duration": 9,
    "start_time": "2022-10-10T19:45:54.234Z"
   },
   {
    "duration": 1439,
    "start_time": "2022-10-10T19:46:21.252Z"
   },
   {
    "duration": 9,
    "start_time": "2022-10-10T19:46:36.129Z"
   },
   {
    "duration": 7,
    "start_time": "2022-10-10T19:46:56.057Z"
   },
   {
    "duration": 1096,
    "start_time": "2022-10-10T19:49:54.181Z"
   },
   {
    "duration": 59,
    "start_time": "2022-10-10T19:49:55.279Z"
   },
   {
    "duration": 48,
    "start_time": "2022-10-10T19:49:55.340Z"
   },
   {
    "duration": 31,
    "start_time": "2022-10-10T19:49:55.389Z"
   },
   {
    "duration": 5,
    "start_time": "2022-10-10T19:49:55.422Z"
   },
   {
    "duration": 15,
    "start_time": "2022-10-10T19:49:55.428Z"
   },
   {
    "duration": 5,
    "start_time": "2022-10-10T19:49:55.446Z"
   },
   {
    "duration": 15,
    "start_time": "2022-10-10T19:49:55.453Z"
   },
   {
    "duration": 43,
    "start_time": "2022-10-10T19:49:55.470Z"
   },
   {
    "duration": 58,
    "start_time": "2022-10-10T19:49:55.515Z"
   },
   {
    "duration": 4,
    "start_time": "2022-10-10T19:49:55.574Z"
   },
   {
    "duration": 20,
    "start_time": "2022-10-10T19:49:55.580Z"
   },
   {
    "duration": 17,
    "start_time": "2022-10-10T19:49:55.602Z"
   },
   {
    "duration": 11,
    "start_time": "2022-10-10T19:49:55.622Z"
   },
   {
    "duration": 313,
    "start_time": "2022-10-10T19:49:55.635Z"
   },
   {
    "duration": 75,
    "start_time": "2022-10-10T19:49:55.950Z"
   },
   {
    "duration": 16,
    "start_time": "2022-10-10T19:49:56.027Z"
   },
   {
    "duration": 2,
    "start_time": "2022-10-10T19:49:56.045Z"
   },
   {
    "duration": 1956,
    "start_time": "2022-10-10T19:49:56.049Z"
   },
   {
    "duration": 28,
    "start_time": "2022-10-10T19:49:58.010Z"
   },
   {
    "duration": 17,
    "start_time": "2022-10-10T19:49:58.040Z"
   },
   {
    "duration": 4515,
    "start_time": "2022-10-10T19:49:58.059Z"
   },
   {
    "duration": 266,
    "start_time": "2022-10-10T19:50:02.576Z"
   },
   {
    "duration": 172,
    "start_time": "2022-10-10T19:50:02.844Z"
   },
   {
    "duration": 15,
    "start_time": "2022-10-10T19:50:03.018Z"
   },
   {
    "duration": 12,
    "start_time": "2022-10-10T19:50:03.034Z"
   },
   {
    "duration": 6,
    "start_time": "2022-10-10T19:50:03.047Z"
   },
   {
    "duration": 199,
    "start_time": "2022-10-10T19:50:03.054Z"
   },
   {
    "duration": 159,
    "start_time": "2022-10-10T19:50:03.254Z"
   },
   {
    "duration": 4,
    "start_time": "2022-10-10T19:50:03.415Z"
   },
   {
    "duration": 80,
    "start_time": "2022-10-10T19:50:03.420Z"
   },
   {
    "duration": 10,
    "start_time": "2022-10-10T19:50:03.503Z"
   },
   {
    "duration": 205,
    "start_time": "2022-10-10T19:50:03.514Z"
   },
   {
    "duration": 289,
    "start_time": "2022-10-10T19:50:03.721Z"
   },
   {
    "duration": 175,
    "start_time": "2022-10-10T19:50:04.013Z"
   },
   {
    "duration": 168,
    "start_time": "2022-10-10T19:50:04.190Z"
   },
   {
    "duration": 179,
    "start_time": "2022-10-10T19:50:04.360Z"
   },
   {
    "duration": 228,
    "start_time": "2022-10-10T19:50:04.540Z"
   },
   {
    "duration": 212,
    "start_time": "2022-10-10T19:50:04.770Z"
   },
   {
    "duration": 200,
    "start_time": "2022-10-10T19:50:04.984Z"
   },
   {
    "duration": 176,
    "start_time": "2022-10-10T19:50:05.188Z"
   },
   {
    "duration": 12,
    "start_time": "2022-10-10T19:50:05.365Z"
   },
   {
    "duration": 42,
    "start_time": "2022-10-10T19:50:05.379Z"
   },
   {
    "duration": 212,
    "start_time": "2022-10-10T19:50:05.422Z"
   },
   {
    "duration": 26,
    "start_time": "2022-10-10T19:50:05.643Z"
   },
   {
    "duration": 36,
    "start_time": "2022-10-10T19:50:05.671Z"
   },
   {
    "duration": 12,
    "start_time": "2022-10-10T19:50:05.709Z"
   },
   {
    "duration": 5,
    "start_time": "2022-10-10T19:51:04.027Z"
   },
   {
    "duration": 1241,
    "start_time": "2022-10-10T19:51:22.352Z"
   },
   {
    "duration": 54,
    "start_time": "2022-10-10T19:51:23.595Z"
   },
   {
    "duration": 59,
    "start_time": "2022-10-10T19:51:23.651Z"
   },
   {
    "duration": 26,
    "start_time": "2022-10-10T19:51:23.712Z"
   },
   {
    "duration": 13,
    "start_time": "2022-10-10T19:51:23.741Z"
   },
   {
    "duration": 30,
    "start_time": "2022-10-10T19:51:23.755Z"
   },
   {
    "duration": 18,
    "start_time": "2022-10-10T19:51:23.786Z"
   },
   {
    "duration": 14,
    "start_time": "2022-10-10T19:51:23.809Z"
   },
   {
    "duration": 18,
    "start_time": "2022-10-10T19:51:23.824Z"
   },
   {
    "duration": 64,
    "start_time": "2022-10-10T19:51:23.844Z"
   },
   {
    "duration": 4,
    "start_time": "2022-10-10T19:51:23.910Z"
   },
   {
    "duration": 6,
    "start_time": "2022-10-10T19:51:23.916Z"
   },
   {
    "duration": 9,
    "start_time": "2022-10-10T19:51:23.923Z"
   },
   {
    "duration": 10,
    "start_time": "2022-10-10T19:51:23.935Z"
   },
   {
    "duration": 375,
    "start_time": "2022-10-10T19:51:23.947Z"
   },
   {
    "duration": 87,
    "start_time": "2022-10-10T19:51:24.324Z"
   },
   {
    "duration": 16,
    "start_time": "2022-10-10T19:51:24.412Z"
   },
   {
    "duration": 6,
    "start_time": "2022-10-10T19:51:24.429Z"
   },
   {
    "duration": 1946,
    "start_time": "2022-10-10T19:51:24.436Z"
   },
   {
    "duration": 36,
    "start_time": "2022-10-10T19:51:26.384Z"
   },
   {
    "duration": 18,
    "start_time": "2022-10-10T19:51:26.422Z"
   },
   {
    "duration": 4804,
    "start_time": "2022-10-10T19:51:26.442Z"
   },
   {
    "duration": 242,
    "start_time": "2022-10-10T19:51:31.248Z"
   },
   {
    "duration": 141,
    "start_time": "2022-10-10T19:51:31.496Z"
   },
   {
    "duration": 16,
    "start_time": "2022-10-10T19:51:31.639Z"
   },
   {
    "duration": 11,
    "start_time": "2022-10-10T19:51:31.656Z"
   },
   {
    "duration": 33,
    "start_time": "2022-10-10T19:51:31.669Z"
   },
   {
    "duration": 159,
    "start_time": "2022-10-10T19:51:31.704Z"
   },
   {
    "duration": 171,
    "start_time": "2022-10-10T19:51:31.865Z"
   },
   {
    "duration": 4,
    "start_time": "2022-10-10T19:51:32.038Z"
   },
   {
    "duration": 96,
    "start_time": "2022-10-10T19:51:32.043Z"
   },
   {
    "duration": 6,
    "start_time": "2022-10-10T19:51:32.141Z"
   },
   {
    "duration": 206,
    "start_time": "2022-10-10T19:51:32.149Z"
   },
   {
    "duration": 271,
    "start_time": "2022-10-10T19:51:32.357Z"
   },
   {
    "duration": 184,
    "start_time": "2022-10-10T19:51:32.631Z"
   },
   {
    "duration": 191,
    "start_time": "2022-10-10T19:51:32.818Z"
   },
   {
    "duration": 170,
    "start_time": "2022-10-10T19:51:33.011Z"
   },
   {
    "duration": 195,
    "start_time": "2022-10-10T19:51:33.182Z"
   },
   {
    "duration": 194,
    "start_time": "2022-10-10T19:51:33.379Z"
   },
   {
    "duration": 193,
    "start_time": "2022-10-10T19:51:33.575Z"
   },
   {
    "duration": 191,
    "start_time": "2022-10-10T19:51:33.773Z"
   },
   {
    "duration": 13,
    "start_time": "2022-10-10T19:51:33.966Z"
   },
   {
    "duration": 15,
    "start_time": "2022-10-10T19:51:33.994Z"
   },
   {
    "duration": 222,
    "start_time": "2022-10-10T19:51:34.010Z"
   },
   {
    "duration": 19,
    "start_time": "2022-10-10T19:51:34.240Z"
   },
   {
    "duration": 13,
    "start_time": "2022-10-10T19:51:34.260Z"
   },
   {
    "duration": 11,
    "start_time": "2022-10-10T19:51:34.297Z"
   },
   {
    "duration": 4,
    "start_time": "2022-10-10T19:52:07.921Z"
   },
   {
    "duration": 4,
    "start_time": "2022-10-10T19:52:18.508Z"
   },
   {
    "duration": 8,
    "start_time": "2022-10-10T19:52:28.251Z"
   },
   {
    "duration": 4,
    "start_time": "2022-10-10T19:52:34.910Z"
   },
   {
    "duration": 100,
    "start_time": "2022-10-10T19:53:42.645Z"
   },
   {
    "duration": 5,
    "start_time": "2022-10-10T19:54:09.745Z"
   },
   {
    "duration": 9,
    "start_time": "2022-10-10T19:59:22.741Z"
   },
   {
    "duration": 6,
    "start_time": "2022-10-10T20:00:11.468Z"
   },
   {
    "duration": 1175,
    "start_time": "2022-10-10T20:00:23.813Z"
   },
   {
    "duration": 57,
    "start_time": "2022-10-10T20:00:24.990Z"
   },
   {
    "duration": 63,
    "start_time": "2022-10-10T20:00:25.049Z"
   },
   {
    "duration": 44,
    "start_time": "2022-10-10T20:00:25.114Z"
   },
   {
    "duration": 9,
    "start_time": "2022-10-10T20:00:25.160Z"
   },
   {
    "duration": 35,
    "start_time": "2022-10-10T20:00:25.171Z"
   },
   {
    "duration": 6,
    "start_time": "2022-10-10T20:00:25.208Z"
   },
   {
    "duration": 17,
    "start_time": "2022-10-10T20:00:25.217Z"
   },
   {
    "duration": 19,
    "start_time": "2022-10-10T20:00:25.236Z"
   },
   {
    "duration": 81,
    "start_time": "2022-10-10T20:00:25.257Z"
   },
   {
    "duration": 5,
    "start_time": "2022-10-10T20:00:25.340Z"
   },
   {
    "duration": 7,
    "start_time": "2022-10-10T20:00:25.347Z"
   },
   {
    "duration": 8,
    "start_time": "2022-10-10T20:00:25.355Z"
   },
   {
    "duration": 32,
    "start_time": "2022-10-10T20:00:25.365Z"
   },
   {
    "duration": 330,
    "start_time": "2022-10-10T20:00:25.399Z"
   },
   {
    "duration": 80,
    "start_time": "2022-10-10T20:00:25.731Z"
   },
   {
    "duration": 16,
    "start_time": "2022-10-10T20:00:25.813Z"
   },
   {
    "duration": 3,
    "start_time": "2022-10-10T20:00:25.830Z"
   },
   {
    "duration": 2040,
    "start_time": "2022-10-10T20:00:25.835Z"
   },
   {
    "duration": 18,
    "start_time": "2022-10-10T20:00:27.877Z"
   },
   {
    "duration": 12,
    "start_time": "2022-10-10T20:00:27.897Z"
   },
   {
    "duration": 4521,
    "start_time": "2022-10-10T20:00:27.911Z"
   },
   {
    "duration": 285,
    "start_time": "2022-10-10T20:00:32.434Z"
   },
   {
    "duration": 184,
    "start_time": "2022-10-10T20:00:32.721Z"
   },
   {
    "duration": 22,
    "start_time": "2022-10-10T20:00:32.906Z"
   },
   {
    "duration": 16,
    "start_time": "2022-10-10T20:00:32.930Z"
   },
   {
    "duration": 6,
    "start_time": "2022-10-10T20:00:32.948Z"
   },
   {
    "duration": 189,
    "start_time": "2022-10-10T20:00:32.956Z"
   },
   {
    "duration": 159,
    "start_time": "2022-10-10T20:00:33.147Z"
   },
   {
    "duration": 4,
    "start_time": "2022-10-10T20:00:33.308Z"
   },
   {
    "duration": 81,
    "start_time": "2022-10-10T20:00:33.314Z"
   },
   {
    "duration": 4,
    "start_time": "2022-10-10T20:00:33.397Z"
   },
   {
    "duration": 190,
    "start_time": "2022-10-10T20:00:33.402Z"
   },
   {
    "duration": 252,
    "start_time": "2022-10-10T20:00:33.594Z"
   },
   {
    "duration": 177,
    "start_time": "2022-10-10T20:00:33.848Z"
   },
   {
    "duration": 160,
    "start_time": "2022-10-10T20:00:34.027Z"
   },
   {
    "duration": 160,
    "start_time": "2022-10-10T20:00:34.195Z"
   },
   {
    "duration": 191,
    "start_time": "2022-10-10T20:00:34.357Z"
   },
   {
    "duration": 192,
    "start_time": "2022-10-10T20:00:34.549Z"
   },
   {
    "duration": 200,
    "start_time": "2022-10-10T20:00:34.743Z"
   },
   {
    "duration": 191,
    "start_time": "2022-10-10T20:00:34.947Z"
   },
   {
    "duration": 13,
    "start_time": "2022-10-10T20:00:35.139Z"
   },
   {
    "duration": 10,
    "start_time": "2022-10-10T20:00:35.154Z"
   },
   {
    "duration": 228,
    "start_time": "2022-10-10T20:00:35.166Z"
   },
   {
    "duration": 19,
    "start_time": "2022-10-10T20:00:35.404Z"
   },
   {
    "duration": 19,
    "start_time": "2022-10-10T20:00:35.424Z"
   },
   {
    "duration": 19,
    "start_time": "2022-10-10T20:00:35.445Z"
   },
   {
    "duration": 6,
    "start_time": "2022-10-10T20:01:09.404Z"
   },
   {
    "duration": 4,
    "start_time": "2022-10-10T20:02:14.256Z"
   },
   {
    "duration": 3,
    "start_time": "2022-10-10T20:02:19.235Z"
   },
   {
    "duration": 4,
    "start_time": "2022-10-10T20:02:20.046Z"
   },
   {
    "duration": 6,
    "start_time": "2022-10-10T20:02:33.465Z"
   },
   {
    "duration": 6,
    "start_time": "2022-10-10T20:04:29.102Z"
   },
   {
    "duration": 4,
    "start_time": "2022-10-10T20:04:31.588Z"
   },
   {
    "duration": 6,
    "start_time": "2022-10-10T20:04:36.528Z"
   },
   {
    "duration": 6,
    "start_time": "2022-10-10T20:04:39.348Z"
   },
   {
    "duration": 12,
    "start_time": "2022-10-10T20:04:54.194Z"
   },
   {
    "duration": 4,
    "start_time": "2022-10-10T20:04:54.777Z"
   },
   {
    "duration": 122,
    "start_time": "2022-10-10T20:05:45.769Z"
   },
   {
    "duration": 37,
    "start_time": "2022-10-10T20:05:53.110Z"
   },
   {
    "duration": 1158,
    "start_time": "2022-10-10T20:06:16.441Z"
   },
   {
    "duration": 51,
    "start_time": "2022-10-10T20:06:17.601Z"
   },
   {
    "duration": 43,
    "start_time": "2022-10-10T20:06:17.653Z"
   },
   {
    "duration": 28,
    "start_time": "2022-10-10T20:06:17.698Z"
   },
   {
    "duration": 4,
    "start_time": "2022-10-10T20:06:17.728Z"
   },
   {
    "duration": 15,
    "start_time": "2022-10-10T20:06:17.733Z"
   },
   {
    "duration": 5,
    "start_time": "2022-10-10T20:06:17.750Z"
   },
   {
    "duration": 13,
    "start_time": "2022-10-10T20:06:17.756Z"
   },
   {
    "duration": 38,
    "start_time": "2022-10-10T20:06:17.771Z"
   },
   {
    "duration": 49,
    "start_time": "2022-10-10T20:06:17.811Z"
   },
   {
    "duration": 4,
    "start_time": "2022-10-10T20:06:17.862Z"
   },
   {
    "duration": 6,
    "start_time": "2022-10-10T20:06:17.867Z"
   },
   {
    "duration": 24,
    "start_time": "2022-10-10T20:06:17.874Z"
   },
   {
    "duration": 10,
    "start_time": "2022-10-10T20:06:17.901Z"
   },
   {
    "duration": 327,
    "start_time": "2022-10-10T20:06:17.913Z"
   },
   {
    "duration": 70,
    "start_time": "2022-10-10T20:06:18.241Z"
   },
   {
    "duration": 15,
    "start_time": "2022-10-10T20:06:18.313Z"
   },
   {
    "duration": 3,
    "start_time": "2022-10-10T20:06:18.329Z"
   },
   {
    "duration": 1778,
    "start_time": "2022-10-10T20:06:18.333Z"
   },
   {
    "duration": 16,
    "start_time": "2022-10-10T20:06:20.112Z"
   },
   {
    "duration": 14,
    "start_time": "2022-10-10T20:06:20.130Z"
   },
   {
    "duration": 4282,
    "start_time": "2022-10-10T20:06:20.145Z"
   },
   {
    "duration": 248,
    "start_time": "2022-10-10T20:06:24.429Z"
   },
   {
    "duration": 152,
    "start_time": "2022-10-10T20:06:24.679Z"
   },
   {
    "duration": 21,
    "start_time": "2022-10-10T20:06:24.833Z"
   },
   {
    "duration": 27,
    "start_time": "2022-10-10T20:06:24.856Z"
   },
   {
    "duration": 10,
    "start_time": "2022-10-10T20:06:24.885Z"
   },
   {
    "duration": 177,
    "start_time": "2022-10-10T20:06:24.897Z"
   },
   {
    "duration": 145,
    "start_time": "2022-10-10T20:06:25.076Z"
   },
   {
    "duration": 4,
    "start_time": "2022-10-10T20:06:25.223Z"
   },
   {
    "duration": 78,
    "start_time": "2022-10-10T20:06:25.228Z"
   },
   {
    "duration": 3,
    "start_time": "2022-10-10T20:06:25.308Z"
   },
   {
    "duration": 190,
    "start_time": "2022-10-10T20:06:25.313Z"
   },
   {
    "duration": 264,
    "start_time": "2022-10-10T20:06:25.505Z"
   },
   {
    "duration": 176,
    "start_time": "2022-10-10T20:06:25.771Z"
   },
   {
    "duration": 175,
    "start_time": "2022-10-10T20:06:25.949Z"
   },
   {
    "duration": 183,
    "start_time": "2022-10-10T20:06:26.126Z"
   },
   {
    "duration": 221,
    "start_time": "2022-10-10T20:06:26.311Z"
   },
   {
    "duration": 307,
    "start_time": "2022-10-10T20:06:26.534Z"
   },
   {
    "duration": 231,
    "start_time": "2022-10-10T20:06:26.842Z"
   },
   {
    "duration": 218,
    "start_time": "2022-10-10T20:06:27.077Z"
   },
   {
    "duration": 15,
    "start_time": "2022-10-10T20:06:27.297Z"
   },
   {
    "duration": 9,
    "start_time": "2022-10-10T20:06:27.315Z"
   },
   {
    "duration": 247,
    "start_time": "2022-10-10T20:06:27.327Z"
   },
   {
    "duration": 7,
    "start_time": "2022-10-10T20:06:27.576Z"
   },
   {
    "duration": 20,
    "start_time": "2022-10-10T20:06:27.596Z"
   },
   {
    "duration": 40,
    "start_time": "2022-10-10T20:06:27.618Z"
   },
   {
    "duration": 20,
    "start_time": "2022-10-10T20:06:27.660Z"
   },
   {
    "duration": 28,
    "start_time": "2022-10-10T20:06:27.682Z"
   },
   {
    "duration": 14,
    "start_time": "2022-10-10T20:06:30.921Z"
   },
   {
    "duration": 9,
    "start_time": "2022-10-10T20:06:32.169Z"
   },
   {
    "duration": 215,
    "start_time": "2022-10-10T20:06:33.006Z"
   },
   {
    "duration": 5,
    "start_time": "2022-10-10T20:06:33.743Z"
   },
   {
    "duration": 4,
    "start_time": "2022-10-10T20:06:35.355Z"
   },
   {
    "duration": 5,
    "start_time": "2022-10-10T20:14:29.976Z"
   },
   {
    "duration": 28,
    "start_time": "2022-10-10T20:14:37.523Z"
   },
   {
    "duration": 1136,
    "start_time": "2022-10-10T20:14:54.338Z"
   },
   {
    "duration": 51,
    "start_time": "2022-10-10T20:14:55.476Z"
   },
   {
    "duration": 45,
    "start_time": "2022-10-10T20:14:55.529Z"
   },
   {
    "duration": 47,
    "start_time": "2022-10-10T20:14:55.577Z"
   },
   {
    "duration": 16,
    "start_time": "2022-10-10T20:14:55.626Z"
   },
   {
    "duration": 37,
    "start_time": "2022-10-10T20:14:55.644Z"
   },
   {
    "duration": 6,
    "start_time": "2022-10-10T20:14:55.682Z"
   },
   {
    "duration": 16,
    "start_time": "2022-10-10T20:14:55.690Z"
   },
   {
    "duration": 16,
    "start_time": "2022-10-10T20:14:55.708Z"
   },
   {
    "duration": 70,
    "start_time": "2022-10-10T20:14:55.727Z"
   },
   {
    "duration": 8,
    "start_time": "2022-10-10T20:14:55.799Z"
   },
   {
    "duration": 11,
    "start_time": "2022-10-10T20:14:55.810Z"
   },
   {
    "duration": 8,
    "start_time": "2022-10-10T20:14:55.823Z"
   },
   {
    "duration": 11,
    "start_time": "2022-10-10T20:14:55.834Z"
   },
   {
    "duration": 344,
    "start_time": "2022-10-10T20:14:55.847Z"
   },
   {
    "duration": 73,
    "start_time": "2022-10-10T20:14:56.196Z"
   },
   {
    "duration": 31,
    "start_time": "2022-10-10T20:14:56.271Z"
   },
   {
    "duration": 3,
    "start_time": "2022-10-10T20:14:56.303Z"
   },
   {
    "duration": 2055,
    "start_time": "2022-10-10T20:14:56.307Z"
   },
   {
    "duration": 37,
    "start_time": "2022-10-10T20:14:58.365Z"
   },
   {
    "duration": 16,
    "start_time": "2022-10-10T20:14:58.403Z"
   },
   {
    "duration": 4878,
    "start_time": "2022-10-10T20:14:58.423Z"
   },
   {
    "duration": 256,
    "start_time": "2022-10-10T20:15:03.305Z"
   },
   {
    "duration": 194,
    "start_time": "2022-10-10T20:15:03.563Z"
   },
   {
    "duration": 19,
    "start_time": "2022-10-10T20:15:03.759Z"
   },
   {
    "duration": 14,
    "start_time": "2022-10-10T20:15:03.794Z"
   },
   {
    "duration": 8,
    "start_time": "2022-10-10T20:15:03.810Z"
   },
   {
    "duration": 226,
    "start_time": "2022-10-10T20:15:03.822Z"
   },
   {
    "duration": 268,
    "start_time": "2022-10-10T20:15:04.055Z"
   },
   {
    "duration": 4,
    "start_time": "2022-10-10T20:15:04.326Z"
   },
   {
    "duration": 112,
    "start_time": "2022-10-10T20:15:04.332Z"
   },
   {
    "duration": 5,
    "start_time": "2022-10-10T20:15:04.447Z"
   },
   {
    "duration": 219,
    "start_time": "2022-10-10T20:15:04.455Z"
   },
   {
    "duration": 291,
    "start_time": "2022-10-10T20:15:04.676Z"
   },
   {
    "duration": 200,
    "start_time": "2022-10-10T20:15:04.969Z"
   },
   {
    "duration": 174,
    "start_time": "2022-10-10T20:15:05.171Z"
   },
   {
    "duration": 186,
    "start_time": "2022-10-10T20:15:05.347Z"
   },
   {
    "duration": 229,
    "start_time": "2022-10-10T20:15:05.535Z"
   },
   {
    "duration": 204,
    "start_time": "2022-10-10T20:15:05.765Z"
   },
   {
    "duration": 244,
    "start_time": "2022-10-10T20:15:05.971Z"
   },
   {
    "duration": 227,
    "start_time": "2022-10-10T20:15:06.217Z"
   },
   {
    "duration": 16,
    "start_time": "2022-10-10T20:15:06.446Z"
   },
   {
    "duration": 26,
    "start_time": "2022-10-10T20:15:06.469Z"
   },
   {
    "duration": 317,
    "start_time": "2022-10-10T20:15:06.497Z"
   },
   {
    "duration": 26,
    "start_time": "2022-10-10T20:15:06.886Z"
   },
   {
    "duration": 15,
    "start_time": "2022-10-10T20:15:06.914Z"
   },
   {
    "duration": 9,
    "start_time": "2022-10-10T20:15:06.931Z"
   },
   {
    "duration": 28,
    "start_time": "2022-10-10T20:15:06.944Z"
   },
   {
    "duration": 1321,
    "start_time": "2022-10-10T20:16:05.506Z"
   },
   {
    "duration": 100,
    "start_time": "2022-10-10T20:16:06.829Z"
   },
   {
    "duration": 45,
    "start_time": "2022-10-10T20:16:06.931Z"
   },
   {
    "duration": 35,
    "start_time": "2022-10-10T20:16:06.978Z"
   },
   {
    "duration": 9,
    "start_time": "2022-10-10T20:16:07.015Z"
   },
   {
    "duration": 20,
    "start_time": "2022-10-10T20:16:07.026Z"
   },
   {
    "duration": 6,
    "start_time": "2022-10-10T20:16:07.047Z"
   },
   {
    "duration": 15,
    "start_time": "2022-10-10T20:16:07.056Z"
   },
   {
    "duration": 43,
    "start_time": "2022-10-10T20:16:07.074Z"
   },
   {
    "duration": 55,
    "start_time": "2022-10-10T20:16:07.119Z"
   },
   {
    "duration": 22,
    "start_time": "2022-10-10T20:16:07.175Z"
   },
   {
    "duration": 4,
    "start_time": "2022-10-10T20:16:07.200Z"
   },
   {
    "duration": 9,
    "start_time": "2022-10-10T20:16:07.206Z"
   },
   {
    "duration": 24,
    "start_time": "2022-10-10T20:16:07.220Z"
   },
   {
    "duration": 341,
    "start_time": "2022-10-10T20:16:07.246Z"
   },
   {
    "duration": 86,
    "start_time": "2022-10-10T20:16:07.590Z"
   },
   {
    "duration": 34,
    "start_time": "2022-10-10T20:16:07.679Z"
   },
   {
    "duration": 3,
    "start_time": "2022-10-10T20:16:07.715Z"
   },
   {
    "duration": 1876,
    "start_time": "2022-10-10T20:16:07.720Z"
   },
   {
    "duration": 20,
    "start_time": "2022-10-10T20:16:09.598Z"
   },
   {
    "duration": 18,
    "start_time": "2022-10-10T20:16:09.620Z"
   },
   {
    "duration": 4463,
    "start_time": "2022-10-10T20:16:09.639Z"
   },
   {
    "duration": 244,
    "start_time": "2022-10-10T20:16:14.104Z"
   },
   {
    "duration": 151,
    "start_time": "2022-10-10T20:16:14.350Z"
   },
   {
    "duration": 16,
    "start_time": "2022-10-10T20:16:14.503Z"
   },
   {
    "duration": 12,
    "start_time": "2022-10-10T20:16:14.521Z"
   },
   {
    "duration": 6,
    "start_time": "2022-10-10T20:16:14.534Z"
   },
   {
    "duration": 175,
    "start_time": "2022-10-10T20:16:14.541Z"
   },
   {
    "duration": 164,
    "start_time": "2022-10-10T20:16:14.718Z"
   },
   {
    "duration": 11,
    "start_time": "2022-10-10T20:16:14.884Z"
   },
   {
    "duration": 65,
    "start_time": "2022-10-10T20:16:14.897Z"
   },
   {
    "duration": 4,
    "start_time": "2022-10-10T20:16:14.964Z"
   },
   {
    "duration": 265,
    "start_time": "2022-10-10T20:16:14.970Z"
   },
   {
    "duration": 254,
    "start_time": "2022-10-10T20:16:15.237Z"
   },
   {
    "duration": 166,
    "start_time": "2022-10-10T20:16:15.495Z"
   },
   {
    "duration": 180,
    "start_time": "2022-10-10T20:16:15.663Z"
   },
   {
    "duration": 171,
    "start_time": "2022-10-10T20:16:15.844Z"
   },
   {
    "duration": 195,
    "start_time": "2022-10-10T20:16:16.017Z"
   },
   {
    "duration": 192,
    "start_time": "2022-10-10T20:16:16.214Z"
   },
   {
    "duration": 233,
    "start_time": "2022-10-10T20:16:16.408Z"
   },
   {
    "duration": 288,
    "start_time": "2022-10-10T20:16:16.646Z"
   },
   {
    "duration": 16,
    "start_time": "2022-10-10T20:16:16.936Z"
   },
   {
    "duration": 17,
    "start_time": "2022-10-10T20:16:16.954Z"
   },
   {
    "duration": 245,
    "start_time": "2022-10-10T20:16:16.974Z"
   },
   {
    "duration": 1327,
    "start_time": "2022-10-10T20:16:17.221Z"
   },
   {
    "duration": 0,
    "start_time": "2022-10-10T20:16:18.549Z"
   },
   {
    "duration": 0,
    "start_time": "2022-10-10T20:16:18.551Z"
   },
   {
    "duration": 0,
    "start_time": "2022-10-10T20:16:18.552Z"
   },
   {
    "duration": 5,
    "start_time": "2022-10-10T20:16:49.173Z"
   },
   {
    "duration": 58,
    "start_time": "2022-10-10T20:16:52.964Z"
   },
   {
    "duration": 1345,
    "start_time": "2022-10-10T20:18:02.574Z"
   },
   {
    "duration": 66,
    "start_time": "2022-10-10T20:18:03.921Z"
   },
   {
    "duration": 60,
    "start_time": "2022-10-10T20:18:03.989Z"
   },
   {
    "duration": 56,
    "start_time": "2022-10-10T20:18:04.052Z"
   },
   {
    "duration": 9,
    "start_time": "2022-10-10T20:18:04.111Z"
   },
   {
    "duration": 26,
    "start_time": "2022-10-10T20:18:04.123Z"
   },
   {
    "duration": 8,
    "start_time": "2022-10-10T20:18:04.152Z"
   },
   {
    "duration": 32,
    "start_time": "2022-10-10T20:18:04.163Z"
   },
   {
    "duration": 24,
    "start_time": "2022-10-10T20:18:04.198Z"
   },
   {
    "duration": 85,
    "start_time": "2022-10-10T20:18:04.224Z"
   },
   {
    "duration": 5,
    "start_time": "2022-10-10T20:18:04.312Z"
   },
   {
    "duration": 11,
    "start_time": "2022-10-10T20:18:04.319Z"
   },
   {
    "duration": 12,
    "start_time": "2022-10-10T20:18:04.332Z"
   },
   {
    "duration": 16,
    "start_time": "2022-10-10T20:18:04.349Z"
   },
   {
    "duration": 375,
    "start_time": "2022-10-10T20:18:04.367Z"
   },
   {
    "duration": 75,
    "start_time": "2022-10-10T20:18:04.744Z"
   },
   {
    "duration": 24,
    "start_time": "2022-10-10T20:18:04.821Z"
   },
   {
    "duration": 11,
    "start_time": "2022-10-10T20:18:04.847Z"
   },
   {
    "duration": 2259,
    "start_time": "2022-10-10T20:18:04.861Z"
   },
   {
    "duration": 24,
    "start_time": "2022-10-10T20:18:07.122Z"
   },
   {
    "duration": 36,
    "start_time": "2022-10-10T20:18:07.147Z"
   },
   {
    "duration": 4575,
    "start_time": "2022-10-10T20:18:07.185Z"
   },
   {
    "duration": 277,
    "start_time": "2022-10-10T20:18:11.762Z"
   },
   {
    "duration": 147,
    "start_time": "2022-10-10T20:18:12.041Z"
   },
   {
    "duration": 20,
    "start_time": "2022-10-10T20:18:12.190Z"
   },
   {
    "duration": 13,
    "start_time": "2022-10-10T20:18:12.211Z"
   },
   {
    "duration": 9,
    "start_time": "2022-10-10T20:18:12.226Z"
   },
   {
    "duration": 175,
    "start_time": "2022-10-10T20:18:12.237Z"
   },
   {
    "duration": 152,
    "start_time": "2022-10-10T20:18:12.413Z"
   },
   {
    "duration": 4,
    "start_time": "2022-10-10T20:18:12.567Z"
   },
   {
    "duration": 78,
    "start_time": "2022-10-10T20:18:12.573Z"
   },
   {
    "duration": 4,
    "start_time": "2022-10-10T20:18:12.653Z"
   },
   {
    "duration": 214,
    "start_time": "2022-10-10T20:18:12.658Z"
   },
   {
    "duration": 282,
    "start_time": "2022-10-10T20:18:12.873Z"
   },
   {
    "duration": 189,
    "start_time": "2022-10-10T20:18:13.157Z"
   },
   {
    "duration": 163,
    "start_time": "2022-10-10T20:18:13.348Z"
   },
   {
    "duration": 170,
    "start_time": "2022-10-10T20:18:13.513Z"
   },
   {
    "duration": 201,
    "start_time": "2022-10-10T20:18:13.685Z"
   },
   {
    "duration": 180,
    "start_time": "2022-10-10T20:18:13.888Z"
   },
   {
    "duration": 192,
    "start_time": "2022-10-10T20:18:14.070Z"
   },
   {
    "duration": 179,
    "start_time": "2022-10-10T20:18:14.266Z"
   },
   {
    "duration": 13,
    "start_time": "2022-10-10T20:18:14.447Z"
   },
   {
    "duration": 13,
    "start_time": "2022-10-10T20:18:14.462Z"
   },
   {
    "duration": 229,
    "start_time": "2022-10-10T20:18:14.477Z"
   },
   {
    "duration": 1394,
    "start_time": "2022-10-10T20:18:14.707Z"
   },
   {
    "duration": 0,
    "start_time": "2022-10-10T20:18:16.102Z"
   },
   {
    "duration": 0,
    "start_time": "2022-10-10T20:18:16.104Z"
   },
   {
    "duration": 0,
    "start_time": "2022-10-10T20:18:16.105Z"
   },
   {
    "duration": 6,
    "start_time": "2022-10-10T20:19:56.170Z"
   },
   {
    "duration": 7053,
    "start_time": "2022-10-10T20:20:08.215Z"
   },
   {
    "duration": 5,
    "start_time": "2022-10-10T20:20:45.375Z"
   },
   {
    "duration": 27,
    "start_time": "2022-10-10T20:20:49.565Z"
   },
   {
    "duration": 1248,
    "start_time": "2022-10-10T20:21:10.712Z"
   },
   {
    "duration": 57,
    "start_time": "2022-10-10T20:21:11.962Z"
   },
   {
    "duration": 40,
    "start_time": "2022-10-10T20:21:12.020Z"
   },
   {
    "duration": 37,
    "start_time": "2022-10-10T20:21:12.062Z"
   },
   {
    "duration": 18,
    "start_time": "2022-10-10T20:21:12.100Z"
   },
   {
    "duration": 13,
    "start_time": "2022-10-10T20:21:12.120Z"
   },
   {
    "duration": 5,
    "start_time": "2022-10-10T20:21:12.135Z"
   },
   {
    "duration": 12,
    "start_time": "2022-10-10T20:21:12.142Z"
   },
   {
    "duration": 17,
    "start_time": "2022-10-10T20:21:12.156Z"
   },
   {
    "duration": 69,
    "start_time": "2022-10-10T20:21:12.177Z"
   },
   {
    "duration": 4,
    "start_time": "2022-10-10T20:21:12.247Z"
   },
   {
    "duration": 7,
    "start_time": "2022-10-10T20:21:12.253Z"
   },
   {
    "duration": 8,
    "start_time": "2022-10-10T20:21:12.261Z"
   },
   {
    "duration": 15,
    "start_time": "2022-10-10T20:21:12.270Z"
   },
   {
    "duration": 325,
    "start_time": "2022-10-10T20:21:12.295Z"
   },
   {
    "duration": 78,
    "start_time": "2022-10-10T20:21:12.622Z"
   },
   {
    "duration": 20,
    "start_time": "2022-10-10T20:21:12.702Z"
   },
   {
    "duration": 3,
    "start_time": "2022-10-10T20:21:12.723Z"
   },
   {
    "duration": 1988,
    "start_time": "2022-10-10T20:21:12.728Z"
   },
   {
    "duration": 16,
    "start_time": "2022-10-10T20:21:14.717Z"
   },
   {
    "duration": 15,
    "start_time": "2022-10-10T20:21:14.735Z"
   },
   {
    "duration": 4590,
    "start_time": "2022-10-10T20:21:14.752Z"
   },
   {
    "duration": 245,
    "start_time": "2022-10-10T20:21:19.343Z"
   },
   {
    "duration": 149,
    "start_time": "2022-10-10T20:21:19.590Z"
   },
   {
    "duration": 15,
    "start_time": "2022-10-10T20:21:19.741Z"
   },
   {
    "duration": 12,
    "start_time": "2022-10-10T20:21:19.757Z"
   },
   {
    "duration": 27,
    "start_time": "2022-10-10T20:21:19.771Z"
   },
   {
    "duration": 163,
    "start_time": "2022-10-10T20:21:19.802Z"
   },
   {
    "duration": 163,
    "start_time": "2022-10-10T20:21:19.967Z"
   },
   {
    "duration": 3,
    "start_time": "2022-10-10T20:21:20.132Z"
   },
   {
    "duration": 82,
    "start_time": "2022-10-10T20:21:20.137Z"
   },
   {
    "duration": 4,
    "start_time": "2022-10-10T20:21:20.220Z"
   },
   {
    "duration": 208,
    "start_time": "2022-10-10T20:21:20.225Z"
   },
   {
    "duration": 250,
    "start_time": "2022-10-10T20:21:20.435Z"
   },
   {
    "duration": 179,
    "start_time": "2022-10-10T20:21:20.686Z"
   },
   {
    "duration": 165,
    "start_time": "2022-10-10T20:21:20.867Z"
   },
   {
    "duration": 163,
    "start_time": "2022-10-10T20:21:21.034Z"
   },
   {
    "duration": 195,
    "start_time": "2022-10-10T20:21:21.200Z"
   },
   {
    "duration": 206,
    "start_time": "2022-10-10T20:21:21.398Z"
   },
   {
    "duration": 194,
    "start_time": "2022-10-10T20:21:21.606Z"
   },
   {
    "duration": 193,
    "start_time": "2022-10-10T20:21:21.802Z"
   },
   {
    "duration": 15,
    "start_time": "2022-10-10T20:21:21.997Z"
   },
   {
    "duration": 21,
    "start_time": "2022-10-10T20:21:22.014Z"
   },
   {
    "duration": 234,
    "start_time": "2022-10-10T20:21:22.037Z"
   },
   {
    "duration": 5,
    "start_time": "2022-10-10T20:21:22.273Z"
   },
   {
    "duration": 31,
    "start_time": "2022-10-10T20:21:22.280Z"
   },
   {
    "duration": 35,
    "start_time": "2022-10-10T20:21:22.314Z"
   },
   {
    "duration": 21,
    "start_time": "2022-10-10T20:21:22.351Z"
   },
   {
    "duration": 16,
    "start_time": "2022-10-10T20:21:22.374Z"
   },
   {
    "duration": 3,
    "start_time": "2022-10-10T20:22:23.428Z"
   },
   {
    "duration": 14,
    "start_time": "2022-10-10T20:33:39.931Z"
   },
   {
    "duration": 10,
    "start_time": "2022-10-10T20:34:16.175Z"
   },
   {
    "duration": 14,
    "start_time": "2022-10-10T20:34:28.896Z"
   },
   {
    "duration": 10,
    "start_time": "2022-10-10T20:39:30.330Z"
   },
   {
    "duration": 16,
    "start_time": "2022-10-10T20:39:53.021Z"
   },
   {
    "duration": 94,
    "start_time": "2022-10-10T20:42:12.065Z"
   },
   {
    "duration": 169,
    "start_time": "2022-10-10T20:42:28.293Z"
   },
   {
    "duration": 211,
    "start_time": "2022-10-10T20:44:23.292Z"
   },
   {
    "duration": 282,
    "start_time": "2022-10-10T20:44:45.442Z"
   },
   {
    "duration": 10,
    "start_time": "2022-10-10T20:45:13.491Z"
   },
   {
    "duration": 141,
    "start_time": "2022-10-10T20:45:15.512Z"
   },
   {
    "duration": 7,
    "start_time": "2022-10-10T20:47:49.913Z"
   },
   {
    "duration": 5,
    "start_time": "2022-10-10T20:47:50.740Z"
   },
   {
    "duration": 14,
    "start_time": "2022-10-10T20:47:51.533Z"
   },
   {
    "duration": 13,
    "start_time": "2022-10-10T20:47:52.571Z"
   },
   {
    "duration": 214,
    "start_time": "2022-10-10T20:47:54.029Z"
   },
   {
    "duration": 15,
    "start_time": "2022-10-10T20:47:57.938Z"
   },
   {
    "duration": 14,
    "start_time": "2022-10-10T20:47:58.972Z"
   },
   {
    "duration": 352,
    "start_time": "2022-10-10T20:48:00.043Z"
   },
   {
    "duration": 3,
    "start_time": "2022-10-10T20:48:40.140Z"
   },
   {
    "duration": 15,
    "start_time": "2022-10-10T20:51:56.161Z"
   },
   {
    "duration": 143,
    "start_time": "2022-10-10T20:51:57.355Z"
   },
   {
    "duration": 30,
    "start_time": "2022-10-10T21:04:09.730Z"
   },
   {
    "duration": 10,
    "start_time": "2022-10-10T21:04:10.619Z"
   },
   {
    "duration": 17,
    "start_time": "2022-10-10T21:06:24.131Z"
   },
   {
    "duration": 83,
    "start_time": "2022-10-10T21:18:53.010Z"
   },
   {
    "duration": 160,
    "start_time": "2022-10-10T21:19:48.158Z"
   },
   {
    "duration": 1267,
    "start_time": "2022-10-10T21:20:04.444Z"
   },
   {
    "duration": 54,
    "start_time": "2022-10-10T21:20:05.713Z"
   },
   {
    "duration": 46,
    "start_time": "2022-10-10T21:20:05.769Z"
   },
   {
    "duration": 27,
    "start_time": "2022-10-10T21:20:05.816Z"
   },
   {
    "duration": 4,
    "start_time": "2022-10-10T21:20:05.846Z"
   },
   {
    "duration": 19,
    "start_time": "2022-10-10T21:20:05.852Z"
   },
   {
    "duration": 25,
    "start_time": "2022-10-10T21:20:05.873Z"
   },
   {
    "duration": 14,
    "start_time": "2022-10-10T21:20:05.900Z"
   },
   {
    "duration": 19,
    "start_time": "2022-10-10T21:20:05.916Z"
   },
   {
    "duration": 73,
    "start_time": "2022-10-10T21:20:05.936Z"
   },
   {
    "duration": 6,
    "start_time": "2022-10-10T21:20:06.011Z"
   },
   {
    "duration": 5,
    "start_time": "2022-10-10T21:20:06.019Z"
   },
   {
    "duration": 11,
    "start_time": "2022-10-10T21:20:06.026Z"
   },
   {
    "duration": 15,
    "start_time": "2022-10-10T21:20:06.040Z"
   },
   {
    "duration": 376,
    "start_time": "2022-10-10T21:20:06.057Z"
   },
   {
    "duration": 92,
    "start_time": "2022-10-10T21:20:06.435Z"
   },
   {
    "duration": 23,
    "start_time": "2022-10-10T21:20:06.528Z"
   },
   {
    "duration": 7,
    "start_time": "2022-10-10T21:20:06.553Z"
   },
   {
    "duration": 1986,
    "start_time": "2022-10-10T21:20:06.563Z"
   },
   {
    "duration": 18,
    "start_time": "2022-10-10T21:20:08.550Z"
   },
   {
    "duration": 34,
    "start_time": "2022-10-10T21:20:08.570Z"
   },
   {
    "duration": 4555,
    "start_time": "2022-10-10T21:20:08.606Z"
   },
   {
    "duration": 256,
    "start_time": "2022-10-10T21:20:13.163Z"
   },
   {
    "duration": 149,
    "start_time": "2022-10-10T21:20:13.421Z"
   },
   {
    "duration": 23,
    "start_time": "2022-10-10T21:20:13.572Z"
   },
   {
    "duration": 13,
    "start_time": "2022-10-10T21:20:13.598Z"
   },
   {
    "duration": 6,
    "start_time": "2022-10-10T21:20:13.612Z"
   },
   {
    "duration": 176,
    "start_time": "2022-10-10T21:20:13.620Z"
   },
   {
    "duration": 161,
    "start_time": "2022-10-10T21:20:13.798Z"
   },
   {
    "duration": 4,
    "start_time": "2022-10-10T21:20:13.961Z"
   },
   {
    "duration": 154,
    "start_time": "2022-10-10T21:20:13.966Z"
   },
   {
    "duration": 3,
    "start_time": "2022-10-10T21:20:14.122Z"
   },
   {
    "duration": 199,
    "start_time": "2022-10-10T21:20:14.127Z"
   },
   {
    "duration": 263,
    "start_time": "2022-10-10T21:20:14.328Z"
   },
   {
    "duration": 200,
    "start_time": "2022-10-10T21:20:14.595Z"
   },
   {
    "duration": 186,
    "start_time": "2022-10-10T21:20:14.796Z"
   },
   {
    "duration": 180,
    "start_time": "2022-10-10T21:20:14.984Z"
   },
   {
    "duration": 201,
    "start_time": "2022-10-10T21:20:15.166Z"
   },
   {
    "duration": 207,
    "start_time": "2022-10-10T21:20:15.368Z"
   },
   {
    "duration": 217,
    "start_time": "2022-10-10T21:20:15.578Z"
   },
   {
    "duration": 182,
    "start_time": "2022-10-10T21:20:15.799Z"
   },
   {
    "duration": 6,
    "start_time": "2022-10-10T21:20:15.983Z"
   },
   {
    "duration": 14,
    "start_time": "2022-10-10T21:20:15.990Z"
   },
   {
    "duration": 10,
    "start_time": "2022-10-10T21:20:16.005Z"
   },
   {
    "duration": 165,
    "start_time": "2022-10-10T21:20:16.017Z"
   },
   {
    "duration": 20,
    "start_time": "2022-10-10T21:20:16.183Z"
   },
   {
    "duration": 9,
    "start_time": "2022-10-10T21:20:16.205Z"
   },
   {
    "duration": 237,
    "start_time": "2022-10-10T21:20:16.216Z"
   },
   {
    "duration": 17,
    "start_time": "2022-10-10T21:20:16.455Z"
   },
   {
    "duration": 35,
    "start_time": "2022-10-10T21:20:16.474Z"
   },
   {
    "duration": 73,
    "start_time": "2022-10-10T21:21:44.311Z"
   },
   {
    "duration": 79,
    "start_time": "2022-10-10T21:21:52.908Z"
   },
   {
    "duration": 11,
    "start_time": "2022-10-10T21:22:44.238Z"
   },
   {
    "duration": 139,
    "start_time": "2022-10-10T21:22:47.251Z"
   },
   {
    "duration": 17,
    "start_time": "2022-10-10T21:23:00.447Z"
   },
   {
    "duration": 14,
    "start_time": "2022-10-10T21:23:02.015Z"
   },
   {
    "duration": 1094,
    "start_time": "2022-10-10T21:47:20.028Z"
   },
   {
    "duration": 49,
    "start_time": "2022-10-10T21:47:21.124Z"
   },
   {
    "duration": 42,
    "start_time": "2022-10-10T21:47:21.175Z"
   },
   {
    "duration": 25,
    "start_time": "2022-10-10T21:47:21.219Z"
   },
   {
    "duration": 6,
    "start_time": "2022-10-10T21:47:21.246Z"
   },
   {
    "duration": 18,
    "start_time": "2022-10-10T21:47:21.254Z"
   },
   {
    "duration": 6,
    "start_time": "2022-10-10T21:47:21.273Z"
   },
   {
    "duration": 22,
    "start_time": "2022-10-10T21:47:21.280Z"
   },
   {
    "duration": 16,
    "start_time": "2022-10-10T21:47:21.304Z"
   },
   {
    "duration": 52,
    "start_time": "2022-10-10T21:47:21.322Z"
   },
   {
    "duration": 22,
    "start_time": "2022-10-10T21:47:21.375Z"
   },
   {
    "duration": 14,
    "start_time": "2022-10-10T21:47:21.399Z"
   },
   {
    "duration": 12,
    "start_time": "2022-10-10T21:47:21.415Z"
   },
   {
    "duration": 13,
    "start_time": "2022-10-10T21:47:21.429Z"
   },
   {
    "duration": 335,
    "start_time": "2022-10-10T21:47:21.444Z"
   },
   {
    "duration": 64,
    "start_time": "2022-10-10T21:47:21.782Z"
   },
   {
    "duration": 18,
    "start_time": "2022-10-10T21:47:21.848Z"
   },
   {
    "duration": 3,
    "start_time": "2022-10-10T21:47:21.867Z"
   },
   {
    "duration": 1813,
    "start_time": "2022-10-10T21:47:21.895Z"
   },
   {
    "duration": 16,
    "start_time": "2022-10-10T21:47:23.709Z"
   },
   {
    "duration": 16,
    "start_time": "2022-10-10T21:47:23.727Z"
   },
   {
    "duration": 4310,
    "start_time": "2022-10-10T21:47:23.745Z"
   },
   {
    "duration": 268,
    "start_time": "2022-10-10T21:47:28.057Z"
   },
   {
    "duration": 146,
    "start_time": "2022-10-10T21:47:28.327Z"
   },
   {
    "duration": 23,
    "start_time": "2022-10-10T21:47:28.475Z"
   },
   {
    "duration": 11,
    "start_time": "2022-10-10T21:47:28.500Z"
   },
   {
    "duration": 6,
    "start_time": "2022-10-10T21:47:28.513Z"
   },
   {
    "duration": 208,
    "start_time": "2022-10-10T21:47:28.522Z"
   },
   {
    "duration": 165,
    "start_time": "2022-10-10T21:47:28.732Z"
   },
   {
    "duration": 4,
    "start_time": "2022-10-10T21:47:28.898Z"
   },
   {
    "duration": 70,
    "start_time": "2022-10-10T21:47:28.904Z"
   },
   {
    "duration": 21,
    "start_time": "2022-10-10T21:47:28.976Z"
   },
   {
    "duration": 189,
    "start_time": "2022-10-10T21:47:29.000Z"
   },
   {
    "duration": 262,
    "start_time": "2022-10-10T21:47:29.194Z"
   },
   {
    "duration": 165,
    "start_time": "2022-10-10T21:47:29.458Z"
   },
   {
    "duration": 166,
    "start_time": "2022-10-10T21:47:29.625Z"
   },
   {
    "duration": 158,
    "start_time": "2022-10-10T21:47:29.794Z"
   },
   {
    "duration": 207,
    "start_time": "2022-10-10T21:47:29.953Z"
   },
   {
    "duration": 186,
    "start_time": "2022-10-10T21:47:30.161Z"
   },
   {
    "duration": 197,
    "start_time": "2022-10-10T21:47:30.349Z"
   },
   {
    "duration": 180,
    "start_time": "2022-10-10T21:47:30.548Z"
   },
   {
    "duration": 6,
    "start_time": "2022-10-10T21:47:30.730Z"
   },
   {
    "duration": 19,
    "start_time": "2022-10-10T21:47:30.737Z"
   },
   {
    "duration": 17,
    "start_time": "2022-10-10T21:47:30.758Z"
   },
   {
    "duration": 142,
    "start_time": "2022-10-10T21:47:30.777Z"
   },
   {
    "duration": 13,
    "start_time": "2022-10-10T21:47:30.921Z"
   },
   {
    "duration": 15,
    "start_time": "2022-10-10T21:47:30.936Z"
   },
   {
    "duration": 227,
    "start_time": "2022-10-10T21:47:30.953Z"
   },
   {
    "duration": 26,
    "start_time": "2022-10-10T21:47:31.182Z"
   },
   {
    "duration": 14,
    "start_time": "2022-10-10T21:47:31.210Z"
   },
   {
    "duration": 4,
    "start_time": "2022-10-10T22:24:51.424Z"
   },
   {
    "duration": 12,
    "start_time": "2022-10-10T22:24:56.521Z"
   },
   {
    "duration": 381,
    "start_time": "2022-10-10T22:24:56.959Z"
   },
   {
    "duration": 57,
    "start_time": "2022-10-10T22:25:00.504Z"
   },
   {
    "duration": 14,
    "start_time": "2022-10-10T22:25:01.488Z"
   },
   {
    "duration": 2,
    "start_time": "2022-10-10T22:25:03.010Z"
   },
   {
    "duration": 1772,
    "start_time": "2022-10-10T22:25:04.077Z"
   },
   {
    "duration": 18,
    "start_time": "2022-10-10T22:25:05.851Z"
   },
   {
    "duration": 20,
    "start_time": "2022-10-10T22:25:07.310Z"
   },
   {
    "duration": 1182,
    "start_time": "2022-10-10T22:41:57.699Z"
   },
   {
    "duration": 51,
    "start_time": "2022-10-10T22:41:58.883Z"
   },
   {
    "duration": 43,
    "start_time": "2022-10-10T22:41:58.936Z"
   },
   {
    "duration": 29,
    "start_time": "2022-10-10T22:41:58.981Z"
   },
   {
    "duration": 8,
    "start_time": "2022-10-10T22:41:59.012Z"
   },
   {
    "duration": 24,
    "start_time": "2022-10-10T22:41:59.022Z"
   },
   {
    "duration": 5,
    "start_time": "2022-10-10T22:41:59.048Z"
   },
   {
    "duration": 47,
    "start_time": "2022-10-10T22:41:59.055Z"
   },
   {
    "duration": 18,
    "start_time": "2022-10-10T22:41:59.104Z"
   },
   {
    "duration": 88,
    "start_time": "2022-10-10T22:41:59.125Z"
   },
   {
    "duration": 4,
    "start_time": "2022-10-10T22:41:59.215Z"
   },
   {
    "duration": 11,
    "start_time": "2022-10-10T22:41:59.221Z"
   },
   {
    "duration": 7,
    "start_time": "2022-10-10T22:41:59.234Z"
   },
   {
    "duration": 16,
    "start_time": "2022-10-10T22:41:59.243Z"
   },
   {
    "duration": 340,
    "start_time": "2022-10-10T22:41:59.261Z"
   },
   {
    "duration": 66,
    "start_time": "2022-10-10T22:41:59.603Z"
   },
   {
    "duration": 35,
    "start_time": "2022-10-10T22:41:59.671Z"
   },
   {
    "duration": 5,
    "start_time": "2022-10-10T22:41:59.707Z"
   },
   {
    "duration": 2007,
    "start_time": "2022-10-10T22:41:59.714Z"
   },
   {
    "duration": 22,
    "start_time": "2022-10-10T22:42:01.724Z"
   },
   {
    "duration": 54,
    "start_time": "2022-10-10T22:42:01.748Z"
   },
   {
    "duration": 4502,
    "start_time": "2022-10-10T22:42:01.803Z"
   },
   {
    "duration": 256,
    "start_time": "2022-10-10T22:42:06.308Z"
   },
   {
    "duration": 192,
    "start_time": "2022-10-10T22:42:06.567Z"
   },
   {
    "duration": 17,
    "start_time": "2022-10-10T22:42:06.760Z"
   },
   {
    "duration": 13,
    "start_time": "2022-10-10T22:42:06.795Z"
   },
   {
    "duration": 6,
    "start_time": "2022-10-10T22:42:06.810Z"
   },
   {
    "duration": 186,
    "start_time": "2022-10-10T22:42:06.820Z"
   },
   {
    "duration": 161,
    "start_time": "2022-10-10T22:42:07.007Z"
   },
   {
    "duration": 4,
    "start_time": "2022-10-10T22:42:07.170Z"
   },
   {
    "duration": 78,
    "start_time": "2022-10-10T22:42:07.176Z"
   },
   {
    "duration": 5,
    "start_time": "2022-10-10T22:42:07.256Z"
   },
   {
    "duration": 201,
    "start_time": "2022-10-10T22:42:07.264Z"
   },
   {
    "duration": 259,
    "start_time": "2022-10-10T22:42:07.467Z"
   },
   {
    "duration": 171,
    "start_time": "2022-10-10T22:42:07.728Z"
   },
   {
    "duration": 255,
    "start_time": "2022-10-10T22:42:07.901Z"
   },
   {
    "duration": 158,
    "start_time": "2022-10-10T22:42:08.158Z"
   },
   {
    "duration": 211,
    "start_time": "2022-10-10T22:42:08.318Z"
   },
   {
    "duration": 298,
    "start_time": "2022-10-10T22:42:08.530Z"
   },
   {
    "duration": 245,
    "start_time": "2022-10-10T22:42:08.830Z"
   },
   {
    "duration": 200,
    "start_time": "2022-10-10T22:42:09.078Z"
   },
   {
    "duration": 6,
    "start_time": "2022-10-10T22:42:09.279Z"
   },
   {
    "duration": 10,
    "start_time": "2022-10-10T22:42:09.294Z"
   },
   {
    "duration": 12,
    "start_time": "2022-10-10T22:42:09.306Z"
   },
   {
    "duration": 165,
    "start_time": "2022-10-10T22:42:09.320Z"
   },
   {
    "duration": 17,
    "start_time": "2022-10-10T22:42:09.487Z"
   },
   {
    "duration": 13,
    "start_time": "2022-10-10T22:42:09.505Z"
   },
   {
    "duration": 227,
    "start_time": "2022-10-10T22:42:09.520Z"
   },
   {
    "duration": 17,
    "start_time": "2022-10-10T22:42:09.749Z"
   },
   {
    "duration": 39,
    "start_time": "2022-10-10T22:42:09.768Z"
   },
   {
    "duration": 178,
    "start_time": "2022-10-11T03:49:44.410Z"
   },
   {
    "duration": 272,
    "start_time": "2022-10-11T03:49:52.450Z"
   },
   {
    "duration": 178,
    "start_time": "2022-10-11T03:50:06.117Z"
   },
   {
    "duration": 176,
    "start_time": "2022-10-11T03:50:17.229Z"
   },
   {
    "duration": 173,
    "start_time": "2022-10-11T03:50:30.723Z"
   },
   {
    "duration": 180,
    "start_time": "2022-10-11T03:50:36.509Z"
   },
   {
    "duration": 196,
    "start_time": "2022-10-11T03:50:40.762Z"
   },
   {
    "duration": 95,
    "start_time": "2022-10-11T04:05:11.180Z"
   },
   {
    "duration": 22,
    "start_time": "2022-10-11T04:05:23.174Z"
   },
   {
    "duration": 76,
    "start_time": "2022-10-11T04:05:29.236Z"
   },
   {
    "duration": 21,
    "start_time": "2022-10-11T04:05:35.553Z"
   },
   {
    "duration": 36,
    "start_time": "2022-10-11T04:06:25.617Z"
   },
   {
    "duration": 24,
    "start_time": "2022-10-11T04:08:52.608Z"
   },
   {
    "duration": 341,
    "start_time": "2022-10-11T04:13:27.436Z"
   },
   {
    "duration": 21,
    "start_time": "2022-10-11T04:13:45.593Z"
   },
   {
    "duration": 22,
    "start_time": "2022-10-11T04:15:48.080Z"
   },
   {
    "duration": 16,
    "start_time": "2022-10-11T04:17:15.923Z"
   },
   {
    "duration": 33,
    "start_time": "2022-10-11T04:17:32.137Z"
   },
   {
    "duration": 23,
    "start_time": "2022-10-11T04:18:11.659Z"
   },
   {
    "duration": 2043,
    "start_time": "2022-10-11T04:33:35.029Z"
   },
   {
    "duration": 77,
    "start_time": "2022-10-11T04:34:32.334Z"
   },
   {
    "duration": 2106,
    "start_time": "2022-10-11T04:34:51.250Z"
   },
   {
    "duration": 2086,
    "start_time": "2022-10-11T04:35:00.376Z"
   },
   {
    "duration": 16,
    "start_time": "2022-10-11T04:40:14.299Z"
   },
   {
    "duration": 1150,
    "start_time": "2022-10-11T04:40:42.490Z"
   },
   {
    "duration": 50,
    "start_time": "2022-10-11T04:40:43.642Z"
   },
   {
    "duration": 41,
    "start_time": "2022-10-11T04:40:43.693Z"
   },
   {
    "duration": 25,
    "start_time": "2022-10-11T04:40:43.735Z"
   },
   {
    "duration": 6,
    "start_time": "2022-10-11T04:40:43.762Z"
   },
   {
    "duration": 31,
    "start_time": "2022-10-11T04:40:43.770Z"
   },
   {
    "duration": 5,
    "start_time": "2022-10-11T04:40:43.803Z"
   },
   {
    "duration": 10,
    "start_time": "2022-10-11T04:40:43.809Z"
   },
   {
    "duration": 19,
    "start_time": "2022-10-11T04:40:43.821Z"
   },
   {
    "duration": 75,
    "start_time": "2022-10-11T04:40:43.841Z"
   },
   {
    "duration": 4,
    "start_time": "2022-10-11T04:40:43.918Z"
   },
   {
    "duration": 5,
    "start_time": "2022-10-11T04:40:43.924Z"
   },
   {
    "duration": 9,
    "start_time": "2022-10-11T04:40:43.930Z"
   },
   {
    "duration": 10,
    "start_time": "2022-10-11T04:40:43.942Z"
   },
   {
    "duration": 321,
    "start_time": "2022-10-11T04:40:43.954Z"
   },
   {
    "duration": 65,
    "start_time": "2022-10-11T04:40:44.276Z"
   },
   {
    "duration": 15,
    "start_time": "2022-10-11T04:40:44.342Z"
   },
   {
    "duration": 3,
    "start_time": "2022-10-11T04:40:44.359Z"
   },
   {
    "duration": 1839,
    "start_time": "2022-10-11T04:40:44.364Z"
   },
   {
    "duration": 18,
    "start_time": "2022-10-11T04:40:46.205Z"
   },
   {
    "duration": 15,
    "start_time": "2022-10-11T04:40:46.225Z"
   },
   {
    "duration": 2093,
    "start_time": "2022-10-11T04:40:46.242Z"
   },
   {
    "duration": 319,
    "start_time": "2022-10-11T04:40:48.337Z"
   },
   {
    "duration": 144,
    "start_time": "2022-10-11T04:40:48.657Z"
   },
   {
    "duration": 16,
    "start_time": "2022-10-11T04:40:48.802Z"
   },
   {
    "duration": 10,
    "start_time": "2022-10-11T04:40:48.820Z"
   },
   {
    "duration": 7,
    "start_time": "2022-10-11T04:40:48.832Z"
   },
   {
    "duration": 176,
    "start_time": "2022-10-11T04:40:48.841Z"
   },
   {
    "duration": 155,
    "start_time": "2022-10-11T04:40:49.019Z"
   },
   {
    "duration": 4,
    "start_time": "2022-10-11T04:40:49.176Z"
   },
   {
    "duration": 75,
    "start_time": "2022-10-11T04:40:49.181Z"
   },
   {
    "duration": 4,
    "start_time": "2022-10-11T04:40:49.257Z"
   },
   {
    "duration": 194,
    "start_time": "2022-10-11T04:40:49.262Z"
   },
   {
    "duration": 166,
    "start_time": "2022-10-11T04:40:49.458Z"
   },
   {
    "duration": 173,
    "start_time": "2022-10-11T04:40:49.626Z"
   },
   {
    "duration": 166,
    "start_time": "2022-10-11T04:40:49.800Z"
   },
   {
    "duration": 161,
    "start_time": "2022-10-11T04:40:49.967Z"
   },
   {
    "duration": 191,
    "start_time": "2022-10-11T04:40:50.130Z"
   },
   {
    "duration": 192,
    "start_time": "2022-10-11T04:40:50.322Z"
   },
   {
    "duration": 283,
    "start_time": "2022-10-11T04:40:50.516Z"
   },
   {
    "duration": 182,
    "start_time": "2022-10-11T04:40:50.804Z"
   },
   {
    "duration": 7,
    "start_time": "2022-10-11T04:40:50.994Z"
   },
   {
    "duration": 21,
    "start_time": "2022-10-11T04:40:51.002Z"
   },
   {
    "duration": 11,
    "start_time": "2022-10-11T04:40:51.025Z"
   },
   {
    "duration": 141,
    "start_time": "2022-10-11T04:40:51.038Z"
   },
   {
    "duration": 21,
    "start_time": "2022-10-11T04:40:51.181Z"
   },
   {
    "duration": 8,
    "start_time": "2022-10-11T04:40:51.204Z"
   },
   {
    "duration": 201,
    "start_time": "2022-10-11T04:40:51.214Z"
   },
   {
    "duration": 15,
    "start_time": "2022-10-11T04:40:51.417Z"
   },
   {
    "duration": 26,
    "start_time": "2022-10-11T04:40:51.434Z"
   },
   {
    "duration": 36,
    "start_time": "2022-10-11T04:40:51.462Z"
   },
   {
    "duration": 13,
    "start_time": "2022-10-11T04:40:51.499Z"
   },
   {
    "duration": 174,
    "start_time": "2022-10-11T04:45:25.967Z"
   },
   {
    "duration": 177,
    "start_time": "2022-10-11T04:45:28.061Z"
   },
   {
    "duration": 175,
    "start_time": "2022-10-11T04:45:29.970Z"
   },
   {
    "duration": 175,
    "start_time": "2022-10-11T04:45:31.890Z"
   },
   {
    "duration": 184,
    "start_time": "2022-10-11T04:55:17.068Z"
   },
   {
    "duration": 167,
    "start_time": "2022-10-11T04:55:19.566Z"
   },
   {
    "duration": 169,
    "start_time": "2022-10-11T04:55:21.471Z"
   },
   {
    "duration": 272,
    "start_time": "2022-10-11T04:55:22.975Z"
   },
   {
    "duration": 1135,
    "start_time": "2022-10-11T05:07:47.631Z"
   },
   {
    "duration": 68,
    "start_time": "2022-10-11T05:07:48.768Z"
   },
   {
    "duration": 73,
    "start_time": "2022-10-11T05:07:48.838Z"
   },
   {
    "duration": 25,
    "start_time": "2022-10-11T05:07:48.917Z"
   },
   {
    "duration": 6,
    "start_time": "2022-10-11T05:07:48.945Z"
   },
   {
    "duration": 20,
    "start_time": "2022-10-11T05:07:48.953Z"
   },
   {
    "duration": 32,
    "start_time": "2022-10-11T05:07:48.975Z"
   },
   {
    "duration": 13,
    "start_time": "2022-10-11T05:07:49.010Z"
   },
   {
    "duration": 19,
    "start_time": "2022-10-11T05:07:49.025Z"
   },
   {
    "duration": 88,
    "start_time": "2022-10-11T05:07:49.047Z"
   },
   {
    "duration": 6,
    "start_time": "2022-10-11T05:07:49.137Z"
   },
   {
    "duration": 8,
    "start_time": "2022-10-11T05:07:49.144Z"
   },
   {
    "duration": 10,
    "start_time": "2022-10-11T05:07:49.153Z"
   },
   {
    "duration": 13,
    "start_time": "2022-10-11T05:07:49.164Z"
   },
   {
    "duration": 403,
    "start_time": "2022-10-11T05:07:49.179Z"
   },
   {
    "duration": 79,
    "start_time": "2022-10-11T05:07:49.584Z"
   },
   {
    "duration": 16,
    "start_time": "2022-10-11T05:07:49.665Z"
   },
   {
    "duration": 11,
    "start_time": "2022-10-11T05:07:49.683Z"
   },
   {
    "duration": 1922,
    "start_time": "2022-10-11T05:07:49.699Z"
   },
   {
    "duration": 19,
    "start_time": "2022-10-11T05:07:51.623Z"
   },
   {
    "duration": 15,
    "start_time": "2022-10-11T05:07:51.643Z"
   },
   {
    "duration": 2178,
    "start_time": "2022-10-11T05:07:51.661Z"
   },
   {
    "duration": 361,
    "start_time": "2022-10-11T05:07:53.841Z"
   },
   {
    "duration": 143,
    "start_time": "2022-10-11T05:07:54.205Z"
   },
   {
    "duration": 16,
    "start_time": "2022-10-11T05:07:54.349Z"
   },
   {
    "duration": 10,
    "start_time": "2022-10-11T05:07:54.367Z"
   },
   {
    "duration": 27,
    "start_time": "2022-10-11T05:07:54.379Z"
   },
   {
    "duration": 158,
    "start_time": "2022-10-11T05:07:54.412Z"
   },
   {
    "duration": 167,
    "start_time": "2022-10-11T05:07:54.572Z"
   },
   {
    "duration": 4,
    "start_time": "2022-10-11T05:07:54.740Z"
   },
   {
    "duration": 83,
    "start_time": "2022-10-11T05:07:54.745Z"
   },
   {
    "duration": 4,
    "start_time": "2022-10-11T05:07:54.830Z"
   },
   {
    "duration": 207,
    "start_time": "2022-10-11T05:07:54.836Z"
   },
   {
    "duration": 186,
    "start_time": "2022-10-11T05:07:55.045Z"
   },
   {
    "duration": 194,
    "start_time": "2022-10-11T05:07:55.232Z"
   },
   {
    "duration": 199,
    "start_time": "2022-10-11T05:07:55.428Z"
   },
   {
    "duration": 194,
    "start_time": "2022-10-11T05:07:55.629Z"
   },
   {
    "duration": 211,
    "start_time": "2022-10-11T05:07:55.825Z"
   },
   {
    "duration": 208,
    "start_time": "2022-10-11T05:07:56.038Z"
   },
   {
    "duration": 336,
    "start_time": "2022-10-11T05:07:56.249Z"
   },
   {
    "duration": 281,
    "start_time": "2022-10-11T05:07:56.587Z"
   },
   {
    "duration": 7,
    "start_time": "2022-10-11T05:07:56.870Z"
   },
   {
    "duration": 31,
    "start_time": "2022-10-11T05:07:56.879Z"
   },
   {
    "duration": 11,
    "start_time": "2022-10-11T05:07:56.916Z"
   },
   {
    "duration": 146,
    "start_time": "2022-10-11T05:07:56.928Z"
   },
   {
    "duration": 20,
    "start_time": "2022-10-11T05:07:57.076Z"
   },
   {
    "duration": 16,
    "start_time": "2022-10-11T05:07:57.104Z"
   },
   {
    "duration": 215,
    "start_time": "2022-10-11T05:07:57.121Z"
   },
   {
    "duration": 17,
    "start_time": "2022-10-11T05:07:57.340Z"
   },
   {
    "duration": 57,
    "start_time": "2022-10-11T05:07:57.358Z"
   },
   {
    "duration": 21,
    "start_time": "2022-10-11T05:07:57.416Z"
   },
   {
    "duration": 20,
    "start_time": "2022-10-11T05:07:57.439Z"
   },
   {
    "duration": 1179,
    "start_time": "2022-10-11T05:18:28.172Z"
   },
   {
    "duration": 57,
    "start_time": "2022-10-11T05:18:29.354Z"
   },
   {
    "duration": 44,
    "start_time": "2022-10-11T05:18:29.413Z"
   },
   {
    "duration": 41,
    "start_time": "2022-10-11T05:18:29.459Z"
   },
   {
    "duration": 8,
    "start_time": "2022-10-11T05:18:29.503Z"
   },
   {
    "duration": 21,
    "start_time": "2022-10-11T05:18:29.513Z"
   },
   {
    "duration": 7,
    "start_time": "2022-10-11T05:18:29.535Z"
   },
   {
    "duration": 11,
    "start_time": "2022-10-11T05:18:29.543Z"
   },
   {
    "duration": 23,
    "start_time": "2022-10-11T05:18:29.556Z"
   },
   {
    "duration": 59,
    "start_time": "2022-10-11T05:18:29.601Z"
   },
   {
    "duration": 4,
    "start_time": "2022-10-11T05:18:29.662Z"
   },
   {
    "duration": 11,
    "start_time": "2022-10-11T05:18:29.667Z"
   },
   {
    "duration": 6,
    "start_time": "2022-10-11T05:18:29.679Z"
   },
   {
    "duration": 21,
    "start_time": "2022-10-11T05:18:29.688Z"
   },
   {
    "duration": 330,
    "start_time": "2022-10-11T05:18:29.712Z"
   },
   {
    "duration": 77,
    "start_time": "2022-10-11T05:18:30.043Z"
   },
   {
    "duration": 15,
    "start_time": "2022-10-11T05:18:30.121Z"
   },
   {
    "duration": 13,
    "start_time": "2022-10-11T05:18:30.138Z"
   },
   {
    "duration": 2038,
    "start_time": "2022-10-11T05:18:30.152Z"
   },
   {
    "duration": 21,
    "start_time": "2022-10-11T05:18:32.194Z"
   },
   {
    "duration": 23,
    "start_time": "2022-10-11T05:18:32.217Z"
   },
   {
    "duration": 2311,
    "start_time": "2022-10-11T05:18:32.242Z"
   },
   {
    "duration": 342,
    "start_time": "2022-10-11T05:18:34.554Z"
   },
   {
    "duration": 149,
    "start_time": "2022-10-11T05:18:34.897Z"
   },
   {
    "duration": 15,
    "start_time": "2022-10-11T05:18:35.048Z"
   },
   {
    "duration": 39,
    "start_time": "2022-10-11T05:18:35.064Z"
   },
   {
    "duration": 34,
    "start_time": "2022-10-11T05:18:35.104Z"
   },
   {
    "duration": 178,
    "start_time": "2022-10-11T05:18:35.140Z"
   },
   {
    "duration": 164,
    "start_time": "2022-10-11T05:18:35.320Z"
   },
   {
    "duration": 4,
    "start_time": "2022-10-11T05:18:35.485Z"
   },
   {
    "duration": 85,
    "start_time": "2022-10-11T05:18:35.496Z"
   },
   {
    "duration": 4,
    "start_time": "2022-10-11T05:18:35.583Z"
   },
   {
    "duration": 229,
    "start_time": "2022-10-11T05:18:35.589Z"
   },
   {
    "duration": 189,
    "start_time": "2022-10-11T05:18:35.820Z"
   },
   {
    "duration": 174,
    "start_time": "2022-10-11T05:18:36.011Z"
   },
   {
    "duration": 174,
    "start_time": "2022-10-11T05:18:36.186Z"
   },
   {
    "duration": 177,
    "start_time": "2022-10-11T05:18:36.362Z"
   },
   {
    "duration": 244,
    "start_time": "2022-10-11T05:18:36.542Z"
   },
   {
    "duration": 235,
    "start_time": "2022-10-11T05:18:36.788Z"
   },
   {
    "duration": 303,
    "start_time": "2022-10-11T05:18:37.025Z"
   },
   {
    "duration": 214,
    "start_time": "2022-10-11T05:18:37.332Z"
   },
   {
    "duration": 6,
    "start_time": "2022-10-11T05:18:37.548Z"
   },
   {
    "duration": 15,
    "start_time": "2022-10-11T05:18:37.556Z"
   },
   {
    "duration": 29,
    "start_time": "2022-10-11T05:18:37.573Z"
   },
   {
    "duration": 151,
    "start_time": "2022-10-11T05:18:37.606Z"
   },
   {
    "duration": 15,
    "start_time": "2022-10-11T05:18:37.759Z"
   },
   {
    "duration": 34,
    "start_time": "2022-10-11T05:18:37.776Z"
   },
   {
    "duration": 228,
    "start_time": "2022-10-11T05:18:37.813Z"
   },
   {
    "duration": 21,
    "start_time": "2022-10-11T05:18:38.044Z"
   },
   {
    "duration": 46,
    "start_time": "2022-10-11T05:18:38.066Z"
   },
   {
    "duration": 20,
    "start_time": "2022-10-11T05:18:38.113Z"
   },
   {
    "duration": 18,
    "start_time": "2022-10-11T05:18:38.135Z"
   },
   {
    "duration": 95,
    "start_time": "2022-10-11T05:50:28.404Z"
   },
   {
    "duration": 14,
    "start_time": "2022-10-11T05:50:32.730Z"
   },
   {
    "duration": 10,
    "start_time": "2022-10-11T05:50:34.511Z"
   },
   {
    "duration": 1682,
    "start_time": "2022-10-11T05:50:57.360Z"
   },
   {
    "duration": 130,
    "start_time": "2022-10-11T05:51:24.023Z"
   },
   {
    "duration": 74,
    "start_time": "2022-10-11T05:51:30.637Z"
   },
   {
    "duration": 10,
    "start_time": "2022-10-11T05:51:49.306Z"
   },
   {
    "duration": 1914,
    "start_time": "2022-10-11T05:52:34.397Z"
   },
   {
    "duration": 1810,
    "start_time": "2022-10-11T05:52:54.439Z"
   },
   {
    "duration": 2784,
    "start_time": "2022-10-11T05:53:05.890Z"
   },
   {
    "duration": 1035,
    "start_time": "2022-10-11T05:58:03.641Z"
   },
   {
    "duration": 49,
    "start_time": "2022-10-11T05:58:04.678Z"
   },
   {
    "duration": 40,
    "start_time": "2022-10-11T05:58:04.729Z"
   },
   {
    "duration": 30,
    "start_time": "2022-10-11T05:58:04.771Z"
   },
   {
    "duration": 14,
    "start_time": "2022-10-11T05:58:04.802Z"
   },
   {
    "duration": 24,
    "start_time": "2022-10-11T05:58:04.818Z"
   },
   {
    "duration": 5,
    "start_time": "2022-10-11T05:58:04.844Z"
   },
   {
    "duration": 14,
    "start_time": "2022-10-11T05:58:04.850Z"
   },
   {
    "duration": 20,
    "start_time": "2022-10-11T05:58:04.866Z"
   },
   {
    "duration": 49,
    "start_time": "2022-10-11T05:58:04.887Z"
   },
   {
    "duration": 4,
    "start_time": "2022-10-11T05:58:04.938Z"
   },
   {
    "duration": 11,
    "start_time": "2022-10-11T05:58:04.944Z"
   },
   {
    "duration": 8,
    "start_time": "2022-10-11T05:58:04.957Z"
   },
   {
    "duration": 10,
    "start_time": "2022-10-11T05:58:04.967Z"
   },
   {
    "duration": 343,
    "start_time": "2022-10-11T05:58:04.978Z"
   },
   {
    "duration": 62,
    "start_time": "2022-10-11T05:58:05.322Z"
   },
   {
    "duration": 23,
    "start_time": "2022-10-11T05:58:05.385Z"
   },
   {
    "duration": 3,
    "start_time": "2022-10-11T05:58:05.409Z"
   },
   {
    "duration": 1908,
    "start_time": "2022-10-11T05:58:05.413Z"
   },
   {
    "duration": 18,
    "start_time": "2022-10-11T05:58:07.324Z"
   },
   {
    "duration": 15,
    "start_time": "2022-10-11T05:58:07.344Z"
   },
   {
    "duration": 1951,
    "start_time": "2022-10-11T05:58:07.361Z"
   },
   {
    "duration": 310,
    "start_time": "2022-10-11T05:58:09.314Z"
   },
   {
    "duration": 152,
    "start_time": "2022-10-11T05:58:09.625Z"
   },
   {
    "duration": 25,
    "start_time": "2022-10-11T05:58:09.779Z"
   },
   {
    "duration": 12,
    "start_time": "2022-10-11T05:58:09.805Z"
   },
   {
    "duration": 6,
    "start_time": "2022-10-11T05:58:09.819Z"
   },
   {
    "duration": 166,
    "start_time": "2022-10-11T05:58:09.827Z"
   },
   {
    "duration": 155,
    "start_time": "2022-10-11T05:58:09.995Z"
   },
   {
    "duration": 4,
    "start_time": "2022-10-11T05:58:10.152Z"
   },
   {
    "duration": 74,
    "start_time": "2022-10-11T05:58:10.158Z"
   },
   {
    "duration": 4,
    "start_time": "2022-10-11T05:58:10.234Z"
   },
   {
    "duration": 187,
    "start_time": "2022-10-11T05:58:10.240Z"
   },
   {
    "duration": 166,
    "start_time": "2022-10-11T05:58:10.429Z"
   },
   {
    "duration": 161,
    "start_time": "2022-10-11T05:58:10.597Z"
   },
   {
    "duration": 169,
    "start_time": "2022-10-11T05:58:10.760Z"
   },
   {
    "duration": 155,
    "start_time": "2022-10-11T05:58:10.931Z"
   },
   {
    "duration": 178,
    "start_time": "2022-10-11T05:58:11.088Z"
   },
   {
    "duration": 176,
    "start_time": "2022-10-11T05:58:11.267Z"
   },
   {
    "duration": 276,
    "start_time": "2022-10-11T05:58:11.444Z"
   },
   {
    "duration": 189,
    "start_time": "2022-10-11T05:58:11.723Z"
   },
   {
    "duration": 6,
    "start_time": "2022-10-11T05:58:11.913Z"
   },
   {
    "duration": 13,
    "start_time": "2022-10-11T05:58:11.920Z"
   },
   {
    "duration": 8,
    "start_time": "2022-10-11T05:58:11.934Z"
   },
   {
    "duration": 144,
    "start_time": "2022-10-11T05:58:11.944Z"
   },
   {
    "duration": 16,
    "start_time": "2022-10-11T05:58:12.089Z"
   },
   {
    "duration": 9,
    "start_time": "2022-10-11T05:58:12.106Z"
   },
   {
    "duration": 201,
    "start_time": "2022-10-11T05:58:12.116Z"
   },
   {
    "duration": 13,
    "start_time": "2022-10-11T05:58:12.318Z"
   },
   {
    "duration": 1076,
    "start_time": "2022-10-11T05:59:32.789Z"
   },
   {
    "duration": 49,
    "start_time": "2022-10-11T05:59:33.867Z"
   },
   {
    "duration": 40,
    "start_time": "2022-10-11T05:59:33.918Z"
   },
   {
    "duration": 37,
    "start_time": "2022-10-11T05:59:33.959Z"
   },
   {
    "duration": 6,
    "start_time": "2022-10-11T05:59:33.998Z"
   },
   {
    "duration": 16,
    "start_time": "2022-10-11T05:59:34.005Z"
   },
   {
    "duration": 4,
    "start_time": "2022-10-11T05:59:34.022Z"
   },
   {
    "duration": 10,
    "start_time": "2022-10-11T05:59:34.028Z"
   },
   {
    "duration": 21,
    "start_time": "2022-10-11T05:59:34.039Z"
   },
   {
    "duration": 83,
    "start_time": "2022-10-11T05:59:34.062Z"
   },
   {
    "duration": 4,
    "start_time": "2022-10-11T05:59:34.146Z"
   },
   {
    "duration": 7,
    "start_time": "2022-10-11T05:59:34.152Z"
   },
   {
    "duration": 6,
    "start_time": "2022-10-11T05:59:34.160Z"
   },
   {
    "duration": 12,
    "start_time": "2022-10-11T05:59:34.168Z"
   },
   {
    "duration": 304,
    "start_time": "2022-10-11T05:59:34.182Z"
   },
   {
    "duration": 60,
    "start_time": "2022-10-11T05:59:34.494Z"
   },
   {
    "duration": 14,
    "start_time": "2022-10-11T05:59:34.556Z"
   },
   {
    "duration": 3,
    "start_time": "2022-10-11T05:59:34.571Z"
   },
   {
    "duration": 1723,
    "start_time": "2022-10-11T05:59:34.575Z"
   },
   {
    "duration": 14,
    "start_time": "2022-10-11T05:59:36.300Z"
   },
   {
    "duration": 13,
    "start_time": "2022-10-11T05:59:36.316Z"
   },
   {
    "duration": 1943,
    "start_time": "2022-10-11T05:59:36.331Z"
   },
   {
    "duration": 305,
    "start_time": "2022-10-11T05:59:38.276Z"
   },
   {
    "duration": 133,
    "start_time": "2022-10-11T05:59:38.583Z"
   },
   {
    "duration": 14,
    "start_time": "2022-10-11T05:59:38.718Z"
   },
   {
    "duration": 10,
    "start_time": "2022-10-11T05:59:38.733Z"
   },
   {
    "duration": 5,
    "start_time": "2022-10-11T05:59:38.745Z"
   },
   {
    "duration": 166,
    "start_time": "2022-10-11T05:59:38.753Z"
   },
   {
    "duration": 143,
    "start_time": "2022-10-11T05:59:38.921Z"
   },
   {
    "duration": 3,
    "start_time": "2022-10-11T05:59:39.065Z"
   },
   {
    "duration": 72,
    "start_time": "2022-10-11T05:59:39.070Z"
   },
   {
    "duration": 4,
    "start_time": "2022-10-11T05:59:39.144Z"
   },
   {
    "duration": 192,
    "start_time": "2022-10-11T05:59:39.149Z"
   },
   {
    "duration": 162,
    "start_time": "2022-10-11T05:59:39.343Z"
   },
   {
    "duration": 180,
    "start_time": "2022-10-11T05:59:39.507Z"
   },
   {
    "duration": 150,
    "start_time": "2022-10-11T05:59:39.688Z"
   },
   {
    "duration": 154,
    "start_time": "2022-10-11T05:59:39.840Z"
   },
   {
    "duration": 186,
    "start_time": "2022-10-11T05:59:39.995Z"
   },
   {
    "duration": 196,
    "start_time": "2022-10-11T05:59:40.183Z"
   },
   {
    "duration": 272,
    "start_time": "2022-10-11T05:59:40.381Z"
   },
   {
    "duration": 187,
    "start_time": "2022-10-11T05:59:40.655Z"
   },
   {
    "duration": 5,
    "start_time": "2022-10-11T05:59:40.844Z"
   },
   {
    "duration": 17,
    "start_time": "2022-10-11T05:59:40.850Z"
   },
   {
    "duration": 8,
    "start_time": "2022-10-11T05:59:40.869Z"
   },
   {
    "duration": 137,
    "start_time": "2022-10-11T05:59:40.878Z"
   },
   {
    "duration": 12,
    "start_time": "2022-10-11T05:59:41.017Z"
   },
   {
    "duration": 8,
    "start_time": "2022-10-11T05:59:41.031Z"
   },
   {
    "duration": 197,
    "start_time": "2022-10-11T05:59:41.040Z"
   },
   {
    "duration": 12,
    "start_time": "2022-10-11T05:59:41.239Z"
   },
   {
    "duration": 17,
    "start_time": "2022-10-11T05:59:41.252Z"
   },
   {
    "duration": 46,
    "start_time": "2022-10-11T06:07:49.086Z"
   },
   {
    "duration": 6,
    "start_time": "2022-10-11T06:07:53.783Z"
   },
   {
    "duration": 6,
    "start_time": "2022-10-11T06:07:55.295Z"
   },
   {
    "duration": 7,
    "start_time": "2022-10-11T06:08:11.640Z"
   },
   {
    "duration": 1159,
    "start_time": "2022-10-11T06:08:27.232Z"
   },
   {
    "duration": 51,
    "start_time": "2022-10-11T06:08:28.393Z"
   },
   {
    "duration": 43,
    "start_time": "2022-10-11T06:08:28.446Z"
   },
   {
    "duration": 29,
    "start_time": "2022-10-11T06:08:28.492Z"
   },
   {
    "duration": 5,
    "start_time": "2022-10-11T06:08:28.522Z"
   },
   {
    "duration": 16,
    "start_time": "2022-10-11T06:08:28.528Z"
   },
   {
    "duration": 5,
    "start_time": "2022-10-11T06:08:28.546Z"
   },
   {
    "duration": 12,
    "start_time": "2022-10-11T06:08:28.552Z"
   },
   {
    "duration": 41,
    "start_time": "2022-10-11T06:08:28.566Z"
   },
   {
    "duration": 52,
    "start_time": "2022-10-11T06:08:28.609Z"
   },
   {
    "duration": 5,
    "start_time": "2022-10-11T06:08:28.662Z"
   },
   {
    "duration": 5,
    "start_time": "2022-10-11T06:08:28.669Z"
   },
   {
    "duration": 24,
    "start_time": "2022-10-11T06:08:28.675Z"
   },
   {
    "duration": 17,
    "start_time": "2022-10-11T06:08:28.701Z"
   },
   {
    "duration": 329,
    "start_time": "2022-10-11T06:08:28.720Z"
   },
   {
    "duration": 72,
    "start_time": "2022-10-11T06:08:29.051Z"
   },
   {
    "duration": 15,
    "start_time": "2022-10-11T06:08:29.124Z"
   },
   {
    "duration": 2,
    "start_time": "2022-10-11T06:08:29.140Z"
   },
   {
    "duration": 1781,
    "start_time": "2022-10-11T06:08:29.144Z"
   },
   {
    "duration": 18,
    "start_time": "2022-10-11T06:08:30.926Z"
   },
   {
    "duration": 14,
    "start_time": "2022-10-11T06:08:30.946Z"
   },
   {
    "duration": 1939,
    "start_time": "2022-10-11T06:08:30.961Z"
   },
   {
    "duration": 315,
    "start_time": "2022-10-11T06:08:32.902Z"
   },
   {
    "duration": 141,
    "start_time": "2022-10-11T06:08:33.219Z"
   },
   {
    "duration": 15,
    "start_time": "2022-10-11T06:08:33.362Z"
   },
   {
    "duration": 25,
    "start_time": "2022-10-11T06:08:33.379Z"
   },
   {
    "duration": 6,
    "start_time": "2022-10-11T06:08:33.406Z"
   },
   {
    "duration": 159,
    "start_time": "2022-10-11T06:08:33.415Z"
   },
   {
    "duration": 148,
    "start_time": "2022-10-11T06:08:33.576Z"
   },
   {
    "duration": 4,
    "start_time": "2022-10-11T06:08:33.725Z"
   },
   {
    "duration": 76,
    "start_time": "2022-10-11T06:08:33.731Z"
   },
   {
    "duration": 5,
    "start_time": "2022-10-11T06:08:33.809Z"
   },
   {
    "duration": 194,
    "start_time": "2022-10-11T06:08:33.816Z"
   },
   {
    "duration": 174,
    "start_time": "2022-10-11T06:08:34.012Z"
   },
   {
    "duration": 182,
    "start_time": "2022-10-11T06:08:34.188Z"
   },
   {
    "duration": 162,
    "start_time": "2022-10-11T06:08:34.372Z"
   },
   {
    "duration": 161,
    "start_time": "2022-10-11T06:08:34.536Z"
   },
   {
    "duration": 188,
    "start_time": "2022-10-11T06:08:34.698Z"
   },
   {
    "duration": 197,
    "start_time": "2022-10-11T06:08:34.887Z"
   },
   {
    "duration": 296,
    "start_time": "2022-10-11T06:08:35.086Z"
   },
   {
    "duration": 189,
    "start_time": "2022-10-11T06:08:35.384Z"
   },
   {
    "duration": 6,
    "start_time": "2022-10-11T06:08:35.575Z"
   },
   {
    "duration": 9,
    "start_time": "2022-10-11T06:08:35.594Z"
   },
   {
    "duration": 28,
    "start_time": "2022-10-11T06:08:35.604Z"
   },
   {
    "duration": 137,
    "start_time": "2022-10-11T06:08:35.633Z"
   },
   {
    "duration": 13,
    "start_time": "2022-10-11T06:08:35.772Z"
   },
   {
    "duration": 15,
    "start_time": "2022-10-11T06:08:35.786Z"
   },
   {
    "duration": 201,
    "start_time": "2022-10-11T06:08:35.803Z"
   },
   {
    "duration": 14,
    "start_time": "2022-10-11T06:08:36.006Z"
   },
   {
    "duration": 18,
    "start_time": "2022-10-11T06:08:36.022Z"
   },
   {
    "duration": 19,
    "start_time": "2022-10-11T06:08:36.041Z"
   },
   {
    "duration": 41,
    "start_time": "2022-10-11T06:08:36.062Z"
   },
   {
    "duration": 115,
    "start_time": "2022-10-11T06:34:46.612Z"
   },
   {
    "duration": 10,
    "start_time": "2022-10-11T06:34:58.616Z"
   },
   {
    "duration": 1408,
    "start_time": "2022-10-11T06:35:06.102Z"
   },
   {
    "duration": 9,
    "start_time": "2022-10-11T06:36:38.890Z"
   },
   {
    "duration": 350,
    "start_time": "2022-10-11T06:36:46.527Z"
   },
   {
    "duration": 407,
    "start_time": "2022-10-11T06:37:02.761Z"
   },
   {
    "duration": 4,
    "start_time": "2022-10-11T06:42:33.901Z"
   },
   {
    "duration": 17,
    "start_time": "2022-10-11T06:42:35.850Z"
   },
   {
    "duration": 5,
    "start_time": "2022-10-11T07:23:11.677Z"
   },
   {
    "duration": 19,
    "start_time": "2022-10-11T07:23:12.461Z"
   },
   {
    "duration": 14,
    "start_time": "2022-10-11T07:23:45.612Z"
   },
   {
    "duration": 5,
    "start_time": "2022-10-11T07:23:46.352Z"
   },
   {
    "duration": 16,
    "start_time": "2022-10-11T07:23:46.905Z"
   },
   {
    "duration": 13,
    "start_time": "2022-10-11T07:24:39.184Z"
   },
   {
    "duration": 4,
    "start_time": "2022-10-11T07:24:40.247Z"
   },
   {
    "duration": 10,
    "start_time": "2022-10-11T07:24:40.735Z"
   },
   {
    "duration": 4,
    "start_time": "2022-10-11T07:25:18.343Z"
   },
   {
    "duration": 9,
    "start_time": "2022-10-11T07:25:18.985Z"
   },
   {
    "duration": 1127,
    "start_time": "2022-10-11T07:25:33.160Z"
   },
   {
    "duration": 51,
    "start_time": "2022-10-11T07:25:34.289Z"
   },
   {
    "duration": 44,
    "start_time": "2022-10-11T07:25:34.341Z"
   },
   {
    "duration": 35,
    "start_time": "2022-10-11T07:25:34.387Z"
   },
   {
    "duration": 7,
    "start_time": "2022-10-11T07:25:34.424Z"
   },
   {
    "duration": 18,
    "start_time": "2022-10-11T07:25:34.432Z"
   },
   {
    "duration": 5,
    "start_time": "2022-10-11T07:25:34.452Z"
   },
   {
    "duration": 10,
    "start_time": "2022-10-11T07:25:34.458Z"
   },
   {
    "duration": 32,
    "start_time": "2022-10-11T07:25:34.470Z"
   },
   {
    "duration": 51,
    "start_time": "2022-10-11T07:25:34.504Z"
   },
   {
    "duration": 5,
    "start_time": "2022-10-11T07:25:34.557Z"
   },
   {
    "duration": 13,
    "start_time": "2022-10-11T07:25:34.563Z"
   },
   {
    "duration": 18,
    "start_time": "2022-10-11T07:25:34.577Z"
   },
   {
    "duration": 15,
    "start_time": "2022-10-11T07:25:34.599Z"
   },
   {
    "duration": 324,
    "start_time": "2022-10-11T07:25:34.616Z"
   },
   {
    "duration": 71,
    "start_time": "2022-10-11T07:25:34.942Z"
   },
   {
    "duration": 21,
    "start_time": "2022-10-11T07:25:35.014Z"
   },
   {
    "duration": 3,
    "start_time": "2022-10-11T07:25:35.037Z"
   },
   {
    "duration": 1962,
    "start_time": "2022-10-11T07:25:35.041Z"
   },
   {
    "duration": 18,
    "start_time": "2022-10-11T07:25:37.006Z"
   },
   {
    "duration": 23,
    "start_time": "2022-10-11T07:25:37.026Z"
   },
   {
    "duration": 2044,
    "start_time": "2022-10-11T07:25:37.051Z"
   },
   {
    "duration": 347,
    "start_time": "2022-10-11T07:25:39.097Z"
   },
   {
    "duration": 150,
    "start_time": "2022-10-11T07:25:39.445Z"
   },
   {
    "duration": 16,
    "start_time": "2022-10-11T07:25:39.596Z"
   },
   {
    "duration": 13,
    "start_time": "2022-10-11T07:25:39.614Z"
   },
   {
    "duration": 14,
    "start_time": "2022-10-11T07:25:39.628Z"
   },
   {
    "duration": 160,
    "start_time": "2022-10-11T07:25:39.644Z"
   },
   {
    "duration": 158,
    "start_time": "2022-10-11T07:25:39.806Z"
   },
   {
    "duration": 4,
    "start_time": "2022-10-11T07:25:39.965Z"
   },
   {
    "duration": 75,
    "start_time": "2022-10-11T07:25:39.971Z"
   },
   {
    "duration": 4,
    "start_time": "2022-10-11T07:25:40.049Z"
   },
   {
    "duration": 198,
    "start_time": "2022-10-11T07:25:40.055Z"
   },
   {
    "duration": 163,
    "start_time": "2022-10-11T07:25:40.255Z"
   },
   {
    "duration": 161,
    "start_time": "2022-10-11T07:25:40.420Z"
   },
   {
    "duration": 161,
    "start_time": "2022-10-11T07:25:40.582Z"
   },
   {
    "duration": 170,
    "start_time": "2022-10-11T07:25:40.745Z"
   },
   {
    "duration": 215,
    "start_time": "2022-10-11T07:25:40.916Z"
   },
   {
    "duration": 189,
    "start_time": "2022-10-11T07:25:41.132Z"
   },
   {
    "duration": 304,
    "start_time": "2022-10-11T07:25:41.323Z"
   },
   {
    "duration": 212,
    "start_time": "2022-10-11T07:25:41.631Z"
   },
   {
    "duration": 5,
    "start_time": "2022-10-11T07:25:41.845Z"
   },
   {
    "duration": 19,
    "start_time": "2022-10-11T07:25:41.852Z"
   },
   {
    "duration": 13,
    "start_time": "2022-10-11T07:25:41.872Z"
   },
   {
    "duration": 156,
    "start_time": "2022-10-11T07:25:41.895Z"
   },
   {
    "duration": 12,
    "start_time": "2022-10-11T07:25:42.053Z"
   },
   {
    "duration": 9,
    "start_time": "2022-10-11T07:25:42.067Z"
   },
   {
    "duration": 208,
    "start_time": "2022-10-11T07:25:42.077Z"
   },
   {
    "duration": 18,
    "start_time": "2022-10-11T07:25:42.286Z"
   },
   {
    "duration": 5,
    "start_time": "2022-10-11T07:25:42.306Z"
   },
   {
    "duration": 12,
    "start_time": "2022-10-11T07:25:42.313Z"
   },
   {
    "duration": 16,
    "start_time": "2022-10-11T07:25:42.327Z"
   },
   {
    "duration": 13,
    "start_time": "2022-10-11T07:25:42.345Z"
   },
   {
    "duration": 11,
    "start_time": "2022-10-11T07:25:51.347Z"
   },
   {
    "duration": 4,
    "start_time": "2022-10-11T07:25:51.912Z"
   },
   {
    "duration": 9,
    "start_time": "2022-10-11T07:25:52.762Z"
   },
   {
    "duration": 1423,
    "start_time": "2022-10-11T07:57:48.468Z"
   },
   {
    "duration": 1185,
    "start_time": "2022-10-11T07:58:20.397Z"
   },
   {
    "duration": 1109,
    "start_time": "2022-10-11T07:59:45.357Z"
   },
   {
    "duration": 55,
    "start_time": "2022-10-11T07:59:46.468Z"
   },
   {
    "duration": 55,
    "start_time": "2022-10-11T07:59:46.525Z"
   },
   {
    "duration": 45,
    "start_time": "2022-10-11T07:59:46.582Z"
   },
   {
    "duration": 17,
    "start_time": "2022-10-11T07:59:46.629Z"
   },
   {
    "duration": 23,
    "start_time": "2022-10-11T07:59:46.649Z"
   },
   {
    "duration": 6,
    "start_time": "2022-10-11T07:59:46.674Z"
   },
   {
    "duration": 17,
    "start_time": "2022-10-11T07:59:46.697Z"
   },
   {
    "duration": 17,
    "start_time": "2022-10-11T07:59:46.716Z"
   },
   {
    "duration": 62,
    "start_time": "2022-10-11T07:59:46.734Z"
   },
   {
    "duration": 5,
    "start_time": "2022-10-11T07:59:46.797Z"
   },
   {
    "duration": 8,
    "start_time": "2022-10-11T07:59:46.803Z"
   },
   {
    "duration": 8,
    "start_time": "2022-10-11T07:59:46.812Z"
   },
   {
    "duration": 12,
    "start_time": "2022-10-11T07:59:46.823Z"
   },
   {
    "duration": 313,
    "start_time": "2022-10-11T07:59:46.836Z"
   },
   {
    "duration": 67,
    "start_time": "2022-10-11T07:59:47.151Z"
   },
   {
    "duration": 15,
    "start_time": "2022-10-11T07:59:47.219Z"
   },
   {
    "duration": 2,
    "start_time": "2022-10-11T07:59:47.236Z"
   },
   {
    "duration": 1795,
    "start_time": "2022-10-11T07:59:47.239Z"
   },
   {
    "duration": 16,
    "start_time": "2022-10-11T07:59:49.036Z"
   },
   {
    "duration": 13,
    "start_time": "2022-10-11T07:59:49.053Z"
   },
   {
    "duration": 1885,
    "start_time": "2022-10-11T07:59:49.068Z"
   },
   {
    "duration": 306,
    "start_time": "2022-10-11T07:59:50.955Z"
   },
   {
    "duration": 152,
    "start_time": "2022-10-11T07:59:51.263Z"
   },
   {
    "duration": 16,
    "start_time": "2022-10-11T07:59:51.417Z"
   },
   {
    "duration": 10,
    "start_time": "2022-10-11T07:59:51.435Z"
   },
   {
    "duration": 6,
    "start_time": "2022-10-11T07:59:51.447Z"
   },
   {
    "duration": 177,
    "start_time": "2022-10-11T07:59:51.455Z"
   },
   {
    "duration": 155,
    "start_time": "2022-10-11T07:59:51.634Z"
   },
   {
    "duration": 6,
    "start_time": "2022-10-11T07:59:51.790Z"
   },
   {
    "duration": 67,
    "start_time": "2022-10-11T07:59:51.797Z"
   },
   {
    "duration": 4,
    "start_time": "2022-10-11T07:59:51.865Z"
   },
   {
    "duration": 204,
    "start_time": "2022-10-11T07:59:51.870Z"
   },
   {
    "duration": 169,
    "start_time": "2022-10-11T07:59:52.075Z"
   },
   {
    "duration": 163,
    "start_time": "2022-10-11T07:59:52.246Z"
   },
   {
    "duration": 153,
    "start_time": "2022-10-11T07:59:52.411Z"
   },
   {
    "duration": 160,
    "start_time": "2022-10-11T07:59:52.566Z"
   },
   {
    "duration": 200,
    "start_time": "2022-10-11T07:59:52.728Z"
   },
   {
    "duration": 179,
    "start_time": "2022-10-11T07:59:52.929Z"
   },
   {
    "duration": 276,
    "start_time": "2022-10-11T07:59:53.109Z"
   },
   {
    "duration": 182,
    "start_time": "2022-10-11T07:59:53.394Z"
   },
   {
    "duration": 6,
    "start_time": "2022-10-11T07:59:53.578Z"
   },
   {
    "duration": 17,
    "start_time": "2022-10-11T07:59:53.585Z"
   },
   {
    "duration": 10,
    "start_time": "2022-10-11T07:59:53.603Z"
   },
   {
    "duration": 137,
    "start_time": "2022-10-11T07:59:53.615Z"
   },
   {
    "duration": 13,
    "start_time": "2022-10-11T07:59:53.753Z"
   },
   {
    "duration": 15,
    "start_time": "2022-10-11T07:59:53.767Z"
   },
   {
    "duration": 191,
    "start_time": "2022-10-11T07:59:53.783Z"
   },
   {
    "duration": 19,
    "start_time": "2022-10-11T07:59:53.976Z"
   },
   {
    "duration": 2,
    "start_time": "2022-10-11T07:59:53.997Z"
   },
   {
    "duration": 12,
    "start_time": "2022-10-11T07:59:54.000Z"
   },
   {
    "duration": 1324,
    "start_time": "2022-10-11T07:59:54.013Z"
   },
   {
    "duration": 0,
    "start_time": "2022-10-11T07:59:55.339Z"
   },
   {
    "duration": 0,
    "start_time": "2022-10-11T07:59:55.340Z"
   },
   {
    "duration": 3385,
    "start_time": "2022-10-11T08:00:00.977Z"
   },
   {
    "duration": 1311,
    "start_time": "2022-10-11T08:01:31.469Z"
   },
   {
    "duration": 1395,
    "start_time": "2022-10-11T08:01:47.118Z"
   },
   {
    "duration": 1475,
    "start_time": "2022-10-11T08:02:07.832Z"
   },
   {
    "duration": 1501,
    "start_time": "2022-10-11T08:03:35.951Z"
   },
   {
    "duration": 1407,
    "start_time": "2022-10-11T08:08:05.177Z"
   },
   {
    "duration": 1519,
    "start_time": "2022-10-11T08:08:32.283Z"
   },
   {
    "duration": 14,
    "start_time": "2022-10-11T08:10:31.149Z"
   },
   {
    "duration": 633,
    "start_time": "2022-10-11T08:10:50.945Z"
   },
   {
    "duration": 5,
    "start_time": "2022-10-11T08:12:07.687Z"
   },
   {
    "duration": 14,
    "start_time": "2022-10-11T08:12:53.209Z"
   },
   {
    "duration": 115,
    "start_time": "2022-10-11T08:13:14.235Z"
   },
   {
    "duration": 122,
    "start_time": "2022-10-11T08:14:43.868Z"
   },
   {
    "duration": 135,
    "start_time": "2022-10-11T08:15:00.337Z"
   },
   {
    "duration": 111,
    "start_time": "2022-10-11T08:28:23.444Z"
   },
   {
    "duration": 113,
    "start_time": "2022-10-11T08:28:42.585Z"
   },
   {
    "duration": 12,
    "start_time": "2022-10-11T08:32:12.832Z"
   },
   {
    "duration": 114,
    "start_time": "2022-10-11T08:32:28.381Z"
   },
   {
    "duration": 207,
    "start_time": "2022-10-11T08:33:03.783Z"
   },
   {
    "duration": 107,
    "start_time": "2022-10-11T08:33:31.115Z"
   },
   {
    "duration": 17,
    "start_time": "2022-10-11T08:34:11.726Z"
   },
   {
    "duration": 5,
    "start_time": "2022-10-11T08:34:13.115Z"
   },
   {
    "duration": 13,
    "start_time": "2022-10-11T08:34:13.987Z"
   },
   {
    "duration": 1292,
    "start_time": "2022-10-11T09:36:20.789Z"
   },
   {
    "duration": 86,
    "start_time": "2022-10-11T09:36:22.083Z"
   },
   {
    "duration": 40,
    "start_time": "2022-10-11T09:36:22.171Z"
   },
   {
    "duration": 26,
    "start_time": "2022-10-11T09:36:22.213Z"
   },
   {
    "duration": 23,
    "start_time": "2022-10-11T09:36:22.240Z"
   },
   {
    "duration": 21,
    "start_time": "2022-10-11T09:36:22.265Z"
   },
   {
    "duration": 5,
    "start_time": "2022-10-11T09:36:22.287Z"
   },
   {
    "duration": 11,
    "start_time": "2022-10-11T09:36:22.293Z"
   },
   {
    "duration": 19,
    "start_time": "2022-10-11T09:36:22.305Z"
   },
   {
    "duration": 48,
    "start_time": "2022-10-11T09:36:22.326Z"
   },
   {
    "duration": 4,
    "start_time": "2022-10-11T09:36:22.375Z"
   },
   {
    "duration": 20,
    "start_time": "2022-10-11T09:36:22.380Z"
   },
   {
    "duration": 11,
    "start_time": "2022-10-11T09:36:22.402Z"
   },
   {
    "duration": 13,
    "start_time": "2022-10-11T09:36:22.415Z"
   },
   {
    "duration": 316,
    "start_time": "2022-10-11T09:36:22.429Z"
   },
   {
    "duration": 62,
    "start_time": "2022-10-11T09:36:22.746Z"
   },
   {
    "duration": 13,
    "start_time": "2022-10-11T09:36:22.810Z"
   },
   {
    "duration": 2,
    "start_time": "2022-10-11T09:36:22.826Z"
   },
   {
    "duration": 1796,
    "start_time": "2022-10-11T09:36:22.829Z"
   },
   {
    "duration": 20,
    "start_time": "2022-10-11T09:36:24.627Z"
   },
   {
    "duration": 14,
    "start_time": "2022-10-11T09:36:24.649Z"
   },
   {
    "duration": 1884,
    "start_time": "2022-10-11T09:36:24.664Z"
   },
   {
    "duration": 300,
    "start_time": "2022-10-11T09:36:26.550Z"
   },
   {
    "duration": 133,
    "start_time": "2022-10-11T09:36:26.852Z"
   },
   {
    "duration": 25,
    "start_time": "2022-10-11T09:36:26.987Z"
   },
   {
    "duration": 10,
    "start_time": "2022-10-11T09:36:27.014Z"
   },
   {
    "duration": 5,
    "start_time": "2022-10-11T09:36:27.026Z"
   },
   {
    "duration": 161,
    "start_time": "2022-10-11T09:36:27.035Z"
   },
   {
    "duration": 153,
    "start_time": "2022-10-11T09:36:27.199Z"
   },
   {
    "duration": 4,
    "start_time": "2022-10-11T09:36:27.353Z"
   },
   {
    "duration": 78,
    "start_time": "2022-10-11T09:36:27.358Z"
   },
   {
    "duration": 3,
    "start_time": "2022-10-11T09:36:27.438Z"
   },
   {
    "duration": 192,
    "start_time": "2022-10-11T09:36:27.443Z"
   },
   {
    "duration": 171,
    "start_time": "2022-10-11T09:36:27.637Z"
   },
   {
    "duration": 156,
    "start_time": "2022-10-11T09:36:27.810Z"
   },
   {
    "duration": 148,
    "start_time": "2022-10-11T09:36:27.968Z"
   },
   {
    "duration": 152,
    "start_time": "2022-10-11T09:36:28.117Z"
   },
   {
    "duration": 173,
    "start_time": "2022-10-11T09:36:28.271Z"
   },
   {
    "duration": 173,
    "start_time": "2022-10-11T09:36:28.446Z"
   },
   {
    "duration": 256,
    "start_time": "2022-10-11T09:36:28.620Z"
   },
   {
    "duration": 184,
    "start_time": "2022-10-11T09:36:28.878Z"
   },
   {
    "duration": 5,
    "start_time": "2022-10-11T09:36:29.064Z"
   },
   {
    "duration": 11,
    "start_time": "2022-10-11T09:36:29.070Z"
   },
   {
    "duration": 20,
    "start_time": "2022-10-11T09:36:29.082Z"
   },
   {
    "duration": 141,
    "start_time": "2022-10-11T09:36:29.103Z"
   },
   {
    "duration": 12,
    "start_time": "2022-10-11T09:36:29.246Z"
   },
   {
    "duration": 9,
    "start_time": "2022-10-11T09:36:29.260Z"
   },
   {
    "duration": 224,
    "start_time": "2022-10-11T09:36:29.270Z"
   },
   {
    "duration": 12,
    "start_time": "2022-10-11T09:36:29.499Z"
   },
   {
    "duration": 4,
    "start_time": "2022-10-11T09:36:29.512Z"
   },
   {
    "duration": 14,
    "start_time": "2022-10-11T09:36:29.518Z"
   },
   {
    "duration": 25,
    "start_time": "2022-10-11T09:36:29.534Z"
   },
   {
    "duration": 14,
    "start_time": "2022-10-11T09:36:29.561Z"
   },
   {
    "duration": 6,
    "start_time": "2022-10-11T09:38:55.331Z"
   },
   {
    "duration": 80,
    "start_time": "2022-10-11T10:11:48.976Z"
   },
   {
    "duration": 13,
    "start_time": "2022-10-11T10:15:15.650Z"
   },
   {
    "duration": 1304,
    "start_time": "2022-10-11T10:34:56.099Z"
   },
   {
    "duration": 64,
    "start_time": "2022-10-11T10:34:57.408Z"
   },
   {
    "duration": 46,
    "start_time": "2022-10-11T10:34:57.475Z"
   },
   {
    "duration": 27,
    "start_time": "2022-10-11T10:34:57.522Z"
   },
   {
    "duration": 4,
    "start_time": "2022-10-11T10:34:57.551Z"
   },
   {
    "duration": 17,
    "start_time": "2022-10-11T10:34:57.556Z"
   },
   {
    "duration": 23,
    "start_time": "2022-10-11T10:34:57.575Z"
   },
   {
    "duration": 18,
    "start_time": "2022-10-11T10:34:57.600Z"
   },
   {
    "duration": 17,
    "start_time": "2022-10-11T10:34:57.619Z"
   },
   {
    "duration": 74,
    "start_time": "2022-10-11T10:34:57.638Z"
   },
   {
    "duration": 5,
    "start_time": "2022-10-11T10:34:57.714Z"
   },
   {
    "duration": 6,
    "start_time": "2022-10-11T10:34:57.721Z"
   },
   {
    "duration": 8,
    "start_time": "2022-10-11T10:34:57.728Z"
   },
   {
    "duration": 10,
    "start_time": "2022-10-11T10:34:57.739Z"
   },
   {
    "duration": 358,
    "start_time": "2022-10-11T10:34:57.751Z"
   },
   {
    "duration": 66,
    "start_time": "2022-10-11T10:34:58.111Z"
   },
   {
    "duration": 18,
    "start_time": "2022-10-11T10:34:58.195Z"
   },
   {
    "duration": 3,
    "start_time": "2022-10-11T10:34:58.215Z"
   },
   {
    "duration": 1967,
    "start_time": "2022-10-11T10:34:58.220Z"
   },
   {
    "duration": 27,
    "start_time": "2022-10-11T10:35:00.189Z"
   },
   {
    "duration": 34,
    "start_time": "2022-10-11T10:35:00.218Z"
   },
   {
    "duration": 2220,
    "start_time": "2022-10-11T10:35:00.254Z"
   },
   {
    "duration": 381,
    "start_time": "2022-10-11T10:35:02.476Z"
   },
   {
    "duration": 212,
    "start_time": "2022-10-11T10:35:02.859Z"
   },
   {
    "duration": 28,
    "start_time": "2022-10-11T10:35:03.073Z"
   },
   {
    "duration": 13,
    "start_time": "2022-10-11T10:35:03.103Z"
   },
   {
    "duration": 17,
    "start_time": "2022-10-11T10:35:03.118Z"
   },
   {
    "duration": 173,
    "start_time": "2022-10-11T10:35:03.137Z"
   },
   {
    "duration": 170,
    "start_time": "2022-10-11T10:35:03.312Z"
   },
   {
    "duration": 5,
    "start_time": "2022-10-11T10:35:03.483Z"
   },
   {
    "duration": 164,
    "start_time": "2022-10-11T10:35:03.494Z"
   },
   {
    "duration": 4,
    "start_time": "2022-10-11T10:35:03.660Z"
   },
   {
    "duration": 235,
    "start_time": "2022-10-11T10:35:03.665Z"
   },
   {
    "duration": 178,
    "start_time": "2022-10-11T10:35:03.902Z"
   },
   {
    "duration": 187,
    "start_time": "2022-10-11T10:35:04.082Z"
   },
   {
    "duration": 190,
    "start_time": "2022-10-11T10:35:04.271Z"
   },
   {
    "duration": 170,
    "start_time": "2022-10-11T10:35:04.463Z"
   },
   {
    "duration": 202,
    "start_time": "2022-10-11T10:35:04.635Z"
   },
   {
    "duration": 213,
    "start_time": "2022-10-11T10:35:04.840Z"
   },
   {
    "duration": 314,
    "start_time": "2022-10-11T10:35:05.055Z"
   },
   {
    "duration": 236,
    "start_time": "2022-10-11T10:35:05.373Z"
   },
   {
    "duration": 7,
    "start_time": "2022-10-11T10:35:05.611Z"
   },
   {
    "duration": 12,
    "start_time": "2022-10-11T10:35:05.619Z"
   },
   {
    "duration": 10,
    "start_time": "2022-10-11T10:35:05.633Z"
   },
   {
    "duration": 187,
    "start_time": "2022-10-11T10:35:05.644Z"
   },
   {
    "duration": 14,
    "start_time": "2022-10-11T10:35:05.833Z"
   },
   {
    "duration": 13,
    "start_time": "2022-10-11T10:35:05.849Z"
   },
   {
    "duration": 231,
    "start_time": "2022-10-11T10:35:05.864Z"
   },
   {
    "duration": 14,
    "start_time": "2022-10-11T10:35:06.096Z"
   },
   {
    "duration": 4,
    "start_time": "2022-10-11T10:35:06.112Z"
   },
   {
    "duration": 12,
    "start_time": "2022-10-11T10:35:06.117Z"
   },
   {
    "duration": 19,
    "start_time": "2022-10-11T10:35:06.130Z"
   },
   {
    "duration": 16,
    "start_time": "2022-10-11T10:35:06.151Z"
   },
   {
    "duration": 140,
    "start_time": "2022-10-11T10:37:17.429Z"
   },
   {
    "duration": 1217,
    "start_time": "2022-10-11T10:37:38.895Z"
   },
   {
    "duration": 51,
    "start_time": "2022-10-11T10:37:40.114Z"
   },
   {
    "duration": 42,
    "start_time": "2022-10-11T10:37:40.166Z"
   },
   {
    "duration": 27,
    "start_time": "2022-10-11T10:37:40.210Z"
   },
   {
    "duration": 4,
    "start_time": "2022-10-11T10:37:40.239Z"
   },
   {
    "duration": 18,
    "start_time": "2022-10-11T10:37:40.245Z"
   },
   {
    "duration": 6,
    "start_time": "2022-10-11T10:37:40.264Z"
   },
   {
    "duration": 14,
    "start_time": "2022-10-11T10:37:40.294Z"
   },
   {
    "duration": 23,
    "start_time": "2022-10-11T10:37:40.310Z"
   },
   {
    "duration": 73,
    "start_time": "2022-10-11T10:37:40.334Z"
   },
   {
    "duration": 4,
    "start_time": "2022-10-11T10:37:40.409Z"
   },
   {
    "duration": 5,
    "start_time": "2022-10-11T10:37:40.415Z"
   },
   {
    "duration": 8,
    "start_time": "2022-10-11T10:37:40.422Z"
   },
   {
    "duration": 13,
    "start_time": "2022-10-11T10:37:40.433Z"
   },
   {
    "duration": 362,
    "start_time": "2022-10-11T10:37:40.448Z"
   },
   {
    "duration": 82,
    "start_time": "2022-10-11T10:37:40.813Z"
   },
   {
    "duration": 15,
    "start_time": "2022-10-11T10:37:40.897Z"
   },
   {
    "duration": 2,
    "start_time": "2022-10-11T10:37:40.914Z"
   },
   {
    "duration": 1998,
    "start_time": "2022-10-11T10:37:40.918Z"
   },
   {
    "duration": 19,
    "start_time": "2022-10-11T10:37:42.918Z"
   },
   {
    "duration": 16,
    "start_time": "2022-10-11T10:37:42.939Z"
   },
   {
    "duration": 2283,
    "start_time": "2022-10-11T10:37:42.957Z"
   },
   {
    "duration": 418,
    "start_time": "2022-10-11T10:37:45.244Z"
   },
   {
    "duration": 188,
    "start_time": "2022-10-11T10:37:45.665Z"
   },
   {
    "duration": 18,
    "start_time": "2022-10-11T10:37:45.855Z"
   },
   {
    "duration": 29,
    "start_time": "2022-10-11T10:37:45.875Z"
   },
   {
    "duration": 7,
    "start_time": "2022-10-11T10:37:45.906Z"
   },
   {
    "duration": 209,
    "start_time": "2022-10-11T10:37:45.915Z"
   },
   {
    "duration": 181,
    "start_time": "2022-10-11T10:37:46.126Z"
   },
   {
    "duration": 6,
    "start_time": "2022-10-11T10:37:46.309Z"
   },
   {
    "duration": 220,
    "start_time": "2022-10-11T10:37:46.317Z"
   },
   {
    "duration": 6,
    "start_time": "2022-10-11T10:37:46.539Z"
   },
   {
    "duration": 354,
    "start_time": "2022-10-11T10:37:46.547Z"
   },
   {
    "duration": 194,
    "start_time": "2022-10-11T10:37:46.903Z"
   },
   {
    "duration": 181,
    "start_time": "2022-10-11T10:37:47.100Z"
   },
   {
    "duration": 183,
    "start_time": "2022-10-11T10:37:47.283Z"
   },
   {
    "duration": 213,
    "start_time": "2022-10-11T10:37:47.468Z"
   },
   {
    "duration": 221,
    "start_time": "2022-10-11T10:37:47.683Z"
   },
   {
    "duration": 194,
    "start_time": "2022-10-11T10:37:47.906Z"
   },
   {
    "duration": 285,
    "start_time": "2022-10-11T10:37:48.102Z"
   },
   {
    "duration": 210,
    "start_time": "2022-10-11T10:37:48.394Z"
   },
   {
    "duration": 6,
    "start_time": "2022-10-11T10:37:48.607Z"
   },
   {
    "duration": 16,
    "start_time": "2022-10-11T10:37:48.615Z"
   },
   {
    "duration": 8,
    "start_time": "2022-10-11T10:37:48.633Z"
   },
   {
    "duration": 168,
    "start_time": "2022-10-11T10:37:48.644Z"
   },
   {
    "duration": 14,
    "start_time": "2022-10-11T10:37:48.815Z"
   },
   {
    "duration": 14,
    "start_time": "2022-10-11T10:37:48.831Z"
   },
   {
    "duration": 227,
    "start_time": "2022-10-11T10:37:48.847Z"
   },
   {
    "duration": 23,
    "start_time": "2022-10-11T10:37:49.075Z"
   },
   {
    "duration": 762,
    "start_time": "2022-10-11T10:37:49.100Z"
   },
   {
    "duration": 13,
    "start_time": "2022-10-11T10:37:49.864Z"
   },
   {
    "duration": 22,
    "start_time": "2022-10-11T10:37:49.879Z"
   },
   {
    "duration": 16,
    "start_time": "2022-10-11T10:37:49.902Z"
   },
   {
    "duration": 20,
    "start_time": "2022-10-11T10:42:13.656Z"
   },
   {
    "duration": 254,
    "start_time": "2022-10-11T10:42:50.644Z"
   },
   {
    "duration": 73,
    "start_time": "2022-10-11T19:32:35.659Z"
   },
   {
    "duration": 1570,
    "start_time": "2022-10-11T19:32:54.687Z"
   },
   {
    "duration": 218,
    "start_time": "2022-10-11T19:32:56.259Z"
   },
   {
    "duration": 57,
    "start_time": "2022-10-11T19:32:56.674Z"
   },
   {
    "duration": 43,
    "start_time": "2022-10-11T19:32:57.205Z"
   },
   {
    "duration": 6,
    "start_time": "2022-10-11T19:33:01.137Z"
   },
   {
    "duration": 24,
    "start_time": "2022-10-11T19:33:01.914Z"
   },
   {
    "duration": 6,
    "start_time": "2022-10-11T19:33:03.974Z"
   },
   {
    "duration": 15,
    "start_time": "2022-10-11T19:33:04.305Z"
   },
   {
    "duration": 23,
    "start_time": "2022-10-11T19:33:06.717Z"
   },
   {
    "duration": 68,
    "start_time": "2022-10-11T19:33:08.658Z"
   },
   {
    "duration": 9,
    "start_time": "2022-10-11T19:33:12.114Z"
   },
   {
    "duration": 2,
    "start_time": "2022-10-11T19:33:12.563Z"
   },
   {
    "duration": 6,
    "start_time": "2022-10-11T19:33:15.962Z"
   },
   {
    "duration": 13,
    "start_time": "2022-10-11T19:33:18.123Z"
   },
   {
    "duration": 441,
    "start_time": "2022-10-11T19:33:18.306Z"
   },
   {
    "duration": 86,
    "start_time": "2022-10-11T19:33:20.247Z"
   },
   {
    "duration": 19,
    "start_time": "2022-10-11T19:33:21.718Z"
   },
   {
    "duration": 3,
    "start_time": "2022-10-11T19:33:23.852Z"
   },
   {
    "duration": 2356,
    "start_time": "2022-10-11T19:33:24.928Z"
   },
   {
    "duration": 25,
    "start_time": "2022-10-11T19:33:27.289Z"
   },
   {
    "duration": 18,
    "start_time": "2022-10-11T19:33:28.031Z"
   },
   {
    "duration": 16,
    "start_time": "2022-10-11T19:33:28.730Z"
   },
   {
    "duration": 2607,
    "start_time": "2022-10-11T19:33:32.312Z"
   },
   {
    "duration": 465,
    "start_time": "2022-10-11T19:33:53.150Z"
   },
   {
    "duration": 179,
    "start_time": "2022-10-11T19:39:52.618Z"
   },
   {
    "duration": 1197,
    "start_time": "2022-10-12T19:08:28.719Z"
   },
   {
    "duration": 67,
    "start_time": "2022-10-12T19:08:29.918Z"
   },
   {
    "duration": 47,
    "start_time": "2022-10-12T19:08:29.987Z"
   },
   {
    "duration": 31,
    "start_time": "2022-10-12T19:08:30.037Z"
   },
   {
    "duration": 4,
    "start_time": "2022-10-12T19:08:30.090Z"
   },
   {
    "duration": 28,
    "start_time": "2022-10-12T19:08:30.096Z"
   },
   {
    "duration": 6,
    "start_time": "2022-10-12T19:08:30.126Z"
   },
   {
    "duration": 17,
    "start_time": "2022-10-12T19:08:30.133Z"
   },
   {
    "duration": 34,
    "start_time": "2022-10-12T19:08:30.152Z"
   },
   {
    "duration": 57,
    "start_time": "2022-10-12T19:08:30.188Z"
   },
   {
    "duration": 5,
    "start_time": "2022-10-12T19:08:30.246Z"
   },
   {
    "duration": 17,
    "start_time": "2022-10-12T19:08:30.253Z"
   },
   {
    "duration": 11,
    "start_time": "2022-10-12T19:08:30.272Z"
   },
   {
    "duration": 16,
    "start_time": "2022-10-12T19:08:30.285Z"
   },
   {
    "duration": 371,
    "start_time": "2022-10-12T19:08:30.303Z"
   },
   {
    "duration": 73,
    "start_time": "2022-10-12T19:08:30.676Z"
   },
   {
    "duration": 40,
    "start_time": "2022-10-12T19:08:30.751Z"
   },
   {
    "duration": 3,
    "start_time": "2022-10-12T19:08:30.793Z"
   },
   {
    "duration": 2053,
    "start_time": "2022-10-12T19:08:30.798Z"
   },
   {
    "duration": 18,
    "start_time": "2022-10-12T19:08:32.852Z"
   },
   {
    "duration": 28,
    "start_time": "2022-10-12T19:08:32.871Z"
   },
   {
    "duration": 13,
    "start_time": "2022-10-12T19:08:32.901Z"
   },
   {
    "duration": 2169,
    "start_time": "2022-10-12T19:08:32.915Z"
   },
   {
    "duration": 359,
    "start_time": "2022-10-12T19:08:35.088Z"
   },
   {
    "duration": 152,
    "start_time": "2022-10-12T19:08:35.449Z"
   },
   {
    "duration": 16,
    "start_time": "2022-10-12T19:08:35.603Z"
   },
   {
    "duration": 11,
    "start_time": "2022-10-12T19:08:35.621Z"
   },
   {
    "duration": 6,
    "start_time": "2022-10-12T19:08:35.636Z"
   },
   {
    "duration": 184,
    "start_time": "2022-10-12T19:08:35.644Z"
   },
   {
    "duration": 164,
    "start_time": "2022-10-12T19:08:35.830Z"
   },
   {
    "duration": 3,
    "start_time": "2022-10-12T19:08:35.996Z"
   },
   {
    "duration": 273,
    "start_time": "2022-10-12T19:08:36.001Z"
   },
   {
    "duration": 5,
    "start_time": "2022-10-12T19:08:36.289Z"
   },
   {
    "duration": 202,
    "start_time": "2022-10-12T19:08:36.295Z"
   },
   {
    "duration": 178,
    "start_time": "2022-10-12T19:08:36.499Z"
   },
   {
    "duration": 168,
    "start_time": "2022-10-12T19:08:36.679Z"
   },
   {
    "duration": 173,
    "start_time": "2022-10-12T19:08:36.849Z"
   },
   {
    "duration": 179,
    "start_time": "2022-10-12T19:08:37.024Z"
   },
   {
    "duration": 219,
    "start_time": "2022-10-12T19:08:37.205Z"
   },
   {
    "duration": 205,
    "start_time": "2022-10-12T19:08:37.425Z"
   },
   {
    "duration": 291,
    "start_time": "2022-10-12T19:08:37.632Z"
   },
   {
    "duration": 212,
    "start_time": "2022-10-12T19:08:37.924Z"
   },
   {
    "duration": 6,
    "start_time": "2022-10-12T19:08:38.137Z"
   },
   {
    "duration": 25,
    "start_time": "2022-10-12T19:08:38.144Z"
   },
   {
    "duration": 24,
    "start_time": "2022-10-12T19:08:38.170Z"
   },
   {
    "duration": 171,
    "start_time": "2022-10-12T19:08:38.196Z"
   },
   {
    "duration": 20,
    "start_time": "2022-10-12T19:08:38.369Z"
   },
   {
    "duration": 21,
    "start_time": "2022-10-12T19:08:38.391Z"
   },
   {
    "duration": 229,
    "start_time": "2022-10-12T19:08:38.414Z"
   },
   {
    "duration": 13,
    "start_time": "2022-10-12T19:08:38.646Z"
   },
   {
    "duration": 6,
    "start_time": "2022-10-12T19:08:38.661Z"
   },
   {
    "duration": 28,
    "start_time": "2022-10-12T19:08:38.668Z"
   },
   {
    "duration": 19,
    "start_time": "2022-10-12T19:08:38.698Z"
   },
   {
    "duration": 13,
    "start_time": "2022-10-12T19:08:38.719Z"
   }
  ],
  "kernelspec": {
   "display_name": "Python 3 (ipykernel)",
   "language": "python",
   "name": "python3"
  },
  "language_info": {
   "codemirror_mode": {
    "name": "ipython",
    "version": 3
   },
   "file_extension": ".py",
   "mimetype": "text/x-python",
   "name": "python",
   "nbconvert_exporter": "python",
   "pygments_lexer": "ipython3",
   "version": "3.9.13"
  },
  "toc": {
   "base_numbering": 1,
   "nav_menu": {},
   "number_sections": true,
   "sideBar": true,
   "skip_h1_title": true,
   "title_cell": "Table of Contents",
   "title_sidebar": "Contents",
   "toc_cell": false,
   "toc_position": {},
   "toc_section_display": true,
   "toc_window_display": false
  }
 },
 "nbformat": 4,
 "nbformat_minor": 2
}
